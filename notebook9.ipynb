{
 "cells": [
  {
   "cell_type": "markdown",
   "id": "b91c6147",
   "metadata": {},
   "source": [
    "# Notæ 9\n",
    "\n",
    "\n",
    "## Título?\n",
    "\n",
    "Introducción. El objetivo del notebook es (1) la asistencia computacional en el estudio de conjeturas: asistencia en la prueba de teoremas o construcción de contraejemplos, (2) inferir propiedades sobre la estructura de las soluciones para la posterior postulación de conjeturas o demostración de teoremas.\n",
    "\n",
    "Hay bases de datos con todos los grafos de hasta cierto tamaño, también clasificados por familia: \n",
    "\n",
    "https://users.cecs.anu.edu.au/~bdm/data/graphs.html\n",
    "\n",
    "Permite realizar inspección exhaustiva (por fuerza bruta) de propiedades/conjeturas sobre todos los grafos pequeños."
   ]
  },
  {
   "cell_type": "markdown",
   "id": "7bbed328",
   "metadata": {},
   "source": [
    "## 1. Descargando los datasets\n",
    "\n",
    "En el Notebook 5, aprendimos a generar datasets usando generadores para diferentes clases de grafos, como por ejemplo, grafos generales aleatorios, bipartitos aleatorios, split aleatorios, webs, etc...\n",
    "\n",
    "En este Notebook, vamos a seguir un enfoque diferente. Vamos a descargar datasets de la siguiente página web:\n",
    "\n",
    "<a href=\"https://users.cecs.anu.edu.au/~bdm/data/graphs.html\"> https://users.cecs.anu.edu.au/~bdm/data/graphs.html </a>\n",
    "\n",
    "Esta página web, tiene generados exhaustivamente todos los grafos posibles con hasta cierto número de vértices (salvo isomorfismo). A su vez, también los tiene filtrados según ciertas clases de grafos: conexos, cordales, perfectos, planares, auto-complementarios, etc...\n",
    "\n",
    "Por ejemplo, todos los grafos conexos de 4 vértices se enumeran en el siguiente link:\n",
    "\n",
    "<a href=\"https://users.cecs.anu.edu.au/~bdm/data/graph4c.g6\"> https://users.cecs.anu.edu.au/~bdm/data/graph4c.g6</a>\n",
    "\n",
    "Podemos ingresar al link y copiar su contenido manualmente. Pero... ya que estamos usando Python, aprovechemos su flexibilidad para automatizar este proceso. Usaremos el módulo <code>requests</code> de Python para recuperar el contenido de una página web (obviamente necesitará conexión a Internet para ejecutar la siguiente celda)."
   ]
  },
  {
   "cell_type": "code",
   "execution_count": 4,
   "id": "f39639c0",
   "metadata": {},
   "outputs": [
    {
     "name": "stdout",
     "output_type": "stream",
     "text": [
      "CF\n",
      "CU\n",
      "CV\n",
      "C]\n",
      "C^\n",
      "C~\n",
      "\n"
     ]
    }
   ],
   "source": [
    "import requests\n",
    "\n",
    "f = requests.get(\"https://users.cecs.anu.edu.au/~bdm/data/graph4c.g6\")\n",
    "print(f.text)"
   ]
  },
  {
   "cell_type": "markdown",
   "id": "628d9c4a",
   "metadata": {},
   "source": [
    "Este formato contiene una linea por cada posible grafo. En total hay 4 grafos conexos no isomorfos de 6 vértices. Para otros números de vértices, sugerimos consultar la secuencia <a href=\"https://oeis.org/A001349\"> A001349</a>  (tener en cuenta que la secuencia comienza desde 0 vértices). Además, cada línea codifica un grafo en formato graph6."
   ]
  },
  {
   "cell_type": "markdown",
   "id": "1937bd90",
   "metadata": {},
   "source": [
    "Intentemos construir el grafo asociado a cada codificación, mediante el paquete <code>NetworkX</code>. Para ejemplificar, usaremos la primer linea."
   ]
  },
  {
   "cell_type": "code",
   "execution_count": 5,
   "id": "72897102",
   "metadata": {},
   "outputs": [],
   "source": [
    "grafo_codificado = f.text.split()[0]"
   ]
  },
  {
   "cell_type": "markdown",
   "id": "046eb593",
   "metadata": {},
   "source": [
    "Vamos a utilizar la función <code>from_graph6_bytes</code> de <code>NetworkX</code>, la cual toma una cadena de texto codificada en formato graph6 y la convierte en un grafo. En este punto hay que hacer una aclaración, esta función, en lugar de una string, toma bytes. Por el momento, no nos preocupemos por entender qué son los bytes o para qué se usan. Para solucionar esto, necesitamos un paso intermedio donde convertimos la string a bytes."
   ]
  },
  {
   "cell_type": "code",
   "execution_count": 6,
   "id": "dfb68c1d",
   "metadata": {},
   "outputs": [
    {
     "data": {
      "image/png": "[encoded data removed]",
      "text/plain": [
       "<Figure size 432x288 with 1 Axes>"
      ]
     },
     "metadata": {},
     "output_type": "display_data"
    }
   ],
   "source": [
    "import networkx as nx\n",
    "\n",
    "grafo_codificado_bytes = bytes(grafo_codificado, \"utf-8\")\n",
    "grafo = nx.from_graph6_bytes(grafo_codificado_bytes)\n",
    "nx.draw(grafo)"
   ]
  },
  {
   "cell_type": "markdown",
   "id": "92ab967b",
   "metadata": {},
   "source": [
    "Ok, ahora que ya entendemos el transfondo de lo que vamos a hacer, podemos empezar a contruir nuestro dataset. Primero vamos a descargar a nuestra máquina todos los grafos conexos con 2, 3, 4, 5, 6, 7, 8, 9, y 10 vértices.\n",
    "\n",
    "Podemos hacer esto de forma manual, es decir, por ejemplo, para descargar el dataset de grafos conexos de 2 vértices, primero ingresamos a <a href=\"https://users.cecs.anu.edu.au/~bdm/data/graph2c.g6\"> https://users.cecs.anu.edu.au/~bdm/data/graph2c.g6</a>, y luego apretamos el click derecho y elegimos \"Guardar como...\".\n",
    "\n",
    "Sin embargo, es más rápido (y divertido) automatizarlo con Python. Veamos cómo hacer esto. Primero creamos un directorio de trabajo donde vamos a guardar nuestros datasets. El directorio se llamará \"dataset-n9\". Usamos el argumento <code>exist_ok=True</code> para evitar que Python lance una excepción si el directorio ya existía (por ejemplo, si volvemos a ejecutar la celda)."
   ]
  },
  {
   "cell_type": "code",
   "execution_count": 7,
   "id": "684bce1c",
   "metadata": {},
   "outputs": [],
   "source": [
    "import os\n",
    "\n",
    "dirName = \"dataset-n9\"\n",
    "os.makedirs(dirName, exist_ok=True)"
   ]
  },
  {
   "cell_type": "markdown",
   "id": "112f5702",
   "metadata": {},
   "source": [
    "Ahora vamos a descargar los datasets. Primero especificamos la url y creamos una lista con los datasets que queremos descargar. Por el momento, ignoremos el dataset con los grafos conexos de 10 vértices."
   ]
  },
  {
   "cell_type": "code",
   "execution_count": 8,
   "id": "bdb7a1fd",
   "metadata": {},
   "outputs": [
    {
     "name": "stdout",
     "output_type": "stream",
     "text": [
      "https://users.cecs.anu.edu.au/~bdm/data/\n",
      "['graph2c.g6', 'graph3c.g6', 'graph4c.g6', 'graph5c.g6', 'graph6c.g6', 'graph7c.g6', 'graph8c.g6', 'graph9c.g6']\n"
     ]
    }
   ],
   "source": [
    "url = \"https://users.cecs.anu.edu.au/~bdm/data/\"\n",
    "datasets = [f\"graph{n}c.g6\" for n in [2,3,4,5,6,7,8,9]]\n",
    "\n",
    "print(url)\n",
    "print(datasets)"
   ]
  },
  {
   "cell_type": "markdown",
   "id": "67d5d47c",
   "metadata": {},
   "source": [
    "Ahora, obtenemos el texto que codifica a cada dataset y lo escribimos en un archivo local con el mismo nombre, dentro del directorio <code>dirName</code>."
   ]
  },
  {
   "cell_type": "code",
   "execution_count": null,
   "id": "17b983bd",
   "metadata": {},
   "outputs": [],
   "source": [
    "for dataset in datasets:\n",
    "    respuesta = requests.get(url + dataset)\n",
    "    with open(dirName + \"/\" + dataset, \"w\") as file:\n",
    "        file.write(respuesta.text)"
   ]
  },
  {
   "cell_type": "markdown",
   "id": "c1b20bba",
   "metadata": {},
   "source": [
    "¡Listo! Para verificar, podemos listar el directorio para verificar que los archivos se hayan creado. También podemos mostremos el contenido de alguno de ellos."
   ]
  },
  {
   "cell_type": "code",
   "execution_count": 17,
   "id": "8cbb5421",
   "metadata": {},
   "outputs": [
    {
     "data": {
      "text/plain": [
       "['graph6c.g6',\n",
       " 'graph5c.g6',\n",
       " 'graph9c.g6',\n",
       " 'graph10c.g6',\n",
       " 'graph3c.g6',\n",
       " 'graph10c.g6.gz',\n",
       " 'graph7c.g6',\n",
       " 'graph8c.g6',\n",
       " 'graph4c.g6',\n",
       " 'graph2c.g6']"
      ]
     },
     "execution_count": 17,
     "metadata": {},
     "output_type": "execute_result"
    }
   ],
   "source": [
    "os.listdir(dirName)"
   ]
  },
  {
   "cell_type": "code",
   "execution_count": 19,
   "id": "c2ffc4dd",
   "metadata": {},
   "outputs": [
    {
     "name": "stdout",
     "output_type": "stream",
     "text": [
      "CF\n",
      "CU\n",
      "CV\n",
      "C]\n",
      "C^\n",
      "C~\n",
      "\n"
     ]
    }
   ],
   "source": [
    "with open(dirName + \"/\" + \"graph4c.g6\", \"r\") as file:\n",
    "    print(file.read())"
   ]
  },
  {
   "cell_type": "markdown",
   "id": "563fafb9",
   "metadata": {},
   "source": [
    "Volvamos ahora al dataset con los grafos conexos de 10 vértices. El inconveniente con él, es que se encuentra comprimido como un archivo *gzip*. Con algunos pasos extras, es posible manejarlo. Al igual que antes, comenzamos por obtener el texto que codifica el dataset y lo escribimos en un archivo local, con dos diferencias:\n",
    "* El archivo estará comprimido como un archivo *gzip*, por eso su extensión \".gz\".\n",
    "* En lugar de escribir el texto como una cadena de caracteres (string), lo escribiremos como una cadena de bytes. Por el momento no vamos a profundizar en este tema, sólo mencionar que es necesario para poder descomprimirlo. Por este motivo, el modo de apertura del archivo es \"wb\" y escribimos el atributo <code>content</code> en lugar de <code>text</code>.\n",
    "\n",
    "**Nota.** El archivo pesa 30 MB, por lo que la ejecución de la siguiente celda puede demorar dependiendo de la velocidad de conexión."
   ]
  },
  {
   "cell_type": "code",
   "execution_count": 15,
   "id": "34fd21ac",
   "metadata": {},
   "outputs": [],
   "source": [
    "respuesta = requests.get(\"https://users.cecs.anu.edu.au/~bdm/data/graph10c.g6.gz\")\n",
    "with open(dirName + \"/graph10c.g6.gz\", \"wb\") as file:\n",
    "    file.write(respuesta.content)"
   ]
  },
  {
   "cell_type": "markdown",
   "id": "ea4e2b58",
   "metadata": {},
   "source": [
    "Ahora si, ya estamos en condiciones de descomprimirlo. Abrimos el archivo con la función <code>open</code> del paquete <code>gzip</code>, la cual se ocupa de leer y descomprimir, y escribimos el resultado en un archivo local, con el mismo nombre pero sin la extensión \".g6\"."
   ]
  },
  {
   "cell_type": "code",
   "execution_count": 16,
   "id": "cf6cc31b",
   "metadata": {},
   "outputs": [],
   "source": [
    "import gzip\n",
    "\n",
    "with gzip.open(dirName + \"/graph10c.g6.gz\", \"rb\") as fEntrada:\n",
    "    with open(dirName + \"/graph10c.g6\", \"wb\") as fSalida:\n",
    "        fSalida.write(fEntrada.read())"
   ]
  },
  {
   "cell_type": "markdown",
   "id": "d95cb2fe",
   "metadata": {},
   "source": [
    "Imprimamos las primeras 5 líneas del archivo para verificar que salió todo ok."
   ]
  },
  {
   "cell_type": "code",
   "execution_count": 21,
   "id": "317892f6",
   "metadata": {},
   "outputs": [
    {
     "name": "stdout",
     "output_type": "stream",
     "text": [
      "I??????~w\n",
      "\n",
      "I????A?~o\n",
      "\n",
      "I????A?~w\n",
      "\n",
      "I????B?Nw\n",
      "\n",
      "I????B?no\n",
      "\n"
     ]
    }
   ],
   "source": [
    "with open(dirName + \"/\" + \"graph10c.g6\", \"r\") as file:\n",
    "    for _ in range(5):\n",
    "        print(next(file))"
   ]
  },
  {
   "cell_type": "markdown",
   "id": "c1c943d9",
   "metadata": {},
   "source": [
    "## 2. Primeros ejemplos\n",
    "\n",
    "**Definición.** Dado un grafo $G = (V,E)$, dos vértices distintos $u,v \\in V$ son **mellizos verdaderos** si tienen la misma vecindad cerrada, es decir, $N[u] = N[v]$. \n",
    "\n",
    "**Observación.** Para que dos vértices sean mellizos verdaderos, es necesario que sean adyacentes.\n",
    "\n",
    "Por ejemplo, considerar el siguiente grafo:"
   ]
  },
  {
   "cell_type": "code",
   "execution_count": 26,
   "id": "c60a9c42",
   "metadata": {},
   "outputs": [
    {
     "data": {
      "image/png": "[encoded data removed]",
      "text/plain": [
       "<Figure size 432x288 with 1 Axes>"
      ]
     },
     "metadata": {},
     "output_type": "display_data"
    }
   ],
   "source": [
    "grafo = nx.Graph()\n",
    "grafo.add_edges_from([(0,1), (0,2), (0,3), (1,2), (1,3), (3,4), (2,5)])\n",
    "nx.draw_networkx(grafo)"
   ]
  },
  {
   "cell_type": "markdown",
   "id": "de11d294",
   "metadata": {},
   "source": [
    "Los vértices $0$ y $1$ son mellizos verdaderos pues: $$N[0] = N[1] = \\{0,1,2,3\\}.$$ Por el contrario, los vértices $2$ y $3$ no lo son, pues $$N[2] = \\{0,1,2,5\\} \\neq \\{0,1,3,4\\} = N[3].$$"
   ]
  },
  {
   "cell_type": "markdown",
   "id": "9016d594",
   "metadata": {},
   "source": [
    "Supongamos que queremos determinar cuántos grafos conexos con a lo sumo 10 vértices no tienen ningún par de mellizos verdaderos.\n",
    "\n",
    "Empecemos definiendo una función que determine si dos vértices son mellizos verdaderos y usémosla para definir una función que determine si un grafo no tiene ningún par de mellizos verdaderos."
   ]
  },
  {
   "cell_type": "code",
   "execution_count": 55,
   "id": "267e7fe5",
   "metadata": {},
   "outputs": [],
   "source": [
    "def son_mellizos_verdaderos(G,u,v):\n",
    "    if not G.has_edge(u,v):\n",
    "        return False\n",
    "    Nu = set(G.neighbors(u))\n",
    "    Nu.add(u)\n",
    "    Nv = set(G.neighbors(v))\n",
    "    Nv.add(v)\n",
    "    return (Nu == Nv)\n",
    "    \n",
    "assert son_mellizos_verdaderos(grafo, 0, 1)\n",
    "assert not son_mellizos_verdaderos(grafo, 2, 3)"
   ]
  },
  {
   "cell_type": "code",
   "execution_count": 57,
   "id": "844f2ef1",
   "metadata": {},
   "outputs": [],
   "source": [
    "def no_tiene_mellizos_verdaderos(G):\n",
    "    for u,v in G.edges:\n",
    "        if son_mellizos_verdaderos(G, u, v):\n",
    "            return False\n",
    "    return True\n",
    "\n",
    "assert not no_tiene_mellizos_verdaderos(grafo)\n",
    "grafo.add_edge(1,5)\n",
    "assert no_tiene_mellizos_verdaderos(grafo)"
   ]
  },
  {
   "cell_type": "code",
   "execution_count": 63,
   "id": "3666850f",
   "metadata": {},
   "outputs": [],
   "source": [
    "def contar_grafos(dirName, datasets, predicado):\n",
    "    contador = 0\n",
    "    for dataset in datasets:\n",
    "        print(\"Procesando dataset:\", dataset)\n",
    "        with open(dirName + \"/\" + dataset, \"rb\") as file:\n",
    "            # Recorrer cada linea del archivo\n",
    "            for line in file:\n",
    "                # Remover el salto de linea (\\n)\n",
    "                line = line.rstrip(b\"\\n\")\n",
    "                # Leer grafo en formato graph6\n",
    "                grafo = nx.from_graph6_bytes(line)\n",
    "                if predicado(grafo):\n",
    "                    contador += 1\n",
    "    return contador"
   ]
  },
  {
   "cell_type": "code",
   "execution_count": 70,
   "id": "afc70076",
   "metadata": {},
   "outputs": [],
   "source": [
    "datasets = [f\"graph{n}c.g6\" for n in [2,3,4,5,6,7,8,9,10]]"
   ]
  },
  {
   "cell_type": "code",
   "execution_count": 71,
   "id": "373cac48",
   "metadata": {},
   "outputs": [
    {
     "name": "stdout",
     "output_type": "stream",
     "text": [
      "Procesando dataset: graph2c.g6\n",
      "Procesando dataset: graph3c.g6\n",
      "Procesando dataset: graph4c.g6\n",
      "Procesando dataset: graph5c.g6\n",
      "Procesando dataset: graph6c.g6\n",
      "Procesando dataset: graph7c.g6\n",
      "Procesando dataset: graph8c.g6\n",
      "Procesando dataset: graph9c.g6\n",
      "Procesando dataset: graph10c.g6\n",
      "CPU times: user 28min 35s, sys: 1.96 s, total: 28min 37s\n",
      "Wall time: 28min 37s\n"
     ]
    },
    {
     "data": {
      "text/plain": [
       "10014006"
      ]
     },
     "execution_count": 71,
     "metadata": {},
     "output_type": "execute_result"
    }
   ],
   "source": [
    "time(contar_grafos(dirName, datasets, no_tiene_mellizos_verdaderos))"
   ]
  },
  {
   "cell_type": "markdown",
   "id": "223c04cb",
   "metadata": {},
   "source": [
    "Ejercicio. ¿Cúantos grafos conexos del dataset son regulares?"
   ]
  },
  {
   "cell_type": "markdown",
   "id": "4232d0e0",
   "metadata": {},
   "source": [
    "## 2. Subtítulo???\n",
    "\n",
    "Se puede probar que el problema denominado \\emph{Signed Domination} es equivalente, desde el punto de vista de su complejidad computacional con resolver el problema de Empaquetamiento Gneralizado restringido a ciertas instancias particulares.\n",
    "\n",
    "Dado un grafo $G=(V,E)$ y dos vectores $\\mathbf k, \\textbf{u} \\in \\Z_+^V$, $f:V\\rightarrow \\Z_+$ es una función de $(\\k,\\u)$-empaquetamiento si para todo $v\\in V$ se verifica $f(v)\\leq u(v)$ y $f(N[v])\\leq k(v)$. El Problema Generalizado de empaquetamiento consiste en calcular\n",
    "$$ L_{\\k,\\u}(G)=\\max \\{f(V): f \\text{ una función de } (\\k,\\u)\\text{-empaquetamiento de } G\\}.$$\n",
    "\n",
    "Se puede probar que resolver el problema denominado \\emph{Signed Domination Problem} \\cite{leechand} sobre un grafo $G=(V,E)$ es equivalente, desde el punto de vista de su complejidad computacional, a calcular $L_{\\k,\\u}(G)$ con $k(v)=\\delta(v)$ y $u(v)=2$, para todo $v\\in V$.\n",
    "\n",
    "Claramente, si toda funcion de $(\\k,\\u)$-empaquetamiento de $G$ debe verificar $f(N[v])\\leq \\delta(v)$ necesariamente para todo $v$, $f(w)=0$ para algun $w\\in \\N[v]$. O sea, el conjunto de vértices $\\mathcal N$ donde $f$ es nula debe ser un conjunto dominante, esto es, $\\mathcal N \\cap N[v]\\neq \\emptyset$, para todo $v$. \n",
    "\n",
    "Entonces, una función que vale cero en una conjunto dominante mínimo de $G$ y uno en el resto es una funcion de $(\\k,\\u)$-empaquetamiento de $G$ de valor $n-\\gamma(G)$, donde $n$ es el número de vértices de $G$ y $\\gamma(G)$ su número de dominación.\n",
    "\n",
    "Por otro lado, si subimos al valor 2 el valor de la función propuesta sobre un vértice, deberemos bajar de 1 a 0 el valor de al menos un vertice en las vecindades de todos sus vecinos. \n",
    "\n",
    "Estas dos observaciones nos llevan a pensar si la solución propuesta no será la solución óptima. Esto es, si será cierto o no que \n",
    "$$L_{\\k,\\u}(G)=n-\\gamma(G).$$\n",
    "\n",
    "\n",
    "{\\textbf{Ejercicio 1}}\n",
    "\n",
    "Encontrar un contraejemplo en grafos de \n",
    "a lo sumo 10 nodos. \n",
    "\n",
    "\\medskip \n",
    "\n",
    "{\\textbf{Ejercicio 2}}\n",
    "\n",
    "Si el primer contraejemplo tiene $p$ nodos, buscar para cada $r\\in [p+1,10]$ un contraejemplo con $r$ nodos, si existe. \n",
    "\n",
    "\\medskip \n",
    "\n",
    "{\\textbf{Ejercicio 3}}\n",
    "\n",
    "Analizar las soluciones optmimas encontradas en estos ejemplos y tratar de concluir alguna propiedad no tenida en cuanta al momento de establecer la conjetura y que la hace fallar.\n",
    "\n",
    "\n",
    "\n",
    "    \n",
    "\\begin{thebibliography}{99}\n",
    "\\bibitem{leechang}\n",
    "Lee, C.M., Chang, M.S., 2008. Variations of Y-dominating functions on graphs. Discrete Mathematics 308, 4185–4204.\n",
    "\\end{thebibliography}"
   ]
  },
  {
   "cell_type": "markdown",
   "id": "6552a9ca",
   "metadata": {},
   "source": [
    "## 3. Subtítulo???\n",
    "\n",
    "Definir grafo planar y triangle free.\n",
    "\n",
    "Es sabido que todo grafo planar se puede pintar con al menos 4 colores (Teorema de los 4 colores). Si además de planar, también pedimos que sea triangle-free, podemos encontrar siempre un coloreo con al menor 3 colores?\n",
    "\n",
    "Ejercicio. Responder a esa pregunta. Si, es un teorema. Mandarlos a google a leer el teorema.\n",
    "\n",
    "Es sabido que la distancia entre el nro de clique y el nro cromático puede ser tan grande como se quiera. ¿cuál será el grafo triangle-free más chico que no se pueda pintar con 3 colores?\n",
    "\n",
    "Ejercicio. Buscarlo... No lo van a encontrar.\n",
    "\n",
    "Dar la construcción de mysielski e implementar funciones que hagan la construcción. Usarlas para verificar que M(C5) es el contraejemplo. "
   ]
  },
  {
   "cell_type": "markdown",
   "id": "b46bd373",
   "metadata": {},
   "source": [
    "## 4. Subtítulo???\n",
    "\n",
    "Conjetura abierta del coloreo aditivio. Daniel?"
   ]
  },
  {
   "cell_type": "code",
   "execution_count": null,
   "id": "d1950417",
   "metadata": {},
   "outputs": [],
   "source": []
  },
  {
   "cell_type": "code",
   "execution_count": null,
   "id": "fc7d2f66",
   "metadata": {},
   "outputs": [],
   "source": []
  }
 ],
 "metadata": {
  "kernelspec": {
   "display_name": "Python 3 (ipykernel)",
   "language": "python",
   "name": "python3"
  },
  "language_info": {
   "codemirror_mode": {
    "name": "ipython",
    "version": 3
   },
   "file_extension": ".py",
   "mimetype": "text/x-python",
   "name": "python",
   "nbconvert_exporter": "python",
   "pygments_lexer": "ipython3",
   "version": "3.10.12"
  }
 },
 "nbformat": 4,
 "nbformat_minor": 5
}
