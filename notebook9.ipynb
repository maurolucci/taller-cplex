{
 "cells": [
  {
   "cell_type": "markdown",
   "id": "b91c6147",
   "metadata": {},
   "source": [
    "# Notæ 9\n",
    "\n",
    "\n",
    "## Herramientas computacionales para asistir al estudio analítico de problemas\n",
    "\n",
    "Este notebook tiene por objetivo brindar herramientas computacionales para asistir al estudio analítico de problemas: abordaje de conjeturas, búsqueda de contraejemplos, e inferencia de propiedades sobre la estructura de las soluciones para la posterior postulación de conjeturas o demostración de teoremas.\n",
    "\n",
    "También aprenderemos a trabajar con grandes datasets, constituidos por *todos* los grafos de hasta cierto número de vértices, también clasificados por clases de grafos. Estos dataset se encuentran ya generados y subidos a la web, lo que permite realizar inspecciones exhaustivas (por fuerza bruta) de propiedades/conjeturas sobre todos los grafos pequeños."
   ]
  },
  {
   "cell_type": "markdown",
   "id": "7bbed328",
   "metadata": {},
   "source": [
    "## 1. Descargando los datasets\n",
    "\n",
    "En el Notebook 5, aprendimos a generar datasets usando generadores para diferentes clases de grafos, como por ejemplo, grafos generales aleatorios, bipartitos aleatorios, split aleatorios, webs, etc...\n",
    "\n",
    "En este Notebook, vamos a seguir un enfoque diferente. Vamos a descargar datasets de la siguiente página web:\n",
    "\n",
    "<a href=\"https://users.cecs.anu.edu.au/~bdm/data/graphs.html\"> https://users.cecs.anu.edu.au/~bdm/data/graphs.html </a>\n",
    "\n",
    "Esta página, tiene generados exhaustivamente todos los grafos posibles con hasta cierto número de vértices (salvo isomorfismo). A su vez, también los tiene filtrados según ciertas clases de grafos: conexos, cordales, perfectos, planares, auto-complementarios, etc...\n",
    "\n",
    "Por ejemplo, todos los grafos conexos de 4 vértices se enumeran en el siguiente link:\n",
    "\n",
    "<a href=\"https://users.cecs.anu.edu.au/~bdm/data/graph4c.g6\"> https://users.cecs.anu.edu.au/~bdm/data/graph4c.g6</a>\n",
    "\n",
    "Podemos ingresar al link y guardar su contenido manualmente. Pero... ya que estamos usando Python, aprovechemos su flexibilidad para automatizar este proceso. Usaremos el módulo <code>requests</code> de Python para recuperar el contenido de una página web (obviamente necesitará conexión a Internet para ejecutar la siguiente celda)."
   ]
  },
  {
   "cell_type": "code",
   "execution_count": null,
   "id": "2fef02d3-27c5-4f86-93b0-0ba954e29901",
   "metadata": {},
   "outputs": [],
   "source": [
    "!pip install tqdm requests\n",
    "import requests\n",
    "from tqdm.notebook import tqdm"
   ]
  },
  {
   "cell_type": "code",
   "execution_count": null,
   "id": "07395a22-24cb-4a3c-acaf-4ef60fa89e9e",
   "metadata": {},
   "outputs": [],
   "source": [
    "f = requests.get(\"https://users.cecs.anu.edu.au/~bdm/data/graph4c.g6\")\n",
    "print(f.text)"
   ]
  },
  {
   "cell_type": "markdown",
   "id": "628d9c4a",
   "metadata": {},
   "source": [
    "Este formato contiene una linea por cada posible grafo y cada línea codifica un grafo en formato graph6. En total hay 6 grafos conexos no isomorfos de 4 vértices. Para otros números de vértices, sugerimos consultar la secuencia <a href=\"https://oeis.org/A001349\"> A001349</a> para conocer el número de grafos conexos no isomorfos (tener en cuenta que la secuencia comienza desde 0 vértices). "
   ]
  },
  {
   "cell_type": "markdown",
   "id": "1937bd90",
   "metadata": {},
   "source": [
    "Intentemos construir el grafo asociado a cada codificación, mediante el paquete <code>NetworkX</code>. Para ejemplificar, usaremos la primer linea."
   ]
  },
  {
   "cell_type": "code",
   "execution_count": null,
   "id": "72897102",
   "metadata": {},
   "outputs": [],
   "source": [
    "grafo_codificado = f.text.split()[0]\n",
    "print(grafo_codificado)"
   ]
  },
  {
   "cell_type": "markdown",
   "id": "046eb593",
   "metadata": {},
   "source": [
    "Vamos a utilizar la función <code>from_graph6_bytes</code> de <code>NetworkX</code>, la cual toma una cadena de texto codificada en formato graph6 y la convierte en un grafo. En este punto hay que hacer una aclaración, esta función, en lugar de una string, toma bytes. Por el momento, no nos preocupemos por entender qué son los bytes o para qué se usan. Para solucionar esto, necesitamos un paso intermedio donde convertimos la string a bytes."
   ]
  },
  {
   "cell_type": "code",
   "execution_count": null,
   "id": "dfb68c1d",
   "metadata": {},
   "outputs": [],
   "source": [
    "import networkx as nx\n",
    "\n",
    "grafo_codificado_bytes = bytes(grafo_codificado, \"utf-8\")\n",
    "grafo = nx.from_graph6_bytes(grafo_codificado_bytes)\n",
    "nx.draw(grafo)"
   ]
  },
  {
   "cell_type": "markdown",
   "id": "92ab967b",
   "metadata": {},
   "source": [
    "Ok, ahora que ya entendemos el transfondo de lo que vamos a hacer, podemos empezar a contruir nuestro dataset. Primero vamos a descargar a nuestra máquina todos los grafos conexos con 2, 3, 4, 5, 6, 7, 8, 9, y 10 vértices.\n",
    "\n",
    "Podemos hacer esto de forma manual, es decir, por ejemplo, para descargar el dataset de grafos conexos de 2 vértices, primero ingresamos a <a href=\"https://users.cecs.anu.edu.au/~bdm/data/graph2c.g6\"> https://users.cecs.anu.edu.au/~bdm/data/graph2c.g6</a>, y luego apretamos el click derecho y elegimos \"Guardar como...\".\n",
    "\n",
    "Sin embargo, es más rápido (y divertido) automatizarlo con Python. Veamos cómo hacer esto. Primero creamos un directorio de trabajo donde vamos a guardar nuestros datasets. El directorio se llamará \"dataset-n9\". Usamos el argumento <code>exist_ok=True</code> para evitar que Python lance una excepción si el directorio ya existía (por ejemplo, si volvemos a ejecutar la celda)."
   ]
  },
  {
   "cell_type": "code",
   "execution_count": null,
   "id": "684bce1c",
   "metadata": {},
   "outputs": [],
   "source": [
    "import os\n",
    "\n",
    "dirName = \"dataset-n9\"\n",
    "os.makedirs(dirName, exist_ok=True)"
   ]
  },
  {
   "cell_type": "markdown",
   "id": "112f5702",
   "metadata": {},
   "source": [
    "Ahora vamos a descargar los datasets. Primero especificamos la url y creamos una lista con los datasets que queremos descargar. Por el momento, ignoremos el dataset con los grafos conexos de 10 vértices."
   ]
  },
  {
   "cell_type": "code",
   "execution_count": null,
   "id": "bdb7a1fd",
   "metadata": {},
   "outputs": [],
   "source": [
    "url = \"https://users.cecs.anu.edu.au/~bdm/data/\"\n",
    "datasets = [f\"graph{n}c.g6\" for n in [2,3,4,5,6,7,8,9]]\n",
    "\n",
    "print(url)\n",
    "print(datasets)"
   ]
  },
  {
   "cell_type": "markdown",
   "id": "67d5d47c",
   "metadata": {},
   "source": [
    "Ahora, descargamos el texto que codifica a cada dataset y lo escribimos en un archivo local con el mismo nombre, dentro del directorio <code>dirName</code>.\n",
    "Pero antes explicamos un poco en detalle lo que ocurre en la siguiente celda:\n",
    "- <code>tqdm</code> es un paquete para mostrar una barra de progreso.\n",
    "- usamos <code>respuesta.content</code> en vez de <code>respuesta.text</code> (esto para asegurarnos de que leemos exactamente el contenido en vez de un texto plano que podría tener caracteres especiales)."
   ]
  },
  {
   "cell_type": "code",
   "execution_count": null,
   "id": "5bb1a6d9-7d71-458c-90a8-6e40691c3604",
   "metadata": {},
   "outputs": [],
   "source": [
    "\n",
    "for dataset in tqdm(datasets):\n",
    "    respuesta = requests.get(url + dataset)\n",
    "    with open(dirName + \"/\" + dataset, \"wb\") as file:\n",
    "        file.write(respuesta.content)"
   ]
  },
  {
   "cell_type": "markdown",
   "id": "c1b20bba",
   "metadata": {},
   "source": [
    "¡Listo! Para verificar, podemos listar el directorio para verificar que los archivos se hayan creado. También podemos mostremos el contenido de alguno de ellos."
   ]
  },
  {
   "cell_type": "code",
   "execution_count": null,
   "id": "8cbb5421",
   "metadata": {},
   "outputs": [],
   "source": [
    "os.listdir(dirName)"
   ]
  },
  {
   "cell_type": "code",
   "execution_count": null,
   "id": "c2ffc4dd",
   "metadata": {},
   "outputs": [],
   "source": [
    "with open(dirName + \"/\" + \"graph4c.g6\", \"r\") as file:\n",
    "    print(file.read())"
   ]
  },
  {
   "cell_type": "markdown",
   "id": "563fafb9",
   "metadata": {},
   "source": [
    "Volvamos ahora al dataset con los grafos conexos de 10 vértices. El inconveniente con él, es que se encuentra comprimido como un archivo *gzip*. Con algunos pasos extras, es posible manejarlo. Al igual que antes, comenzamos por descargar el texto que codifica el dataset y lo escribimos en un archivo local (obsérvese la extensión \".gz\" del archivo).\n",
    "\n",
    "**Nota.** El archivo pesa 30 MB, por lo que la ejecución de la siguiente celda puede demorar dependiendo de la velocidad de conexión."
   ]
  },
  {
   "cell_type": "code",
   "execution_count": null,
   "id": "34fd21ac",
   "metadata": {},
   "outputs": [],
   "source": [
    "respuesta = requests.get(\"https://users.cecs.anu.edu.au/~bdm/data/graph10c.g6.gz\")\n",
    "with open(dirName + \"/graph10c.g6.gz\", \"wb\") as file:\n",
    "    file.write(respuesta.content)"
   ]
  },
  {
   "cell_type": "markdown",
   "id": "ea4e2b58",
   "metadata": {},
   "source": [
    "Ahora si, ya estamos en condiciones de descomprimirlo. Abrimos el archivo con la función <code>open</code> del paquete <code>gzip</code>, la cual se ocupa de leer y descomprimir, y escribimos el resultado en un archivo local, con el mismo nombre pero sin la extensión \".g6\"."
   ]
  },
  {
   "cell_type": "code",
   "execution_count": null,
   "id": "cf6cc31b",
   "metadata": {},
   "outputs": [],
   "source": [
    "import gzip\n",
    "\n",
    "with gzip.open(dirName + \"/graph10c.g6.gz\", \"rb\") as fEntrada:\n",
    "    with open(dirName + \"/graph10c.g6\", \"wb\") as fSalida:\n",
    "        fSalida.write(fEntrada.read())"
   ]
  },
  {
   "cell_type": "markdown",
   "id": "d95cb2fe",
   "metadata": {},
   "source": [
    "Imprimamos las primeras 5 líneas del archivo para verificar que salió todo ok."
   ]
  },
  {
   "cell_type": "code",
   "execution_count": null,
   "id": "317892f6",
   "metadata": {},
   "outputs": [],
   "source": [
    "with open(dirName + \"/\" + \"graph10c.g6\", \"r\") as file:\n",
    "    for _ in range(5):\n",
    "        print(next(file))"
   ]
  },
  {
   "cell_type": "markdown",
   "id": "c1c943d9",
   "metadata": {},
   "source": [
    "## 2. Conteo exhaustivo de grafos\n",
    "\n",
    "Empezemos por mostrar como utilizar el dataset para contar el número de grafos conexos con cierta propiedad de interés, por ejemplo que carezcan de mellizos verdaderos.\n",
    "\n",
    "**Definición.** Dado un grafo $G = (V,E)$, dos vértices distintos $u,v \\in V$ son **mellizos verdaderos** si tienen la misma vecindad cerrada, es decir, $N[u] = N[v]$. \n",
    "\n",
    "**Observación.** Para que dos vértices sean mellizos verdaderos, es necesario que sean adyacentes.\n",
    "\n",
    "Por ejemplo, considerar el siguiente grafo:"
   ]
  },
  {
   "cell_type": "code",
   "execution_count": null,
   "id": "c60a9c42",
   "metadata": {},
   "outputs": [],
   "source": [
    "grafo = nx.Graph()\n",
    "grafo.add_edges_from([(0,1), (0,2), (0,3), (1,2), (1,3), (3,4), (2,5)])\n",
    "nx.draw_networkx(grafo)"
   ]
  },
  {
   "cell_type": "markdown",
   "id": "de11d294",
   "metadata": {},
   "source": [
    "Los vértices $0$ y $1$ son mellizos verdaderos pues: $$N[0] = N[1] = \\{0,1,2,3\\}.$$ Por el contrario, los vértices $0$ y $2$ no lo son, pues $$N[0] = \\{0,1,2,3\\} \\neq \\{0,1,2,5\\} = N[2].$$"
   ]
  },
  {
   "cell_type": "markdown",
   "id": "9016d594",
   "metadata": {},
   "source": [
    "Supongamos que queremos determinar *cuántos grafos conexos con a lo sumo 9 vértices no tienen ningún par de mellizos verdaderos*.\n",
    "\n",
    "Empecemos definiendo una función que determine si dos vértices son mellizos verdaderos."
   ]
  },
  {
   "cell_type": "code",
   "execution_count": null,
   "id": "267e7fe5",
   "metadata": {},
   "outputs": [],
   "source": [
    "def son_mellizos_verdaderos(G,u,v):\n",
    "    if not G.has_edge(u,v):\n",
    "        return False\n",
    "    Nu = set(G.neighbors(u))\n",
    "    Nu.add(u)\n",
    "    Nv = set(G.neighbors(v))\n",
    "    Nv.add(v)\n",
    "    return (Nu == Nv)\n",
    "    \n",
    "assert son_mellizos_verdaderos(grafo, 0, 1)\n",
    "assert not son_mellizos_verdaderos(grafo, 0, 2)"
   ]
  },
  {
   "cell_type": "markdown",
   "id": "d274248b",
   "metadata": {},
   "source": [
    "Usemos <code>son_mellizos_verdaderos</code> para definir el predicado (función que retorna un valor booloeano)<code>no_tiene_mellizos_verdaderos</code> que determina si un grafo no tiene ningún par de mellizos verdaderos."
   ]
  },
  {
   "cell_type": "code",
   "execution_count": null,
   "id": "844f2ef1",
   "metadata": {},
   "outputs": [],
   "source": [
    "def no_tiene_mellizos_verdaderos(G):\n",
    "    for u,v in G.edges:\n",
    "        if son_mellizos_verdaderos(G, u, v):\n",
    "            return False\n",
    "    return True\n",
    "\n",
    "assert not no_tiene_mellizos_verdaderos(grafo)\n",
    "grafo2 = nx.Graph(grafo)\n",
    "grafo2.add_edge(1,5)\n",
    "assert no_tiene_mellizos_verdaderos(grafo2)"
   ]
  },
  {
   "cell_type": "markdown",
   "id": "dd573f83",
   "metadata": {},
   "source": [
    "Ahora tenemos que recorrer todos los datasets y contar cuántas instancias verifican el predicado <code>no_tiene_mellizos_verdaderos</code>. Vamos a escribir una función más general, que permita ser llamada con diferentes predicados. Vamos a definir una función <code>contar_grafos</code>, que toma la ruta del directorio que contiene los datasets, una lista con los nombres de los datasets involucrados en el experimento y un predicado, y se ocupa de contar cuántas instancias de los datasets verifican el predicado dado. En su definición, vale la pena mencionar que abrimos nuevamente cada dataset en modo \"rb\", es decir, como bytes. A cada línea del archivo del dataset, es necesario sacarle el último caracter que representa un salto de línea (\\n), esto se hace con el método <code>rstrip(b\"\\n\")</code> (se antepone una *b* a la string \"\\n\" para convertirla en bytes)."
   ]
  },
  {
   "cell_type": "code",
   "execution_count": null,
   "id": "3666850f",
   "metadata": {},
   "outputs": [],
   "source": [
    "def contar_grafos(dirName, datasets, predicado):\n",
    "    contador = 0\n",
    "    for dataset in datasets:\n",
    "        print(f'Procesando dataset: {dataset}', end=\"\")\n",
    "        with open(dirName + \"/\" + dataset, \"rb\") as file:\n",
    "            # Recorrer cada linea del archivo\n",
    "            for line in file:\n",
    "                # Remover el salto de linea (\\n)\n",
    "                line = line.rstrip(b\"\\n\")\n",
    "                # Leer grafo en formato graph6\n",
    "                grafo = nx.from_graph6_bytes(line)\n",
    "                if predicado(grafo):\n",
    "                    contador += 1\n",
    "        print(f', acumulado = {contador}')\n",
    "    return contador"
   ]
  },
  {
   "cell_type": "markdown",
   "id": "76d5a182",
   "metadata": {},
   "source": [
    "Finalmente, llamamos a nuestra función."
   ]
  },
  {
   "cell_type": "code",
   "execution_count": null,
   "id": "afc70076",
   "metadata": {},
   "outputs": [],
   "source": [
    "datasets = [f\"graph{n}c.g6\" for n in [2,3,4,5,6,7,8,9]]\n",
    "contar_grafos(dirName, datasets, no_tiene_mellizos_verdaderos)"
   ]
  },
  {
   "cell_type": "markdown",
   "id": "495be0da",
   "metadata": {},
   "source": [
    "### &#x1f4bb; Actividad 1\n",
    "\n",
    "* ¿Cúantos grafos conexos con a lo sumo 9 vértices son regulares? ¿Qué porcentaje representa este número sobre el total?\n",
    "* ¿Y con a lo sumo 10 vértices? **Nota:** esto puede llevar mucho tiempo (son casi 12M de grafos)"
   ]
  },
  {
   "cell_type": "code",
   "execution_count": null,
   "id": "9214fc61",
   "metadata": {},
   "outputs": [],
   "source": [
    "# Espacio para completar Actividad 1"
   ]
  },
  {
   "cell_type": "markdown",
   "id": "4232d0e0",
   "metadata": {},
   "source": [
    "## 2. Búsqueda exhaustiva de contraejemplos\n",
    "\n",
    "En esta sección vamos a seguir como caso de estudio el problema de Empaquetamiento Generalizado. Empecemos con algunas definiciones.\n",
    "\n",
    "**Definiciones.** Dado un grafo $G=(V,E)$ y dos vectores $\\mathbf{k}, \\textbf{u} \\in \\mathbb Z_+^V$, $f:V\\rightarrow \\mathbb Z_+$ es una función de $(\\mathbf{k}, \\textbf{u})$-empaquetamiento si para todo $v\\in V$ se verifica $f(v)\\leq u(v)$ y $f(N[v])\\leq k(v)$. El problema de Empaquetamiento Generalizado consiste en calcular:\n",
    "\n",
    "$$ L_{\\mathbf{k}, \\textbf{u}}(G)=\\max \\{f(V): f \\text{ una función de } (\\mathbf{k}, \\textbf{u})\\text{-empaquetamiento de } G\\},$$\n",
    "\n",
    "donde $f(V) \\doteq \\sum_{v \\in V}f(v)$.\n",
    "\n",
    "Se puede probar que resolver el problema denominado <a href=\"https://doi.org/10.1016/j.disc.2007.08.080\">*Signed Domination*</a> sobre un grafo $G=(V,E)$ es equivalente, desde el punto de vista de su complejidad computacional, a calcular $L_{\\mathbf{k}, \\textbf{u}}(G)$ con $k(v)=\\delta(v)$, donde $\\delta(v)$ es el grado de $v$, y $u(v)=2$, para todo $v\\in V$.\n",
    "\n",
    "Claramente, si toda funcion de $(\\mathbf{k}, \\textbf{u})$-empaquetamiento de $G$ debe verificar $f(N[v])\\leq \\delta(v)$ necesariamente para todo $v$, $f(w)=0$ para algun $w\\in N[v]$. O sea, el conjunto de vértices $\\mathcal N$ donde $f$ es nula debe ser un conjunto dominante, esto es, $\\mathcal N \\cap N[v]\\neq \\emptyset$, para todo $v$. \n",
    "\n",
    "Entonces, una función que vale cero en un conjunto dominante mínimo de $G$ y uno en el resto es una funcion de $(\\mathbf{k}, \\textbf{u})$-empaquetamiento de $G$ de valor $n-\\gamma(G)$, donde $n$ es el número de vértices de $G$ y $\\gamma(G)$ su número de dominación.\n",
    "\n",
    "Por otro lado, si subimos al valor 2 el valor de la función propuesta sobre un vértice, deberemos bajar de 1 a 0 el valor de al menos un vertice en las vecindades de todos sus vecinos. \n",
    "\n",
    "Estas dos observaciones nos llevan a pensar si la solución propuesta no será la solución óptima. Esto es, si será cierto o no que:\n",
    "$$L_{\\mathbf{k}, \\textbf{u}}(G)=n-\\gamma(G).$$"
   ]
  },
  {
   "cell_type": "markdown",
   "id": "5bda01b3",
   "metadata": {},
   "source": [
    "### &#x1f4bb; Actividad 2\n",
    "\n",
    "* Proponer formulaciones de PLE que calculen $\\gamma(G)$ y $L_{\\mathbf{k}, \\textbf{u}}(G)$.\n",
    "* Definir funciones <code>construir_modelo_dom</code> y <code>construir_modelo_gemp</code> que construyan un modelo en Python basado en las formulaciones anteriores.\n",
    "* Haciendo uso de las funciones anteriores, definir una función <code>conjetura_ej2</code> que tome un grafo $G$ y determine si vale o no: $$L_{\\mathbf{k}, \\textbf{u}}(G)=n-\\gamma(G),$$ es decir, que devuelva <code>True</code> o <code>False</code>. Recordar que usaremos como $\\mathbf{k}$ al vector de grados y como $\\textbf{u}$ al vector con todas sus componentes igual a 2.\n",
    "* Encontrar un contraejemplo para la conjetura en grafos conexos de a lo sumo 10 vértices. **Recomendación:** definir una función <code>buscar_contraejemplo</code> que sea análoga a <code>contar_grafos</code>, salvo por la siguiente modificación: en lugar de contar los grafos que verifiquen el predicado, retorne el primer grafo que no lo cumpla. Imprimir además el grafo retornado y sus soluciones óptimas para ambos modelos.\n",
    "* Si el primer contraejemplo tiene $p$ nodos, buscar para cada $r\\in [p+1,10]$ un contraejemplo con $r$ nodos, si existe. \n",
    "* Analizar las soluciones óptimas encontradas en estos ejemplos y tratar de concluir alguna propiedad no tenida en cuanta al momento de establecer la conjetura e investigar qué la hace fallar. "
   ]
  },
  {
   "cell_type": "code",
   "execution_count": null,
   "id": "b39efb77",
   "metadata": {},
   "outputs": [],
   "source": [
    "# Espacio para completar Actividad 2\n",
    "\n",
    "def buscar_contraejemplo(dirName, datasets, predicado):\n",
    "    # COMPLETAR\n",
    "    raise Exception(\"Función no implementada\")"
   ]
  },
  {
   "cell_type": "markdown",
   "id": "6552a9ca",
   "metadata": {},
   "source": [
    "## 3. Limitaciones de la búsqueda exhaustiva\n",
    "\n",
    "En esta sección vamos a seguir como caso de estudio el ya conocido problema de Coloreo de Grafo. En particular, vamos a trabajar sobre el teorema de los 4 colores. Empecemos repasando algunas definiciones.\n",
    "\n",
    "**Definición.** Un grafo es planar si se puede embeber en el plano (usando puntos para los vértices y curvas para las aristas) sin que las aristas se crucen.\n",
    "\n",
    "**Teorema de los 4 colores.** Dado un grafo planar $G$, $\\chi(G) \\leq 4$ (recordar que $\\chi(G)$ es el número cromático de $G$, es decir, la mínima cantidad de colores necesarios para colorear a $G$).\n",
    "\n",
    "¿Será posible ajustar un poco más la cota del teorema de los 4 colores? Es decir, ¿será cierto que todo grafo planar es 3-coloreable? **Intente pensar en la respuesta antes de seguir leyendo.**"
   ]
  },
  {
   "cell_type": "markdown",
   "id": "fc58724b",
   "metadata": {},
   "source": [
    "*PÁGINA INTENCIONALMENTE VACÍA*\n",
    "\n",
    "&#11015;&#65039;\n",
    "\n",
    "&#11015;&#65039;\n",
    "\n",
    "&#11015;&#65039;\n",
    "\n",
    "&#11015;&#65039;\n",
    "\n",
    "&#11015;&#65039;\n",
    "\n",
    "&#11015;&#65039;\n",
    "\n",
    "&#11015;&#65039;\n",
    "\n",
    "&#11015;&#65039;\n",
    "\n",
    "&#11015;&#65039;\n",
    "\n",
    "&#11015;&#65039;\n",
    "\n",
    "&#11015;&#65039;\n",
    "\n",
    "&#11015;&#65039;\n",
    "\n",
    "&#11015;&#65039;\n",
    "\n",
    "&#11015;&#65039;\n",
    "\n",
    "&#11015;&#65039;\n",
    "\n",
    "&#11015;&#65039;\n",
    "\n",
    "*PÁGINA INTENCIONALMENTE VACÍA*"
   ]
  },
  {
   "cell_type": "markdown",
   "id": "2a70249e",
   "metadata": {},
   "source": [
    "Considerar el grafo completo de cuatro vértices, notado $K_4$. Este grafo es planar, por ejemplo: "
   ]
  },
  {
   "cell_type": "code",
   "execution_count": null,
   "id": "49f13a86",
   "metadata": {},
   "outputs": [],
   "source": [
    "k4 = nx.complete_graph(4)\n",
    "nx.draw_networkx(k4, pos=nx.planar_layout(k4))"
   ]
  },
  {
   "cell_type": "markdown",
   "id": "60d1f9b0",
   "metadata": {},
   "source": [
    "Y es evidente que $K_4$ no se puede pintar con solo 3 colores. Ok... ¿entonces será cierto que todo grafo planar que no contenga a $K_4$ como subgrafo inducido es 3-coloreable?\n",
    "\n",
    "Bueno, esta pregunta es un poco más difícil. Intentemos aplicar lo que aprendimos hasta ahora para buscar un contraejemplo.\n",
    "\n",
    "Empecemos definiendo (mejor dicho, recordando) la función que construye un modelo en Python para el problema de Coloreo de Grafos, mediante la formulación de PLE que usa variables de asignación vértice-color $x_{vk}$ y de activación de colores $w_k$."
   ]
  },
  {
   "cell_type": "code",
   "execution_count": null,
   "id": "3bed8fd0",
   "metadata": {},
   "outputs": [],
   "source": [
    "def max_grado(G):\n",
    "    grados = [G.degree(v) for v in G]\n",
    "    return max(grados)\n",
    "\n",
    "def construir_modelo_col(G):\n",
    "    \"\"\"Construye un modelo de PLE para el PCV.\"\"\"\n",
    "    C = range(0,max_grado(G) + 1)\n",
    "    modelo = Model(name='col')\n",
    "    X = [[modelo.binary_var(name='x_' + str(v) + '_' + str(k)) for k in C] for v in G]\n",
    "    W = [modelo.binary_var(name='w_' + str(k)) for k in C]\n",
    "    modelo.minimize(modelo.sum(W[k] for k in C))\n",
    "    for v in G:\n",
    "        modelo.add_constraint(modelo.sum(X[v][k] for k in C) == 1)\n",
    "    for u, v in G.edges:\n",
    "        for k in C:\n",
    "            modelo.add_constraint(X[u][k] + X[v][k] <= W[k])    \n",
    "    return modelo"
   ]
  },
  {
   "cell_type": "markdown",
   "id": "c075e880",
   "metadata": {},
   "source": [
    "Ahora necesitamos una función que determine si un grafo tiene un $K_4$ como subgrafo inducido. Seguramente haya formas mas eficientes de implementarla. Nosotros iteraremos sobre cada vértice $u$ del grafo y sobre todas las ternas de tres vecinos de $u$. Procuraremos seguir un orden lexicográfico para evitar contabilizar varias veces un mismo subgrafo."
   ]
  },
  {
   "cell_type": "code",
   "execution_count": null,
   "id": "daa225f4",
   "metadata": {},
   "outputs": [],
   "source": [
    "def tiene_k4(G):\n",
    "    for u in G:\n",
    "        for v in G.neighbors(u):\n",
    "            if (v <= u):\n",
    "                continue\n",
    "            for w in G.neighbors(u):\n",
    "                if (w <= v or not G.has_edge(w,v)):\n",
    "                    continue\n",
    "                for x in G.neighbors(u):\n",
    "                    if (x <= w or not G.has_edge(x,w) or not G.has_edge(x,v)):\n",
    "                        continue\n",
    "                    return True\n",
    "    return False"
   ]
  },
  {
   "cell_type": "code",
   "execution_count": null,
   "id": "7291abb7",
   "metadata": {},
   "outputs": [],
   "source": [
    "assert tiene_k4(nx.complete_graph(4))\n",
    "assert tiene_k4(nx.complete_graph(5))\n",
    "assert tiene_k4(nx.complete_graph(6))\n",
    "assert not tiene_k4(nx.petersen_graph())"
   ]
  },
  {
   "cell_type": "markdown",
   "id": "61770166",
   "metadata": {},
   "source": [
    "¡Listo! Ya estamos en condiciones de escribir nuestra conjetura como un predicado."
   ]
  },
  {
   "cell_type": "code",
   "execution_count": null,
   "id": "eca59ae1",
   "metadata": {},
   "outputs": [],
   "source": [
    "def conjetura_coloreo(G):\n",
    "    if (not nx.is_planar(G) or tiene_k4(G)):\n",
    "        return True\n",
    "    modelo = construir_modelo_col(G)\n",
    "    sol = modelo.solve()\n",
    "    return modelo.objective_value <= 3"
   ]
  },
  {
   "cell_type": "markdown",
   "id": "25e077f6",
   "metadata": {},
   "source": [
    "Ahora necesitamos llamar a <code>buscar_contraejemplo</code>, función definida en la Actividad 2. **Tendrá que resolver dicha actividad antes de poder ejecutar la siguiente celda.**"
   ]
  },
  {
   "cell_type": "code",
   "execution_count": null,
   "id": "a77fb64f",
   "metadata": {},
   "outputs": [],
   "source": [
    "datasets = [f\"graph{n}c.g6\" for n in [2,3,4,5,6,7,8,9,10]]\n",
    "contraej = buscar_contraejemplo(dirName, datasets, conjetura_coloreo)\n",
    "nx.draw_networkx(contraej)"
   ]
  },
  {
   "cell_type": "markdown",
   "id": "4d3b87aa",
   "metadata": {},
   "source": [
    "Bueno... recapítulemos un poco. Acabamos de encontramos un grafo planar sin $K_4$ inducido que no es 3-coloreable. Notar que este grafo es isomorfo al grafo rueda de 6 vértices (formado por un ciclo de 5 vértices y un vértice universal). Este contraejemplo nos lleva a pensar que tenemos que ser aún más restritivos, por ejemplo prohibiendo a $K_3$ como subgrafo inducido."
   ]
  },
  {
   "cell_type": "markdown",
   "id": "973140b1",
   "metadata": {},
   "source": [
    "**Definición.** Un grafo es triangle-free si no tiene a $K_3$ como subgrafo inducido. \n",
    "\n",
    "**Observación.** Un grafo $G$ es triangle-free si y solo si $\\omega(G) \\leq 2$, donde $\\omega(G)$ es el número de clique es $G$, es decir, el cardinal de la máxima clique de $G$."
   ]
  },
  {
   "cell_type": "markdown",
   "id": "1b520587",
   "metadata": {},
   "source": [
    "Siguiendo con nuestra búsqueda, sería interesante saber si todo grafo planar y triangle-free es 3-coloreable. "
   ]
  },
  {
   "cell_type": "markdown",
   "id": "5c3f35f2",
   "metadata": {},
   "source": [
    "### &#x1f4bb; Actividad 3\n",
    "\n",
    "* Usar lo aprendido en este notebook para buscar exhaustivamente un grafo planar y triangle-free con a lo sumo 10 vértices que no sea 3-coloreable.\n",
    "\n",
    "* Una vez completado el primer punto, leer el abstract del siguiente <a href=\"https://doi.org/10.1016/S0095-8956(03)00029-7\">paper</a>."
   ]
  },
  {
   "cell_type": "code",
   "execution_count": null,
   "id": "93275a0a",
   "metadata": {},
   "outputs": [],
   "source": [
    "# Espacio para completar Actividad 3"
   ]
  },
  {
   "cell_type": "markdown",
   "id": "b97b948d",
   "metadata": {},
   "source": [
    "**Resolver Actividad 3 antes de continuar**"
   ]
  },
  {
   "cell_type": "markdown",
   "id": "6d152fc2",
   "metadata": {},
   "source": [
    "*PÁGINA INTENCIONALMENTE VACÍA*\n",
    "\n",
    "&#11015;&#65039;\n",
    "\n",
    "&#11015;&#65039;\n",
    "\n",
    "&#11015;&#65039;\n",
    "\n",
    "&#11015;&#65039;\n",
    "\n",
    "&#11015;&#65039;\n",
    "\n",
    "&#11015;&#65039;\n",
    "\n",
    "&#11015;&#65039;\n",
    "\n",
    "&#11015;&#65039;\n",
    "\n",
    "&#11015;&#65039;\n",
    "\n",
    "&#11015;&#65039;\n",
    "\n",
    "&#11015;&#65039;\n",
    "\n",
    "&#11015;&#65039;\n",
    "\n",
    "&#11015;&#65039;\n",
    "\n",
    "&#11015;&#65039;\n",
    "\n",
    "&#11015;&#65039;\n",
    "\n",
    "&#11015;&#65039;\n",
    "\n",
    "*PÁGINA INTENCIONALMENTE VACÍA*"
   ]
  },
  {
   "cell_type": "markdown",
   "id": "ffcaa1e5",
   "metadata": {},
   "source": [
    "Ok, ya sabemos que todo grafo planar y triangle-free es 3 coloreable, lo que mejora la cota que prevee el teorema de los 4 colores para esta clase de grafos. También ya sabemos que si sacamos la hipótesis de que el grafo sea triangle-free, entonces aparecen grafos planares que no son 3-coloreables (por ej. $K_4$ o grafo rueda de 6 vértices). Pero, ¿qué podemos decir acerca de la hipótesis de que el grafo sea planar? Es decir, ¿existirán grafos triangle-free que no sean 3-coloreables?\n",
    "\n",
    "Esta última pregunta no es tan difícil de responder, pero necesitamos repasar un poco de teoría de grafos. Es sabido que a partir de un grafo $G$ triangle-free, es posible construir su grafo de Mycielski asociado $M(G)$, el cual preserva la propiedad de ser 3-triangle pero aumenta el número cromático. Por lo tanto, partiendo de un grafo triangle-free $G$ con $\\chi(G)=3$, sabemos que $M(G)$ es triangle-free y $\\chi(M(G))>3$. Puede investigar cómo es la construcción de Mycielski, aunque no es necesario para resolver la siguiente actividad."
   ]
  },
  {
   "cell_type": "markdown",
   "id": "d2025c6b",
   "metadata": {},
   "source": [
    "### &#x1f4bb; Actividad 4\n",
    "\n",
    "* Pensar en un grafo $G$ triangle-free con $\\chi(G)=3$. No se complique demasiado, pensar en las clases de grafos más simples que se estudian en discreta.\n",
    "\n",
    "* Llamar a la función <code>mycielskian</code> de <code>Networkx</code> para construir el grafo $M(G)$ asociado al grafo $G$ anterior.\n",
    "\n",
    "* Verificar computacionalmente que $M(G)$ es triangle-free (o que $\\omega(M(G)) \\leq 2$) y que $\\chi(M(G)) > 3$.\n",
    "\n",
    "* Usar lo aprendido en el notebook para intentar encontrar mediante una búsqueda exhaustiva el grafo triangle-free con menor número de vértices que no sea 3-coloreable. ¿Lo puede encontrar? De lo contrario, investigue en la web cuál es este grafo. ¿Qué puede concluir?"
   ]
  },
  {
   "cell_type": "code",
   "execution_count": null,
   "id": "ee95fdb0",
   "metadata": {},
   "outputs": [],
   "source": [
    "# Espacio para completar Actividad 4"
   ]
  },
  {
   "cell_type": "markdown",
   "id": "ca380e8a-b679-4ce9-8525-3737f40e2e3d",
   "metadata": {},
   "source": [
    "### &#x1f4bb; Actividad 5\n",
    "\n",
    "Sea $G = (V, E)$ un grafo simple y $f : V → {1,\\ldots,k}$ un etiquetado de los vértices de $G$, más específicamente un _$k$-etiquetado_.\n",
    "Si denotamos con $f(S)$ la suma de las etiquetas sobre un subconjunto de vértices $S$, decimos que $f$ es un _$k$-coloreo aditivo_\n",
    "de $G$ si $f(N(u)) \\neq f(N(v))$ para todo arco $(u,v) \\in E$.\n",
    "El _número cromático aditivo_ de un grafo $G$, denotado $\\eta(G)$, es el menor $k$ para el cual existe un $k$-coloreo aditivo de $G$.\n",
    "Hallar este parámetro es un problema NP-difícil.\n",
    "\n",
    "La Conjetura del Coloreo Aditivo (<a href=\"https://doi.org/10.1016/j.ipl.2009.05.011\">Czerwinski et al. 2009</a>) establece que para todo $G$, $\\eta(G) \\leq \\chi(G)$. En esta actividad vamos a testear la validez de esta conjetura hasta grafos de tamaño 9.\n",
    "\n",
    "Para calcular el número cromático aditivo, podemos considerar las siguientes variables:\n",
    "* $f(v)$ es una variable entera entre 1 y $UB$ asociada a la etiqueta de $v$, donde $UB$ es alguna cota superior de $\\eta(G)$ (e.g. puede usarse $UB=\\chi(G)$ si ya la calculamos previamente),\n",
    "* $z(u,v)$ es una variable binaria que vale 1 si y sólo si $f(N(u)) < f(N(v))$ para todo $(u, v) \\in E_2 = \\{(u,v), (v,u) : (u,v) \\in E\\}$ (i.e.\n",
    "consideramos ambos sentidos de cada arco),\n",
    "* $k$ es una variable entera entre 1 y $UB$ asociada a la máxima etiqueta del etiquetado.\n",
    "\n",
    "y resolver la formulación MIP que consiste en minimizar $k$ sujeto a las siguientes restricciones:\n",
    "* Los valores $f(N(u))$ y $f(N(v))$ deben diferir entre sí, mas específicamente si $z(u,v) = 0$ entonces $f(N(u)) > f(N(v))$ y si $z(u,v) = 1$ entonces $f(N(u)) < f(N(v))$:\n",
    "$$ \\sum_{w \\in N(u)} f(w) - \\sum_{w \\in N(v)} f(w) + M_{uv} z(u,v) \\leq M_{uv}-1,~~~ \\forall\\ (u,v) \\in E_2 $$\n",
    "* Sólo se puede elegir un sentido para cada arco:\n",
    "$$ z(u,v) + z(v,u) = 1,~~~ \\forall\\ (u,v) \\in E $$\n",
    "* La etiqueta de cualquier vértice no puede sobrepasar a la máxima etiqueta:\n",
    "$$ f(v) \\leq k,~~~ \\forall\\ v \\in V $$\n",
    "\n",
    "Para la primer restricción definimos $M_{uv} = 1 + |N(u)-N(v)|UB - |N(v)-N(u)|$ para todo $(u,v) \\in E_2$. Este tipo de restricciones recibe el\n",
    "nombre de \"big-M\" pues la restricción mísma depende de un valor que podría ser elevado (en este caso $M_{uv}$ depende de los tamaños relativos entre los vecindarios escalado por el valor $UB$) y en consecuencia genera relajaciones lineales poco ajustadas (su valor objetivo puede estar lejos del óptimo),\n",
    "por lo que se intenta evitar. En nuestro caso, las restricciones ajustan cuando $z(u,v) = 1$ pues cancelan $M_{uv}$ en ambos miembros, pero si $z(u,v) = 0$ el lado derecho suele quedar \"holgado\". No conocemos una formulación mejor por el momento 🥲.\n",
    "\n",
    "Las actividades son:\n",
    "\n",
    "- Demuestre que la primera restricción efectivamente evita que $f(N(u))$ y $f(N(v))$ coincidan.\n",
    "- Demustre la validez de la Conjetura hasta grafos de tamaño 9. ¿Cuánto tiempo demoró este testeo para cada $n$ (donde $n$ es la cantidad de vértices)?\n",
    "- Si ajustamos la conjetura a $\\eta(G)+1 \\leq \\chi(G)$, ¿sigue siendo válida? Proponga contraejemplos en caso contrario, para distintos valores de $\\chi(G)$."
   ]
  },
  {
   "cell_type": "code",
   "execution_count": null,
   "id": "e425d3fe-06ff-4526-b291-f5e69d9ea382",
   "metadata": {},
   "outputs": [],
   "source": [
    "# Espacio para completar Actividad 5"
   ]
  }
 ],
 "metadata": {
  "kernelspec": {
   "display_name": "Python 3 (ipykernel)",
   "language": "python",
   "name": "python3"
  },
  "language_info": {
   "codemirror_mode": {
    "name": "ipython",
    "version": 3
   },
   "file_extension": ".py",
   "mimetype": "text/x-python",
   "name": "python",
   "nbconvert_exporter": "python",
   "pygments_lexer": "ipython3",
   "version": "3.9.19"
  }
 },
 "nbformat": 4,
 "nbformat_minor": 5
}
