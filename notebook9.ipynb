{
 "cells": [
  {
   "cell_type": "markdown",
   "id": "b91c6147",
   "metadata": {},
   "source": [
    "# Notæ 9\n",
    "\n",
    "\n",
    "## Título?\n",
    "\n",
    "Introducción. El objetivo del notebook es (1) la asistencia computacional en el estudio de conjeturas: asistencia en la prueba de teoremas o construcción de contraejemplos, (2) inferir propiedades sobre la estructura de las soluciones para la posterior postulación de conjeturas o demostración de teoremas.\n",
    "\n",
    "Hay bases de datos con todos los grafos de hasta cierto tamaño, también clasificados por familia: \n",
    "\n",
    "https://users.cecs.anu.edu.au/~bdm/data/graphs.html\n",
    "\n",
    "Permite realizar inspección exhaustiva (por fuerza bruta) de propiedades/conjeturas sobre todos los grafos pequeños."
   ]
  },
  {
   "cell_type": "markdown",
   "id": "7bbed328",
   "metadata": {},
   "source": [
    "## 1. Subtítulo ???\n",
    "\n",
    "Dar la def de mellizo verdadero. Mostrar cómo usar estas herramientas para contar cuantos grafos conexos del dataset no tienen mellizos verdaderos. \n",
    "\n",
    "Ejercicio. ¿Cúantos grafos conexos del dataset son regulares?"
   ]
  },
  {
   "cell_type": "markdown",
   "id": "4232d0e0",
   "metadata": {},
   "source": [
    "## 2. Subtítulo???\n",
    "\n",
    "Problema de Graciela:\n",
    "\n",
    "por un lado, pienso en todas las funciones que pueden valer 0,1 o 2 y que en cada vecindad cerrada debe sumar a los sumo el grado de ese vertice. Y quiero maximizar la suma de la fc en todos los vertices. LLamemos a ese maximo $L$. Bueno, yo quiero saber si es verdad que L=n-\\gamma(G), con \\gamma(G) el numero de cubrimiento. Hay una desigualdad que es facil, si me restrinjo a las funciones que solo pueden valer 0 o 1, cada vertice tiene que tener al menos un cero en su vecindad cerrada, asi que el numero de ceros es un cubrimiento de G. Bueno, no encuentro ejemplo de funciones con algun 2 que sume mas que n-\\gamma(G)!\n",
    "\n",
    "Ayudar a calcular estos parámetros / modelos de ple ?\n",
    "\n",
    "Ejercicio. Buscar un contraejemplo."
   ]
  },
  {
   "cell_type": "markdown",
   "id": "6552a9ca",
   "metadata": {},
   "source": [
    "## 3. Subtítulo???\n",
    "\n",
    "Definir grafo planar y triangle free.\n",
    "\n",
    "Es sabido que todo grafo planar se puede pintar con al menos 4 colores (Teorema de los 4 colores). Si además de planar, también pedimos que sea triangle-free, podemos encontrar siempre un coloreo con al menor 3 colores?\n",
    "\n",
    "Ejercicio. Responder a esa pregunta. Si, es un teorema. Mandarlos a google a leer el teorema.\n",
    "\n",
    "Es sabido que la distancia entre el nro de clique y el nro cromático puede ser tan grande como se quiera. ¿cuál será el grafo triangle-free más chico que no se pueda pintar con 3 colores?\n",
    "\n",
    "Ejercicio. Buscarlo... No lo van a encontrar.\n",
    "\n",
    "Dar la construcción de mysielski e implementar funciones que hagan la construcción. Usarlas para verificar que M(C5) es el contraejemplo. "
   ]
  },
  {
   "cell_type": "markdown",
   "id": "b46bd373",
   "metadata": {},
   "source": [
    "## 4. Subtítulo???\n",
    "\n",
    "Conjetura abierta del coloreo aditivio. Daniel?"
   ]
  },
  {
   "cell_type": "code",
   "execution_count": null,
   "id": "d1950417",
   "metadata": {},
   "outputs": [],
   "source": []
  },
  {
   "cell_type": "code",
   "execution_count": null,
   "id": "fc7d2f66",
   "metadata": {},
   "outputs": [],
   "source": []
  }
 ],
 "metadata": {
  "kernelspec": {
   "display_name": "Python 3 (ipykernel)",
   "language": "python",
   "name": "python3"
  },
  "language_info": {
   "codemirror_mode": {
    "name": "ipython",
    "version": 3
   },
   "file_extension": ".py",
   "mimetype": "text/x-python",
   "name": "python",
   "nbconvert_exporter": "python",
   "pygments_lexer": "ipython3",
   "version": "3.10.12"
  }
 },
 "nbformat": 4,
 "nbformat_minor": 5
}
