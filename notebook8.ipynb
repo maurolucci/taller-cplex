{
 "cells": [
  {
   "cell_type": "markdown",
   "id": "ad053774",
   "metadata": {},
   "source": [
    "Todo esto quedó afuera del notebook 7"
   ]
  },
  {
   "cell_type": "markdown",
   "id": "ea48aa28",
   "metadata": {},
   "source": [
    "### Desigualdades válidas bajo demanda"
   ]
  },
  {
   "cell_type": "code",
   "execution_count": 1,
   "id": "5d31b021",
   "metadata": {},
   "outputs": [],
   "source": [
    "def construir_modelo_pool(G, C):\n",
    "    modelo = construir_modelo_col(G, C)\n",
    "    X, W = recuperar_variables(G, C, modelo)\n",
    "    for Q in nx.find_cliques(G):\n",
    "        for k in C:\n",
    "            modelo.add_user_cut_constraint(modelo.sum(X[v][k] for v in Q) <= W[k])\n",
    "    return modelo"
   ]
  },
  {
   "cell_type": "code",
   "execution_count": 2,
   "id": "1344dea5",
   "metadata": {},
   "outputs": [
    {
     "ename": "NameError",
     "evalue": "name 'G' is not defined",
     "output_type": "error",
     "traceback": [
      "\u001b[0;31m---------------------------------------------------------------------------\u001b[0m",
      "\u001b[0;31mNameError\u001b[0m                                 Traceback (most recent call last)",
      "\u001b[0;32m/tmp/ipykernel_19101/4054418555.py\u001b[0m in \u001b[0;36m<module>\u001b[0;34m\u001b[0m\n\u001b[0;32m----> 1\u001b[0;31m \u001b[0mmodelo_pool\u001b[0m \u001b[0;34m=\u001b[0m \u001b[0mconstruir_modelo_pool\u001b[0m\u001b[0;34m(\u001b[0m\u001b[0mG\u001b[0m\u001b[0;34m,\u001b[0m \u001b[0mC\u001b[0m\u001b[0;34m)\u001b[0m\u001b[0;34m\u001b[0m\u001b[0;34m\u001b[0m\u001b[0m\n\u001b[0m\u001b[1;32m      2\u001b[0m \u001b[0mmodelo_pool\u001b[0m\u001b[0;34m.\u001b[0m\u001b[0mparameters\u001b[0m\u001b[0;34m.\u001b[0m\u001b[0mpreprocessing\u001b[0m\u001b[0;34m.\u001b[0m\u001b[0mpresolve\u001b[0m \u001b[0;34m=\u001b[0m \u001b[0;36m0\u001b[0m\u001b[0;34m\u001b[0m\u001b[0;34m\u001b[0m\u001b[0m\n\u001b[1;32m      3\u001b[0m \u001b[0mresolver\u001b[0m\u001b[0;34m(\u001b[0m\u001b[0mmodelo_pool\u001b[0m\u001b[0;34m)\u001b[0m\u001b[0;34m\u001b[0m\u001b[0;34m\u001b[0m\u001b[0m\n",
      "\u001b[0;31mNameError\u001b[0m: name 'G' is not defined"
     ]
    }
   ],
   "source": [
    "modelo_pool = construir_modelo_pool(G, C)\n",
    "modelo_pool.parameters.preprocessing.presolve = 0\n",
    "resolver(modelo_pool)"
   ]
  },
  {
   "cell_type": "markdown",
   "id": "39b35244",
   "metadata": {},
   "source": [
    "### Rankear experimentalmente desigualdades válidas\n",
    "\n",
    "\n",
    "Tenemos una desigualdad válida y queremos ver si corta soluciones fraccionarias. Por ejemplo, podría pasar que esté implicada, es decir, que se obtenga a partir de desigualdades del modelo. Maximizar el lado izquierdo de la desigualdad."
   ]
  },
  {
   "cell_type": "code",
   "execution_count": 3,
   "id": "924d4887",
   "metadata": {},
   "outputs": [
    {
     "ename": "NameError",
     "evalue": "name 'relajacion_lineal' is not defined",
     "output_type": "error",
     "traceback": [
      "\u001b[0;31m---------------------------------------------------------------------------\u001b[0m",
      "\u001b[0;31mNameError\u001b[0m                                 Traceback (most recent call last)",
      "\u001b[0;32m/tmp/ipykernel_19101/3540518307.py\u001b[0m in \u001b[0;36m<module>\u001b[0;34m\u001b[0m\n\u001b[0;32m----> 1\u001b[0;31m \u001b[0mrelajacion2\u001b[0m \u001b[0;34m=\u001b[0m \u001b[0mrelajacion_lineal\u001b[0m\u001b[0;34m(\u001b[0m\u001b[0mmodelo\u001b[0m\u001b[0;34m)\u001b[0m\u001b[0;34m\u001b[0m\u001b[0;34m\u001b[0m\u001b[0m\n\u001b[0m\u001b[1;32m      2\u001b[0m \u001b[0mx_0_0\u001b[0m \u001b[0;34m=\u001b[0m \u001b[0mrelajacion2\u001b[0m\u001b[0;34m.\u001b[0m\u001b[0mget_var_by_name\u001b[0m\u001b[0;34m(\u001b[0m\u001b[0;34m\"x_0_0\"\u001b[0m\u001b[0;34m)\u001b[0m\u001b[0;34m\u001b[0m\u001b[0;34m\u001b[0m\u001b[0m\n\u001b[1;32m      3\u001b[0m \u001b[0mx_1_0\u001b[0m \u001b[0;34m=\u001b[0m \u001b[0mrelajacion2\u001b[0m\u001b[0;34m.\u001b[0m\u001b[0mget_var_by_name\u001b[0m\u001b[0;34m(\u001b[0m\u001b[0;34m\"x_1_0\"\u001b[0m\u001b[0;34m)\u001b[0m\u001b[0;34m\u001b[0m\u001b[0;34m\u001b[0m\u001b[0m\n\u001b[1;32m      4\u001b[0m \u001b[0mx_2_0\u001b[0m \u001b[0;34m=\u001b[0m \u001b[0mrelajacion2\u001b[0m\u001b[0;34m.\u001b[0m\u001b[0mget_var_by_name\u001b[0m\u001b[0;34m(\u001b[0m\u001b[0;34m\"x_2_0\"\u001b[0m\u001b[0;34m)\u001b[0m\u001b[0;34m\u001b[0m\u001b[0;34m\u001b[0m\u001b[0m\n\u001b[1;32m      5\u001b[0m \u001b[0mrelajacion2\u001b[0m\u001b[0;34m.\u001b[0m\u001b[0mmaximize\u001b[0m\u001b[0;34m(\u001b[0m\u001b[0mx_0_0\u001b[0m \u001b[0;34m+\u001b[0m \u001b[0mx_1_0\u001b[0m \u001b[0;34m+\u001b[0m \u001b[0mx_2_0\u001b[0m\u001b[0;34m)\u001b[0m\u001b[0;34m\u001b[0m\u001b[0;34m\u001b[0m\u001b[0m\n",
      "\u001b[0;31mNameError\u001b[0m: name 'relajacion_lineal' is not defined"
     ]
    }
   ],
   "source": [
    "relajacion2 = relajacion_lineal(modelo)\n",
    "x_0_0 = relajacion2.get_var_by_name(\"x_0_0\")\n",
    "x_1_0 = relajacion2.get_var_by_name(\"x_1_0\")\n",
    "x_2_0 = relajacion2.get_var_by_name(\"x_2_0\")\n",
    "relajacion2.maximize(x_0_0 + x_1_0 + x_2_0)\n",
    "sol = resolver(relajacion2)\n",
    "print(relajacion2.objective_value)"
   ]
  },
  {
   "cell_type": "markdown",
   "id": "15b7c6c5",
   "metadata": {},
   "source": [
    "## Eliminación de soluciones simétricas\n",
    "\n",
    "Otra forma de reducir el tiempo de optimización es reducir el espacio de búsqueda, durante la exploración de nodos del árbol B&B.\n",
    "Decimos que un conjunto de soluciones $s_1$, $s_2$, ..., $s_n$ son simétricas si tienen el mismo valor objetivo. Observemos que podemos eliminar $s_2$, ..., $s_n$ sin afectar el resultado de la optimización. En el caso del problema de coloreo, esto equivale a eliminar soluciones con misma cantidad de colores.\n",
    "\n",
    "Para eliminarlas, incorporamos nuevas restricciones a la formulación. Por ejemplo, en COL habíamos incorporado $(COL.3)$ para eliminar ciertas soluciones innecesarias. \n",
    "\n",
    "Ahora vamos a considerar distintas familias de desigualdades que eliminan soluciones simétricas, propuestas por I.$~$Méndez-Díaz y P.$~$Zavala. Supongamos que los colores están enumerados $\\mathcal{C}=1,\\ldots,c$:\n",
    "- Orden en la cantidad de colores: Claramente una solución que utilice los colores de un subconjunto de tamaño $k$  de $\\mathcal{C}$ usa la misma cantidad de colores que otra a la que se le asignan colores de $1,\\ldots,k$ (por ejemplo, para una solución que utilice los colores $3,5,8$ existe otra que utiliza $1,2,3$). Podemos eliminar estas soluciones adicionales agregando:\n",
    "$$w_k \\geq w_{k+1},~~ \\forall~ k = 1,\\ldots,c-1~~~~~~(S1)$$\n",
    "- Orden en los cardinales de los colores: Observemos que, para una solución que utiliza los colores $1,\\ldots,k$, existen otras $k!-1$ soluciones simétricas en donde se hizo una permutación de sus colores. Podemos eliminar parcialmente estas soluciones si imponemos que los primeros colores tengan mayor cardinal que los últimos. Es decir, si $V_i$ representa a aquellos vértices pintados de $i$, podemos restringirnos a soluciones donde $|V_1| \\geq |V_2| \\geq ... \\geq |V_k|$ con:\n",
    "$$\\sum_{v \\in V} x_{vk} \\geq \\sum_{v \\in V} x_{vk+1},~~ \\forall~ k = 1,\\ldots,c-1~~~~~~(S2)$$\n",
    "- Eliminación de indistinguibles I: Teniendo en cuenta una enumeración de los vértices ($v_1$, $v_2$, ...) podemos, sin perder generalidad, imponer que el primer vértice sea coloreado con el primer color. Luego $v_2$ puede, o bien utilizar el mismo color, o bien uno nuevo, por lo que le permitimos colorearse con colores 1 o 2. En otras palabras, $v_1$ no se puede colorear con $\\{2,\\ldots,c\\}$, $v_2$ no lo puede hacer con $\\{3,\\ldots,c\\}$, etc. Siguiendo esta lógica proponemos:\n",
    "$$x_{v_i k} = 0,~~ \\forall~ k=i+1,\\ldots,c,~ \\forall~i=1,\\ldots,c-1~~~~~~(S3)$$\n",
    "Estas restricciones no son compatibles con $(S2)$.\n",
    "- Eliminación de indistinguibles II: Dejamos al lector entender el significado de estas desigualdades que, junto con $(S1)$ y $(S3)$, eliminan todas las $k!-1$ soluciones simétricas:\n",
    "$$\\sum_{j=k-1}^{i-1} x_{u_jk-1} \\geq x_{v_ik}~~ \\forall~ i=k+1,\\ldots,c,~ \\forall~k=2,\\ldots,c-1~~~~~~(S4)$$"
   ]
  },
  {
   "cell_type": "markdown",
   "id": "0266d233",
   "metadata": {},
   "source": [
    "### Actividad 4\n",
    "\n",
    "- Incorpore las restricciones que eliminan simetrías a la formulación. Llamémoslas:\n",
    "  - $COL_1$: Formulación original\n",
    "  - $COL_2$: $COL_1$ + $(S1)$ (Orden en la cantidad de colores)\n",
    "  - $COL_3$: $COL_2$ + $(S2)$ (Orden en los cardinales de los colores)\n",
    "  - $COL_4$: $COL_2$ + $(S3)$ (Eliminación de indistinguibles I)\n",
    "  - $COL_5$: $COL_4$ + $(S4)$ (Eliminación de indistinguibles II)\n",
    "- Para grafos con densidades de 10%, 50% y 90%, ¿hasta qué cantidad de vértices es posible resolver una instancia con las formulaciones dadas (por densidad) para un tiempo límite de 5 minutos? Concluya cuáles de las restricciones que eliminan simetrías conviene considerar."
   ]
  },
  {
   "cell_type": "code",
   "execution_count": null,
   "id": "81e032c7",
   "metadata": {},
   "outputs": [],
   "source": []
  }
 ],
 "metadata": {
  "kernelspec": {
   "display_name": "Python 3 (ipykernel)",
   "language": "python",
   "name": "python3"
  },
  "language_info": {
   "codemirror_mode": {
    "name": "ipython",
    "version": 3
   },
   "file_extension": ".py",
   "mimetype": "text/x-python",
   "name": "python",
   "nbconvert_exporter": "python",
   "pygments_lexer": "ipython3",
   "version": "3.10.12"
  }
 },
 "nbformat": 4,
 "nbformat_minor": 5
}
