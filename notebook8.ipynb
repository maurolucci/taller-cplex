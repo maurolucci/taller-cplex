{
 "cells": [
  {
   "cell_type": "markdown",
   "id": "1e7d9afe",
   "metadata": {},
   "source": [
    "# Notæ 8\n",
    "\n",
    "# Incidencia de cotas primales en la resolución de PLE\n",
    "\n",
    "\n",
    "**AGREGAR UNA INTRODUCCIÓN**"
   ]
  },
  {
   "cell_type": "markdown",
   "id": "15b7c6c5",
   "metadata": {},
   "source": [
    "## 1. Eliminación de soluciones simétricas\n",
    "\n",
    "\n",
    "**AGREGAR UNA INTRODUCCIÓN**\n",
    "\n",
    "Otra forma de reducir el tiempo de optimización es reducir el espacio de búsqueda, durante la exploración de nodos del árbol B&B.\n",
    "Decimos que un conjunto de soluciones $s_1$, $s_2$, ..., $s_n$ son simétricas si tienen el mismo valor objetivo. Observemos que podemos eliminar $s_2$, ..., $s_n$ sin afectar el resultado de la optimización. En el caso del problema de coloreo, esto equivale a eliminar soluciones con misma cantidad de colores.\n",
    "\n",
    "Para eliminarlas, incorporamos nuevas restricciones a la formulación. Por ejemplo, en COL habíamos incorporado $(COL.3)$ para eliminar ciertas soluciones innecesarias. \n",
    "\n",
    "Ahora vamos a considerar distintas familias de desigualdades que eliminan soluciones simétricas, propuestas por I.$~$Méndez-Díaz y P.$~$Zavala. Supongamos que los colores están enumerados $\\mathcal{C}=1,\\ldots,c$:\n",
    "- Orden en la cantidad de colores: Claramente una solución que utilice los colores de un subconjunto de tamaño $k$  de $\\mathcal{C}$ usa la misma cantidad de colores que otra a la que se le asignan colores de $1,\\ldots,k$ (por ejemplo, para una solución que utilice los colores $3,5,8$ existe otra que utiliza $1,2,3$). Podemos eliminar estas soluciones adicionales agregando:\n",
    "$$w_k \\geq w_{k+1},~~ \\forall~ k = 1,\\ldots,c-1~~~~~~(S1)$$\n",
    "- Orden en los cardinales de los colores: Observemos que, para una solución que utiliza los colores $1,\\ldots,k$, existen otras $k!-1$ soluciones simétricas en donde se hizo una permutación de sus colores. Podemos eliminar parcialmente estas soluciones si imponemos que los primeros colores tengan mayor cardinal que los últimos. Es decir, si $V_i$ representa a aquellos vértices pintados de $i$, podemos restringirnos a soluciones donde $|V_1| \\geq |V_2| \\geq ... \\geq |V_k|$ con:\n",
    "$$\\sum_{v \\in V} x_{vk} \\geq \\sum_{v \\in V} x_{vk+1},~~ \\forall~ k = 1,\\ldots,c-1~~~~~~(S2)$$\n",
    "- Eliminación de indistinguibles I: Teniendo en cuenta una enumeración de los vértices ($v_1$, $v_2$, ...) podemos, sin perder generalidad, imponer que el primer vértice sea coloreado con el primer color. Luego $v_2$ puede, o bien utilizar el mismo color, o bien uno nuevo, por lo que le permitimos colorearse con colores 1 o 2. En otras palabras, $v_1$ no se puede colorear con $\\{2,\\ldots,c\\}$, $v_2$ no lo puede hacer con $\\{3,\\ldots,c\\}$, etc. Siguiendo esta lógica proponemos:\n",
    "$$x_{v_i k} = 0,~~ \\forall~ k=i+1,\\ldots,c,~ \\forall~i=1,\\ldots,c-1~~~~~~(S3)$$\n",
    "Estas restricciones no son compatibles con $(S2)$.\n",
    "- Eliminación de indistinguibles II: Dejamos al lector entender el significado de estas desigualdades que, junto con $(S1)$ y $(S3)$, eliminan todas las $k!-1$ soluciones simétricas:\n",
    "$$\\sum_{j=k-1}^{i-1} x_{u_jk-1} \\geq x_{v_ik}~~ \\forall~ i=k+1,\\ldots,c,~ \\forall~k=2,\\ldots,c-1~~~~~~(S4)$$"
   ]
  },
  {
   "cell_type": "markdown",
   "id": "0266d233",
   "metadata": {},
   "source": [
    "### &#x1f4bb; Actividad 1\n",
    "\n",
    "- Incorpore las restricciones que eliminan simetrías a la formulación. Llamémoslas:\n",
    "  - $COL_1$: Formulación original\n",
    "  - $COL_2$: $COL_1$ + $(S1)$ (Orden en la cantidad de colores)\n",
    "  - $COL_3$: $COL_2$ + $(S2)$ (Orden en los cardinales de los colores)\n",
    "  - $COL_4$: $COL_2$ + $(S3)$ (Eliminación de indistinguibles I)\n",
    "  - $COL_5$: $COL_4$ + $(S4)$ (Eliminación de indistinguibles II)\n",
    "- Para grafos con densidades de 10%, 50% y 90%, ¿hasta qué cantidad de vértices es posible resolver una instancia con las formulaciones dadas (por densidad) para un tiempo límite de 5 minutos? Concluya cuáles de las restricciones que eliminan simetrías conviene considerar."
   ]
  },
  {
   "cell_type": "markdown",
   "id": "ad053774",
   "metadata": {},
   "source": [
    "## 2. Power Dominating Set Problem\n",
    "\n",
    "En esta sección, seguiremos como caso de estudio un problema de optimización que proviene del monitoreo de redes eléctricas. Una red eléctrica se puede representar mediante un grafo, donde los vértices se corresponden con subestaciones eléctricas y las aristas con líneas de transmición. Existen unos aparatos, llamados phasor measurement units (PMUs), que permiten medir ciertas magnitudes, por ejemplo corrientes, sobre la red casi en tiempo real. Un PMU se instala en un vértice de la red y permite monitorear localmente la red, es decir, a la vecinidad cerrada del vértice y a las aristas que inciden en él. El alto costo de estos dispositivos motiva el problema de optimización de ubicar el menor número de PMUs de forma tal que todos los vértice estén monitoreados. Así descripto, se puede modelar como un problema de conjunto dominante (dominating set problem), donde un conjunto dominate $S$ representa el subconjunto de vértices donde se ubican los PMUs. \n",
    "\n",
    "\n",
    "Sin embargo, a partir de algunas leyes eléctricas, en particular las leyes de Kirchhoff, es posible inferir algunas mediciones sin monitorearlas directamente con un PMU. Por ejemplo, si un vértice $u$ está monitoreado y todos los vecinos de $u$, salvo un vértice $v \\in N(u)$, están monitoreados, entonces es posible medir de forma indirecta las corrientes en $v$, es decir, $v$ se vuelve monitoreado. En consecuencia, estas mediciones indirectas pueden reducir el número de PMUs necesarios para monitorear a toda la red. Esto da origen a una variación del problema de conjunto dominante, denominado *problema de conjunto dominante energético*, o más conocido en inglés, *power dominating set problem*. Formalicemos estas ideas.\n",
    "\n",
    "\n",
    "**Definición.** Dado un grafo $G=(V,E)$ y un subconjunto $S \\subset V$, $S$ es un **power dominating set** de $G$ si $S$ *monitorea* a todos los vértices de $G$. Las siguientes dos reglas, que se aplican iterativamente, determinan la si un vértice está monitoreado.\n",
    "* **Regla de dominación.** Un vértice está monitoreado si está en la vecinidad cerrada de un vértice de $S$.\n",
    "* **Regla de propagación.** Si un vértice $u$ está monitoreado y $v \\in N(u)$ es el único vecino de $u$ que aún no está monitoreado, entonces $v$ se vuelve monitoreado.\n",
    "\n",
    "Con esta definición, podemos formalizar nuestro problema de optimización.\n",
    "\n",
    "**Power Dominating Set Problem (PDS).**</br>\n",
    "**Entrada:** Un grafo $G$.</br>\n",
    "**Objetivo:** Hallar un power dominating set $S$ de $G$ de cardinal mínimo.\n",
    "\n",
    "**Notación.** Dado un grafo de $G$, $\\gamma(G)$ y $\\gamma_P(G)$ simbolizan el cardinal mínimo de un conjunto dominante y de un conjunto dominante energético de $G$, respectivamente.\n",
    "\n",
    "Es fácil ver que todo conjunto dominante $S$ de $G$ es también un conjunto dominante energético de $G$, debido a que $S$ domina (monitorea) todos los vértices del grafo únicamente aplicando reglas de dominación. En consecuencia, tenemos el sigueinte lema.\n",
    "\n",
    "**Lema.** Dado un grafo $G$, $\\gamma_P(G) \\leq \\gamma(G)$."
   ]
  },
  {
   "cell_type": "markdown",
   "id": "99b60bfc",
   "metadata": {},
   "source": [
    "**Ejemplo.** Consideremos el siguiente grafo $G$."
   ]
  },
  {
   "cell_type": "code",
   "execution_count": 1,
   "id": "04bb3aa7",
   "metadata": {},
   "outputs": [
    {
     "data": {
      "image/png": "[encoded data removed]",
      "text/plain": [
       "<Figure size 432x288 with 1 Axes>"
      ]
     },
     "metadata": {},
     "output_type": "display_data"
    }
   ],
   "source": [
    "import networkx as nx\n",
    "\n",
    "G = nx.Graph()\n",
    "G.add_edges_from([(0,1), (1,2), (2,3), (3,0), (0,4), (1,5), (2,6), (3,7)])\n",
    "\n",
    "coordenadas = {0: (2,1), 1: (1,2), 2: (2,3), 3: (3,2), 4: (2,0), 5: (0,2), 6: (2,4), 7: (4,2)}\n",
    "nx.draw_networkx(G, pos=coordenadas)"
   ]
  },
  {
   "cell_type": "markdown",
   "id": "723f8511",
   "metadata": {},
   "source": [
    "Intentemos encontrar un power dominating set para este grafo. Pensando de forma greedy, nos conviene agregar a $S$ un vértice con grado alto, pues nos permitirá monitorear por regla de dominación un mayor número de vecinos. Probemos $S = \\{0\\}$. Por regla de dominación, quedan monitoreados los vértices de $N[0] = \\{0,1,3,4\\}$. "
   ]
  },
  {
   "cell_type": "code",
   "execution_count": 2,
   "id": "58587bf7",
   "metadata": {},
   "outputs": [
    {
     "data": {
      "image/png": "[encoded data removed]",
      "text/plain": [
       "<Figure size 432x288 with 1 Axes>"
      ]
     },
     "metadata": {},
     "output_type": "display_data"
    }
   ],
   "source": [
    "colores = [\"red\" if v in [0,1,3,4] else \"blue\" for v in G]\n",
    "nx.draw_networkx(G, pos=coordenadas, node_color=colores)"
   ]
  },
  {
   "cell_type": "markdown",
   "id": "48de0ecd",
   "metadata": {},
   "source": [
    "En este punto no es posible seguir. No podemos aplicar reglas de propagación porque tanto el vértice 1 como el 3, tienen excactamente dos vecinos sin monitorear. \n",
    "Para poder seguir, tenemos que agregar otro vértice a $S$. Siguiendo con nuestro pensamiento greeedy, nos conviene agregar un vértice de grado alto en el subgrafo inducido por los vértices no monitoreados. \n",
    "Probemos agregar el vértice 2, es decir, $S = \\{0,2\\}$. Por regla de dominación, quedan monitoreados los vértices de $\\{2,6\\} \\subset N[2]$. "
   ]
  },
  {
   "cell_type": "code",
   "execution_count": 3,
   "id": "a0f1de90",
   "metadata": {},
   "outputs": [
    {
     "data": {
      "image/png": "[encoded data removed]",
      "text/plain": [
       "<Figure size 432x288 with 1 Axes>"
      ]
     },
     "metadata": {},
     "output_type": "display_data"
    }
   ],
   "source": [
    "colores = [\"red\" if v in [0,1,3,4,2,6] else \"blue\" for v in G]\n",
    "nx.draw_networkx(G, pos=coordenadas, node_color=colores)"
   ]
  },
  {
   "cell_type": "markdown",
   "id": "1c0c6478",
   "metadata": {},
   "source": [
    "Ahora bien, tanto el vértice 1 como el 3 están monitoreados y tienen exactamente un vecino sin monitorear. Luego por regla de propagación, 1 monitorea a 5 y 3 monitorea a 7, quedando monitoreado todo el grafo. Por lo tanto, $S = \\{0,2\\}$ es un power dominating set.\n",
    "\n",
    "### &#x1f4bb; Actividad 2\n",
    "\n",
    "1. Completar la demostración del ejemplo anterior. Probar que $S = \\{0,2\\}$ es un power dominating set de cardinal mínimo.\n",
    "2. Para cada uno de los siguientes grafos $H$, hallar $\\gamma(H)$ y $\\gamma_P(H)$: (i) Grafo completo $K_n$, con $n \\geq 1$, (ii) Grafo camino $P_n$, con $n \\geq 1$, (iii) Grafo cíclico $C_n$, con $n \\geq 3$. "
   ]
  },
  {
   "cell_type": "markdown",
   "id": "dcaf38ca",
   "metadata": {},
   "source": [
    "### Formulación de PLE para el PDS\n",
    "\n",
    "Usaremos la formulación de PLE propuesta por Brimkov, Mikesell y Smith (2019), https://doi.org/10.1007/s10878-019-00380-7 (sección 6.1).\n",
    "\n",
    "Esta formulación, incorpora una dimensión temporal para saber cuándo un vértice se empieza a monitorear (recordar que la aplicación de la regla de propagación involucra saber si un vértice está monitoreado o no en un instante de tiempo dado). Asumamos el tiempo discretizado por un conjunto $\\mathcal T = \\{0, \\ldots, T\\}$, con $T = |V|$. Volviendo al ejemplo de arriba, podemos pensar que los vértices de $S = \\{0,2\\}$ se monitorean en el instante de tiempo inicial $t = 0$. Luego, la vecindad de $S$, es decir $N(S) = \\{1,3,4,6\\}$, se monitorea por regla de dominación en el instante de tiempo $t = 1$. Finalmente, los vértices 5 y 7 se monitorean por regla de propagación en el instante de tiempo $t = 2$ (acá es importante notar, que 1 puede monitorear a 5 por regla de propagación porque él mismo y todos sus vecinos salvo 5 se monitorean en un instante de tiempo $t < 2$, y análogamente se justifica por qué 3 puede monitorear a 7).\n",
    "\n",
    "La formulación de PLE tiene tres tipos de variables:\n",
    "* Para todo vértice $v \\in V$, la variable binaria $s_v = 1$ si y sólo si $v \\in S$.\n",
    "* Para todo vértice $v \\in V$, la variable entera $x_v \\in \\mathcal T$ representa en el instante de tiempo en que $v$ es monitoreado.\n",
    "* Para toda arista dirigida $e = (u,v) \\in \\overrightarrow{E}$, la variable binaria $y_e = 1$ si $u$ monitorea a $v$ (por regla de dominación o propagación). Notar que necesitamos considerar ambas direcciones de la arista para saber en qué dirección se propaga el monitoreo.\n",
    "\n",
    "Volviendo al ejemplo de arriba, las variables podrían asumir los siguientes valores:\n",
    "* $s_0 = s_2 = 1$, las demás estan apagadas.\n",
    "* $x_0 = x_2 = 0$, $x_1 = x_3 = x_4 = x_6 = 1$, $x_5 = x_7 = 2$.\n",
    "* $y_{01} = y_{03} = y_{04} = y_{26} = y_{15} = y_{37} = 1$, las demás están apagadas. Notar que estos valores nos dicen que, en particular, los vértices 1 y 3 están monitoreados por 0, y no por 2, que también esté en condiciones de monitorearlos, pero esto está ok porque es suficiente con que cada vértice se monitoree exactamente una vez (de hecho, las restricciones del modelo lo forzarán)."
   ]
  },
  {
   "cell_type": "markdown",
   "id": "dbd4c3ff",
   "metadata": {},
   "source": [
    "Ya estamos en condiciones de presentar la formulación de PLE:\n",
    "\n",
    "\\begin{align*}\n",
    "& \\min \\sum_{v \\in V} s_v & \\\\\n",
    "\\text{s.a.}\\ \\ \\ & x_u + \\sum_{v \\in N(u)} y_{vu} = 1 & \\forall\\ v \\in V. \\tag{1}\\\\\n",
    "& x_u - x_v + (T+1)y_e \\leq T & \\forall\\ e = (u,v) \\in \\overrightarrow{E}. \\tag{2}\\\\\n",
    "& x_w - x_v + (T+1)y_e \\leq T + (T+1)s_u & \\forall\\ e = (u,v) \\in \\overrightarrow{E},\\ w \\in N(u) \\setminus \\{v\\}. \\tag{3}\\\\\n",
    "& x \\in \\mathcal T^{T},\\ y \\in \\{0,1\\}^{|V|},\\ s \\in \\{0,1\\}^{|V|}. \n",
    "\\end{align*}\n",
    "\n",
    "La función objetivo consiste en minimizar el cardinal de $S$. Las restricciones (1) fuerzan a que todo vértice $u$ cumpla exactamente una de las siguientes condiciones: $u \\in S$ o exactamente un vecino de $u$ lo monitorea. Las restricciones (2) obligan a que $x_u + 1 \\leq x_v$, es decir, que $v$ se monitoree en un instante de tiempo posterior al instante de tiempo en que se monitorea $u$, cuando $u$ monitorea a $v$ (por regla de dominación o propagación). Notar que estas restricciones no imponen restricción alguna cuando $y_{uv} = 0$ y en la literatura se las conoce como restricciones *big-M*. Las restricciones (3) obligan a que, para todo vecino $w$ de $u$ distinto de $v$, $x_w + 1 \\leq x_v$, es decir, que $v$ se monitoree en un instante de tiempo posterior al instante de tiempo en que se monitorea $w$, cuando $u \\notin S$ y $u$ monitorea a $v$ (por regla de propagación). Otra vez, estas restricciones no imponen restricción alguna cuando $y_{uv} = 0$ o $s_u = 1$."
   ]
  },
  {
   "cell_type": "markdown",
   "id": "29d68d9a",
   "metadata": {},
   "source": [
    "### Resolución con CPLEX\n",
    "\n",
    "A continuación, vamos a implementar funciones de Python que permitan resolver esta formulación con CPLEX. Para simplificar la implementación tendremos en cuenta dos puntos:\n",
    "\n",
    "* Las restricciones (3) dependen de las aristas dirigidas de $G$. Para escribirlas más fácil, será conveniente construir el digrafo $D$ asociado a $G$, es decir, con mismo conjunto de vértices y aristas en ambas direcciones para cada arista de $G$. Por suerte, <code>networkx</code> ya provee una función para hacer esto. Directamente llamaremos al método <code>to_directed</code> de la clase <code>Graph</code>.\n",
    "* Las variables $y$ están indexadas por aristas dirigidas, con lo cual surge la pregunta: ¿qué estructura usaremos para almacenarlas? Por ejemplo, si las guardamos en una lista de Python, dado que las listas se indexan por números naturales, necesitaremos un mapeo (función biyectiva) de números naturales a aristas dirgidas que nos diga en que índice de la lista está guardada la variable correspondiente. Esto puede ser un poco incómodo. Otra alternativa es guardar las variables $y$ en una matriz de dimensión $|V| \\times |V|$. Este enfoque tampoco es demasiado elegante, porque la matriz tendrá algunas entradas vacías, específicamente para todo par de vértices no adyacentes. Optaremos por una alternativa más comoda, guardando las variables $y$ en un diccionario de Python. La ventaja de este enfoque es que los dicciones se pueden indexar por pares ordenados, es decir, por aristas dirigidas. Nuestro diccionario tendrá la siguiente forma:\n",
    "$$\\{ (0,1): y_{01}, (0,3): y_{03}, \\ldots \\},$$\n",
    "es decir, un mapeo de aristas dirigidas a variables. En Python es posible construir un diccionario por comprensión, de una manera muy similar a la forma de construir listas por comprensión. Además, los diccionarios se indexan de la misma forma que la listas. Por ejemplo, siendo <code>Y</code> la variable de Python que almacena el diccionario, entonces <code>Y[(u,v)]</code> almacena la variable $y_{uv}$."
   ]
  },
  {
   "cell_type": "code",
   "execution_count": 4,
   "id": "c920fd3a",
   "metadata": {},
   "outputs": [],
   "source": [
    "from docplex.mp.model import Model\n",
    "\n",
    "def construir_modelo_PDSBrimkov(G):\n",
    "    \n",
    "    modelo = Model(name='PDS-Brimkov') # Inicializamos el modelo \n",
    "    \n",
    "    # Instantes de tiempo\n",
    "    T = G.number_of_nodes()\n",
    "    \n",
    "    # Digrafo (con aristas dirigidas) asociado a G\n",
    "    D = G.to_directed()\n",
    "    \n",
    "    # Variables\n",
    "    S = [modelo.binary_var(name='s_' + str(v)) for v in G]\n",
    "    X = [modelo.integer_var(0, T, name='x_' + str(v)) for v in G]\n",
    "    Y = {(u,v): modelo.binary_var(name='y_' + str(u) + '_' + str(v)) \n",
    "         for u,v in D.edges}\n",
    "\n",
    "    # Funcion objetivo\n",
    "    modelo.minimize(modelo.sum(S[v] for v in G))\n",
    "    \n",
    "    # Restricciones (1)\n",
    "    for u in G:\n",
    "        modelo.add_constraint(S[u] + modelo.sum(Y[(v,u)] for v in G.neighbors(u)) == 1)\n",
    "\n",
    "    # Restricciones (2)\n",
    "    for u, v in D.edges:\n",
    "        modelo.add_constraint(X[u] - X[v] + (T+1)*Y[(u,v)] <= T) \n",
    "\n",
    "    # Restricciones (3)\n",
    "    for u, v in D.edges:\n",
    "        for w in G.neighbors(u):\n",
    "            if w == v:\n",
    "                continue\n",
    "            modelo.add_constraint(X[w] - X[v] + (T+1)*Y[(u,v)] <= T + (T+1)*S[u])    \n",
    "\n",
    "    return modelo\n",
    "\n",
    "def resolver(modelo, log=True): # Por defecto, el log se muestra en pantalla\n",
    "    \n",
    "    # Resolvemos el modelo\n",
    "    sol = modelo.solve(log_output=log)\n",
    " \n",
    "    # Retornamos la solucion\n",
    "    return sol"
   ]
  },
  {
   "cell_type": "markdown",
   "id": "ed2b24f8",
   "metadata": {},
   "source": [
    "Probemos esta implementación en el grafo $G$ que venimos usando de ejemplo. A la hora de mostrar la solución, tener en cuenta que no aparecen las variables en 0. Es decir, no se muestran las variables $x$ asociadas a vértices que se observen en el instante de tiempo $t = 0$."
   ]
  },
  {
   "cell_type": "code",
   "execution_count": 5,
   "id": "70e73615",
   "metadata": {},
   "outputs": [
    {
     "name": "stdout",
     "output_type": "stream",
     "text": [
      "Version identifier: 22.1.1.0 | 2022-11-28 | 9160aff4d\n",
      "CPXPARAM_Read_DataCheck                          1\n",
      "Found incumbent of value 8.000000 after 0.00 sec. (0.00 ticks)\n",
      "Tried aggregator 2 times.\n",
      "Aggregator did 4 substitutions.\n",
      "Reduced MIP has 44 rows, 28 columns, and 160 nonzeros.\n",
      "Reduced MIP has 20 binaries, 8 generals, 0 SOSs, and 0 indicators.\n",
      "Presolve time = 0.00 sec. (0.12 ticks)\n",
      "Probing time = 0.00 sec. (0.02 ticks)\n",
      "Tried aggregator 1 time.\n",
      "Detecting symmetries...\n",
      "Reduced MIP has 44 rows, 28 columns, and 160 nonzeros.\n",
      "Reduced MIP has 20 binaries, 8 generals, 0 SOSs, and 0 indicators.\n",
      "Presolve time = 0.00 sec. (0.13 ticks)\n",
      "Probing time = 0.00 sec. (0.02 ticks)\n",
      "Clique table members: 12.\n",
      "MIP emphasis: balance optimality and feasibility.\n",
      "MIP search method: dynamic search.\n",
      "Parallel mode: deterministic, using up to 4 threads.\n",
      "Root relaxation solution time = 0.00 sec. (0.05 ticks)\n",
      "\n",
      "        Nodes                                         Cuts/\n",
      "   Node  Left     Objective  IInf  Best Integer    Best Bound    ItCnt     Gap\n",
      "\n",
      "*     0+    0                            8.0000        0.0000           100.00%\n",
      "*     0+    0                            4.0000        0.0000           100.00%\n",
      "      0     0        0.0000     8        4.0000        0.0000        8  100.00%\n",
      "*     0+    0                            2.0000        0.0000           100.00%\n",
      "      0     0        0.2222     4        2.0000      Cuts: 43       30   88.89%\n",
      "      0     0        cutoff              2.0000                     40    0.00%\n",
      "Elapsed time = 0.06 sec. (1.17 ticks, tree = 0.01 MB, solutions = 3)\n",
      "\n",
      "Clique cuts applied:  4\n",
      "Cover cuts applied:  8\n",
      "Implied bound cuts applied:  8\n",
      "Mixed integer rounding cuts applied:  1\n",
      "Zero-half cuts applied:  2\n",
      "\n",
      "Root node processing (before b&c):\n",
      "  Real time             =    0.07 sec. (1.17 ticks)\n",
      "Parallel b&c, 4 threads:\n",
      "  Real time             =    0.00 sec. (0.00 ticks)\n",
      "  Sync time (average)   =    0.00 sec.\n",
      "  Wait time (average)   =    0.00 sec.\n",
      "                          ------------\n",
      "Total (root+branch&cut) =    0.07 sec. (1.17 ticks)\n",
      "solution for: PDS-Brimkov\n",
      "objective: 2\n",
      "status: OPTIMAL_SOLUTION(2)\n",
      "s_1 = 1\n",
      "s_3 = 1\n",
      "x_0 = 1\n",
      "x_2 = 1\n",
      "x_4 = 2\n",
      "x_5 = 1\n",
      "x_6 = 2\n",
      "x_7 = 1\n",
      "y_0_4 = 1\n",
      "y_1_0 = 1\n",
      "y_1_2 = 1\n",
      "y_1_5 = 1\n",
      "y_2_6 = 1\n",
      "y_3_7 = 1\n"
     ]
    }
   ],
   "source": [
    "modelo = construir_modelo_PDSBrimkov(G)\n",
    "sol = resolver(modelo)\n",
    "sol.display()"
   ]
  },
  {
   "cell_type": "markdown",
   "id": "29837b39",
   "metadata": {},
   "source": [
    "## 3. Cotas primales\n",
    "\n",
    "En esta sección aprenderemos a proveerle a CPLEX cotas primales. \n",
    "\n",
    "Seguiremos el caso de estudio del PDS. Un cota primal sencilla para este problema se deriva del lema que vimos más arriba: $\\gamma_P(G) \\leq \\gamma(G)$. Luego, podemos complementar nuestras implementaciones con el siguiente preprocesamiento: buscar un conjunto dominante de cardinal mínimo y proveerle esta información a CPLEX. \n",
    "\n",
    "Para buscar un conjunto dominante de cardinal mínimo podemos usar un algoritmo específico o usar CPLEX para resolver una formulación de PLE para este problema. No obstante, no hay que olvidar que este problema es NP-difícil en grafos generales, por lo que no podemos esperar resolver cualquier instancia en un tiempo razonable.\n",
    "\n",
    "Sin embargo, a los fines de derivar una cota primal, nos basta con hallar cualquier conjunto dominante, no necesariamente mínimo, pero idealmente minimal (obviamente su cardinal será mayor o igual a $\\gamma(G)$). Hallar un conjunto dominante es un problema mucho más fácil que hallar uno de cardinal mínimo. Un algoritmo intuitivo para resolverlo consiste en seguir una estrategia greedy, es decir, empezando con un conjunto vacío $D = \\emptyset$, en cada iteración agregamos a $D$ el vértice que permita dominar el mayor número de vértices no dominados. \n",
    "\n",
    "Para no complicarnos, usaremos la función <code>dominating_set</code> provista por <code>networkx</code>. Vale la pena volver a aclarar que esta función nos devuelve un conjunto dominante minimal, no necesariamente mínimo.\n",
    "\n",
    "CPLEX dispone de dos mecanismos para pasar esta clase de cotas primales:\n",
    "1. **Cutoff.** Consiste en darle el cardinal del conjunto dominante como una cota superior. Así CPLEX puede usar esta cota para podar nodos desde el arranque.\n",
    "2. **MIP start.**  Consiste en darle el conjunto dominante en términos de las variables del modelo. Es decir, un valor númerico asociado a cada variable. En este caso, además de usar su valor objetivo como una cota superior, CPLEX también puede usar el valor de las variables para intentar encontrar mejores soluciones factibles (con sus propias heurística de refinación de soluciones factibles).\n",
    "\n",
    "Obviamente el primer mecanismo es más rápido de implementar, pero no explota por completo el gran potencial de CPLEX. Por el contrario, el segundo mecanismo es mucho más recomendable, pero requiere poder traducir, en este caso, un conjunto dominante, en términos de las variables $s$, $x$ e $y$. Esta traducción mucha veces no es trivial.\n",
    "\n",
    "Antes de seguir, vamos a volver a hablar de la artillería de CPLEX. Como ya mencionamos en el notebook anterior, CPLEX es un solver muy potente y dispone de heurísticas propias para hallar soluciones factibles. Para evitar que estos mecanismos propios del solver generen ruido en nuestros experimentos, procederemos a apagarlos."
   ]
  },
  {
   "cell_type": "code",
   "execution_count": 6,
   "id": "eed901d3",
   "metadata": {},
   "outputs": [],
   "source": [
    "def apagar_artilleria(modelo):\n",
    "    # Apagamos las heurísticas de CPLEX\n",
    "    modelo.parameters.mip.strategy.heuristiceffort = 0\n",
    "    # Modo determinista: Siempre que ejecutemos una misma entrada, CPLEX tomará las mismas decisiones\n",
    "    # Esto nos permite volver a reproducir un experimiento y que los resultados no cambien demasiado\n",
    "    modelo.parameters.parallel = 1"
   ]
  },
  {
   "cell_type": "markdown",
   "id": "bda06374",
   "metadata": {},
   "source": [
    "### Cutoff\n",
    "\n",
    "A continuación, mostraremos cómo usar el mecanismo de cutoff. Haremos uso del parámetro <code>uppercutoff</code> de CPLEX y setearemos su valor con el cardinal del conjunto dominante hallado por <code>dominating_set</code>."
   ]
  },
  {
   "cell_type": "code",
   "execution_count": 7,
   "id": "5d199fc8",
   "metadata": {},
   "outputs": [
    {
     "name": "stdout",
     "output_type": "stream",
     "text": [
      "Version identifier: 22.1.1.0 | 2022-11-28 | 9160aff4d\n",
      "CPXPARAM_Read_DataCheck                          1\n",
      "CPXPARAM_Parallel                                1\n",
      "CPXPARAM_MIP_Tolerances_UpperCutoff              5\n",
      "CPXPARAM_MIP_Strategy_HeuristicEffort            0\n",
      "Tried aggregator 1 time.\n",
      "Reduced MIP has 1714 rows, 216 columns, and 6796 nonzeros.\n",
      "Reduced MIP has 196 binaries, 20 generals, 0 SOSs, and 0 indicators.\n",
      "Presolve time = 0.01 sec. (2.62 ticks)\n",
      "Probing time = 0.00 sec. (2.42 ticks)\n",
      "Tried aggregator 1 time.\n",
      "Detecting symmetries...\n",
      "Reduced MIP has 1714 rows, 216 columns, and 6796 nonzeros.\n",
      "Reduced MIP has 196 binaries, 20 generals, 0 SOSs, and 0 indicators.\n",
      "Presolve time = 0.01 sec. (3.31 ticks)\n",
      "Probing time = 0.00 sec. (2.46 ticks)\n",
      "Clique table members: 108.\n",
      "MIP emphasis: balance optimality and feasibility.\n",
      "MIP search method: dynamic search.\n",
      "Parallel mode: deterministic, using up to 4 threads.\n",
      "Root relaxation solution time = 0.01 sec. (2.56 ticks)\n",
      "\n",
      "        Nodes                                         Cuts/\n",
      "   Node  Left     Objective  IInf  Best Integer    Best Bound    ItCnt     Gap\n",
      "\n",
      "      0     0        0.0000    40                      0.0000       20         \n",
      "      0     0        0.0000    52                    Cuts: 93       88         \n",
      "      0     0        0.0000    39                    Cuts: 48      134         \n",
      "      0     0        0.0000    64                    Cuts: 89      187         \n",
      "Detecting symmetries...\n",
      "      0     2        0.0000    46                      0.0000      187         \n",
      "Elapsed time = 0.26 sec. (90.25 ticks, tree = 0.02 MB, solutions = 0)\n",
      "*   214   149      integral     0        4.0000        0.0000      965  100.00%\n",
      "*   290   208      integral     0        3.0000        0.0000     1418  100.00%\n",
      "*   670   361      integral     0        2.0000        0.0000     3284  100.00%\n",
      "   1972  1036        1.0000    33        2.0000        0.0000     8410  100.00%\n",
      "\n",
      "Performing restart 1\n",
      "\n",
      "Repeating presolve.\n",
      "Tried aggregator 1 time.\n",
      "Reduced MIP has 1714 rows, 216 columns, and 6796 nonzeros.\n",
      "Reduced MIP has 196 binaries, 20 generals, 0 SOSs, and 0 indicators.\n",
      "Presolve time = 0.01 sec. (2.69 ticks)\n",
      "Tried aggregator 1 time.\n",
      "Reduced MIP has 1714 rows, 216 columns, and 6796 nonzeros.\n",
      "Reduced MIP has 196 binaries, 20 generals, 0 SOSs, and 0 indicators.\n",
      "Presolve time = 0.01 sec. (3.44 ticks)\n",
      "Represolve time = 0.03 sec. (9.87 ticks)\n",
      "   2688     0        0.0000    47        2.0000     Cuts: 107    11860  100.00%\n",
      "   2688     0        0.0000    57        2.0000     Cuts: 186    11919  100.00%\n",
      "   2688     0        0.0000    36        2.0000      Cuts: 23    11941  100.00%\n",
      "   2688     0        0.0000    58        2.0000     Cuts: 178    11996  100.00%\n",
      "   2688     0        0.0000    44        2.0000      Cuts: 38    12030  100.00%\n",
      "   2688     0        0.0000    85        2.0000     Cuts: 151    12092  100.00%\n",
      "   2688     0        0.0000    44        2.0000      Cuts: 33    12121  100.00%\n",
      "   2688     0        0.0000    67        2.0000     Cuts: 160    12175  100.00%\n",
      "   2688     2        0.0000    35        2.0000        0.0000    12175  100.00%\n",
      "   3203   265        1.0000    31        2.0000        0.0000    14317  100.00%\n",
      "   4252   811        0.0000    33        2.0000        0.0000    20311  100.00%\n",
      "   5831  1547        1.0000    32        2.0000        0.0000    26055  100.00%\n",
      "   6879  2194    infeasible              2.0000        0.0000    32690  100.00%\n",
      "   8110  2722        1.0000    25        2.0000        0.0000    38395  100.00%\n",
      "   9366  3353        0.2381    28        2.0000        0.0000    42865  100.00%\n",
      "  10871  4051        cutoff              2.0000        0.0000    48475  100.00%\n",
      "* 14610  5637      integral     0        1.0000        0.0000    63096  100.00%\n",
      "  16404   375    infeasible              1.0000        0.0000    69513  100.00%\n",
      "Elapsed time = 7.50 sec. (3379.00 ticks, tree = 0.42 MB, solutions = 4)\n",
      "  21483  1145        0.0000    62        1.0000        0.0000    91805  100.00%\n",
      "  27532  1940    infeasible              1.0000        0.0000   118661  100.00%\n",
      "\n",
      "Performing restart 2\n",
      "\n",
      "Repeating presolve.\n",
      "Tried aggregator 1 time.\n",
      "MIP Presolve eliminated 0 rows and 20 columns.\n",
      "MIP Presolve modified 6096 coefficients.\n",
      "Reduced MIP has 1714 rows, 196 columns, and 7401 nonzeros.\n",
      "Reduced MIP has 176 binaries, 20 generals, 0 SOSs, and 0 indicators.\n",
      "Presolve time = 0.02 sec. (8.30 ticks)\n",
      "Tried aggregator 1 time.\n",
      "MIP Presolve modified 2902 coefficients.\n",
      "Reduced MIP has 1714 rows, 196 columns, and 7036 nonzeros.\n",
      "Reduced MIP has 176 binaries, 20 generals, 0 SOSs, and 0 indicators.\n",
      "Presolve time = 0.02 sec. (6.96 ticks)\n",
      "Represolve time = 0.08 sec. (25.65 ticks)\n",
      "  27574     0        0.0000    47        1.0000      Cuts: 34   124154  100.00%\n",
      "  27574     0        0.0000    49        1.0000      Cuts: 72   124212  100.00%\n",
      "  27574     0        0.0000    69        1.0000     Cuts: 159   124281  100.00%\n",
      "  27574     0        0.0000    58        1.0000      Cuts: 46   124327  100.00%\n",
      "  27574     0        0.0000    74        1.0000     Cuts: 198   124382  100.00%\n",
      "  27574     0        0.0000    66        1.0000      Cuts: 62   124440  100.00%\n",
      "  27574     0        0.0000    84        1.0000     Cuts: 201   124508  100.00%\n",
      "  27574     0        0.0000    38        1.0000      Cuts: 66   124565  100.00%\n",
      "  27574     0        0.0000    88        1.0000     Cuts: 290   124702  100.00%\n",
      "\n",
      "Repeating presolve.\n",
      "Tried aggregator 1 time.\n",
      "MIP Presolve eliminated 16 rows and 6 columns.\n",
      "MIP Presolve modified 4119 coefficients.\n",
      "Reduced MIP has 1698 rows, 190 columns, and 8319 nonzeros.\n",
      "Reduced MIP has 170 binaries, 20 generals, 0 SOSs, and 0 indicators.\n",
      "Presolve time = 0.02 sec. (8.80 ticks)\n",
      "Tried aggregator 1 time.\n",
      "MIP Presolve eliminated 4 rows and 0 columns.\n",
      "MIP Presolve modified 3614 coefficients.\n",
      "Reduced MIP has 1694 rows, 190 columns, and 8199 nonzeros.\n",
      "Reduced MIP has 170 binaries, 20 generals, 0 SOSs, and 0 indicators.\n",
      "Presolve time = 0.03 sec. (7.85 ticks)\n",
      "Represolve time = 0.09 sec. (30.85 ticks)\n",
      "  27574     0        0.0000    70        1.0000     Cuts: 386   124820  100.00%\n",
      "  27574     0        0.0000    38        1.0000      Cuts: 39   124867  100.00%\n",
      "  27574     0        0.0000    60        1.0000     Cuts: 213   124938  100.00%\n",
      "  27574     0        0.0000    45        1.0000      Cuts: 58   124995  100.00%\n",
      "  27574     0        0.0000    95        1.0000     Cuts: 307   125076  100.00%\n",
      "  27574     0        0.0000    61        1.0000      Cuts: 62   125133  100.00%\n",
      "  27574     0        0.0000    77        1.0000     Cuts: 232   125199  100.00%\n",
      "  27574     0        0.0000    42        1.0000      Cuts: 17   125227  100.00%\n",
      "  27574     0        0.0000    65        1.0000     Cuts: 213   125300  100.00%\n",
      "  27574     0        0.0000    49        1.0000      Cuts: 91   125346  100.00%\n",
      "  27574     0        0.0000    78        1.0000     Cuts: 295   125424  100.00%\n",
      "  27574     2        0.0000    36        1.0000        0.0000   125424  100.00%\n",
      "\n",
      "Clique cuts applied:  48\n",
      "Cover cuts applied:  5\n",
      "Implied bound cuts applied:  2\n",
      "Mixed integer rounding cuts applied:  37\n",
      "Zero-half cuts applied:  18\n",
      "Gomory fractional cuts applied:  2\n",
      "\n",
      "Root node processing (before b&c):\n",
      "  Real time             =    0.25 sec. (89.60 ticks)\n",
      "Parallel b&c, 4 threads:\n",
      "  Real time             =   15.01 sec. (7102.94 ticks)\n",
      "  Sync time (average)   =    2.04 sec.\n",
      "  Wait time (average)   =    0.02 sec.\n",
      "                          ------------\n",
      "Total (root+branch&cut) =   15.26 sec. (7192.54 ticks)\n"
     ]
    }
   ],
   "source": [
    "# Trabajamos con un grafo aleatorio\n",
    "G = nx.erdos_renyi_graph(20, 0.5, seed=0)\n",
    "\n",
    "# Construimos el modelo\n",
    "modelo = construir_modelo_PDSBrimkov(G)\n",
    "apagar_artilleria(modelo) # Apagamos las heurísticas de CPLEX\n",
    "\n",
    "# Buscamos un conjunto dominante\n",
    "D = nx.dominating_set(G)\n",
    "\n",
    "# Seteamos el parámetro uppercutoff\n",
    "modelo.parameters.mip.tolerances.uppercutoff(len(D))\n",
    "\n",
    "# Resolvemos el modelo\n",
    "sol = resolver(modelo)"
   ]
  },
  {
   "cell_type": "markdown",
   "id": "84b7267e",
   "metadata": {},
   "source": [
    "Notar que al comienzo del log de CPLEX se muestran los valores de los parámetros a los cuales le cambiamos el valor. En particular, se muestra: </br>\n",
    "<code>CPXPARAM_MIP_Tolerances_UpperCutoff              5</code></br>\n",
    "que significa que el conjunto dominante encontrado tiene cardinal 5.\n",
    "\n",
    "Para problemas de maximización, existe el parámetro <code>lowercutoff</code> de CPLEX."
   ]
  },
  {
   "cell_type": "markdown",
   "id": "7e29aa1d",
   "metadata": {},
   "source": [
    "### MIP start\n",
    "\n",
    "La traducción de un conjunto dominante $D$ a las variables $s$ es sencilla. Simplemente, para todo vértice $v \\in V$, $s_v = 1 \\Leftrightarrow v \\in D $. Lo que es un poco más complicado es encontrar valores para las variables restantes, $x$ e $y$. \n",
    "\n",
    "Es posible diseñar nuestro propio algoritmo que se ocupe de elegir valores para las variables $x$ e $y$ (no debería ser tan complicado). Sin embargo, nos aprovecharemos otra vez de la potencia de CPLEX para simplificar el trabajo. En particular, CPLEX no necesita una solución completa, podemos darle lo que tenemos y delegarle la tarea de encontrar valores para las variables restantes. Obviamente puede ocurrir que CPLEX no sea capaz de completarla, y en esos casos será necesario completarla por nuestros medios. \n",
    "\n",
    "Comenzamos definiendo la función <code>setear_mipstart</code> que toma un modelo de PLE, un grafo $G$ y un conjunto dominante $D$, y se ocupa de construir una solución parcial a partir de $D$ y agregarla al modelo. "
   ]
  },
  {
   "cell_type": "code",
   "execution_count": 8,
   "id": "900855e4",
   "metadata": {},
   "outputs": [],
   "source": [
    "def setear_mipstart(modelo, G, D):\n",
    "    \n",
    "    # Iniciamos una solución vacía\n",
    "    sol = modelo.new_solution()\n",
    "    \n",
    "    # Recuperamos las variables s del modelo\n",
    "    S = [modelo.get_var_by_name(\"s_\" + str(v)) for v in G]\n",
    "    \n",
    "    # Agregamos valor a las variables\n",
    "    for v in G:\n",
    "        if v in D:\n",
    "            sol.add_var_value(S[v], 1)\n",
    "        else:\n",
    "            sol.add_var_value(S[v], 0)\n",
    " \n",
    "    # Agregamos la solución al modelo\n",
    "    modelo.add_mip_start(sol)"
   ]
  },
  {
   "cell_type": "markdown",
   "id": "4a2369e2",
   "metadata": {},
   "source": [
    "Ahora si ya podemos resolver el modelo."
   ]
  },
  {
   "cell_type": "code",
   "execution_count": 9,
   "id": "1fc821e1",
   "metadata": {},
   "outputs": [
    {
     "name": "stdout",
     "output_type": "stream",
     "text": [
      "Version identifier: 22.1.1.0 | 2022-11-28 | 9160aff4d\n",
      "CPXPARAM_Read_DataCheck                          1\n",
      "CPXPARAM_Parallel                                1\n",
      "CPXPARAM_MIP_Strategy_HeuristicEffort            0\n",
      "1 of 1 MIP starts provided solutions.\n",
      "MIP start 'm1' defined initial solution with objective 5.0000.\n",
      "Tried aggregator 1 time.\n",
      "Reduced MIP has 1714 rows, 216 columns, and 6796 nonzeros.\n",
      "Reduced MIP has 196 binaries, 20 generals, 0 SOSs, and 0 indicators.\n",
      "Presolve time = 0.01 sec. (2.62 ticks)\n",
      "Probing time = 0.01 sec. (2.42 ticks)\n",
      "Tried aggregator 1 time.\n",
      "Detecting symmetries...\n",
      "Reduced MIP has 1714 rows, 216 columns, and 6796 nonzeros.\n",
      "Reduced MIP has 196 binaries, 20 generals, 0 SOSs, and 0 indicators.\n",
      "Presolve time = 0.02 sec. (3.31 ticks)\n",
      "Probing time = 0.01 sec. (2.46 ticks)\n",
      "Clique table members: 108.\n",
      "MIP emphasis: balance optimality and feasibility.\n",
      "MIP search method: dynamic search.\n",
      "Parallel mode: deterministic, using up to 4 threads.\n",
      "Root relaxation solution time = 0.01 sec. (2.56 ticks)\n",
      "\n",
      "        Nodes                                         Cuts/\n",
      "   Node  Left     Objective  IInf  Best Integer    Best Bound    ItCnt     Gap\n",
      "\n",
      "*     0+    0                            5.0000        0.0000           100.00%\n",
      "      0     0        0.0000    40        5.0000        0.0000       20  100.00%\n",
      "      0     0        0.0000    52        5.0000      Cuts: 91       88  100.00%\n",
      "      0     0        0.0000    39        5.0000      Cuts: 48      134  100.00%\n",
      "      0     0        0.0000    64        5.0000      Cuts: 85      187  100.00%\n",
      "Detecting symmetries...\n",
      "      0     2        0.0000    46        5.0000        0.0000      187  100.00%\n",
      "Elapsed time = 0.24 sec. (99.08 ticks, tree = 0.02 MB, solutions = 1)\n",
      "*   214   149      integral     0        4.0000        0.0000      965  100.00%\n",
      "*   293   207      integral     0        3.0000        0.0000     1422  100.00%\n",
      "*  1497   878      integral     0        2.0000        0.0000     5095  100.00%\n",
      "   2213   836        0.1905    37        2.0000        0.0000     7900  100.00%\n",
      "\n",
      "Performing restart 1\n",
      "\n",
      "Repeating presolve.\n",
      "Tried aggregator 1 time.\n",
      "Reduced MIP has 1714 rows, 216 columns, and 6796 nonzeros.\n",
      "Reduced MIP has 196 binaries, 20 generals, 0 SOSs, and 0 indicators.\n",
      "Presolve time = 0.02 sec. (2.69 ticks)\n",
      "Tried aggregator 1 time.\n",
      "Reduced MIP has 1714 rows, 216 columns, and 6796 nonzeros.\n",
      "Reduced MIP has 196 binaries, 20 generals, 0 SOSs, and 0 indicators.\n",
      "Presolve time = 0.02 sec. (3.44 ticks)\n",
      "Represolve time = 0.05 sec. (9.93 ticks)\n",
      "   2765     0        0.0000    65        2.0000     Cuts: 125    10374  100.00%\n",
      "   2765     0        0.0000    38        2.0000      Cuts: 22    10389  100.00%\n",
      "   2765     0        0.0000    44        2.0000     Cuts: 143    10441  100.00%\n",
      "   2765     0        0.0000    51        2.0000     Cuts: 160    10490  100.00%\n",
      "   2765     0        0.0000    45        2.0000      Cuts: 24    10521  100.00%\n",
      "   2765     0        0.0000    74        2.0000     Cuts: 165    10585  100.00%\n",
      "   2765     2        0.0000    34        2.0000        0.0000    10585  100.00%\n",
      "   3137   222        0.0000    41        2.0000        0.0000    12801  100.00%\n",
      "   4235   749        0.0000    38        2.0000        0.0000    17134  100.00%\n",
      "   5346  1349    infeasible              2.0000        0.0000    22155  100.00%\n",
      "   6789  2004        1.0000    18        2.0000        0.0000    27759  100.00%\n",
      "   8131  2741    infeasible              2.0000        0.0000    33281  100.00%\n",
      "   9350  3418        1.0000    47        2.0000        0.0000    39701  100.00%\n",
      "*  9394  3608      integral     0        1.0000        0.0000    42343  100.00%\n",
      "  10422   632        0.0000    53        1.0000        0.0000    45989  100.00%\n",
      "  14230   770        0.0000    61        1.0000        0.0000    72439  100.00%\n",
      "Elapsed time = 7.15 sec. (3292.96 ticks, tree = 0.42 MB, solutions = 5)\n",
      "  19350   142    infeasible              1.0000        0.0000    91937  100.00%\n",
      "\n",
      "Clique cuts applied:  3\n",
      "Cover cuts applied:  56\n",
      "Implied bound cuts applied:  6\n",
      "Mixed integer rounding cuts applied:  60\n",
      "Zero-half cuts applied:  18\n",
      "Gomory fractional cuts applied:  2\n",
      "\n",
      "Root node processing (before b&c):\n",
      "  Real time             =    0.24 sec. (98.45 ticks)\n",
      "Parallel b&c, 4 threads:\n",
      "  Real time             =    9.62 sec. (4279.72 ticks)\n",
      "  Sync time (average)   =    1.49 sec.\n",
      "  Wait time (average)   =    0.02 sec.\n",
      "                          ------------\n",
      "Total (root+branch&cut) =    9.86 sec. (4378.17 ticks)\n"
     ]
    }
   ],
   "source": [
    "# Trabajamos con un grafo aleatorio\n",
    "G = nx.erdos_renyi_graph(20, 0.5, seed=0)\n",
    "\n",
    "# Construimos el modelo\n",
    "modelo = construir_modelo_PDSBrimkov(G)\n",
    "apagar_artilleria(modelo) # Apagamos las heurísticas de CPLEX\n",
    "\n",
    "# Buscamos un conjunto dominante\n",
    "D = nx.dominating_set(G)\n",
    "\n",
    "# Agragamos una solución factible con MIP start\n",
    "setear_mipstart(modelo, G, D)\n",
    "\n",
    "# Resolvemos el modelo\n",
    "sol = resolver(modelo)"
   ]
  },
  {
   "cell_type": "markdown",
   "id": "56a4a61f",
   "metadata": {},
   "source": [
    "Observar que el log de CPLEX muestra la siguiente información.</br>\n",
    "<code>1 of 1 MIP starts provided solutions.</code></br>\n",
    "<code>MIP start 'm1' defined initial solution with objective 5.0000.</code></br>\n",
    "Esto quiere decir que CPLEX pudo completar la solución parcial y la solución factible construida tiene valor objetivo igual a 5.\n",
    "\n",
    "Como dato de color, también se le puede pasar a CPLEX mediante MIP start una solución infactible, y el mismo solver intentará reparar los conflictos."
   ]
  },
  {
   "cell_type": "markdown",
   "id": "aac35b3f",
   "metadata": {},
   "source": [
    "## 4. Efectividad de cotas primales\n",
    "\n",
    "Hagamos algunas pruebas computacionales sencillas para visualizar la efectividad de las cotas primales. Vamos a comparar el tiempo de ejecución de CPLEX sobre la formulación de Brimkov sin darle vs. al darle una solución inicial. Usaremos como entrada un grafo aleatorio. En ambos casos apagaremos la artillería de CPLEX vinculada a sus heurísticas.\n",
    "\n",
    "En primer lugar, definiremos funciones que realicen las instrucciones que fuimos mostrando en este notebook."
   ]
  },
  {
   "cell_type": "code",
   "execution_count": 10,
   "id": "ec560191",
   "metadata": {},
   "outputs": [],
   "source": [
    "def prueba_sin_solucion_inicial(G):\n",
    "    modelo = construir_modelo_PDSBrimkov(G)\n",
    "    apagar_artilleria(modelo)\n",
    "    sol = resolver(modelo, log=False) # Apagamos el log por pantalla para que no moleste\n",
    "    print(\"Prueba 1 (sin solución inicial):\")\n",
    "    print(\"\\tTiempo:\", sol.solve_details.time, \"s\")\n",
    "    print(\"\\tValor objetivo:\", modelo.objective_value)"
   ]
  },
  {
   "cell_type": "code",
   "execution_count": 11,
   "id": "19faff98",
   "metadata": {},
   "outputs": [],
   "source": [
    "def prueba_con_solucion_inicial(G):\n",
    "    modelo = construir_modelo_PDSBrimkov(G)\n",
    "    apagar_artilleria(modelo)\n",
    "    D = nx.dominating_set(G)\n",
    "    setear_mipstart(modelo, G, D)\n",
    "    sol = resolver(modelo, log=False) # Apagamos el log por pantalla para que no moleste\n",
    "    print(\"Prueba 2 (con conjunto dominante como solución inicial):\")\n",
    "    print(\"\\tTiempo:\", sol.solve_details.time, \"s\")\n",
    "    print(\"\\tValor objetivo:\", modelo.objective_value)\n",
    "    print(\"\\tCota primal:\", len(D))"
   ]
  },
  {
   "cell_type": "markdown",
   "id": "d8f0ab0f",
   "metadata": {},
   "source": [
    "Ahora construimos un grafo aleatorio de entrada y le aplicamos las dos funciones que definimos arriba."
   ]
  },
  {
   "cell_type": "code",
   "execution_count": 12,
   "id": "cf942333",
   "metadata": {},
   "outputs": [
    {
     "name": "stdout",
     "output_type": "stream",
     "text": [
      "Prueba 1 (sin solución inicial):\n",
      "\tTiempo: 11.30696415901184 s\n",
      "\tValor objetivo: 1.0\n",
      "Prueba 2 (con conjunto dominante como solución inicial):\n",
      "\tTiempo: 7.898794889450073 s\n",
      "\tValor objetivo: 1.0\n",
      "\tCota primal: 5\n"
     ]
    }
   ],
   "source": [
    "G = nx.erdos_renyi_graph(20, 0.5, seed=0)\n",
    "prueba_sin_solucion_inicial(G)\n",
    "prueba_con_solucion_inicial(G)"
   ]
  },
  {
   "cell_type": "markdown",
   "id": "0c0815d2",
   "metadata": {},
   "source": [
    "### &#x1f4bb; Actividad 4\n",
    "\n",
    "* ¿Observa alguna diferencia en los tiempos que obtuvo en la celda anterior?\n",
    "* ¿Qué pasa si aumenta/reduce la densidad? \n",
    "* ¿Por qué le parece que ocurre esto? Puede revisar los logs e investigar cuáles pueden ser las causas (use <code>log=True</code> como argumento para la función <code>resolver</code>)."
   ]
  },
  {
   "cell_type": "markdown",
   "id": "c50decb9",
   "metadata": {},
   "source": [
    "## 5. Ajuste de cotas primales\n",
    "\n",
    "Es evidente que mientras más ajustada sea la cota primal, es de esperar que el solver pueda podar nodos con mayor agresividad y que los tiempos de ejecución bajen.\n",
    "\n",
    "Para el caso del PDS, la cota primal provista por un conjunto dominante puede ser bastante mala (recordar el caso del grafo camino o grafo ciclo en la Actividad 2). Por lo tanto, tiene sentido intentar mejorar esta cota.\n",
    "\n",
    "Ya sabemos que todo conjunto dominante minimal $D$ de un grafo $G$ es un conjunto dominante energético de $G$. Pero nada nos garantiza que $D$ sea un conjunto dominante energético minimal. Por lo tanto, podemos ajustar la cota primal minimalizando a $D$.\n",
    "\n",
    "Para ello, vamos a necesitar una función que, dado un conjunto de vértices $D$, determine si $D$ es un conjunto dominante energético. La idea de esta función es la siguiente.\n",
    "1. Inicializar el conjunto de vértices monitoreados $M$ como un conjuntop vacío.\n",
    "2. Agregar $v$ a $M$, para todo vértice $v$ perteneciente a la vecindad cerrada de un vértice de $D$.\n",
    "3. Recorrer todos los vértices monitoreados. Si uno de ellos tiene exáctamente un vecino $v$ sin monitorear, entonces agregar $v$ a $M$.\n",
    "4. Si $M$ no cambió tras el paso anterior, nos detenemos y retornamos $True$ si y sólo si $M$ tiene a todos los vértices del grafo."
   ]
  },
  {
   "cell_type": "code",
   "execution_count": 13,
   "id": "9d628762",
   "metadata": {},
   "outputs": [],
   "source": [
    "def es_power_dominating_set(G, D):\n",
    "    # Paso 1\n",
    "    M = set()\n",
    "    # Paso 2\n",
    "    for v in D:\n",
    "        M.add(v)\n",
    "        for u in G.neighbors(v):\n",
    "            M.add(u)\n",
    "    # Paso 3\n",
    "    while True:\n",
    "        propagados = set() # Vértices monitoreados por propagación en la iteración actual\n",
    "        for v in M:\n",
    "            A = set(G.neighbors(v)).difference(M) # Conjunto de vecinos no monitoreados de v\n",
    "            if len(A) == 1:\n",
    "                [u] = A # extraemos el único elemento del conjunto A\n",
    "                propagados.add(u)\n",
    "        # Paso 4\n",
    "        if not propagados: # propagados está vacío\n",
    "            return len(M) == G.number_of_nodes()\n",
    "        else:\n",
    "            for v in propagados:\n",
    "                M.add(v)"
   ]
  },
  {
   "cell_type": "markdown",
   "id": "2712ff68",
   "metadata": {},
   "source": [
    "Probemos nuestra función con el grafo de los primeros ejemplos."
   ]
  },
  {
   "cell_type": "code",
   "execution_count": 14,
   "id": "b1cdf595",
   "metadata": {},
   "outputs": [
    {
     "data": {
      "image/png": "[encoded data removed]",
      "text/plain": [
       "<Figure size 432x288 with 1 Axes>"
      ]
     },
     "metadata": {},
     "output_type": "display_data"
    }
   ],
   "source": [
    "G = nx.Graph()\n",
    "G.add_edges_from([(0,1), (1,2), (2,3), (3,0), (0,4), (1,5), (2,6), (3,7)])\n",
    "\n",
    "coordenadas = {0: (2,1), 1: (1,2), 2: (2,3), 3: (3,2), 4: (2,0), 5: (0,2), 6: (2,4), 7: (4,2)}\n",
    "nx.draw_networkx(G, pos=coordenadas)"
   ]
  },
  {
   "cell_type": "code",
   "execution_count": 15,
   "id": "d94ebf40",
   "metadata": {},
   "outputs": [],
   "source": [
    "assert not es_power_dominating_set(G, set([1]))\n",
    "assert not es_power_dominating_set(G, set([7]))\n",
    "assert not es_power_dominating_set(G, set([4,6]))\n",
    "assert es_power_dominating_set(G, set([0,2]))\n",
    "assert es_power_dominating_set(G, set([4,5,6,7]))"
   ]
  },
  {
   "cell_type": "markdown",
   "id": "387c1c52",
   "metadata": {},
   "source": [
    "Por último, usaremos la función <code>es_power_dominating_set</code> para minimalizar un conjunto dominante energético $D$. La idea es ir tirando vértices de $D$ hasta que $D$ deje de ser un conjunto dominante energético, ahí agregamos el último vértice tirado y retornamos.\n",
    "1. Iterar sobre cada vértice $v$ de $D$, en orden ascendente de grado.\n",
    "2. Eliminar $v$ de $D$.\n",
    "3. Si $D$ no es un conjunto dominante energético, reinsertar a $v$ en $D$ y retornar $D$.\n",
    "\n",
    "**Cuidado.** Python no permite iterar sobre un conjunto que va cambiando de tamaño, por lo que tenemos que hacernos una copia <code>D2</code> de <code>D</code>."
   ]
  },
  {
   "cell_type": "code",
   "execution_count": 16,
   "id": "c57c02a1",
   "metadata": {},
   "outputs": [],
   "source": [
    "def minimalizar_pds(G, D):\n",
    "    # Paso 1\n",
    "    D2 = list(D)\n",
    "    D2.sort(key=G.degree)\n",
    "    for v in D2:\n",
    "        # Paso 2\n",
    "        D.remove(v)\n",
    "        # Paso 3\n",
    "        if not es_power_dominating_set(G,D):\n",
    "            D.add(v)\n",
    "            return D"
   ]
  },
  {
   "cell_type": "code",
   "execution_count": 17,
   "id": "efa09b8e",
   "metadata": {},
   "outputs": [
    {
     "data": {
      "text/plain": [
       "{6, 7}"
      ]
     },
     "execution_count": 17,
     "metadata": {},
     "output_type": "execute_result"
    }
   ],
   "source": [
    "minimalizar_pds(G, set([4,5,6,7]))"
   ]
  },
  {
   "cell_type": "code",
   "execution_count": 18,
   "id": "802ce14e",
   "metadata": {},
   "outputs": [
    {
     "data": {
      "text/plain": [
       "{1, 2}"
      ]
     },
     "execution_count": 18,
     "metadata": {},
     "output_type": "execute_result"
    }
   ],
   "source": [
    "minimalizar_pds(G, set([1,2,4,5,6,7]))"
   ]
  },
  {
   "cell_type": "markdown",
   "id": "0d8c3d39",
   "metadata": {},
   "source": [
    "### &#x1f4bb; Actividad 5\n",
    "\n",
    "* Evalúe experimentalmente la efectividad del ajuste propuesto para la cota primal. Compare los tiempos de ejecución obtenidos (i) sin darle a CPLEX una solución inicial, (ii) dándole un conjunto dominante como solución inicial, (iii) dándole un conjunto dominante energético minimal como solución incial. Pruebe con al menos 5 grafos aleatorios diferentes para cada densidad de arista en {0.15, 0.5, 0.75} (use un número de vértices razonable y procure variar la semilla <code>seed</code> en la generación para construir grafos distintos).\n",
    "* Analice los resultados obtenidos."
   ]
  },
  {
   "cell_type": "code",
   "execution_count": null,
   "id": "bf280ab5",
   "metadata": {},
   "outputs": [],
   "source": []
  }
 ],
 "metadata": {
  "kernelspec": {
   "display_name": "Python 3 (ipykernel)",
   "language": "python",
   "name": "python3"
  },
  "language_info": {
   "codemirror_mode": {
    "name": "ipython",
    "version": 3
   },
   "file_extension": ".py",
   "mimetype": "text/x-python",
   "name": "python",
   "nbconvert_exporter": "python",
   "pygments_lexer": "ipython3",
   "version": "3.10.12"
  }
 },
 "nbformat": 4,
 "nbformat_minor": 5
}
