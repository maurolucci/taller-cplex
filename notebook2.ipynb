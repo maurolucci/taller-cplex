{
 "cells": [
  {
   "cell_type": "markdown",
   "id": "3855c64d",
   "metadata": {},
   "source": [
    "# Notæ 2\n",
    "\n",
    "## Implementando grafos en Python"
   ]
  },
  {
   "cell_type": "markdown",
   "id": "0c371967",
   "metadata": {},
   "source": [
    "### Introducción\n",
    "\n",
    "\n",
    "Muchos de los problemas de optimización que trabajamos en el grupo están directamente definidos sobre grafos o pueden modelarse mediante ellos. Por lo tanto, resulta indispensable aprender a construir grafos en python y a escribir formulaciones de PLE basadas en ellos, es decir, donde las variables y restricciones dependan de ciertas estructuras del grafo, como vértices, aristas, conjuntos estables, cliques, etc."
   ]
  },
  {
   "cell_type": "markdown",
   "id": "d1cc8e71",
   "metadata": {},
   "source": [
    "### Construcción de grafos\n",
    "\n",
    "Existen dos enfoques en computación para representar un grafo: matrices de adyacencias y listas de adyacencias. Usaremos como ejemplo un grafo camino $P_3$ con conjunto de vértices $\\{0,1,2\\}$ y conjunto de aristas $\\{(0,1),(1,2)\\}$. Es decir:\n",
    "\n",
    "$\\bullet - \\bullet - \\bullet$<br>\n",
    "$0 ~~~~ 1 ~~~~ 2$<br>\n",
    "\n",
    "<b>Definición 1.</b> Dado un grafo $G$, la <i>matriz de adyacencias</i> $M(G)$ es una matriz binaria de dimensión $n \\times n$, donde $n$ es el número de vértices, tal que la entrada $M(G)_{ij}=1$ si y sólo si $i$ y $j$ son adyacentes en $G$.\n",
    "\n",
    "<b>Ejemplo.</b>\n",
    "\\begin{equation}\n",
    "M(P_3) = \\left(\\begin{matrix}\n",
    "0 & 1 & 0\\\\\n",
    "1 & 0 & 1 \\\\\n",
    "0 & 1 & 0\\\\\n",
    "\\end{matrix}\\right)\n",
    "\\end{equation}\n",
    "\n",
    "<b>Observación.</b> Si $G$ es simple, entonces no tiene bucles y por lo tanto $M(G)$ tiene todos 0s en su diagonal.\n",
    "\n",
    "<b>Definición 2.</b> Dado un grafo $G$ y un vértice $v$ de $G$, la <i>lista de adyacencias</i> de $v$ es una lista $L_v(G)$ que contiene a todos los vecinos de $v$.\n",
    "\n",
    "<b>Ejemplo.</b>\n",
    "$$ L_0(P_3) = [1] $$\n",
    "$$ L_1(P_3) = [0,2] $$\n",
    "$$ L_2(P_3) = [2] $$\n",
    "\n",
    "Estas dos representaciones tienen sus ventajas/desventajas. Por ejemplo:\n",
    "* En la matriz de adyacencias es muy sencillo determinar si dos vértices $u$ y $v$ son adyacentes, pues simplemente hay que ver si $M(G)_{uv} = 1$. En cambio, con las listas de adyacencias esto es un poco más costoso, ya que necesitamos, por ejemplo, recorrer iterativamente $L_u(G)$ y determinar si contiene o no a $v$. \n",
    "* En las listas de adyacencias es muy sencillo obtener los vecinos de un vértice $v$, simplemente es $L_v(G)$. En cambio, con la matriz de adyacencias es necesario iterar sobre la fila $v$ y seleccionar las columnas que tengan un 1 en su respectiva entrada.\n",
    "* En general, almacenar la matriz de adyacencia puede ser muy costoso en memoria. Por ejemplo, un grafo de 10.000 vértices tiene una matriz de adyacencias con 100.000.000 entradas. Suponiendo que cada entrada ocupa 1 bit (un 0 o un 1), necesitaríamos 12.5 megabytes. En cambio, las listas de adyacencia suelen ser más eficiente en memoria, en particular cuando los grafos son poco densos.\n",
    "\n",
    "Para poder manipular grafos en python, necesitamos elegir alguna de estas representaciones e implementar métodos para: obtener el número de vértices, el número de aristas, los grados de los vértices, decidir si dos vértices son adyacentes, etc etc etc... Es decir, ¡todos los métodos necesarios para trabajar con grafos!\n",
    "\n",
    "<b>¡¡Por suerte estamos en python!! &#x1f973;&#x1f973; </b>\n",
    "\n",
    "No vamos a reinventar la rueda... En python existen muchos paquetes que nos permiten construir y manipular grafos de una forma (más o menos) sencilla. En nuestro caso vamos a usar uno llamado <code>networkx</code>, pero existen muchos otros... Incluso es posible vincular python con <a href=\"https://doc.sagemath.org/html/en/reference/graphs/index.html\">Sage</a> (software muy usado en teoría de grafos y en otras áreas), aunque esto es un poco más complicado y preferimos no complicar las cosas.\n",
    "\n"
   ]
  },
  {
   "cell_type": "markdown",
   "id": "273fdd59",
   "metadata": {},
   "source": [
    "### Paquete NetworkX\n",
    "\n",
    "Lo primero que tenemos que hacer es descargar el paquete <code>networkx</code>. Podemos hacerlo directamente del jupyter ejecutando la siguiente celda:"
   ]
  },
  {
   "cell_type": "code",
   "execution_count": null,
   "id": "3ff124ac",
   "metadata": {},
   "outputs": [],
   "source": [
    "!pip install networkx"
   ]
  },
  {
   "cell_type": "markdown",
   "id": "ab3c2ad8",
   "metadata": {},
   "source": [
    "Una vez hecho esto, deberíamos ser capaces de ejecutar la siguiente celda, encargada de importar el paquete <code>networkx</code> y de crear un alias un poco más corto para el mismo <code>nx</code>. Cada vez que escribamos <code>nx</code>, python sabrá que nos estamos refiriendo al paquete <code>networkx</code>."
   ]
  },
  {
   "cell_type": "code",
   "execution_count": null,
   "id": "1c598b26",
   "metadata": {},
   "outputs": [],
   "source": [
    "import networkx as nx"
   ]
  },
  {
   "cell_type": "markdown",
   "id": "9798f6a2",
   "metadata": {},
   "source": [
    "Construir grafos en este paquete es muy sencillo. Usemos a $P_3$ como ejemplo. Primero iniciamos un grafo vacío llamando al constructor de la clase <code>Graph</code> y guardamos el objeto resultante en una variable de python de nombre <code>G</code>."
   ]
  },
  {
   "cell_type": "code",
   "execution_count": null,
   "id": "427f4e4a",
   "metadata": {},
   "outputs": [],
   "source": [
    "G = nx.Graph()"
   ]
  },
  {
   "cell_type": "markdown",
   "id": "ba1dab65",
   "metadata": {},
   "source": [
    "Vamos agregando una a una las aristas mediante el método <code>add_edge(u,v)</code> de la clase <code>Graph</code>, donde <code>u</code> y <code>v</code> son los extremos de cada arista. Notar que este método también se ocupa de agregar los vértices correspondientes en caso de que no existan."
   ]
  },
  {
   "cell_type": "code",
   "execution_count": null,
   "id": "2a04604a",
   "metadata": {},
   "outputs": [],
   "source": [
    "G.add_edge(0,1)\n",
    "G.add_edge(1,2)"
   ]
  },
  {
   "cell_type": "markdown",
   "id": "6052dedb",
   "metadata": {},
   "source": [
    "Podemos imprimir un resumen del grafo mediante la función <code>print()</code> de python:"
   ]
  },
  {
   "cell_type": "code",
   "execution_count": null,
   "id": "aa95633d",
   "metadata": {},
   "outputs": [],
   "source": [
    "print(G)"
   ]
  },
  {
   "cell_type": "markdown",
   "id": "84321ada",
   "metadata": {},
   "source": [
    "En grafos chicos, también será muy útil poder verlos gráficamente. Por suerte, el paquete tiene funciones para esto. La función <code>draw(G)</code> de <code>networkx</code> nos permitirá graficar un grafo <code>G</code>:"
   ]
  },
  {
   "cell_type": "code",
   "execution_count": null,
   "id": "91c009e4",
   "metadata": {},
   "outputs": [],
   "source": [
    "nx.draw(G)"
   ]
  },
  {
   "cell_type": "markdown",
   "id": "74199ab6",
   "metadata": {},
   "source": [
    "En caso de necesitar el nombre de los vértices, podemos usar la función <code>draw_networkx(G)</code> de <code>networkx</code>:"
   ]
  },
  {
   "cell_type": "code",
   "execution_count": null,
   "id": "5224847a",
   "metadata": {},
   "outputs": [],
   "source": [
    "nx.draw_networkx(G)"
   ]
  },
  {
   "cell_type": "markdown",
   "id": "2fdfc71f",
   "metadata": {},
   "source": [
    "¿Y si nuestro grafo tiene vértices aislados? Bueno, para estos casos existe el método <code>add_node(v)</code> de la clase <code>Graph</code>, donde <code>v</code> es el vértice a agregar. Por ejemplo, agreguemos un vértice aislado a $P_3$ de nombre 3:"
   ]
  },
  {
   "cell_type": "code",
   "execution_count": null,
   "id": "823b2e33",
   "metadata": {},
   "outputs": [],
   "source": [
    "G.add_node(3)\n",
    "nx.draw_networkx(G)"
   ]
  },
  {
   "cell_type": "markdown",
   "id": "6f4e6423",
   "metadata": {},
   "source": [
    "Por supuesto también tenemos métodos para remover vértices y aristas, <code>remove_node(v)</code> y <code>remove_edge(u,v)</code> de la clase <code>Graph</code>, respectivamente. Por ejemplo, borremos el vértice que acabamos de agregar:"
   ]
  },
  {
   "cell_type": "code",
   "execution_count": null,
   "id": "8bd09bc6",
   "metadata": {},
   "outputs": [],
   "source": [
    "G.remove_node(3)\n",
    "nx.draw_networkx(G)"
   ]
  },
  {
   "cell_type": "markdown",
   "id": "602a901d",
   "metadata": {},
   "source": [
    "También es posible construir un grafo en una única línea, mediante el método <code>add_edges_from(aristas)</code> de la clase <code>Graph</code>, donde <code>aristas</code> es una lista con las aristas del grafo. Para poder reutilizar la variable de python <code>G</code>, previamente tenemos que limpiar el grafo anterior mediante el método <code>clear()</code> de la clase <code>Graph</code>, de lo contrario podemos reinsertar aristas."
   ]
  },
  {
   "cell_type": "code",
   "execution_count": null,
   "id": "913d0c08",
   "metadata": {},
   "outputs": [],
   "source": [
    "G.clear()\n",
    "G.add_edges_from([(0,1),(1,2)])"
   ]
  },
  {
   "cell_type": "markdown",
   "id": "4f7db6f9",
   "metadata": {},
   "source": [
    "### &#x1f4bb; Actividad 1 \n",
    "\n",
    "Construir el grafo <a href=\"https://mathworld.wolfram.com/SunGraph.html\">3-sol (figura de la izquierda)</a>."
   ]
  },
  {
   "cell_type": "code",
   "execution_count": null,
   "id": "18c7bffa",
   "metadata": {},
   "outputs": [],
   "source": [
    "# Celda para resolver la actividad 1"
   ]
  },
  {
   "cell_type": "markdown",
   "id": "ac3af881",
   "metadata": {},
   "source": [
    "### Generadores de grafos "
   ]
  },
  {
   "cell_type": "markdown",
   "id": "8cce51e9",
   "metadata": {},
   "source": [
    "El paquete <code>networkx</code> nos ofrece una gran cantidad de funciones predefinidas para generar grafos particulares, con nombre y apellido. Veamos algunos ejemplos."
   ]
  },
  {
   "cell_type": "code",
   "execution_count": null,
   "id": "a8701789",
   "metadata": {},
   "outputs": [],
   "source": [
    "n = 5                           # Numero de vertices\n",
    "P5 = nx.path_graph(n)           # Camino de n vertices\n",
    "K5 = nx.complete_graph(n)       # Completo de n vertices\n",
    "C5 = nx.cycle_graph(n)          # Ciclo de n vertices\n",
    "S5 = nx.star_graph(n)           # Estrella de n+1 vertices\n",
    "Petersen = nx.petersen_graph()  # Petersen\n",
    "LS5 = nx.line_graph(S5)         # Grafo de linea de la estrella"
   ]
  },
  {
   "cell_type": "markdown",
   "id": "d150d361",
   "metadata": {},
   "source": [
    "Etc, etc, etc... Tenemos infinidad de generadores ya predefinidos. Siempre es recomendable revisar el listado de <a href=\"https://networkx.org/documentation/stable/reference/generators.html\">generadores</a> antes de construir un grafo por nuestros propios medios. "
   ]
  },
  {
   "cell_type": "markdown",
   "id": "05a32ea4",
   "metadata": {},
   "source": [
    "### &#x1f4bb; Actividad 2\n",
    "\n",
    "Elegir algún generador diferente a los presentado previamente y usarlo para construir un grafo. Incluir también una gráfica del mismo."
   ]
  },
  {
   "cell_type": "code",
   "execution_count": null,
   "id": "60df273f",
   "metadata": {},
   "outputs": [],
   "source": [
    "# Celda para resolver la actividad 2"
   ]
  },
  {
   "cell_type": "markdown",
   "id": "94c662e0",
   "metadata": {},
   "source": [
    "### Funciones\n",
    "\n",
    "Ya sabemos generar grafos, pero falta averiguar qué podemos hacer con ellos. Usaremos como ejemplo un grafo aleatorio. Los grafos aleatorios son muy útiles para evaluar algoritmos sobre entradas sin ninguna estructura particular. El paquete <code>networkx</code> nos ofrece la función <code>erdos_renyi_graph(n,p)</code> para generar un grafo aleatorio con $n$ vértices y densidad (apróximadamente) $p$. Internamente, esta función comienza con un grafo sin aristas con $n$ vértices y agrega con probabilidad $p$ una arista entre todo par de vértices. \n",
    "\n",
    "A continuación generamos y graficamos un grafo aleatorio con 10 vértices y probabilidad de arista 0.5, y lo almacenamos en una variable de python de nombre <code>R</code>. El parámetro <code>seed=0</code> nos garantiza que múltiples ejecuciones de esa celda, generarán exactamente el mismo grafo."
   ]
  },
  {
   "cell_type": "code",
   "execution_count": null,
   "id": "8e1f9868",
   "metadata": {},
   "outputs": [],
   "source": [
    "R = nx.erdos_renyi_graph(10,0.5,seed=0)\n",
    "nx.draw_networkx(R)"
   ]
  },
  {
   "cell_type": "markdown",
   "id": "85472f36",
   "metadata": {},
   "source": [
    "#### Número de vértices, aristas, densidad, grados y adyacencias"
   ]
  },
  {
   "cell_type": "markdown",
   "id": "36638539",
   "metadata": {},
   "source": [
    "La clase <code>Graph</code> nos provee de los métodos <code>number_of_nodes()</code> y <code>number_of_edges()</code> para saber el número de vértices y aristas, respectivamente, del grafo."
   ]
  },
  {
   "cell_type": "code",
   "execution_count": null,
   "id": "97f0f99c",
   "metadata": {},
   "outputs": [],
   "source": [
    "R.number_of_nodes()"
   ]
  },
  {
   "cell_type": "code",
   "execution_count": null,
   "id": "15751360",
   "metadata": {},
   "outputs": [],
   "source": [
    "R.number_of_edges()"
   ]
  },
  {
   "cell_type": "markdown",
   "id": "f9ca7b1f",
   "metadata": {},
   "source": [
    "También nos provee la función <code>density(G)</code> para conocer la densidad del grafo $G$ (es decir, el cociente entre el número de aristas de $G$ y el número de aristas que posee un grafo completo con la misma cantidad de vértices). En los casos extremos una densidad de 0 represeta un grafo sin aristas, y una densidad de 1 a un grafo completo. Observar que la densidad es aproximdamente igual a la probabilidad de arista que usamos para la generación, y estos valores tenderán a coincidir a medida que aumentamos el tamaño del grafo."
   ]
  },
  {
   "cell_type": "code",
   "execution_count": null,
   "id": "c492b460",
   "metadata": {},
   "outputs": [],
   "source": [
    "nx.density(R)"
   ]
  },
  {
   "cell_type": "markdown",
   "id": "1624d80f",
   "metadata": {},
   "source": [
    "El método <code>degree(v)</code> de la clase <code>Graph</code> nos devuelve el grado del vértice $v$. Por ejemplo, para el vértice 0 tenemos:"
   ]
  },
  {
   "cell_type": "code",
   "execution_count": null,
   "id": "9193f7f3",
   "metadata": {},
   "outputs": [],
   "source": [
    "R.degree(0)"
   ]
  },
  {
   "cell_type": "markdown",
   "id": "a0dc7402",
   "metadata": {},
   "source": [
    "También será util saber si dos vértices son o no adyacentes. Disponemos del método <code>has_edge(u,v)</code> de la clase <code>Graph</code> que determina si $u$ y $v$ son adyacentes. Por ejemplo:"
   ]
  },
  {
   "cell_type": "code",
   "execution_count": null,
   "id": "4f91bfae",
   "metadata": {},
   "outputs": [],
   "source": [
    "R.has_edge(0,1)"
   ]
  },
  {
   "cell_type": "code",
   "execution_count": null,
   "id": "e41740e3",
   "metadata": {},
   "outputs": [],
   "source": [
    "R.has_edge(0,4)"
   ]
  },
  {
   "cell_type": "markdown",
   "id": "bed69b52",
   "metadata": {},
   "source": [
    "#### Iteradores\n",
    "\n",
    "En muchas situaciones, al programar es necesario iterar sobre los vértices del grafo. Por ejemplo, supongamos que queremos escribir una función que determine si algún vértice tiene grado mayor a un número dado $k$. Esto es muy sencillo, podemos iterar sobre los vértices de la siguiente forma:\n",
    "<p><code>for v in R:\n",
    "    ...</code></p>\n",
    "   \n",
    "Es decir, <code>v</code> es una variable de python que almacenará el vértice en cada iteración del bucle y <code>R</code> es el nombre del grafo que habíamos generado anteriormente. Por ejemplo, supongamos que simplemente queremos recorrer todos los vértices e imprimirlos:"
   ]
  },
  {
   "cell_type": "code",
   "execution_count": null,
   "id": "874867d7",
   "metadata": {},
   "outputs": [],
   "source": [
    "for v in R:\n",
    "    print(v)"
   ]
  },
  {
   "cell_type": "markdown",
   "id": "e928da13",
   "metadata": {},
   "source": [
    "Con esta idea, podemos escribir la función que buscabamos de la siguiente forma:"
   ]
  },
  {
   "cell_type": "code",
   "execution_count": null,
   "id": "56c22fc0",
   "metadata": {},
   "outputs": [],
   "source": [
    "def tiene_grado_mayor_a(G,k):\n",
    "    for v in G:\n",
    "        if G.degree(v) > k:\n",
    "            return True\n",
    "    return False"
   ]
  },
  {
   "cell_type": "markdown",
   "id": "5550fbbe",
   "metadata": {},
   "source": [
    "Para testear esta función, podemos aplicarla sobre nuestro grafo <code>R</code> previamente construido:"
   ]
  },
  {
   "cell_type": "code",
   "execution_count": null,
   "id": "86447d92",
   "metadata": {},
   "outputs": [],
   "source": [
    "tiene_grado_mayor_a(R,2)"
   ]
  },
  {
   "cell_type": "markdown",
   "id": "a4c663d9",
   "metadata": {},
   "source": [
    "Por el contrario, si pedimos un grado demasiado alto:"
   ]
  },
  {
   "cell_type": "code",
   "execution_count": null,
   "id": "3ab11a5a",
   "metadata": {},
   "outputs": [],
   "source": [
    "tiene_grado_mayor_a(R,9)"
   ]
  },
  {
   "cell_type": "markdown",
   "id": "e5062383",
   "metadata": {},
   "source": [
    "Probemos definir una función más útil. Recordemos que un grafo conexo $G$ es euleriano si y solo si todos sus vértices tiene grado par. Por lo tanto podemos definir una función <code>es_euleriano(G)</code> que determine si $G$ es euleriano simplemente iterando sobre los vértices y viendo la paridad de sus grados:"
   ]
  },
  {
   "cell_type": "code",
   "execution_count": null,
   "id": "3245c353",
   "metadata": {},
   "outputs": [],
   "source": [
    "# Función que determina si un número es par\n",
    "def es_par(n):\n",
    "    return (n % 2) == 0 # Tiene resto 0 en la division por 2? \n",
    "\n",
    "def es_euleriano(G):\n",
    "    for v in G:\n",
    "        if not es_par(G.degree(v)):\n",
    "            return False \n",
    "    return True"
   ]
  },
  {
   "cell_type": "markdown",
   "id": "93ab83f6",
   "metadata": {},
   "source": [
    "Algunos casos de prueba para nuestra función:"
   ]
  },
  {
   "cell_type": "code",
   "execution_count": null,
   "id": "24c7431c",
   "metadata": {},
   "outputs": [],
   "source": [
    "es_euleriano(Petersen)"
   ]
  },
  {
   "cell_type": "code",
   "execution_count": null,
   "id": "792c48ea",
   "metadata": {},
   "outputs": [],
   "source": [
    "es_euleriano(K5)"
   ]
  },
  {
   "cell_type": "markdown",
   "id": "a435ba4a",
   "metadata": {},
   "source": [
    "También es posible iterar sobre los vecinos de un vértice $v$, mediante el método <code>neighbors(v)</code> de la clase <code>Graph</code>. Por ejemplo, iteremos sobre los vecinos de 0 en el grafo $R$ e imprimámoslos uno por uno."
   ]
  },
  {
   "cell_type": "code",
   "execution_count": null,
   "id": "8146992f",
   "metadata": {},
   "outputs": [],
   "source": [
    "for v in R.neighbors(0):\n",
    "    print(v)"
   ]
  },
  {
   "cell_type": "markdown",
   "id": "adee4130",
   "metadata": {},
   "source": [
    "Finalmente, también es posible iterar sobre las aristas del grafo. Esto se hace de la siguiente forma:\n",
    "<p><code>for u,v in R.edges:\n",
    "    ...</code></p>\n",
    "\n",
    "Es decir, <code>u</code> y <code>v</code> son variables de python que almacenarán los extremos de la arista en cada iteración del bucle y <code>R.edges</code> es la lista con todas las aristas del grafo anterior. Por ejemplo, supongamos que simplemente queremos recorrer todas las aristas e imprimirlas:"
   ]
  },
  {
   "cell_type": "code",
   "execution_count": null,
   "id": "b996e6f1",
   "metadata": {},
   "outputs": [],
   "source": [
    "for u,v in R.edges:\n",
    "    print(u,v)"
   ]
  },
  {
   "cell_type": "markdown",
   "id": "93ea71c2",
   "metadata": {},
   "source": [
    "### &#x1f4bb; Actividad 3\n",
    "\n",
    "Implementar una función <code>es_clique(G,C)</code> que dados un grafo $G$ y una lista $C$ de vértices de $G$, determine si $C$ representa una clique (subconjunto de vértices mutuamente adyacentes) de $G$. En este notebook no se preocupe por el manejo de errores, por ejemplo si $C$ tiene un vértice que no pertence a $G$, y deje que python maneje los errores a su forma."
   ]
  },
  {
   "cell_type": "code",
   "execution_count": null,
   "id": "82794ae3",
   "metadata": {},
   "outputs": [],
   "source": [
    "# Celda para completar actividad 3\n",
    "\n",
    "def es_clique(G, C):\n",
    "    # Completar ...\n",
    "    return True"
   ]
  },
  {
   "cell_type": "markdown",
   "id": "ab440ccf",
   "metadata": {},
   "source": [
    "Una vez implementada la función, puede ejecutar los siguientes casos de prueba y analizar si el resultado es el esperado:"
   ]
  },
  {
   "cell_type": "code",
   "execution_count": null,
   "id": "9318cb57",
   "metadata": {},
   "outputs": [],
   "source": [
    "es_clique(C5,[0,1])"
   ]
  },
  {
   "cell_type": "code",
   "execution_count": null,
   "id": "1cc484fa",
   "metadata": {},
   "outputs": [],
   "source": [
    "es_clique(C5,[0,1,2])"
   ]
  },
  {
   "cell_type": "markdown",
   "id": "e3efe0b7",
   "metadata": {},
   "source": [
    "### &#x1f4bb; Actividad 4\n",
    "\n",
    "Escribir una función <code>maximalizar_clique(G,C)</code> que dados un grafo $G$ y una clique $C$ de $G$ (que puede estar inicialmente vacía), retorna una clique maximal $M$ de $G$ que contiene a $C$. Puede representar a $C$ y $M$ con listas de python.\n",
    "\n",
    "<b>Ayuda.</b> En caso de que la cosa se complique, puede intentar traducir el siguiente pseudocódigo a python:\n",
    "<p><code>M <- copia de C\n",
    "para todo vertice v de G:\n",
    "     si v no esta en M:\n",
    "         ok <- True\n",
    "         para todo vertice u de M:\n",
    "             if v y u no son adyacentes en G:\n",
    "                 ok <- False\n",
    "         si ok es True:\n",
    "             insertar v en M\n",
    "retornar M\n",
    "</code></p>\n",
    "    \n",
    "La idea es iterar sobre cada vértice de G que no esté en la clique, chequear que sea adyacentes a todos los vértice de la clique y en ese caso insertarlo en la clique."
   ]
  },
  {
   "cell_type": "code",
   "execution_count": null,
   "id": "3cc92fb4",
   "metadata": {},
   "outputs": [],
   "source": [
    "# Celda para completar la actividad 4\n",
    "\n",
    "def maximalizar_clique(G, C):\n",
    "    M = list(C) # Copiar la lista C\n",
    "    # Completar ...\n",
    "    # Recordar que M.append(v) inserta a v en la lista M\n",
    "    return M"
   ]
  },
  {
   "cell_type": "markdown",
   "id": "b686e31f",
   "metadata": {},
   "source": [
    "Una vez implementada la función, puede ejecutar los siguientes casos de prueba y analizar si el resultado es el esperado:"
   ]
  },
  {
   "cell_type": "code",
   "execution_count": null,
   "id": "0ca6d31d",
   "metadata": {},
   "outputs": [],
   "source": [
    "maximalizar_clique(C5,[])"
   ]
  },
  {
   "cell_type": "code",
   "execution_count": null,
   "id": "a682552a",
   "metadata": {},
   "outputs": [],
   "source": [
    "maximalizar_clique(K5,[])"
   ]
  },
  {
   "cell_type": "code",
   "execution_count": null,
   "id": "96517396",
   "metadata": {},
   "outputs": [],
   "source": [
    "maximalizar_clique(Petersen,[5])"
   ]
  },
  {
   "cell_type": "markdown",
   "id": "1aa1c9bd",
   "metadata": {},
   "source": [
    "### &#x1f4bb; Actividad 5\n",
    "\n",
    "<b>Definición.</b> Sea $G$ un grafo, un coloreo de $G$ es una función $f$ que asigna a cada vértice de $G$ un color tal que vértices adyacentes tengan asignados colores distintos, es decir, para toda arista $(u,v)$ de $G$, $f(u) \\neq f(v)$.\n",
    "\n",
    "Típicamente se asume que los colores son números naturales.\n",
    "\n",
    "<b>Ejemplo.</b> Un coloreo para el grafo camino de 3 vértices $P_3$ puede ser: $$f(0) = 0$$ $$f(1) = 1$$ $$f(2) = 0$$ \n",
    "\n",
    "En python podemos representar un coloreo mediante un diccionario. Un diccionario se puede inicializar en python de la siguiente forma. Es decir, se escribe cada vértice seguido por dos puntos y su color, entre llaves y separados por comas."
   ]
  },
  {
   "cell_type": "code",
   "execution_count": null,
   "id": "ee3ed0b2",
   "metadata": {},
   "outputs": [],
   "source": [
    "f = {0: 0, 1: 1, 2: 0}"
   ]
  },
  {
   "cell_type": "markdown",
   "id": "4f4a568b",
   "metadata": {},
   "source": [
    "Podemos consultar el color asignado a un vértice de la siguiente forma, por ejemplo para el vértice 2:"
   ]
  },
  {
   "cell_type": "code",
   "execution_count": null,
   "id": "aab0cc0c",
   "metadata": {},
   "outputs": [],
   "source": [
    "f[2]"
   ]
  },
  {
   "cell_type": "markdown",
   "id": "a814d748",
   "metadata": {},
   "source": [
    "La actividad propuesta consiste en implementar una función <code>es_coloreo(G,f)</code> que tome como argumentos un grafo $G$ y un diccionario $f$, y determine si $f$ es un coloreo de $G$"
   ]
  },
  {
   "cell_type": "code",
   "execution_count": null,
   "id": "a34550e7",
   "metadata": {},
   "outputs": [],
   "source": [
    "# Celda para completar la actividad 4\n",
    "\n",
    "def es_coloreo(G,f):\n",
    "    # Completar ...\n",
    "    return True"
   ]
  },
  {
   "cell_type": "markdown",
   "id": "6f091cde",
   "metadata": {},
   "source": [
    "Escriba sus propios casos de prueba para la función."
   ]
  },
  {
   "cell_type": "markdown",
   "id": "e9a90022",
   "metadata": {},
   "source": [
    "### Algoritmos\n",
    "\n",
    "Ya hemos visto las funciones básicas de <code>networkx</code>, mediante las cuales podremos construir todo lo que necesitaremos en el curso. Sin embargo, muchos algoritmos que usamos habitualmente en teoría de grafos ya se encuentran implementados en este paquete, lo que nos ahorrará mucho tiempo.\n",
    "\n",
    "Volviendo a las actividades anteriores, disponemos de una función <code>find_cliques(G)</code> que devuelve todas las cliques maximales de $G$:"
   ]
  },
  {
   "cell_type": "code",
   "execution_count": null,
   "id": "f5c83615",
   "metadata": {},
   "outputs": [],
   "source": [
    "for C in nx.find_cliques(Petersen):\n",
    "    print(C)"
   ]
  },
  {
   "cell_type": "markdown",
   "id": "bd208abd",
   "metadata": {},
   "source": [
    "Otro ejemplo, es la función <code>dominating_set(G)</code> que devuelve un conjunto dominante de $G$. Por ejemplo, en el grafo de petersen:"
   ]
  },
  {
   "cell_type": "code",
   "execution_count": null,
   "id": "3bb134f8",
   "metadata": {},
   "outputs": [],
   "source": [
    "nx.dominating_set(Petersen)"
   ]
  },
  {
   "cell_type": "markdown",
   "id": "10407bd3",
   "metadata": {},
   "source": [
    "Obviamente sería imposible abarcar en este notebook todos los algoritmos que <code>networkx</code> trae predefinidos. La sugerencia siempre es mirar el listado de <a href=\"https://networkx.org/documentation/stable/reference/algorithms/index.html\">algoritmos</a> disponibles antes de programar uno por cuenta propia."
   ]
  },
  {
   "cell_type": "markdown",
   "id": "efabdcdc",
   "metadata": {},
   "source": [
    "### &#x1f4bb; Actividad 6\n",
    "\n",
    "Investigar los algoritmos implementados en <code>networkx</code>, elegir alguno diferente a los presentado previamente y usarlo sobre algún grafo."
   ]
  },
  {
   "cell_type": "code",
   "execution_count": null,
   "id": "8f2c96a9",
   "metadata": {},
   "outputs": [],
   "source": [
    "# Celda para resolver la actividad 6"
   ]
  }
 ],
 "metadata": {
  "kernelspec": {
   "display_name": "Python 3 (ipykernel)",
   "language": "python",
   "name": "python3"
  },
  "language_info": {
   "codemirror_mode": {
    "name": "ipython",
    "version": 3
   },
   "file_extension": ".py",
   "mimetype": "text/x-python",
   "name": "python",
   "nbconvert_exporter": "python",
   "pygments_lexer": "ipython3",
   "version": "3.10.12"
  }
 },
 "nbformat": 4,
 "nbformat_minor": 5
}
