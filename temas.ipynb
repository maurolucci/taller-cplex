{
 "cells": [
  {
   "cell_type": "markdown",
   "id": "0e4dc19a",
   "metadata": {},
   "source": [
    "# Temas finales\n",
    "\n",
    "Pautas para elegir un tema final:\n",
    "\n",
    "- El tema debe abordar un problema de optimización que se resuelve mediante Programación Lineal Entera o Mixta.\n",
    "- Se debe diseñar un experimento, en donde se evaluen métricas específicas del problema (e.g. parámetro que se optimiza), así como genéricas relacionadas al desempeño de CPLEX (e.g. gap relativo, tiempo de ejecución).\n",
    "- Al calcular el tiempo total \"máximo\" de ejecución utilizado por CPLEX, éste debe rondar entre 5 y 10 horas. Este tiempo se calcula multiplicando el tiempo máximo impuesto (timeout) por la cantidad de instancias a resolver y la cantidad de modelos a comparar.\n",
    "- Si la duración de las optimizaciones es bajo (lo que va a implicar la resolución de muchas instancias), agrupe las instancias por algún criterio (e.g. es preferible agrupar la generación aleatoria de grafos por 4 o 5 densidades específicas a dejar libre el parámetro de densidad), luego para las instancias agrupadas aplique algún criterio para eliminar outliers (e.g. <a href=\"https://en.wikipedia.org/wiki/Outlier#Tukey's_fences\">Tukey's fences</a>).  \n",
    "\n",
    "A continuación presentamos posibles temas para rendir como trabajo final."
   ]
  },
  {
   "cell_type": "markdown",
   "id": "2c30df29",
   "metadata": {
    "jp-MarkdownHeadingCollapsed": true
   },
   "source": [
    "## 1. Algoritmos de Clustering\n",
    "\n",
    "Un algoritmo de clustering es aquel que, a partir de un conjunto de puntos en el plano o espacio, los agrupa siguiendo determinados criterios de proximidad entre ellos e intentando optimizar alguna métrica de calidad, como minimizar la suma de las distancias entre los puntos de cada clúster, o maximizar <a href=\"https://en.wikipedia.org/wiki/Silhouette_(clustering)\">Silhouette</a>.\n",
    "Existen formulaciones de Programación Lineal Entera en la literatura (solo para mencionar alguna, puede ver <a href=\"https://iopscience.iop.org/article/10.1088/1742-6596/1053/1/012100/pdf\">aquí</a>).\n",
    "Realice lo siguiente:\n",
    "- Interiorícese sobre los diferentes algoritmos de clustering ($k$-Means, DBSCAN, Agglomerative), técnicas (método de Elbow) y métricas (Silhouette).\n",
    "- Genere instancias de diferentes tamaños donde cada una se compone de puntos aleatorios en un plano. Compute las matrices de distancias (euclídeas) de dichos puntos.\n",
    "- Formule un Programa Lineal Entero para resolver un Problema de Clustering. Por ejemplo, dado un $k$ (la cantidad de clústeres a obtener) particione el conjunto de puntos de forma que la suma de $D_i$ para todo $i=1,\\ldots,k$ sea mínima, donde $D_i$ es la suma de las distancias de \"todos con todos\" para el clúster $i$. \n",
    "- Diseñe un experimento donde se compara la resolución exacta (PLE) con otro algoritmo de Clustering de la literatura en términos de tiempo de ejecución y calidad del clustering. Se sugiere que la cantidad total máxima del tiempo de las resoluciones con CPLEX esté entre 3 y 6 horas de CPU (i.e. timeout x instancias). ¿Cuáles son las ventajas de usar un enfoque exacto vs. uno heurístico?\n",
    "\n",
    "Hay mucho material en Internet que se puede aprovechar para facilitar esta tarea, por ejemplo <a href=\"https://medium.com/@nomannayeem/clustering-with-confidence-a-practical-guide-to-data-clustering-in-python-15d82d8a7bfb\">aquí</a> y  <a href=\"https://cienciadedatos.net/documentos/py20-clustering-con-python\">aquí</a>.\n"
   ]
  },
  {
   "cell_type": "markdown",
   "id": "aa054274-fd52-41fe-98ab-6fb7bf6a3a46",
   "metadata": {},
   "source": [
    "## 2. Problema generalizado del número de dominación Grundy\n",
    "\n",
    "En <a href=\"https://arxiv.org/pdf/1912.12752\">Severin et al. 2021</a> se aborda la resolución del siguiente\n",
    "problema.\n",
    "Se le dice <it>secuencia legal dominante</it> a una secuencia de vértices de un grafo en el que cada elemento\n",
    "domina al menos a un vértice no dominado por sus predecesores en la secuencia.\n",
    "Aquí el concepto de dominación varía según el vértice $v$ elegido, si pertenece a cierto conjunto $C$ entonces domina a su vecindad cerrada, sino domina a su vecindad abierta, por lo que las instancias de este problema son un par $(G=(V,E);C)$.\n",
    "El objetivo del problema es hallar la secuencia legal dominante de máxima longitud.\n",
    "\n",
    "- Lea las pags. 1-5 y 7-13 del trabajo citado, omitiendo las pruebas de los teoremas pero prestando atención a las formulaciones $F_1$ y $F_4$ y entendiendo qué tipo de soluciones simétricas elimina ésta última.\n",
    "- Implemente ambas formulaciones y chequee su validez optimizando varias configuraciones de grafos webs y comparando con el resultado teórico. \n",
    "- Elija si desea continuar con el problema Grundy clásico ($C=V$, i.e. vecindades cerradas) o el total ($C=\\emptyset$). Luego generé grafos aleatorios de entre 20 y 50 vértices, con distintas densidades.\n",
    "- Diseñe un experimento donde se compara la resolución con CPLEX de ambas formulaciones con las instancias generadas. Se sugiere que la cantidad total máxima de tiempo del experimento esté entre 5 y 10 horas de CPU (i.e. timeout x instancias x 2 formulaciones). ¿Hay ventaja al eliminar simetrías en este problema? ¿La mejora depende de la densidad?"
   ]
  },
  {
   "cell_type": "markdown",
   "id": "132790ab-1c1f-42f4-ab9d-d66d78666b7d",
   "metadata": {},
   "source": [
    "## 3. Problema simultáneo de ruteo de vehículos y planificación de la tripulación\n",
    "\n",
    "En <a href=\"https://openproceedings.org/2022/conf/alioeuro/ALIOEURO_2021_paper_19.pdf\">Lucci et al. 2022</a> se presentan 2 formulaciones de Programación Lineal Entera para modelar de forma simultánea: 1) un ruteo de vehículos que realizan colectas y entregas de pedidos con ventanas de tiempo, y 2) una planificación de la tripulación, donde cada vehículo debe transportar entre 1 y 2 conductores. Estos conductores pueden descender de los vehículos en localidades específicas (las mismas donde se realizan las colectas o entregas) para descansar o ascender a otro vehículo.\n",
    "\n",
    "- Estudie el trabajo citado y escoja una de las formulaciones.\n",
    "- Genere instancias de diversos tamaños. Puede proponer hipótesis adicionales para simplificar la generación (e.g. en vez de generar los pedidos de forma aleatoria como se describe en el trabajo, podría generarlas siguiendo algún patrón que simplifique el preprocesamiento y la posterior generación del digrafo).\n",
    "- Modele el caso en que no más de 1 conductor puede formar parte de la tripulación de cada vehículo.\n",
    "- Diseñe un experimento donde se compara la resolución con CPLEX de ambos casos (solo 1 conductor vs. entre 1 y 2 conductores). Se sugiere que la cantidad total máxima de tiempo del experimento esté entre 5 y 10 horas de CPU (i.e. timeout x instancias x 2 casos). ¿Hay ventaja al permitir un segundo conductor en las tripulaciones?"
   ]
  },
  {
   "cell_type": "code",
   "execution_count": null,
   "id": "de285e6a-74eb-4aad-b933-07e97ecfdcbf",
   "metadata": {},
   "outputs": [],
   "source": []
  }
 ],
 "metadata": {
  "kernelspec": {
   "display_name": "Python 3 (ipykernel)",
   "language": "python",
   "name": "python3"
  },
  "language_info": {
   "codemirror_mode": {
    "name": "ipython",
    "version": 3
   },
   "file_extension": ".py",
   "mimetype": "text/x-python",
   "name": "python",
   "nbconvert_exporter": "python",
   "pygments_lexer": "ipython3",
   "version": "3.12.7"
  }
 },
 "nbformat": 4,
 "nbformat_minor": 5
}
