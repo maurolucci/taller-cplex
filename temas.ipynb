{
 "cells": [
  {
   "cell_type": "markdown",
   "id": "0e4dc19a",
   "metadata": {},
   "source": [
    "# Temas finales\n",
    "\n",
    "A continuación presentamos posibles temas para rendir como trabajo final.\n"
   ]
  },
  {
   "cell_type": "markdown",
   "id": "2c30df29",
   "metadata": {},
   "source": [
    "## 1. Algoritmos de Clustering\n",
    "\n",
    "Un algoritmo de clustering es aquel que, a partir de un conjunto de puntos en el plano o espacio, los agrupa siguiendo determinados criterios de proximidad entre ellos e intentando optimizar alguna métrica de calidad, como minimizar la suma de las distancias entre los puntos de cada clúster, o maximizar <a href=\"https://en.wikipedia.org/wiki/Silhouette_(clustering)\">Silhouette</a>.\n",
    "Existen formulaciones de Programación Lineal Entera en la literatura (solo para mencionar alguna, puede ver <a href=\"https://iopscience.iop.org/article/10.1088/1742-6596/1053/1/012100/pdf\">aquí</a>).\n",
    "Realice lo siguiente:\n",
    "- Genere instancias de diferentes tamaños donde cada una se compone de puntos aleatorios en un plano. Compute las matrices de distancias (euclídeas) de dichos puntos.\n",
    "- Formule un Programa Lineal Entero para resolver un Problema de Clustering. Por ejemplo, dado un $k$ (la cantidad de clústeres a obtener) particione el conjunto de puntos de forma que la suma de $D_i$ para todo $i=1,\\ldots,k$ sea mínima, donde $D_i$ es la suma de las distancias de \"todos con todos\" para el clúster $i$. \n",
    "- Compare la resolución exacta (PLE) con otro algoritmo de Clustering de la literatura ($k$-Means, DBSCAN, Agglomerative) en términos de tiempo de ejecución y calidad del clustering. ¿Cuáles son las ventajas de usar un enfoque exacto y un enfoque heurístico?\n",
    "\n",
    "Hay mucho material en Internet que se puede aprovechar para facilitar esta tarea, por ejemplo <a href=\"https://medium.com/@nomannayeem/clustering-with-confidence-a-practical-guide-to-data-clustering-in-python-15d82d8a7bfb\">aquí</a> y  <a href=\"https://cienciadedatos.net/documentos/py20-clustering-con-python\">aquí</a>.\n"
   ]
  },
  {
   "cell_type": "markdown",
   "id": "aa054274-fd52-41fe-98ab-6fb7bf6a3a46",
   "metadata": {},
   "source": [
    "## 2. Problema generalizado del número de dominación Grundy\n",
    "\n",
    "Algo relacionado a: https://doi.org/10.1016/j.dam.2021.05.025\n",
    "\n",
    "🏗️ En construcción!"
   ]
  },
  {
   "cell_type": "code",
   "execution_count": null,
   "id": "eeb3d896-c2f3-49b3-89ba-a700087e4cff",
   "metadata": {},
   "outputs": [],
   "source": []
  }
 ],
 "metadata": {
  "kernelspec": {
   "display_name": "Python 3 (ipykernel)",
   "language": "python",
   "name": "python3"
  },
  "language_info": {
   "codemirror_mode": {
    "name": "ipython",
    "version": 3
   },
   "file_extension": ".py",
   "mimetype": "text/x-python",
   "name": "python",
   "nbconvert_exporter": "python",
   "pygments_lexer": "ipython3",
   "version": "3.9.19"
  }
 },
 "nbformat": 4,
 "nbformat_minor": 5
}
