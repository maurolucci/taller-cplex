{
 "cells": [
  {
   "cell_type": "markdown",
   "metadata": {
    "tags": []
   },
   "source": [
    "## Notae 6\n",
    "\n",
    "En esta nota, vamos a ver un poquito de <b>Ciencias de Datos</b> que va a ser necesario para\n",
    "poder entender los resultados de los experimentos 🤯. Un concepto fundamental de la\n",
    "Ciencia de Datos es el \"dataframe\". Basicamente es una tabla en donde cada fila representa\n",
    "un elemento en nuestro análisis, y cada columna un parámetro o atributo de ese elemento.\n",
    "\n",
    "A diferencia de las Bases de Datos relacionales, en donde la información se distribuye en varias tablas\n",
    "que están vinculadas entre sí a través de claves y donde se intenta minimizar la redundancia de datos\n",
    "(lo que se conoce como normalización), en el caso de los dataframes, la información está concentrada en\n",
    "una única tabla completamente desnormalizada (hay redundancia de datos). No obstante la herramienta que\n",
    "utilizaremos, llamada Pandas, sabe inteligentemente administrarla, permitiendo manipular dataframes muy\n",
    "grandes (del orden del millón de elementos, con decenas de atributos) de forma ágil.\n",
    "\n",
    "Comenzamos importando las librerías necesarias: pandas, ipywidgets y matplotlib. De dar error la siguiente\n",
    "celda, podemos instalarlas de la forma habitual."
   ]
  },
  {
   "cell_type": "code",
   "execution_count": null,
   "metadata": {
    "tags": []
   },
   "outputs": [],
   "source": [
    "# Importamos las librerías\n",
    "import pandas as pd\n",
    "import ipywidgets as widgets\n",
    "from ipywidgets import interactive, HBox, VBox\n",
    "import matplotlib.pyplot as plt"
   ]
  },
  {
   "cell_type": "code",
   "execution_count": null,
   "metadata": {
    "tags": []
   },
   "outputs": [],
   "source": [
    "# Veamos un ejemplo sencillo de dataframe.\n",
    "# Pensemos en un conjunto de alumnos, identificados según legajo y una nota asociada.\n",
    "\n",
    "notas = pd.DataFrame(\n",
    "    {\n",
    "        'Alumno' : ['Paola', 'Tito', 'María Gracia', 'Lara', 'Daniel', 'Mauro', 'Mauro', 'José'],\n",
    "        'Legajo' : ['P-1234/5', 'T-2345/6', 'M-3456/7', 'L-4567/8', 'D-5678/9', 'M-6789/0', 'M-7890/1', 'J-8901/2'],\n",
    "        'Nota' : [7, 9, 8, 8, 4, 6, 10, 9]\n",
    "    })\n",
    "\n",
    "# Solo escribiendo el nombre del dataframe permite mostrarlo\n",
    "notas"
   ]
  },
  {
   "cell_type": "code",
   "execution_count": null,
   "metadata": {
    "tags": []
   },
   "outputs": [],
   "source": [
    "# Podemos manipularlo de diversas formas. Por ejemplo, si no queremos que los nombres\n",
    "# queden en \"evidencia\", podemos querer solo mostrar legajos y notas\n",
    "notas[['Legajo', 'Nota']]"
   ]
  },
  {
   "cell_type": "code",
   "execution_count": null,
   "metadata": {
    "tags": []
   },
   "outputs": [],
   "source": [
    "# Podemos querer conocer la nota mínima, máxima, mediana y promedio\n",
    "print('Nota mínima = ' + str(notas['Nota'].min()))\n",
    "print('Nota máxima = ' + str(notas['Nota'].max()))\n",
    "print('Nota mediana = ' + str(notas['Nota'].median()))\n",
    "print('Nota promedio = ' + str(notas['Nota'].mean()))"
   ]
  },
  {
   "cell_type": "code",
   "execution_count": null,
   "metadata": {
    "tags": []
   },
   "outputs": [],
   "source": [
    "# O conocer qué alumnos aprobaron\n",
    "notas[notas['Nota'] >= 6]"
   ]
  },
  {
   "cell_type": "code",
   "execution_count": null,
   "metadata": {
    "tags": []
   },
   "outputs": [],
   "source": [
    "# De hecho si a partir de ahora, solo queremos filtrar los desaprobados, es simplemente\n",
    "# cuestión de reasignar al mismo dataframe\n",
    "notas = notas[notas['Nota'] >= 6]\n",
    "\n",
    "# Los vemos ordenados alfabéticamente, por ejemplo\n",
    "notas.sort_values(by=['Alumno'])"
   ]
  },
  {
   "cell_type": "code",
   "execution_count": null,
   "metadata": {
    "tags": []
   },
   "outputs": [],
   "source": [
    "# Algo más complejo, queremos conocer el promedio de las notas de alumnos con el mismo nombre.\n",
    "\n",
    "notas.groupby('Alumno')[['Nota']].mean()"
   ]
  },
  {
   "cell_type": "code",
   "execution_count": null,
   "metadata": {
    "tags": []
   },
   "outputs": [],
   "source": [
    "# O graficar un histograma (aquí la cantidad de \"bins\" es la cantidad de barras, si por ejemplo\n",
    "# tenemos una base que va de 6 a 10, y queremos representar las barras 6-7, 7-8, 8-9 y 9-10, serán 4)\n",
    "# Podemos observar que hay 1 seis, 1 siete, 2 ochos y 3 \"nueves y diez\"\n",
    "notas.hist(bins=4, column='Nota')"
   ]
  },
  {
   "cell_type": "markdown",
   "metadata": {
    "tags": []
   },
   "source": [
    "### Actividad 1\n",
    "Para el dataframe de la siguiente celda, escriba comandos para:\n",
    "- Conocer la cantidad total de soldados en Poniente (todo el mundo)\n",
    "- Mostrar las casas por órden de fortuna\n",
    "- Si se unen las casas según su bando, ¿cuál es la ganadora? (mostrar la cantidad total de soldados de cada bando)\n",
    "\n",
    "Opcional: \n",
    "- Usando la librería matplotlib, investigue cómo realizar una gráfica donde el eje X es el Bando y el Y es la fortuna de las casas combinadas\n",
    "\n",
    "Matplotlib: https://matplotlib.org/stable/gallery/index.html"
   ]
  },
  {
   "cell_type": "code",
   "execution_count": null,
   "metadata": {
    "tags": []
   },
   "outputs": [],
   "source": [
    "reino = pd.DataFrame(\n",
    "    {\n",
    "        'Casas' : ['Lannister', 'Targaryen', 'Tyrell', 'Stark', 'Baratheon'],\n",
    "        'Fortuna' : [7598, 4657, 3894, 1569, 2495],\n",
    "        'Asentamiento' : ['Roca Casterly', 'Desembarco del Rey', 'Altojardin', 'Winterfell', 'Rocadragón'],\n",
    "        'Soldados': [53248, 66789, 35498, 40982, 48761],\n",
    "        'Bando': ['Malo', 'Malo', 'Bueno', 'Bueno', 'Bueno']\n",
    "    })\n",
    "\n",
    "reino"
   ]
  },
  {
   "cell_type": "code",
   "execution_count": null,
   "metadata": {
    "tags": []
   },
   "outputs": [],
   "source": [
    "# Celda para realizar Actividad 1"
   ]
  },
  {
   "cell_type": "markdown",
   "metadata": {
    "tags": []
   },
   "source": [
    "## Análisis de un experimento real\n",
    "\n",
    "Y se pueden hacer muchas cosas más. Sugerimos que visiten cualquier tutorial de Pandas o la\n",
    "documentación oficial para mayor información:\n",
    "https://pandas.pydata.org/docs/user_guide/index.html\n",
    "\n",
    "Ahora pasemos a un ejemplo real! 💪\n",
    "Vamos a leer un dataframe de una planilla que resume un experimento de un <b>Problema de Ruteo de Vehículos</b>.\n",
    "En este experimento se comparan datos reales contra datos simulados mediante 3 estrategias distintas.\n",
    "Cada fila representa la resolución de una instancia con CPLEX y una determinada estrategia.\n",
    "Los significados de cada columna son:\n",
    " - estrategia - Número de estrategia (1, 2, 3) o \"R\" para indicar datos reales ejecutados\n",
    " - instancia - Nombre de la instancia o caso\n",
    " - dia - dia de la semana en que ocurrió el ruteo\n",
    " - rutas - cantidad de rutas generadas\n",
    " - paradas_prom - promedio de paradas (de entre todas las rutas)\n",
    " - distancia_prom - promedio de distancia recorrida, en km\n",
    " - duracion_prom - promedio de duración de las rutas, en horas\n",
    " - gaprel - porcentaje de gap relativo reportado por CPLEX\n",
    " - costo - costo de la flota, en pesos\n",
    " - tiempo_cpu - tiempo de resolución, en segundos"
   ]
  },
  {
   "cell_type": "code",
   "execution_count": null,
   "metadata": {
    "tags": []
   },
   "outputs": [],
   "source": [
    "df = pd.read_csv('experimento.csv')\n",
    "df['estrategia'] = df['estrategia'].astype(str)\n",
    "df"
   ]
  },
  {
   "cell_type": "markdown",
   "metadata": {
    "tags": []
   },
   "source": [
    "Pero, ¿cómo analizar tanta información junta? 🤔 Hay 117 experimentos corridos más 39 filas de datos reales.\n",
    "Ese es el desafío de la Ciencia de Datos justamente, y, en nuestro caso, la usamos para analizar experimentos.\n",
    "Un primer enfoque es elegir \"aggregations\" adecuadas (formas de medir un conjunto de datos, pueden ser parámetros\n",
    "estadísticos, como el promedio o la mediana, u otros, como la suma) para hacer un resumen del experimento:\n",
    " - count - cuenta los elementos agrupados\n",
    " - sum - suma los elementos agrupados\n",
    " - mean - promedia los elementos agrupados\n",
    " - median, min, max, quantile - otros parámetros estadísticos"
   ]
  },
  {
   "cell_type": "code",
   "execution_count": null,
   "metadata": {
    "tags": []
   },
   "outputs": [],
   "source": [
    "# Elegimos las siguientes:\n",
    "aggregations = {\n",
    "    'estrategia': ['count'],      # Nos interesa saber la cantidad de instancias por renglón\n",
    "    'rutas': ['mean', 'sum'],     # Nos interesa conocer la cantidad de rutas, tanto en promedio como totales\n",
    "    'costo': ['sum'],             # Nos interesa saber el costo de la flota total\n",
    "    'paradas_prom': ['mean'],     # Nos interesa la cantidad promedio de paradas promedio\n",
    "    'distancia_prom': ['mean'],   # Nos interesa la distancia promedio\n",
    "    'duracion_prom': ['mean'],    # Nos interesa la duración promedio\n",
    "    'relgap': ['mean'],           # Nos interesa el promedio de gap relativo\n",
    "    'tiempo_cpu': ['sum']         # Nos interesa el total de tiempo consumido por CPLEX\n",
    "}\n",
    "df.groupby(by=['estrategia']).agg(aggregations)"
   ]
  },
  {
   "cell_type": "code",
   "execution_count": null,
   "metadata": {
    "tags": []
   },
   "outputs": [],
   "source": [
    "# Podemos ampliar este resumen agregando, por ejemplo, un desglosado por día de la semana\n",
    "df.groupby(by=['estrategia', 'dia']).agg(aggregations)"
   ]
  },
  {
   "cell_type": "code",
   "execution_count": null,
   "metadata": {
    "tags": []
   },
   "outputs": [],
   "source": [
    "# Otro ejemplo podría ser desagregar por depósito. Si observamos bien, tenemos la información\n",
    "# del depósito en el nombre de la instancia. Entonces podemos crear una nueva columna en el dataframe\n",
    "# con el número de depósito, mediante una función que lee el nombre de la instancia y extrae ese número.\n",
    "\n",
    "def extraeDepot(instancia):\n",
    "    return int(instancia.split('_')[0].split('t')[1])\n",
    "    \n",
    "    \n",
    "# Ejemplo (siempre viene bien probar nuestra función antes)\n",
    "assert extraeDepot('Depot4_Wednesday_1') == 4, 'Error en la respuesta'\n",
    "\n",
    "# Ahora generamos la columna 'Depot' (se agrega al final)\n",
    "df['Depot'] = df['instancia'].apply(lambda x: extraeDepot(x))\n",
    "df"
   ]
  },
  {
   "cell_type": "code",
   "execution_count": null,
   "metadata": {
    "tags": []
   },
   "outputs": [],
   "source": [
    "# Se pueden sobreescribir columnas también con \"apply\". Por ejemplo, si\n",
    "# nos interesa conocer el costo en dólares en vez de pesos, podemos hacer\n",
    "# la conversión dividiendo por la tasa de cambio.\n",
    "tasa = 1020.0\n",
    "df['costo'] = df['costo'].apply(lambda x: x / tasa)\n",
    "df"
   ]
  },
  {
   "cell_type": "code",
   "execution_count": null,
   "metadata": {
    "tags": []
   },
   "outputs": [],
   "source": [
    "# Algo que se suele necesitar es conocer el porcentaje de ahorro de cada estrategia respecto al ejecutado (R).\n",
    "# Esto se puede hacer también con una nueva columna \"ahorro\".\n",
    "\n",
    "def computa_ahorro(costo, instancia):\n",
    "    # Aquí restringimos el dataframe al ejecutado, con misma instancia que la que se compara\n",
    "    df_R = df[df['estrategia'] == 'R']\n",
    "    df_instancia = df_R[df_R['instancia'] == instancia]\n",
    "    costo_real = float(df_instancia['costo'].iloc[0])\n",
    "    return 100.0 * (costo_real - costo) / costo_real\n",
    "\n",
    "\n",
    "# Ejemplo: el costo real de Depot1_Tuesday_7 fue de u$ 6922. Entonces una flota de u$ 5538 supone\n",
    "# un ahorro del 20%\n",
    "print('Ahorro = ' + str(computa_ahorro(5538, 'Depot1_Tuesday_7')))\n",
    "\n",
    "# Calculamos la nueva columna usando \"apply\" pero esta vez se recibe la fila entera, la cual se puede\n",
    "# procesar con columnas específicas (como en este caso que elegimos la del costo y la instancia).\n",
    "df['ahorro'] = df.apply(lambda row: computa_ahorro(row['costo'], row['instancia']), axis=1)"
   ]
  },
  {
   "cell_type": "code",
   "execution_count": null,
   "metadata": {
    "tags": []
   },
   "outputs": [],
   "source": [
    "# Veamos cómo queda\n",
    "aggregations['ahorro'] = ['mean']\n",
    "df.groupby(by=['estrategia', 'Depot']).agg(aggregations)"
   ]
  },
  {
   "cell_type": "code",
   "execution_count": null,
   "metadata": {
    "tags": []
   },
   "outputs": [],
   "source": [
    "# A veces puede ser útil \"navegar\" la información...\n",
    "# (primero definimos algunas funciones de rutina, que no requiere que las entendamos\n",
    "# para el propósito del ejercicio)\n",
    "\n",
    "from typing import List\n",
    "from IPython.display import HTML, display\n",
    "\n",
    "def widget_select_multiple(df, column, value=None):\n",
    "    opts = sorted(list(df[column].unique()))\n",
    "    if value is None:\n",
    "        value = opts\n",
    "    return widgets.SelectMultiple(options=opts, value=value, rows=7, description=column.capitalize())\n",
    "\n",
    "\n",
    "def view_fun(estrategias: List[str], instancias: List[str], metricas: List[str], df: pd.DataFrame) -> None:\n",
    "    if len(metricas) > 0:\n",
    "        grouped = df[df.instancia.isin(instancias) & df.estrategia.isin(estrategias)].groupby(['instancia', 'estrategia'])[list(metricas)].first()\n",
    "        styler = grouped.style.set_properties(subset=[grouped.columns[0]], **{'text-align': 'center'})\n",
    "        display(HTML(styler.to_html(render_links=True, escape=True)))\n",
    "\n",
    "            \n",
    "def view(est, ins, mets):\n",
    "    view_fun(est, ins, mets, df)\n",
    "\n",
    "    \n",
    "def get_all_widgets(df, default_metrics):\n",
    "    est_widget = widget_select_multiple(df, 'estrategia')\n",
    "    ins_widget = widget_select_multiple(df, 'instancia')\n",
    "    metrics_list = list(df.columns)\n",
    "    metrics_list.remove('estrategia')\n",
    "    metrics_list.remove('instancia')\n",
    "    metrics_list.sort()\n",
    "    metrics_widget = widgets.SelectMultiple(options=metrics_list, value=default_metrics, rows=7, description='Metricas')\n",
    "    return est_widget, ins_widget, metrics_widget"
   ]
  },
  {
   "cell_type": "code",
   "execution_count": null,
   "metadata": {
    "tags": []
   },
   "outputs": [],
   "source": [
    "# Hagamos un panel con las Estrategias a elegir, nombre de la Instancia, y Metricas\n",
    "\n",
    "metricas_defecto = ['rutas', 'costo', 'relgap', 'tiempo_cpu']\n",
    "est_widget, ins_widget, metrics_widget = get_all_widgets(df, metricas_defecto)\n",
    "\n",
    "controls = interactive(view, est=est_widget, ins=ins_widget, mets=metrics_widget)\n",
    "display(VBox([HBox(controls.children[:-1]), controls.children[-1]]))"
   ]
  },
  {
   "cell_type": "markdown",
   "metadata": {
    "tags": []
   },
   "source": [
    "### Actividad 2\n",
    " - Determine en qué simulación se produce el mayor ahorro, y dentro de esta, en qué depósito.\n",
    " - A veces, para saber qué tan cercana fue una simulación a lo ocurrido realmente, se utiliza una métrica de desvío. Implemente una métrice \"desvio_paradas\" que compare el promedio de paradas entre uan estrategia y la ejecutada (R). Determine qué simulación se adhiere más a los resultados reales."
   ]
  },
  {
   "cell_type": "code",
   "execution_count": null,
   "metadata": {
    "tags": []
   },
   "outputs": [],
   "source": [
    "# Celda para realizar Actividad 2"
   ]
  },
  {
   "cell_type": "markdown",
   "metadata": {},
   "source": [
    "## Graficando resultados\n",
    "\n",
    "También pueden revisar https://matplotlib.org/2.0.2/gallery.html"
   ]
  },
  {
   "cell_type": "code",
   "execution_count": null,
   "metadata": {
    "tags": []
   },
   "outputs": [],
   "source": [
    "# Acá vemos una gráfica tipo \"scatter\" donde cada punto representa una instancia.\n",
    "# Vemos, por ej, que la 3ra. estrategia parece generar menores tiempo y estar más concentrada.\n",
    "\n",
    "df.plot(kind = 'scatter', x = 'estrategia', y = 'tiempo_cpu')"
   ]
  },
  {
   "cell_type": "code",
   "execution_count": null,
   "metadata": {
    "tags": []
   },
   "outputs": [],
   "source": [
    "# Sin embargo, en la gráfica anterior podrían haber puntos encimados. Para tener una mejor\n",
    "# idea de la distribución, podemos hacer \"boxplots\" que muestran un intervalo con el minimo y máximo\n",
    "# valor, y también el rango intercuartílico (de Q1 a Q3).\n",
    "\n",
    "df.boxplot(by='estrategia', column='tiempo_cpu')"
   ]
  },
  {
   "cell_type": "markdown",
   "metadata": {},
   "source": [
    "### Actividad 3\n",
    "\n",
    "- Usando tanto el panel de métricas como gráficas scatter/boxplot y observe si hay alguna tendencia en las estrategias o los depósitos en cuanto a la distancia recorrida o duración de las rutas. \n",
    "- Investigue cómo eliminar \"outliers\" a partir de algún parámetro, esto ocurre cuando dicho parámetro cae fuera del rango intercuartílico. Elimine los outliers de las 3 estrategias respecto al tiempo_cpu y vuelva a graficar, ¿cambia mucho con respecto a las gráficas anteriores?"
   ]
  },
  {
   "cell_type": "code",
   "execution_count": null,
   "metadata": {},
   "outputs": [],
   "source": [
    "# Celda para realizar Actividad 3"
   ]
  },
  {
   "cell_type": "markdown",
   "metadata": {},
   "source": [
    "### Actividad 4\n",
    "\n",
    "En el notebook anterior, realizamos un experimento para calcular un parámetro de un conjunto de grafos, y obtuvimos una tabla que resume dicho experimento. En esta actividad vamos a leer esa tabla como un dataframe y analizar el experimento. Algunas preguntas para guiar el análisis:\n",
    "- ¿Cómo promediar tiempos de ejecución cuando tenemos instancias no resueltas? Probar dos formas de promediar: 1) para un mismo tamaño de instancia, promediar sólo aquellas que fueros resueltas, 2) para un mismo tamaño de instancias, promediar todas asignando un valor de ejecución máximo a aquellas que no fueron resueltas. \n",
    "- ¿Cuál/cuáles son los factores asociados a un mayor tiempo de ejecución? (tamaño de la instancia, densidad del grafo, valor del parámetro)\n",
    "- ¿Cómo se relaciona el valor del parámetro con las instancias? ¿aumenta con la cantidad de vértices, aristas o densidad?\n",
    "- ¿Puede concluir algo sobre las instancias no resueltas analizando, por ejemplo, el gap?\n",
    "\n",
    "Acompañe su análisis con gráficas."
   ]
  },
  {
   "cell_type": "code",
   "execution_count": null,
   "metadata": {},
   "outputs": [],
   "source": [
    "# Celda para realizar Actividad 4"
   ]
  }
 ],
 "metadata": {
  "kernelspec": {
   "display_name": "Python 3 (ipykernel)",
   "language": "python",
   "name": "python3"
  },
  "language_info": {
   "codemirror_mode": {
    "name": "ipython",
    "version": 3
   },
   "file_extension": ".py",
   "mimetype": "text/x-python",
   "name": "python",
   "nbconvert_exporter": "python",
   "pygments_lexer": "ipython3",
   "version": "3.12.3"
  }
 },
 "nbformat": 4,
 "nbformat_minor": 4
}
