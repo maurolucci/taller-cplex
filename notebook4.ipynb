{
 "cells": [
  {
   "cell_type": "markdown",
   "id": "ac0cdb12",
   "metadata": {},
   "source": [
    "## Grafos arcos circulares\n",
    "\n",
    "<b>Definición.</b> Un grafo arco circular es el grafo de intersección de un conjunto de arcos de circunferencia.\n",
    "\n",
    "Dado un modelo de arcos, para construir el grafo arco circular asociado se agrega un vértice por cada arco del modelo y una arista entre todo par de vértices cuyos arcos correspondientes se intersectan en la circunferencia. Ver <a href=\"https://en.wikipedia.org/wiki/Circular-arc_graph#/media/File:Circular-arc_graph.svg\">ejemplo</a>.\n",
    "\n",
    "Existen muchas maneras de representar un modelo de arcos. Usaremos la que se explica a continuación.\n",
    "\n",
    "Podemos pensar que la circunferencia representa medio día (12 horas, como si fuese un reloj analógico) y que los arcos representan intervalos de tiempo. Por ejemplo, podemos pensar en el arco $[10$:$00,11$:$30]$ o también en el arco $[10$:$45,2$:$50]$. Notar que el segundo ejemplo \"da la vuelta\" al pasar por el $0$:$00$.\n",
    "\n",
    "Por simplicidad, en lugar de trabajar con horas, minutos y segundos, usaremos horas decimales en el intervalo $[0,12)$. Y a los arcos los representaremos con una tupla de Python con dos horas decimales. Así, el arco $[10$:$00,11$:$30]$ se representa como $(10,11.5)$ y el arco $[10$:$45,2$:$50]$ con $(10.75,2.83)$.\n",
    "\n",
    "También por simplicidad no vamos a permitir tuplas de la forma $(i,f)$ con $i=f$. En consecuencia, no podremos representar arcos triviales (formados por un único punto o por la circunferencia completa). En caso de trabajar con intervalos triviales, se deberá ajustar de forma acorde el material propuesto en este notebook.\n",
    "\n",
    "Notar que en nuestras tuplas $(i,f)$ puede ocurrir $i < f$ (<b>tipo 1</b>) o $f > i$ (<b>tipo 2</b>). Además, los intervalos de tipo 2 se pueden descomponer en dos intervalos de tipo 1: $(i,11.\\overline{9})$ y $(0,f)$.\n",
    "\n",
    "Por lo tanto, podemos definir una función <code>construir_arco_circular(arcos)</code> que tome una lista de arcos y devuelva su grafo arco circular asociado. Para poder definirla, necesitaremos previamente una función <code>hay_interseccion(i1,f1,i2,f2)</code> que determine cuando dos arcos <code>(i1,f1)</code> y <code>(i2,f2)</code> se intersectan.\n",
    "\n",
    "Una forma sencilla de chequear si dos arcos $(i_1,f_1)$ y $(i_2,f_2)$ ambos de tipo 1 se intersectan es mediante el siguiente predicado (pensar algunos ejemplos para convencerse):\n",
    "\n",
    "$$ i_1 \\leq f_2 \\wedge i_2 \\leq f_1 $$\n",
    "\n",
    "Lamentablemente, en nuestro caso vamos a tener que contemplar los casos restantes.\n",
    "\n",
    "* Si ambos son de tipo 2, entonces siempre se entersectan porque ambos contienen al 0.\n",
    "* Si $(i_1,f_1)$ es de tipo 1 y $(i_2,f_2)$ es de tipo 2, entonces podemos descomponer a $(i_2,f_2)$ en los arcos $(i_2,11.\\overline{9})$ y $(0,f_2)$ ambos de tipo 1. Luego podemos chequear si $(i_1,f_1)$ se intersecta con alguno de ellos mediante el predicado que aprendimos más arriba.\n",
    "\n",
    "Entonces, empecemos definiendo una función <code>hay_interseccion_1_1(i1,f1,i2,f2)</code> que asume que ambos arcos son de tipo 1:"
   ]
  },
  {
   "cell_type": "code",
   "execution_count": 54,
   "id": "2096bc52",
   "metadata": {},
   "outputs": [],
   "source": [
    "def hay_interseccion_1_1(i1,f1,i2,f2):\n",
    "    return i1 <= f2 and i2 <= f1"
   ]
  },
  {
   "cell_type": "markdown",
   "id": "f7d9d419",
   "metadata": {},
   "source": [
    "Y algunos casos de prueba:"
   ]
  },
  {
   "cell_type": "code",
   "execution_count": 55,
   "id": "a28af91b",
   "metadata": {},
   "outputs": [],
   "source": [
    "assert hay_interseccion_1_1(2,6,5,9) == True\n",
    "assert hay_interseccion_1_1(2,6,1,3) == True\n",
    "assert hay_interseccion_1_1(2,6,7,9) == False\n",
    "assert hay_interseccion_1_1(7,9,2,6) == False"
   ]
  },
  {
   "cell_type": "markdown",
   "id": "2173bc4b",
   "metadata": {},
   "source": [
    "Ahora vamos a definir una función <code>hay_interseccion_1_2(i1,f1,i2,f2)</code> que asume que el primer arco es de tipo 1 y el segundo es de tipo 2:"
   ]
  },
  {
   "cell_type": "code",
   "execution_count": 56,
   "id": "6cbbdf31",
   "metadata": {},
   "outputs": [],
   "source": [
    "def hay_interseccion_1_2(i1,f1,i2,f2):    \n",
    "    return hay_interseccion_1_1(i1,f1,i2,12) or hay_interseccion_1_1(i1,f1,0,f2)"
   ]
  },
  {
   "cell_type": "markdown",
   "id": "87eaf2db",
   "metadata": {},
   "source": [
    "Y algunos casos de prueba:"
   ]
  },
  {
   "cell_type": "code",
   "execution_count": 57,
   "id": "2d5d34fe",
   "metadata": {},
   "outputs": [],
   "source": [
    "assert hay_interseccion_1_2(2,6,9,3) == True\n",
    "assert hay_interseccion_1_2(2,6,9,8) == True\n",
    "assert hay_interseccion_1_2(2,6,11,1) == False"
   ]
  },
  {
   "cell_type": "markdown",
   "id": "c1a899e3",
   "metadata": {},
   "source": [
    "No vamos a definir una función <code>hay_interseccion_2_1</code> que asume que el primer arco es de tipo 2 y el segundo es de tipo 1, sino que llamaremos a la anterior con los argumentos intercambiados.\n",
    "\n",
    "Ahora si ya tenemos todo listo para definir <code>hay_interseccion(i1,f1,i2,f2)</code> que identifique el tipo de arcos y se comporte de forma adecuada."
   ]
  },
  {
   "cell_type": "code",
   "execution_count": 58,
   "id": "43959bdf",
   "metadata": {},
   "outputs": [],
   "source": [
    "def hay_interseccion(i1,f1,i2,f2):\n",
    "    if i1 < f1 and i2 < f2: # Caso tipo 1 y tipo 1\n",
    "        return hay_interseccion_1_1(i1,f1,i2,f2)\n",
    "    elif i1 < f1 and i2 > f2: # Caso tipo 1 y tipo 2\n",
    "        return hay_interseccion_1_2(i1,f1,i2,f2)\n",
    "    elif i1 > f1 and i2 < f2: # Caso tipo 2 y tipo 1\n",
    "        return hay_interseccion_1_2(i2,f2,i1,f1)\n",
    "    else: # Caso tipo 2 y tipo 2\n",
    "        return True"
   ]
  },
  {
   "cell_type": "markdown",
   "id": "2657a166",
   "metadata": {},
   "source": [
    "Y sus casos de prueba:"
   ]
  },
  {
   "cell_type": "code",
   "execution_count": 59,
   "id": "17a9d525",
   "metadata": {},
   "outputs": [],
   "source": [
    "assert hay_interseccion(2,6,1,3) == True\n",
    "assert hay_interseccion(10,4,11,1) == True\n",
    "assert hay_interseccion(11,5,8,10) == False\n",
    "assert hay_interseccion(11,5,4,10) == True"
   ]
  },
  {
   "cell_type": "markdown",
   "id": "6f46d0bc",
   "metadata": {},
   "source": [
    "Listo, ya tenemos todo listo para definir la función <code>construir_arco_circular(arcos)</code>. Podemos considerar que <code>arcos</code> es una lista de tuplas con los arcos que queremos considerar. Por ejemplo, para el siguiente <a href=\"https://en.wikipedia.org/wiki/Circular-arc_graph#/media/File:Circular-arc_graph.svg\">ejemplo</a> los arcos de circunferencia podrían ser (mas o menos) los siguientes:\n",
    "\n",
    "$$A: (5.5,8.5)$$\n",
    "$$B: (6.5,10.5)$$\n",
    "$$C: (9.5,0.5)$$\n",
    "$$D: (11.5,2.5)$$\n",
    "$$E: (1.5,4.5)$$\n",
    "$$F: (3.5,7.5)$$"
   ]
  },
  {
   "cell_type": "code",
   "execution_count": 45,
   "id": "f88f5a72",
   "metadata": {},
   "outputs": [],
   "source": [
    "arcos1 = [(5.5,8.5), (6.5,10.5), (9.5,0.5), (11.5,2.5), (1.5,4.5), (3.5,7.5)]"
   ]
  },
  {
   "cell_type": "markdown",
   "id": "e65416fd",
   "metadata": {},
   "source": [
    "La idea para definir <code>construir_arco_circular(arcos)</code> es considerar un vértice por cada arco de <code>arcos</code> y luego recorrer todos los pares de arcos de <code>arcos</code> y agregar una arista entre los respectivos vértices si los arcos tienen intersección. \n",
    "\n",
    "Podemos aprovechar un truco de Python para iterar simultáneamente sobre los los índices y los elementos de una lista:\n",
    "\n",
    "<code>for j, arco in enumerate(arcos):</code> \n",
    "\n",
    "donde <code>j</code> es el índice y <code>arco</code> es el elemento de la lista, en nuestro caso, una tupla que representa el arco. Iteremos e imprimamos estas variables para ver lo que pasa.  "
   ]
  },
  {
   "cell_type": "code",
   "execution_count": 60,
   "id": "1950f841",
   "metadata": {},
   "outputs": [
    {
     "name": "stdout",
     "output_type": "stream",
     "text": [
      "0 :  (5.5, 8.5)\n",
      "1 :  (6.5, 10.5)\n",
      "2 :  (9.5, 0.5)\n",
      "3 :  (11.5, 2.5)\n",
      "4 :  (1.5, 4.5)\n",
      "5 :  (3.5, 7.5)\n"
     ]
    }
   ],
   "source": [
    "for j, arco in enumerate(arcos1):\n",
    "    print(j,\": \",arco)"
   ]
  },
  {
   "cell_type": "markdown",
   "id": "343a76a2",
   "metadata": {},
   "source": [
    "Por lo tanto, podemos usar a los índices como el nombre de los vértices. Por ejemplo $(5.5, 8.5)$ se representa con el vértice 0, $(6.5, 10.5)$ con 1, y así sucesivamente. \n",
    "\n",
    "Además, Python nos deja desarmar la tupla para tener a sus componentes de forma más directa:"
   ]
  },
  {
   "cell_type": "code",
   "execution_count": 61,
   "id": "36fc121a",
   "metadata": {},
   "outputs": [
    {
     "name": "stdout",
     "output_type": "stream",
     "text": [
      "5.5 :  0 ,  8.5\n",
      "6.5 :  1 ,  10.5\n",
      "9.5 :  2 ,  0.5\n",
      "11.5 :  3 ,  2.5\n",
      "1.5 :  4 ,  4.5\n",
      "3.5 :  5 ,  7.5\n"
     ]
    }
   ],
   "source": [
    "for j, (i, f) in enumerate(arcos1):\n",
    "    print(i,\": \",j,\", \",f)"
   ]
  },
  {
   "cell_type": "markdown",
   "id": "cac4bd9f",
   "metadata": {},
   "source": [
    "Con este truco, ya estamos en condiciones de definir nuestra función."
   ]
  },
  {
   "cell_type": "code",
   "execution_count": 62,
   "id": "635bc398",
   "metadata": {},
   "outputs": [],
   "source": [
    "import networkx as nx\n",
    "\n",
    "def construir_arco_circular(arcos):\n",
    "    G = nx.Graph() # Inicializamos un grafo vacio\n",
    "    for j1, (i1,f1) in enumerate(arcos):\n",
    "        for j2, (i2,f2) in enumerate(arcos):\n",
    "            if (j1 < j2 # Control para evitar agregar bucles y aristas por duplicado \n",
    "                and hay_interseccion(i1,f1,i2,f2)): # Los arcos se intersectan\n",
    "                G.add_edge(j1,j2)\n",
    "    return G"
   ]
  },
  {
   "cell_type": "markdown",
   "id": "5555d22e",
   "metadata": {},
   "source": [
    "Probemos nuestra función:"
   ]
  },
  {
   "cell_type": "code",
   "execution_count": 63,
   "id": "42911b51",
   "metadata": {},
   "outputs": [
    {
     "data": {
      "image/png": "[encoded data removed]",
      "text/plain": [
       "<Figure size 640x480 with 1 Axes>"
      ]
     },
     "metadata": {},
     "output_type": "display_data"
    }
   ],
   "source": [
    "G = construir_arco_circular(arcos1)\n",
    "nx.draw_networkx(G)"
   ]
  },
  {
   "cell_type": "markdown",
   "id": "5761382b",
   "metadata": {},
   "source": [
    "### &#x1f4bb;  Actividad 1\n",
    "\n",
    "Usar la función <code>construir_arco_circular</code> que definimos para construir el grafo arco circular del siguiente <a href=\"https://images.app.goo.gl/pzwN7hERDhGDp6we9\">ejemplo</a>."
   ]
  },
  {
   "cell_type": "code",
   "execution_count": 52,
   "id": "b5cc5df9",
   "metadata": {},
   "outputs": [],
   "source": [
    "# Celda para resolver Actividad 1"
   ]
  },
  {
   "cell_type": "markdown",
   "id": "c0a27cad",
   "metadata": {},
   "source": [
    "### &#x1f4bb;  Actividad 2\n",
    "\n",
    "<b>Definición.</b> Un grafo de intervalo es el grafo de intersección de un conjunto de intervalos en la recta numérica.\n",
    "\n",
    "Dado un modelo de intervalos, para construir el grafo de intervalo asociado se agrega un vértice por cada intervalo del modelo y una arista entre todo par de vértices cuyos intervalos correspondientes se intersecten en la recta. Ver <a href=\"https://en.wikipedia.org/wiki/Interval_graph#/media/File:Interval_graph.svg\">ejemplo</a>.\n",
    "\n",
    "Implementar una función <code>construir_de_intervalo(intervalos)</code> que toma una lista de intervalos (cada intervalo se puede representar con una tupla de 2 números) y retorna el grafo de intervalo asociado."
   ]
  },
  {
   "cell_type": "code",
   "execution_count": null,
   "id": "ffae0630",
   "metadata": {},
   "outputs": [],
   "source": [
    "# Celda para resolver Actividad 2"
   ]
  },
  {
   "cell_type": "code",
   "execution_count": null,
   "id": "3feb4d17",
   "metadata": {},
   "outputs": [],
   "source": []
  }
 ],
 "metadata": {
  "kernelspec": {
   "display_name": "Python 3 (ipykernel)",
   "language": "python",
   "name": "python3"
  },
  "language_info": {
   "codemirror_mode": {
    "name": "ipython",
    "version": 3
   },
   "file_extension": ".py",
   "mimetype": "text/x-python",
   "name": "python",
   "nbconvert_exporter": "python",
   "pygments_lexer": "ipython3",
   "version": "3.10.12"
  }
 },
 "nbformat": 4,
 "nbformat_minor": 5
}
