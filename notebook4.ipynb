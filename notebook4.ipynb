{
 "cells": [
  {
   "cell_type": "markdown",
   "id": "32a1c3f0",
   "metadata": {},
   "source": [
    "# Notæ 4\n",
    "\n",
    "# Generación de grafos avanzados\n",
    "\n",
    "\n",
    "En este notebook aprenderemos a construir grafos más avanzados, como por ejemplo orugas, langostas, de kneser, arco circulares y de intervalo. Al final del mismo, también veremos cómo construir grafos aleatorios para algunas de estas clases.\n",
    "\n",
    "El objetivo es podes armar un dataset con diferentes grafos de prueba para probar los algoritmos de optimización que vayamos desarrollando.\n",
    "\n",
    "Por lo pronto, comenzamos por importar el paquete <code>NetworkX</code>."
   ]
  },
  {
   "cell_type": "code",
   "execution_count": 74,
   "id": "9147bcc1",
   "metadata": {},
   "outputs": [],
   "source": [
    "import networkx as nx"
   ]
  },
  {
   "cell_type": "markdown",
   "id": "5d70984b",
   "metadata": {},
   "source": [
    "## Grafos orugas &#128027;\n",
    "\n",
    "<b>Definición.</b> Un grafo oruga es un árbol en el cual todos los vértices se encuentran a distancia a lo sumo 1 de un camino central.\n",
    "\n",
    "<b>Ejemplo.</b>\n",
    "\n",
    "<p><a href=\"https://commons.wikimedia.org/wiki/File:Caterpillar_tree.svg#/media/File:Caterpillar_tree.svg\"><img src=\"https://upload.wikimedia.org/wikipedia/commons/b/b7/Caterpillar_tree.svg\" alt=\"Caterpillar tree.svg\" height=\"180\" width=\"540\"></p>"
   ]
  },
  {
   "cell_type": "markdown",
   "id": "00e3ac75",
   "metadata": {},
   "source": [
    "Existen muchas caracterizaciones equivalentes, por ejemplo, son árboles que luego de remover todas las hojas y las aristas incidentes en ellas se obtiene un camino.\n",
    "\n",
    "Una forma de generar estos grafos es mediante una función <code>generar_oruga(patas)</code> donde <code>patas</code> es una lista de números enteros no negativos que representan la cantidad de vértices colgantes fuera del camino central (patas) que tiene cada vértice del camino central.\n",
    "\n",
    "En el ejemplo anterior, el primer vértice tiene 0, el segundo tiene 0, el tercero 1, el cuarto 5, y así suceviamente..."
   ]
  },
  {
   "cell_type": "code",
   "execution_count": 120,
   "id": "dec33ab9",
   "metadata": {},
   "outputs": [],
   "source": [
    "patas = [0,0,1,5,0,2,4,0]"
   ]
  },
  {
   "cell_type": "markdown",
   "id": "b20aea43",
   "metadata": {},
   "source": [
    "La idea es que <code>generar_oruga(patas)</code> construya un camino del largo de <code>patas</code> y, para cada vértice $i$ del camino, agregue a $i$ tantas aristas como colgantes tenga. Podemos aprovechar un truco de Python para facilitar el mapeo entre los vértices del camino y los índices de la lista. Disponemos de la función <code>enumerate</code> que permite iterar simultáneamente sobre los los índices y los elementos de una lista:\n",
    "\n",
    "<code>for i, m in enumerate(lista):</code> \n",
    "\n",
    "donde <code>i</code> es el índice y <code>m</code> es el elemento de la lista. Por ejemplo:"
   ]
  },
  {
   "cell_type": "code",
   "execution_count": 121,
   "id": "b7a11bf2",
   "metadata": {},
   "outputs": [
    {
     "name": "stdout",
     "output_type": "stream",
     "text": [
      "0 :  0\n",
      "1 :  0\n",
      "2 :  1\n",
      "3 :  5\n",
      "4 :  0\n",
      "5 :  2\n",
      "6 :  4\n",
      "7 :  0\n"
     ]
    }
   ],
   "source": [
    "for i, m in enumerate(colgantes):\n",
    "    print(i,\": \",m)"
   ]
  },
  {
   "cell_type": "markdown",
   "id": "ac2ca7ce",
   "metadata": {},
   "source": [
    "Por lo tanto, al vértice 0 le tenemos que agregar 0 colgantes, lo mismo al vértice 1, al vértice 2 le tenemos que agregar 1 colgante, y así sucesivamente. Lo único que resta es decidir qué identificador usar para los vértices colgantes. Para resolver esto, mantenemos una variable <code>v = n</code> con el identificador del próximo vértice a agregar (inicialemente los vértices del camino van del 0 al $n-1$ y $n$ es el primer identificador libre). Cada vez que agregamos un nuevo colgante, tenemos que avanzar en 1 el identificador."
   ]
  },
  {
   "cell_type": "code",
   "execution_count": 122,
   "id": "2c219d57",
   "metadata": {},
   "outputs": [],
   "source": [
    "def generar_oruga(patas):\n",
    "    n = len(patas) # Nro. de vertices del camino central\n",
    "    G = nx.path_graph(n) # Grafo camino\n",
    "    v = n # Proximo vertice a agregar \n",
    "    for i, m in enumerate(patas):\n",
    "        for j in range(m):\n",
    "            G.add_edge(i,v)\n",
    "            v += 1\n",
    "    return G"
   ]
  },
  {
   "cell_type": "markdown",
   "id": "ad9dcdbf",
   "metadata": {},
   "source": [
    "Intentemos generar el grafo oruga de arriba."
   ]
  },
  {
   "cell_type": "code",
   "execution_count": 123,
   "id": "51ca5d16",
   "metadata": {
    "scrolled": true
   },
   "outputs": [
    {
     "data": {
      "image/png": "[encoded data removed]",
      "text/plain": [
       "<Figure size 432x288 with 1 Axes>"
      ]
     },
     "metadata": {},
     "output_type": "display_data"
    }
   ],
   "source": [
    "oruga = generar_oruga(patas)\n",
    "nx.draw_networkx(oruga)"
   ]
  },
  {
   "cell_type": "markdown",
   "id": "b3e5787f",
   "metadata": {},
   "source": [
    "### &#x1f4bb;  Actividad 1 &#129438;\n",
    "\n",
    "Usar la función <code>generar_oruga</code> para generar grafos a y b de la siguiente imagen.\n",
    "\n",
    "<p><a href=\"https://images.app.goo.gl/aRxBbmCGRcnQXbVNA\"><img src=\"https://d3i71xaburhd42.cloudfront.net/0edbdd27d6d2f6675c1b9783866474f4760d9c95/3-Figure3-1.png\" alt=\"Caterpillar and lobster graphs.svg\" height=\"141\" width=\"794\"></p>"
   ]
  },
  {
   "cell_type": "code",
   "execution_count": 136,
   "id": "b02a9e44",
   "metadata": {},
   "outputs": [],
   "source": [
    "### Espacio para completar Actividad 1"
   ]
  },
  {
   "cell_type": "markdown",
   "id": "77e4bd77",
   "metadata": {},
   "source": [
    "### &#x1f4bb;  Actividad 2 &#129438;\n",
    "\n",
    "\n",
    "<p><a href=\"https://images.app.goo.gl/mBdeGYphanmdUkv39\"><img src=\"https://brownsharpie.courtneygibbons.org/wp-content/comics/2007-04-30-lobster-tree-1.jpg\" alt=\"Lobster joke.jpg\" height=\"367\" width=\"500\"></p>\n",
    "\n",
    "\n",
    "<b>Definición.</b> Un grafo langosta es un árbol en el cual todos los vértices se encuentran a distancia a lo sumo 2 de un camino central.\n",
    "    \n",
    "Notar que si en un grafo langosta se remueven todas las hojas y las aristas incidentes a ellas se obtiene un grafo oruga.\n",
    "\n",
    "En esta actividad se propone escribir una función <code>generar_langosta(patas)</code> que genera un grafo langosta. En este caso, <code>patas</code> es una lista de listas de números enteros no negativos. Así entonces, del $i$-ésimo vértice del camino central cualgan tantos vértices como el largo de <code>patas[i]</code> y, del $j$-ésimo vértice que cuelga de $i$ cuelgan tantos vértices como el número almacenado en <code>patas[i][j]</code>. \n",
    "  \n",
    "Veamos un ejemplo de construcción, supongamos la siguiente lista de listas de números."
   ]
  },
  {
   "cell_type": "code",
   "execution_count": 137,
   "id": "9481fed2",
   "metadata": {},
   "outputs": [],
   "source": [
    "patas = [[], [0], [3], [2,0,1]]"
   ]
  },
  {
   "cell_type": "markdown",
   "id": "abeff560",
   "metadata": {},
   "source": [
    "El grafo langosta correspondiente comienza por un camino de largo 4, pues patas tiene largo 4."
   ]
  },
  {
   "cell_type": "code",
   "execution_count": 138,
   "id": "7ba3d6b4",
   "metadata": {},
   "outputs": [
    {
     "data": {
      "image/png": "[encoded data removed]",
      "text/plain": [
       "<Figure size 432x288 with 1 Axes>"
      ]
     },
     "metadata": {},
     "output_type": "display_data"
    }
   ],
   "source": [
    "langosta = nx.path_graph(len(patas))\n",
    "\n",
    "# Del vértice 0 no cuelga nada porque patas[0] es vacio\n",
    "\n",
    "# Del vértice 1 cuelga un vértice 4 porque patas[1] tiene largo 1\n",
    "langosta.add_edge(1,4)\n",
    "# Del vértice 4 no cuelga nada porque patas[1][0] = 0\n",
    "\n",
    "# Del vértice 2 cuelga un vértice 5 porque patas[2] tiene largo 1\n",
    "langosta.add_edge(2,5)\n",
    "# Del vértice 5 cuelgan tres vértices 6,7,8 porque patas[2][0] = 3\n",
    "langosta.add_edges_from([(5,6), (5,7), (5,8)])\n",
    "\n",
    "# Del vértice 3 cuelgan tres vértices 9,10,11 porque patas[3] tiene largo 3\n",
    "langosta.add_edges_from([(3,9), (3,10), (3,11)])\n",
    "# Del vértice 9 cuelgan dos vértices 12,13 porque patas[3][0] = 2\n",
    "langosta.add_edges_from([(9,12), (9,13)])\n",
    "# Del vértice 10 no cuelga nada porque patas[3][1] = 0\n",
    "# Del vértice 11 cuelga un vértice 14 porque patas[3][2] = 1\n",
    "langosta.add_edge(11,14)\n",
    "\n",
    "nx.draw_networkx(langosta)"
   ]
  },
  {
   "cell_type": "markdown",
   "id": "c2193b88",
   "metadata": {},
   "source": [
    "Escribir una función <code>generar_langosta(patas)</code> que automatice la construcción manual que hicimos recién."
   ]
  },
  {
   "cell_type": "code",
   "execution_count": 135,
   "id": "0dbc84f5",
   "metadata": {},
   "outputs": [],
   "source": [
    "### Espacio para completar Actividad 2"
   ]
  },
  {
   "cell_type": "markdown",
   "id": "1fee708e",
   "metadata": {},
   "source": [
    "### &#x1f4bb;  Actividad 3\n",
    "\n",
    "Usar la función <code>generar_langosta</code> para generar todos los grafos de la siguiente imagen (incluídos a y b que además son orugas).\n",
    "\n",
    "<p><a href=\"https://images.app.goo.gl/aRxBbmCGRcnQXbVNA\"><img src=\"https://d3i71xaburhd42.cloudfront.net/0edbdd27d6d2f6675c1b9783866474f4760d9c95/3-Figure3-1.png\" alt=\"Caterpillar and lobster graphs.svg\" height=\"141\" width=\"794\"></p>"
   ]
  },
  {
   "cell_type": "code",
   "execution_count": null,
   "id": "e0b322ae",
   "metadata": {},
   "outputs": [],
   "source": [
    "### Espacio para completar Actividad 3"
   ]
  },
  {
   "cell_type": "markdown",
   "id": "9362343a",
   "metadata": {},
   "source": [
    "## Grafos de Kneser\n",
    "\n",
    "<b>Definición.</b> El grafo de Kneser $K(n,r)$ es el grafo cuyos vertices se corresponden con los subconjuntos de $r$ elementos de un conjunto de $n$ elementos y donde dos vértices son adyacentes si y solo si los subconjuntos correspondientes no tienen intersección.\n",
    "\n",
    "<b>Ejemplo.</b>\n",
    "\n",
    "<p><a href=\"https://commons.wikimedia.org/wiki/File:Kneser_graph_KG(5,2).svg#/media/File:Kneser_graph_KG(5,2).svg\"><img src=\"https://upload.wikimedia.org/wikipedia/commons/e/e6/Kneser_graph_KG%285%2C2%29.svg\" alt=\"Kneser graph KG(5,2).svg\" height=\"545\" width=\"568\">"
   ]
  },
  {
   "cell_type": "markdown",
   "id": "8fe854eb",
   "metadata": {},
   "source": [
    "Para generar estos grafos será de utilidad la función <code>combinations</code> del paquete <code>itertools</code> de Python."
   ]
  },
  {
   "cell_type": "code",
   "execution_count": 76,
   "id": "3d51a2d7",
   "metadata": {},
   "outputs": [],
   "source": [
    "from itertools import combinations"
   ]
  },
  {
   "cell_type": "markdown",
   "id": "e3760f8e",
   "metadata": {},
   "source": [
    "La función <code>combinations(A,k)</code> generar todos los subconjuntos de $k$ elementos del conjunto $A$. En particular, nos interesa cuando A es el conjunto $\\{0,\\ldots,n-1\\}$, es decir:"
   ]
  },
  {
   "cell_type": "code",
   "execution_count": 78,
   "id": "66cba31b",
   "metadata": {},
   "outputs": [
    {
     "data": {
      "text/plain": [
       "<itertools.combinations at 0x7ffb966158f0>"
      ]
     },
     "execution_count": 78,
     "metadata": {},
     "output_type": "execute_result"
    }
   ],
   "source": [
    "n = 5\n",
    "k = 2\n",
    "combinations(range(n), k)"
   ]
  },
  {
   "cell_type": "markdown",
   "id": "5b3eda50",
   "metadata": {},
   "source": [
    "La salida anterior es un poco extraña. Esto se debe a que Python genera los subconjuntos a demanda (es decir, devuelve un iterador). Por el momento no nos vamos a preocupar demasiado por esto, y directamente vamos a llamar a <code>list</code> para convertirlo en una lista:"
   ]
  },
  {
   "cell_type": "code",
   "execution_count": 79,
   "id": "22697b0d",
   "metadata": {
    "scrolled": true
   },
   "outputs": [
    {
     "data": {
      "text/plain": [
       "[(0, 1),\n",
       " (0, 2),\n",
       " (0, 3),\n",
       " (0, 4),\n",
       " (1, 2),\n",
       " (1, 3),\n",
       " (1, 4),\n",
       " (2, 3),\n",
       " (2, 4),\n",
       " (3, 4)]"
      ]
     },
     "execution_count": 79,
     "metadata": {},
     "output_type": "execute_result"
    }
   ],
   "source": [
    "list(combinations(range(n), k))"
   ]
  },
  {
   "cell_type": "markdown",
   "id": "b4a54bf7",
   "metadata": {},
   "source": [
    "Ahora sí vemos que nos devuelve una lista con todos los subconjuntos y que cada subconjunto lo representa con una tupla de $k$ elementos. \n",
    "\n",
    "Lo único que nos falta entonces es una forma de saber si dos tuplas tienen intersección vacía. Una forma sencilla de resolver esto es convertir las tuplas en conjuntos (set de Python) y luego aprovechar el método <code>intersection</code> de la clase <code>Set</code> para encontrar la intersección de dos conjuntos. Por ejemplo:"
   ]
  },
  {
   "cell_type": "code",
   "execution_count": 88,
   "id": "69224b17",
   "metadata": {},
   "outputs": [],
   "source": [
    "tupla1 = (0,1)\n",
    "tupla2 = (0,2)\n",
    "tupla3 = (3,4)"
   ]
  },
  {
   "cell_type": "code",
   "execution_count": 89,
   "id": "6c9260b3",
   "metadata": {},
   "outputs": [
    {
     "data": {
      "text/plain": [
       "{0}"
      ]
     },
     "execution_count": 89,
     "metadata": {},
     "output_type": "execute_result"
    }
   ],
   "source": [
    "set(tupla1).intersection(set(tupla2))"
   ]
  },
  {
   "cell_type": "markdown",
   "id": "4b17b889",
   "metadata": {},
   "source": [
    "Y por último, con la palabra <code>not</code> podemos reconocer si un conjunto es vacío o no:"
   ]
  },
  {
   "cell_type": "code",
   "execution_count": 91,
   "id": "50f03db3",
   "metadata": {},
   "outputs": [
    {
     "data": {
      "text/plain": [
       "True"
      ]
     },
     "execution_count": 91,
     "metadata": {},
     "output_type": "execute_result"
    }
   ],
   "source": [
    "not {}"
   ]
  },
  {
   "cell_type": "code",
   "execution_count": 92,
   "id": "4d2d13d1",
   "metadata": {},
   "outputs": [
    {
     "data": {
      "text/plain": [
       "False"
      ]
     },
     "execution_count": 92,
     "metadata": {},
     "output_type": "execute_result"
    }
   ],
   "source": [
    "not {1,2,3,4}"
   ]
  },
  {
   "cell_type": "markdown",
   "id": "cd6f9ff4",
   "metadata": {},
   "source": [
    "Con todo esto, ya estamos listos para generar grafos de Kneser."
   ]
  },
  {
   "cell_type": "code",
   "execution_count": 98,
   "id": "92393b13",
   "metadata": {},
   "outputs": [],
   "source": [
    "def generar_kneser(n, k):\n",
    "    G = nx.Graph() # Grafo vacio\n",
    "    subconj = list(combinations(range(n), k))\n",
    "    for i, u in enumerate(subconj):\n",
    "        for j, v in enumerate(subconj):\n",
    "            if (i < j and\n",
    "                not set(u).intersection(set(v))):\n",
    "                G.add_edge(i,j)\n",
    "    return G"
   ]
  },
  {
   "cell_type": "markdown",
   "id": "9ed01748",
   "metadata": {},
   "source": [
    "Y como caso de prueba generamos a $K(5,2)$ que debería ser isomorfo al grafo de Petersen."
   ]
  },
  {
   "cell_type": "code",
   "execution_count": 99,
   "id": "41cf7103",
   "metadata": {},
   "outputs": [],
   "source": [
    "petersen = generar_kneser(5,2)\n",
    "assert nx.is_isomorphic(petersen, nx.petersen_graph())"
   ]
  },
  {
   "cell_type": "markdown",
   "id": "b932639f",
   "metadata": {},
   "source": [
    "Cuando trabajamos con grafos de kneser, muchas veces es útil poder recuperar el subconjunto asociado a cada vértice. Para ello, vamos a modificar nuestra función para retornar también la lista de subconjuntos."
   ]
  },
  {
   "cell_type": "code",
   "execution_count": 100,
   "id": "e8dbd7b3",
   "metadata": {},
   "outputs": [],
   "source": [
    "def generar_kneser(n, k):\n",
    "    G = nx.Graph() # Grafo vacio\n",
    "    subconj = list(combinations(range(n), k))\n",
    "    for i, u in enumerate(subconj):\n",
    "        for j, v in enumerate(subconj):\n",
    "            if (i < j and\n",
    "                not set(u).intersection(set(v))):\n",
    "                G.add_edge(i,j)\n",
    "    return G, subconj"
   ]
  },
  {
   "cell_type": "markdown",
   "id": "8ed3f65f",
   "metadata": {},
   "source": [
    "Ahora los retornos de <code>generar_kneser</code> debemos guardarlos en dos variables. Por ejemplo:"
   ]
  },
  {
   "cell_type": "code",
   "execution_count": 103,
   "id": "a924edfd",
   "metadata": {},
   "outputs": [],
   "source": [
    "petersen, mapeo = generar_kneser(5,2)"
   ]
  },
  {
   "cell_type": "markdown",
   "id": "f74f0920",
   "metadata": {},
   "source": [
    "De esta forma podemos recuperar el subconjunto asociado al $i$-ésimo vértice."
   ]
  },
  {
   "cell_type": "code",
   "execution_count": 109,
   "id": "7f1b7f44",
   "metadata": {},
   "outputs": [
    {
     "data": {
      "text/plain": [
       "(1, 3)"
      ]
     },
     "execution_count": 109,
     "metadata": {},
     "output_type": "execute_result"
    }
   ],
   "source": [
    "i = 5\n",
    "mapeo[i]"
   ]
  },
  {
   "cell_type": "markdown",
   "id": "6119fdc7",
   "metadata": {},
   "source": [
    "En caso de no necesitarlo, simplemente podemos ignorar este retorno con un <code>_</code> (guion bajo)"
   ]
  },
  {
   "cell_type": "code",
   "execution_count": 110,
   "id": "e5b5c28e",
   "metadata": {},
   "outputs": [],
   "source": [
    "petersen, _ = generar_kneser(5,2)"
   ]
  },
  {
   "cell_type": "markdown",
   "id": "68730d90",
   "metadata": {},
   "source": [
    "### &#x1f4bb;  Actividad 4\n",
    "\n",
    "Muchas veces también necesitamos el mapeo inverso, es decir, dado un subconjunto, encontrar el vértice correspondiente. Definir una función <code>invertir_mapeo(lista)</code> que tome una lista de elementos diferentes y retorne un diccionario de Python que asocie a cada elemento de la lista con su índice correspondiente. \n",
    "\n",
    "Por ejemplo, dada la lista:"
   ]
  },
  {
   "cell_type": "code",
   "execution_count": 116,
   "id": "c1ffe2f2",
   "metadata": {},
   "outputs": [
    {
     "data": {
      "text/plain": [
       "[20, 5, 9, 4]"
      ]
     },
     "execution_count": 116,
     "metadata": {},
     "output_type": "execute_result"
    }
   ],
   "source": [
    "[20, 5, 9, 4]"
   ]
  },
  {
   "cell_type": "markdown",
   "id": "e6a74d28",
   "metadata": {},
   "source": [
    "La función debería devolver el siguiente diccionario:"
   ]
  },
  {
   "cell_type": "code",
   "execution_count": 117,
   "id": "f665805d",
   "metadata": {
    "scrolled": true
   },
   "outputs": [
    {
     "data": {
      "text/plain": [
       "{20: 0, 5: 1, 9: 2, 4: 3}"
      ]
     },
     "execution_count": 117,
     "metadata": {},
     "output_type": "execute_result"
    }
   ],
   "source": [
    "{20: 0, 5: 1, 9: 2, 4: 3}"
   ]
  },
  {
   "cell_type": "markdown",
   "id": "65af38b4",
   "metadata": {},
   "source": [
    "Con esta función, podemos invertir el mapeo que nos devuelve <code>generar_kneser</code> y determinar el vértice asociado a cada subconjunto dado de entrada."
   ]
  },
  {
   "cell_type": "code",
   "execution_count": 119,
   "id": "15116999",
   "metadata": {},
   "outputs": [],
   "source": [
    "### Espacio para completar Actividad 4"
   ]
  },
  {
   "cell_type": "markdown",
   "id": "ac0cdb12",
   "metadata": {},
   "source": [
    "## Grafos arco circulares\n",
    "\n",
    "<b>Definición.</b> Un grafo arco circular es el grafo de intersección de un conjunto de arcos de circunferencia.\n",
    "\n",
    "Dado un modelo de arcos, para construir el grafo arco circular asociado se agrega un vértice por cada arco del modelo y una arista entre todo par de vértices cuyos arcos correspondientes se intersectan en la circunferencia. "
   ]
  },
  {
   "cell_type": "markdown",
   "id": "4ea3eb74",
   "metadata": {},
   "source": [
    "<b>Ejemplo</b>.\n",
    "\n",
    "<p><a href=\"https://commons.wikimedia.org/wiki/File:Circular-arc_graph.svg#/media/File:Circular-arc_graph.svg\"><img src=\"https://upload.wikimedia.org/wikipedia/commons/3/3f/Circular-arc_graph.svg\" alt=\"Circular-arc graph.svg\" height=\"432\" width=\"675\"></p>"
   ]
  },
  {
   "cell_type": "markdown",
   "id": "2a4cb793",
   "metadata": {},
   "source": [
    "Existen muchas maneras de representar un modelo de arcos. Usaremos la que se explica a continuación.\n",
    "\n",
    "Podemos pensar que la circunferencia representa medio día (12 horas, como si fuese un reloj analógico) y que los arcos representan intervalos de tiempo. Por ejemplo, $[10$:$00,11$:$30]$ o $[10$:$45,2$:$50]$. Notar que el segundo ejemplo \"da la vuelta\" al pasar por el $0$:$00$.\n",
    "\n",
    "Por simplicidad, en lugar de trabajar con horas, minutos y segundos, usaremos horas decimales en el intervalo $[0,12)$. Y a los arcos los representaremos con una tupla de Python con dos horas decimales. Así, el arco $[10$:$00,11$:$30]$ se representa como $(10,11.5)$ y el arco $[10$:$45,2$:$50]$ con $(10.75,2.83)$.\n",
    "\n",
    "También por simplicidad no vamos a permitir tuplas de la forma $(i,f)$ con $i=f$. En consecuencia, no podremos representar arcos triviales (formados por un único punto o por la circunferencia completa). En caso de necesitarlos, se deberá ajustar de forma acorde el material propuesto en este notebook.\n",
    "\n",
    "Notar que en nuestras tuplas $(i,f)$ puede ocurrir $i < f$ (<b>tipo 1</b>) o $f > i$ (<b>tipo 2</b>). Además, los intervalos de tipo 2 se pueden descomponer en dos intervalos de tipo 1: $(i,11.\\overline{9})$ y $(0,f)$."
   ]
  },
  {
   "cell_type": "markdown",
   "id": "8a3cd311",
   "metadata": {},
   "source": [
    "Por lo tanto, podemos definir una función <code>generar_arco_circular(arcos)</code> que tome una lista de arcos y devuelva su grafo arco circular asociado. Para poder definirla, necesitaremos previamente una función <code>hay_interseccion(i1,f1,i2,f2)</code> que determine cuando dos arcos <code>(i1,f1)</code> y <code>(i2,f2)</code> se intersectan.\n",
    "\n",
    "Una forma sencilla de chequear si dos arcos $(i_1,f_1)$ y $(i_2,f_2)$ ambos de tipo 1 se intersectan es mediante el siguiente predicado (pensar algunos ejemplos para convencerse):\n",
    "\n",
    "$$ i_1 \\leq f_2 \\wedge i_2 \\leq f_1 $$\n",
    "\n",
    "Lamentablemente, en nuestro caso vamos a tener que contemplar los casos restantes.\n",
    "\n",
    "* Si ambos son de tipo 2, entonces siempre se entersectan porque ambos contienen al 0.\n",
    "* Si $(i_1,f_1)$ es de tipo 1 y $(i_2,f_2)$ es de tipo 2, entonces podemos descomponer a $(i_2,f_2)$ en los arcos $(i_2,11.\\overline{9})$ y $(0,f_2)$ ambos de tipo 1. Luego podemos chequear si $(i_1,f_1)$ se intersecta con alguno de ellos mediante el predicado que aprendimos más arriba.\n",
    "\n",
    "Entonces, empecemos definiendo una función <code>hay_interseccion_1_1(i1,f1,i2,f2)</code> que asume que ambos arcos son de tipo 1:"
   ]
  },
  {
   "cell_type": "code",
   "execution_count": 27,
   "id": "2096bc52",
   "metadata": {},
   "outputs": [],
   "source": [
    "def hay_interseccion_1_1(i1,f1,i2,f2):\n",
    "    return i1 <= f2 and i2 <= f1"
   ]
  },
  {
   "cell_type": "markdown",
   "id": "f7d9d419",
   "metadata": {},
   "source": [
    "Los casos de prueba para esta función y para las futuras funciones que definamos se encuentran al final del notebook para no interrumpir la lectura.\n",
    "\n",
    "Ahora vamos a definir una función <code>hay_interseccion_1_2(i1,f1,i2,f2)</code> que asume que el primer arco es de tipo 1 y el segundo es de tipo 2:"
   ]
  },
  {
   "cell_type": "code",
   "execution_count": 28,
   "id": "6cbbdf31",
   "metadata": {},
   "outputs": [],
   "source": [
    "def hay_interseccion_1_2(i1,f1,i2,f2):    \n",
    "    return hay_interseccion_1_1(i1,f1,i2,12) or hay_interseccion_1_1(i1,f1,0,f2)"
   ]
  },
  {
   "cell_type": "markdown",
   "id": "c1a899e3",
   "metadata": {},
   "source": [
    "No vamos a definir una función <code>hay_interseccion_2_1</code> que asume que el primer arco es de tipo 2 y el segundo es de tipo 1, sino que llamaremos a la anterior con los argumentos intercambiados.\n",
    "\n",
    "Ahora si ya tenemos todo listo para definir <code>hay_interseccion(i1,f1,i2,f2)</code> que identifique el tipo de arcos y se comporte de forma adecuada."
   ]
  },
  {
   "cell_type": "code",
   "execution_count": 29,
   "id": "43959bdf",
   "metadata": {},
   "outputs": [],
   "source": [
    "def hay_interseccion(i1,f1,i2,f2):\n",
    "    if i1 < f1 and i2 < f2: # Caso tipo 1 y tipo 1\n",
    "        return hay_interseccion_1_1(i1,f1,i2,f2)\n",
    "    elif i1 < f1 and i2 > f2: # Caso tipo 1 y tipo 2\n",
    "        return hay_interseccion_1_2(i1,f1,i2,f2)\n",
    "    elif i1 > f1 and i2 < f2: # Caso tipo 2 y tipo 1\n",
    "        return hay_interseccion_1_2(i2,f2,i1,f1)\n",
    "    else: # Caso tipo 2 y tipo 2\n",
    "        return True"
   ]
  },
  {
   "cell_type": "markdown",
   "id": "6f46d0bc",
   "metadata": {},
   "source": [
    "Listo, ya tenemos todo listo para definir la función <code>generar_arco_circular(arcos)</code>. Podemos considerar que <code>arcos</code> es una lista de tuplas con los arcos que queremos considerar. Para el grafo arco circular de arriba, los arcos de circunferencia podrían ser (mas o menos) los siguientes:\n",
    "\n",
    "$$A: (5.5,8.5)$$\n",
    "$$B: (6.5,10.5)$$\n",
    "$$C: (9.5,0.5)$$\n",
    "$$D: (11.5,2.5)$$\n",
    "$$E: (1.5,4.5)$$\n",
    "$$F: (3.5,7.5)$$"
   ]
  },
  {
   "cell_type": "code",
   "execution_count": 30,
   "id": "f88f5a72",
   "metadata": {},
   "outputs": [],
   "source": [
    "arcos = [(5.5,8.5), (6.5,10.5), (9.5,0.5), (11.5,2.5), (1.5,4.5), (3.5,7.5)]"
   ]
  },
  {
   "cell_type": "markdown",
   "id": "e65416fd",
   "metadata": {},
   "source": [
    "La idea para definir <code>generar_arco_circular(arcos)</code> es considerar un vértice por cada arco de <code>arcos</code>. Nuevamente, aprovecharemos la función <code>enumerate</code> de Python para simplificar el mapeo entre vértices y arcos. Por último, vamos a recorrer todos los pares de arcos de <code>arcos</code> y agregar una arista entre los respectivos vértices si los arcos tienen intersección. "
   ]
  },
  {
   "cell_type": "code",
   "execution_count": 32,
   "id": "635bc398",
   "metadata": {},
   "outputs": [],
   "source": [
    "def generar_arco_circular(arcos):\n",
    "    G = nx.Graph() # Inicializamos un grafo vacio\n",
    "    for j1, (i1,f1) in enumerate(arcos):\n",
    "        for j2, (i2,f2) in enumerate(arcos):\n",
    "            if (j1 < j2 # Control para evitar agregar bucles y aristas por duplicado \n",
    "                and hay_interseccion(i1,f1,i2,f2)): # Los arcos se intersectan\n",
    "                G.add_edge(j1,j2)\n",
    "    return G"
   ]
  },
  {
   "cell_type": "markdown",
   "id": "5555d22e",
   "metadata": {},
   "source": [
    "Probemos nuestra función:"
   ]
  },
  {
   "cell_type": "code",
   "execution_count": 34,
   "id": "42911b51",
   "metadata": {
    "scrolled": false
   },
   "outputs": [
    {
     "data": {
      "image/png": "[encoded data removed]",
      "text/plain": [
       "<Figure size 432x288 with 1 Axes>"
      ]
     },
     "metadata": {},
     "output_type": "display_data"
    }
   ],
   "source": [
    "arco_circular1 = generar_arco_circular(arcos)\n",
    "nx.draw_networkx(arco_circular1)"
   ]
  },
  {
   "cell_type": "markdown",
   "id": "62ab52cf",
   "metadata": {},
   "source": [
    "<b>Observaciones.</b> \n",
    "* La función <code>generar_arco_circular</code> descarta vértices aislados. De toda formas, no es demasiado habitual considerarlos.\n",
    "* La función <code>generar_arco_circular</code> puede construir grafos no conexos."
   ]
  },
  {
   "cell_type": "markdown",
   "id": "5761382b",
   "metadata": {},
   "source": [
    "### &#x1f4bb;  Actividad 5\n",
    "\n",
    "Usar la función <code>generar_arco_circular</code> que definimos para construir el siguiente grafo arco circular.\n",
    "\n",
    "<p><a href=\"https://images.app.goo.gl/pzwN7hERDhGDp6we9\"><img src=\"https://www.researchgate.net/publication/373838311/figure/fig2/AS:11431281188042507@1694489113469/A-circular-arc-representation-for-a-graph-along-with-its-associated-drawing.png\" alt=\"Circular-arc graph.svg\" height=\"310\" width=\"667\"></p>"
   ]
  },
  {
   "cell_type": "code",
   "execution_count": 139,
   "id": "b5cc5df9",
   "metadata": {},
   "outputs": [],
   "source": [
    "### Espacio para completar Actividad 5"
   ]
  },
  {
   "cell_type": "markdown",
   "id": "c0a27cad",
   "metadata": {},
   "source": [
    "### &#x1f4bb;  Actividad 6\n",
    "\n",
    "<b>Definición.</b> Un grafo de intervalo es el grafo de intersección de un conjunto de intervalos en la recta numérica.\n",
    "\n",
    "Dado un modelo de intervalos, para construir el grafo de intervalo asociado se agrega un vértice por cada intervalo del modelo y una arista entre todo par de vértices cuyos intervalos correspondientes se intersecten en la recta. Ver <a href=\"https://en.wikipedia.org/wiki/Interval_graph#/media/File:Interval_graph.svg\">ejemplo</a>.\n",
    "\n",
    "Implementar una función <code>generar_de_intervalo(intervalos)</code> que toma una lista de intervalos (cada intervalo se puede representar con una tupla de 2 números) y retorna el grafo de intervalo asociado."
   ]
  },
  {
   "cell_type": "code",
   "execution_count": 140,
   "id": "ffae0630",
   "metadata": {},
   "outputs": [],
   "source": [
    "### Espacio para completar Actividad 6"
   ]
  },
  {
   "cell_type": "markdown",
   "id": "79769fa5",
   "metadata": {},
   "source": [
    "## Grafos aleatorios\n",
    "\n",
    "En muchas situaciones, es útil poder generar grafos aleatorios. Por ejemplo, tenemos un programa que resuelve el problema de dominación y queremos estudiar como se comporta en grafos aleatorios. Ya hemos mencionado que NetworkX dispone de la función <code>erdos_renyi_graph(n, p)</code> para generar un grafo aleatorio de $n$ vértices y densidad aproximadamente $p$. Pero... ¿y si queremos grafos aleatorios pertenencientes a cierta clase, como orugas o arco circulares?\n",
    "\n",
    "La respuesta no es trivial y requiere definir ciertos parámetros para la generación. A continuación presentamos algunas propuestas, pero primeramente importamos el paquete <code>random</code> que nos permitirá generar números aleatorios."
   ]
  },
  {
   "cell_type": "code",
   "execution_count": 141,
   "id": "57e9653a",
   "metadata": {},
   "outputs": [],
   "source": [
    "import random"
   ]
  },
  {
   "cell_type": "markdown",
   "id": "5b38e212",
   "metadata": {},
   "source": [
    "### Grafos orugas aleatorios\n",
    "\n",
    "Una posibilidad es que nuestro parámetro de generación sea el número $n$ de vértices del camino central. Luego, podemos generar una lista con $n$ números enteros no negativos aleatorios para indicar cuántas patas agregar a cada vértice. \n",
    "Aunque es un enfoque válido, difícilmente sea útil en la práctica porque no tenemos control sobre el número de patas, es decir, es igualmente probable que un vértice tenga 0, 20 o 1 millón de patas. \n",
    "A raíz de esta observación, también proponemos como parámetros adicionales a dos números enteros no negativos $i$ y $f$ tales que $i \\leq f$ que limiten el número de patas por vértice a un número aleatorio en el intervalo $[i,f]$.\n",
    "\n",
    "Este comportamiento es capturado por la siguiente función. Notar que la función <code>randint(i,f)</code> del paquete <code>random</code> permite generar un número entero aleatorio entre $i$ y $f$, ambos incluídos."
   ]
  },
  {
   "cell_type": "code",
   "execution_count": 153,
   "id": "f18ffff8",
   "metadata": {},
   "outputs": [],
   "source": [
    "def generar_oruga_aleatorio(n,i,f):\n",
    "    patas = [random.randint(i,f) for _ in range(n)]\n",
    "    return generar_oruga(patas)"
   ]
  },
  {
   "cell_type": "markdown",
   "id": "bad26737",
   "metadata": {},
   "source": [
    "Probemos nuestra función."
   ]
  },
  {
   "cell_type": "code",
   "execution_count": 156,
   "id": "cf538f5c",
   "metadata": {},
   "outputs": [
    {
     "data": {
      "image/png": "[encoded data removed]",
      "text/plain": [
       "<Figure size 432x288 with 1 Axes>"
      ]
     },
     "metadata": {},
     "output_type": "display_data"
    }
   ],
   "source": [
    "oruga = generar_oruga_aleatorio(5,0,3)\n",
    "nx.draw_networkx(oruga)"
   ]
  },
  {
   "cell_type": "markdown",
   "id": "7d55055e",
   "metadata": {},
   "source": [
    "Notar que cada vez que volvemos a ejecutar la celda de arriba, se genera un nuevo grafo oruga, muy posiblemente diferente al anterior, debido a que la función <code>randint</code> varía su salida.\n",
    "\n",
    "Es importante mencionar que los parámetros que elegimos para la generación fueron una elección. De acuerdo a nuestras necesidades, podríamos haber incluído otros parámetros, por ejemplo, el número total patas."
   ]
  },
  {
   "cell_type": "markdown",
   "id": "6b7d8586",
   "metadata": {},
   "source": [
    "### Grafos arco circulares aleatorios\n",
    "\n",
    "De forma similar a la anterior, podemos usar como parámetros el número total $n$ de vértices y dos números reales $i$ y $f$ tales que $0 < i < f < 12$ para indicar la extensión mínima y máxima de cada intervalo (arco del círculo). Así, por cada vértice, vamos a generar un intervalo aleatorio de la siguiente forma. Primero, generamos un número real aleatorio $a$ en el intervalo $[0,12)$, que sería el inicio del intervalo. Luego, generamos un número real aleatorio $b$ en el intervalo $[i,f]$, que sería el largo del intervalo. \n",
    "\n",
    "Este comportamiento es capturado por la siguiente función. Notar que la función <code>uniform(i,f)</code> del paquete <code>random</code> permite generar un número de punto flotante aleatorio entre $i$ y $f$, ambos incluídos (aunque la probabilidad de que sea igual a $i$ o $f$ es casi nula, por lo que no nos preocuparemos)."
   ]
  },
  {
   "cell_type": "code",
   "execution_count": 247,
   "id": "34df1603",
   "metadata": {},
   "outputs": [],
   "source": [
    "def generar_arco_circular_aleatorio(n,i,f):\n",
    "    arcos = []\n",
    "    for _ in range(n):\n",
    "        a = random.uniform(0,12)\n",
    "        b = random.uniform(i,f)\n",
    "        if a + b < 12: # Intervalo de tipo 1\n",
    "            arcos.append((a,a+b))\n",
    "        else: # Intervalo de tipo 2\n",
    "            arcos.append((a,(a+b)-12))\n",
    "    return generar_arco_circular(arcos)"
   ]
  },
  {
   "cell_type": "markdown",
   "id": "883354e0",
   "metadata": {},
   "source": [
    "Probemos nuestra función."
   ]
  },
  {
   "cell_type": "code",
   "execution_count": 255,
   "id": "091ab9b6",
   "metadata": {},
   "outputs": [
    {
     "data": {
      "image/png": "[encoded data removed]",
      "text/plain": [
       "<Figure size 432x288 with 1 Axes>"
      ]
     },
     "metadata": {},
     "output_type": "display_data"
    }
   ],
   "source": [
    "arco_circular = generar_arco_circular_aleatorio(5,2,6)\n",
    "nx.draw_networkx(arco_circular)"
   ]
  },
  {
   "cell_type": "markdown",
   "id": "a13d55ae",
   "metadata": {},
   "source": [
    "Obviamente esta no es la respuesta definitiva a la generación aleatoria de grafos y, como mencionamos más arriba, podríamos necesitar incluir otros parámetros para alguna aplicación particular. Por ejemplo, ¿tendría sentido tomar como parámetro la densidad del grafo arco circular?, ¿cómo construiríamos un grafo arco circular con una densidad dada?. Estas son solo algunas preguntas que pueden aparecer y con las que probablemente tengamos que lidiar si queremos estudiar, por ejemplo, cuanto afecta la densidad del grafo de entrada a la performance de nuestro algoritmo. "
   ]
  },
  {
   "cell_type": "markdown",
   "id": "ab04314c",
   "metadata": {},
   "source": [
    "### Casos de prueba"
   ]
  },
  {
   "cell_type": "code",
   "execution_count": null,
   "id": "80ce7c6e",
   "metadata": {},
   "outputs": [],
   "source": [
    "assert hay_interseccion_1_1(2,6,5,9) == True\n",
    "assert hay_interseccion_1_1(2,6,1,3) == True\n",
    "assert hay_interseccion_1_1(2,6,7,9) == False\n",
    "assert hay_interseccion_1_1(7,9,2,6) == False\n",
    "\n",
    "assert hay_interseccion_1_2(2,6,9,3) == True\n",
    "assert hay_interseccion_1_2(2,6,9,8) == True\n",
    "assert hay_interseccion_1_2(2,6,11,1) == False\n",
    "\n",
    "assert hay_interseccion(2,6,1,3) == True\n",
    "assert hay_interseccion(10,4,11,1) == True\n",
    "assert hay_interseccion(11,5,8,10) == False\n",
    "assert hay_interseccion(11,5,4,10) == True"
   ]
  }
 ],
 "metadata": {
  "kernelspec": {
   "display_name": "Python 3 (ipykernel)",
   "language": "python",
   "name": "python3"
  },
  "language_info": {
   "codemirror_mode": {
    "name": "ipython",
    "version": 3
   },
   "file_extension": ".py",
   "mimetype": "text/x-python",
   "name": "python",
   "nbconvert_exporter": "python",
   "pygments_lexer": "ipython3",
   "version": "3.10.12"
  }
 },
 "nbformat": 4,
 "nbformat_minor": 5
}
