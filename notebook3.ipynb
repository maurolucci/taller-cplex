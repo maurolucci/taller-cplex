{
 "cells": [
  {
   "cell_type": "markdown",
   "id": "9242cd9e",
   "metadata": {},
   "source": [
    "# Notæ 3 \n",
    "\n",
    "## Formulaciones de PLE basadas en grafos"
   ]
  },
  {
   "cell_type": "markdown",
   "id": "c1b2d9ff",
   "metadata": {},
   "source": [
    "### Introducción\n",
    "\n",
    "Los problemas provenientes de la optimización de recursos muchas veces pueden ser modelados como problemas en grafos. Generalmente, estos problemas pertenecen a la clase NP-difícil, por lo que no se esperan encontrar algoritmos eficientes que permitan resolver todas las instancias. No obstante, contar con algoritmos que resuelvan al menos instancias pequeñas es una herramienta fundamental para complementar el análisis estructural. Mediante ellos, es posible poner a prueba conjeturas, verificar resultados obtenidos de forma analítica, delegar al software actividades mecánicas, etc. \n",
    "\n",
    "El diseño de algoritmos específicos para resolver un problema no es un trabajo sencillo y en general requiere un gran esfuerzo. Por otro lado, una enumeración exhaustiva de las soluciones rápidamente se puede volver computacionalmente intratable incluso en instancias pequeñas. \n",
    "\n",
    "En este contexto, la Programación Lineal Entera (PLE) ha tomado un amplio protagonismo en el diseño de algoritmos. Esto se debe a que su sencillo formalismo es capaz de modelar un gran número de problemas de optimización de recursos. Otro factor que ha contribuido es el surgimiento de softwares de optimización (CPLEX, Gurobi, etc.), los cuales cuentan con potentes algoritmos y mecanismos adicionales para resolver PLE de una forma prácticamente transparente para el usuario.\n",
    "\n",
    "Por estos motivos, la PLE es una herramienta fundamental en nuestra área y suele ser una de las primeras opciones a la hora de diseñar algoritmos para problemas difíciles.\n",
    "\n",
    "El objetivo de este notebook es aprender a escribir y resolver en Python formulaciones de PLE basadas en grafos, donde las variables y restricciones dependan de ciertas estructuras de grafo, tales como, vértices, aristas, cliques, conjuntos estables, entre otras.\n",
    "\n",
    "&#9940; Alto &#9940; No avanzar hasta haber leído los notebooks 1 y 2."
   ]
  },
  {
   "cell_type": "markdown",
   "id": "fa81aca8",
   "metadata": {},
   "source": [
    "### Caso de estudio\n",
    "\n",
    "Seguiremos como caso de estudio el problema de coloreo de vértices. Este problema es muy conocido en el área debido a todas sus aplicaciones, por ejemplo, en problemas de scheduling, de asignación de aulas, de alocación de registros, etc. Antes necesitaremos algunas definiciones.\n",
    "\n",
    "<b>Definición.</b> Dado un grafo $G = (V,E)$ y un conjunto de colores $\\mathcal C$, un coloreo de $G$ es una función $f : V \\to \\mathcal C$ que asigna a cada vértice de $V$ un color de $\\mathcal C$ tal que vértices adyacentes tengan asignados colores distintos, es decir, para toda arista $(u,v) \\in E$, $f(u) \\neq f(v)$.\n",
    "\n",
    "<b>Observación.</b> Dado un coloreo $f$ de $G$ y un color $k \\in \\mathcal C$, $f^{-1}(k)$ es el conjunto de vértices coloreados con $k$.\n",
    "\n",
    "<b>Definición.</b> Dado un coloreo $f$ de $G$, $\\mathcal A_f = \\{k \\in \\mathcal C: f^{-1}(k) \\neq \\emptyset\\}$ es el conjunto de colores usados por $f$. \n",
    "\n",
    "Ahora sí, podemos formular el problema de la siguiente forma:\n",
    "\n",
    "<b>Problema de coloreo de vértices:</b><br>\n",
    "<b>Entrada:</b> Un grafo $G$.<br>\n",
    "<b>Salida:</b> Un coloreo $f$ de $G$ con mínimo $|\\mathcal A_f|$.\n",
    "\n",
    "Existen muchas formulaciones en la literatura que modelan este problema. Nosotros seguiremos la de <a href=\"https://www.sciencedirect.com/science/article/pii/S0166218X0700100X#bib3\">Isabel Méndez-Díaz y Paula Zabala (2008)</a>.\n",
    "\n",
    "Esta formulación posee dos tipos de variables. Por un lado, están las variables binarias de asignación vértice-color, dado $v \\in V$ y $k \\in \\mathcal C$, $x_{vk} = 1$ si y solo si $v$ se pinta con $k$. Por el otro, están las variables binarias de activación de color, dado $k \\in \\mathcal C$, $w_k = 1$ si el color $k$ se usa. \n",
    "\n",
    "La función objetivo consiste en minimizar el número de colores usados, es decir: \n",
    "<p>$$\\min \\sum_{k \\in \\mathcal C}w_k.$$</p>\n",
    "\n",
    "La primer familia de restricciones fuerza a que cada vértice se pinte con exactamente un color:\n",
    "<p>$$ \\sum_{k \\in \\mathcal C} x_{vk} = 1, ~~~~ \\forall~v \\in V. $$</p>\n",
    "\n",
    "La segunda familia de restricciones obliga a que dos vértices adyacentes tengan colores diferentes:\n",
    "<p>$$ x_{vk} + x_{uk} \\leq 1, ~~~~ \\forall~vu \\in E,~  k \\in \\mathcal C.$$</p>\n",
    "\n",
    "Desafortunadamente, estas restricciones no son suficientes porque falta todavía forzar a que las variables de activación de color se activen cuando un color es usado (de lo contrario el mínimo tendría valor objetivo igual a 0). Las autoras proponen una idea fantástica para esto, modificar la segunda familia de restricciones de la siguiente forma:\n",
    "<p>$$ x_{vk} + x_{uk} \\leq w_k, ~~~~ \\forall~vu \\in E,~  k \\in \\mathcal C.$$</p>\n",
    "\n",
    "Así, si uno de los extremos de la arista se pinta con $k$, entonces estas restricciones fuerzan a que $w_k = 1$. A su vez, dado que $w_k$ es binaria, es decir, $w_k \\in \\{0,1\\}$, las restricciones siguen prohibiendo que ambos extremos se pinten con $k$."
   ]
  },
  {
   "cell_type": "markdown",
   "id": "20ec1f0d",
   "metadata": {},
   "source": [
    "### Modelado en Python\n",
    "\n",
    "Código escrito por Daniel. Desgrosarlo y explicarlo paso a paso."
   ]
  },
  {
   "cell_type": "code",
   "execution_count": 1,
   "id": "4720b7a0",
   "metadata": {},
   "outputs": [
    {
     "ename": "NameError",
     "evalue": "name 'G' is not defined",
     "output_type": "error",
     "traceback": [
      "\u001b[0;31m---------------------------------------------------------------------------\u001b[0m",
      "\u001b[0;31mNameError\u001b[0m                                 Traceback (most recent call last)",
      "\u001b[0;32m/tmp/ipykernel_30927/1648956561.py\u001b[0m in \u001b[0;36m<module>\u001b[0;34m\u001b[0m\n\u001b[1;32m      5\u001b[0m \u001b[0;31m# Generamos las variables del modelo\u001b[0m\u001b[0;34m\u001b[0m\u001b[0;34m\u001b[0m\u001b[0m\n\u001b[1;32m      6\u001b[0m \u001b[0mmodelo\u001b[0m \u001b[0;34m=\u001b[0m \u001b[0mModel\u001b[0m\u001b[0;34m(\u001b[0m\u001b[0mname\u001b[0m\u001b[0;34m=\u001b[0m\u001b[0;34m'coloreo'\u001b[0m\u001b[0;34m)\u001b[0m\u001b[0;34m\u001b[0m\u001b[0;34m\u001b[0m\u001b[0m\n\u001b[0;32m----> 7\u001b[0;31m \u001b[0mNN\u001b[0m \u001b[0;34m=\u001b[0m \u001b[0mrange\u001b[0m\u001b[0;34m(\u001b[0m\u001b[0mG\u001b[0m\u001b[0;34m.\u001b[0m\u001b[0mnumber_of_nodes\u001b[0m\u001b[0;34m(\u001b[0m\u001b[0;34m)\u001b[0m\u001b[0;34m)\u001b[0m\u001b[0;34m\u001b[0m\u001b[0;34m\u001b[0m\u001b[0m\n\u001b[0m\u001b[1;32m      8\u001b[0m \u001b[0mX\u001b[0m \u001b[0;34m=\u001b[0m \u001b[0;34m[\u001b[0m\u001b[0;34m[\u001b[0m\u001b[0;36m0\u001b[0m \u001b[0;32mfor\u001b[0m \u001b[0mv\u001b[0m \u001b[0;32min\u001b[0m \u001b[0mNN\u001b[0m\u001b[0;34m]\u001b[0m \u001b[0;32mfor\u001b[0m \u001b[0mj\u001b[0m \u001b[0;32min\u001b[0m \u001b[0mNN\u001b[0m\u001b[0;34m]\u001b[0m\u001b[0;34m\u001b[0m\u001b[0;34m\u001b[0m\u001b[0m\n\u001b[1;32m      9\u001b[0m \u001b[0mW\u001b[0m \u001b[0;34m=\u001b[0m \u001b[0;34m[\u001b[0m\u001b[0;36m0\u001b[0m \u001b[0;32mfor\u001b[0m \u001b[0mj\u001b[0m \u001b[0;32min\u001b[0m \u001b[0mNN\u001b[0m\u001b[0;34m]\u001b[0m\u001b[0;34m\u001b[0m\u001b[0;34m\u001b[0m\u001b[0m\n",
      "\u001b[0;31mNameError\u001b[0m: name 'G' is not defined"
     ]
    }
   ],
   "source": [
    "import cplex\n",
    "from docplex.mp.model import Model\n",
    "import networkx as nx\n",
    "\n",
    "# Generamos las variables del modelo\n",
    "modelo = Model(name='coloreo')\n",
    "NN = range(G.number_of_nodes())\n",
    "X = [[0 for v in NN] for j in NN]\n",
    "W = [0 for j in NN]\n",
    "for v in NN:\n",
    "    for j in NN:\n",
    "        X[v][j] = modelo.binary_var(name='x_' + str(v) + '_' + str(j))\n",
    "for j in NN:\n",
    "    W[j] = modelo.binary_var(name='w_' + str(j))\n",
    "\n",
    "# Generamos la fx objetivo\n",
    "modelo.minimize(modelo.sum(W[j] for j in NN))\n",
    "\n",
    "# Generamos las restricciones de asignación de colores\n",
    "for v in NN:\n",
    "    modelo.add_constraint(modelo.sum(X[v][j] for j in NN) == 1)\n",
    "\n",
    "# Generamos las restricciones de adyacencias\n",
    "for u, v in G.edges:\n",
    "    for j in NN:\n",
    "        modelo.add_constraint(X[u][j] + X[v][j] <= W[j])\n",
    "\n",
    "modelo.export('test.lp')\n",
    "\n",
    "# Resolvemos e imprimimos el número cromático\n",
    "sol = modelo.solve(log_output=True)\n",
    "chi = sol.get_objective_value()\n",
    "print(f'Grafo {filename} tiene chi = {chi}')"
   ]
  },
  {
   "cell_type": "code",
   "execution_count": null,
   "id": "557d170e",
   "metadata": {},
   "outputs": [],
   "source": []
  }
 ],
 "metadata": {
  "kernelspec": {
   "display_name": "Python 3 (ipykernel)",
   "language": "python",
   "name": "python3"
  },
  "language_info": {
   "codemirror_mode": {
    "name": "ipython",
    "version": 3
   },
   "file_extension": ".py",
   "mimetype": "text/x-python",
   "name": "python",
   "nbconvert_exporter": "python",
   "pygments_lexer": "ipython3",
   "version": "3.10.12"
  }
 },
 "nbformat": 4,
 "nbformat_minor": 5
}
