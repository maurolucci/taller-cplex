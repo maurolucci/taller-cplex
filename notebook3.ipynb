{
 "cells": [
  {
   "cell_type": "markdown",
   "id": "9242cd9e",
   "metadata": {},
   "source": [
    "# Notæ 3 \n",
    "\n",
    "## PLE y problemas de optimización en grafos"
   ]
  },
  {
   "cell_type": "markdown",
   "id": "c1b2d9ff",
   "metadata": {},
   "source": [
    "### Introducción\n",
    "\n",
    "Los problemas provenientes de la optimización de recursos muchas veces pueden ser modelados como problemas de optimización en grafos. Generalmente, estos problemas pertenecen a la clase NP-difícil, por lo que no se esperan encontrar algoritmos eficientes que permitan resolver todas las instancias. No obstante, contar con algoritmos que resuelvan al menos instancias pequeñas es una herramienta fundamental para complementar el estudio teórico. Mediante ellos, es posible poner a prueba conjeturas, verificar resultados obtenidos analíticamente, delegar al software actividades mecánicas, etc. \n",
    "\n",
    "El diseño de algoritmos específicos para resolver un problema no es un trabajo sencillo y en general requiere un gran esfuerzo. Por otro lado, una enumeración exhaustiva de las soluciones rápidamente se puede volver computacionalmente intratable incluso en instancias pequeñas. \n",
    "\n",
    "En este contexto, la Programación Lineal Entera (PLE) ha tomado un amplio protagonismo en el diseño de algoritmos. Esto se debe a que su sencillo formalismo es capaz de modelar un gran número de problemas de optimización. Otro factor que ha contribuido es el surgimiento de softwares de optimización: CPLEX, Gurobi, etc., los cuales cuentan con potentes algoritmos para resolver PLE de una forma prácticamente transparente para el usuario.\n",
    "\n",
    "Por estos motivos, la PLE es una herramienta fundamental en nuestra área y suele ser una de las primeras opciones a la hora de diseñar algoritmos para problemas difíciles.\n",
    "\n",
    "El objetivo de este notebook es aprender a escribir y resolver en Python formulaciones de PLE que modelen problemas de optimización en grafos, donde las variables y restricciones dependan de ciertas estructuras de grafo, tales como, vértices, aristas, vecindades, cliques, conjuntos estables, entre otras.\n",
    "\n",
    "&#9940; Alto &#9940; No avanzar hasta haber leído los notebooks 1 y 2."
   ]
  },
  {
   "cell_type": "markdown",
   "id": "fa81aca8",
   "metadata": {},
   "source": [
    "### Caso de estudio\n",
    "\n",
    "Seguiremos como caso de estudio el problema de coloreo de vértices. Este problema es ampliamente conocido en el área debido a todas sus aplicaciones, por ejemplo, en problemas de scheduling, de asignación de aulas, de alocación de registros, etc. Antes necesitaremos algunas definiciones.\n",
    "\n",
    "<b>Definición.</b> Dado un grafo $G = (V,E)$ y un conjunto de colores $\\mathcal C$, un coloreo de $G$ es una función $f : V \\to \\mathcal C$ que asigna a cada vértice de $V$ un color de $\\mathcal C$ tal que vértices adyacentes tengan asignados colores distintos, es decir, para toda arista $uv \\in E$, $f(u) \\neq f(v)$.\n",
    "\n",
    "<b>Observación.</b> Dado un coloreo $f$ de $G$ y un color $k \\in \\mathcal C$, $f^{-1}(k)$ es el conjunto de vértices coloreados con $k$.\n",
    "\n",
    "<b>Definición.</b> Dado un coloreo $f$ de $G$, $\\mathcal A_f = \\{k \\in \\mathcal C: f^{-1}(k) \\neq \\emptyset\\}$ es el conjunto de colores usados por $f$. \n",
    "\n",
    "Ahora sí, podemos formular el problema de la siguiente forma:\n",
    "\n",
    "<b>Problema de coloreo de vértices.</b><br>\n",
    "<b>Entrada:</b> Un grafo $G$.<br>\n",
    "<b>Objetivo:</b> Hallar un coloreo $f$ de $G$ con mínimo $|\\mathcal A_f|$.\n",
    "\n",
    "Existen muchas formulaciones en la literatura que modelan este problema. Nosotros seguiremos la usada por <a href=\"https://www.sciencedirect.com/science/article/pii/S0166218X0700100X#bib3\">Isabel Méndez-Díaz y Paula Zabala (2008)</a>.\n",
    "\n",
    "Esta formulación posee dos tipos de variables. Por un lado, están las variables binarias de asignación vértice-color, dado $v \\in V$ y $k \\in \\mathcal C$, $x_{vk} = 1$ si y solo si $v$ se pinta con $k$. Por el otro, están las variables binarias de activación de color, dado $k \\in \\mathcal C$, $w_k = 1$ si el color $k$ se usa. \n",
    "\n",
    "La función objetivo consiste en minimizar el número de colores usados, es decir: \n",
    "<p>$$\\min \\sum_{k \\in \\mathcal C}w_k.$$</p>\n",
    "\n",
    "La primer familia de restricciones fuerza a que cada vértice se pinte con exactamente un color:\n",
    "<p>$$ \\sum_{k \\in \\mathcal C} x_{vk} = 1, ~~~~ \\forall~v \\in V. $$</p>\n",
    "\n",
    "La segunda familia de restricciones obliga a que dos vértices adyacentes tengan colores diferentes:\n",
    "<p>$$ x_{vk} + x_{uk} \\leq 1, ~~~~ \\forall~vu \\in E,~  k \\in \\mathcal C.$$</p>\n",
    "\n",
    "Desafortunadamente, estas restricciones no son suficientes porque falta todavía forzar a que las variables de activación de color se activen cuando un color es usado (de lo contrario, el mínimo tendría valor objetivo igual a 0). Una idea para solucionar esto consiste en modificar la segunda familia de restricciones de la siguiente forma:\n",
    "<p>$$ x_{vk} + x_{uk} \\leq w_k, ~~~~ \\forall~vu \\in E,~  k \\in \\mathcal C.$$</p>\n",
    "\n",
    "Así, si uno de los extremos de la arista se pinta con $k$, entonces estas restricciones fuerzan a que $w_k = 1$. A su vez, dado que $w_k$ es binaria, es decir, $w_k \\in \\{0,1\\}$, las restricciones siguen prohibiendo que ambos extremos se pinten con $k$.\n",
    "\n",
    "<b>Nota 1.</b> Nada evita que las variables de activación de color se prendan para colores no usados. Por eso, cuando definimos las variables $w_k$, no usamos un \"si y sólo si\". Esto implica que el modelo tiene soluciones factibles que no representan coloreos válidos. Sin embargo, estas soluciones nunca serán óptimas porque siempre podemos encontrar una solución con menor valor objetivo al apagar los colores no usados.\n",
    "\n",
    "<b>Nota 2.</b> Esta formulación no sirve para grafos sin aristas. Si bien es posible arreglarla agregando restricciones de la forma, $x_{vk} \\leq w_k$ para todo vértice $v$ aislado y color $k$, no vamos a complicar la formulación porque el problema de coloreo de vértices es trivial de resolver en esas instancias."
   ]
  },
  {
   "cell_type": "markdown",
   "id": "20ec1f0d",
   "metadata": {},
   "source": [
    "### Modelado en Python\n",
    "\n",
    "Empezamos el modelado importando los paquetes que vamos a necesitar:"
   ]
  },
  {
   "cell_type": "code",
   "execution_count": null,
   "id": "253e3bc3",
   "metadata": {},
   "outputs": [],
   "source": [
    "from docplex.mp.model import Model\n",
    "import networkx as nx"
   ]
  },
  {
   "cell_type": "markdown",
   "id": "a254f74d",
   "metadata": {},
   "source": [
    "Primero, vamos a escribir nuestro modelo para una instancia particular y posteriormente lo vamos a generalizar. Supongamos que queremos colorear el grafo de Petersen:"
   ]
  },
  {
   "cell_type": "code",
   "execution_count": null,
   "id": "8e40ec1e",
   "metadata": {},
   "outputs": [],
   "source": [
    "Petersen = nx.petersen_graph()"
   ]
  },
  {
   "cell_type": "markdown",
   "id": "cfa271a7",
   "metadata": {},
   "source": [
    "Ahora, inicializamos nuestro modelo:"
   ]
  },
  {
   "cell_type": "code",
   "execution_count": null,
   "id": "b979b6cd",
   "metadata": {},
   "outputs": [],
   "source": [
    "modelo_petersen = Model(name='coloreo_petersen')"
   ]
  },
  {
   "cell_type": "markdown",
   "id": "a05c4243",
   "metadata": {},
   "source": [
    "A continuación, definimos el conjunto de colores. Cada color lo vamos a representar con un número entero no negativo. A priori, podriamos usar tantos colores como vértices tenga el grafo. Sin embargo, es sabido que todo grafo $G$ se puede colorear con a lo sumo $\\Delta(G)+1$ colores, es decir, a lo sumo un color más que el máximo grado de $G$. Luego podemos restringir los colores al conjunto $\\{0,\\ldots,\\Delta(G)\\}$. \n",
    "\n",
    "Entonces, tenemos que escribir una función <code>max_grado</code> que tome un grafo y retorne el máximo grado. Existen muchas formas de hacer esto, veamos una sencilla... Primero construimos una lista con el grado de todos los vértices del grafo. Luego, retornamos el máximo de esa lista:"
   ]
  },
  {
   "cell_type": "code",
   "execution_count": null,
   "id": "aa16c354",
   "metadata": {},
   "outputs": [],
   "source": [
    "def max_grado(G):\n",
    "    grados = [G.degree(v) for v in G]\n",
    "    return max(grados)"
   ]
  },
  {
   "cell_type": "markdown",
   "id": "4226acb7",
   "metadata": {},
   "source": [
    "Testeamos nuestra función en el grafo de Petersen definido más arriba:"
   ]
  },
  {
   "cell_type": "code",
   "execution_count": null,
   "id": "be6817dd",
   "metadata": {},
   "outputs": [],
   "source": [
    "max_grado(Petersen)"
   ]
  },
  {
   "cell_type": "markdown",
   "id": "ad9c9007",
   "metadata": {},
   "source": [
    "Ahora sí podemos definir el conjunto de colores. Recordar que la función de python <code>range(a,b)</code> representa el conjunto $\\{a,\\ldots,b-1\\}$."
   ]
  },
  {
   "cell_type": "code",
   "execution_count": null,
   "id": "b4333a72",
   "metadata": {},
   "outputs": [],
   "source": [
    "C = range(0,max_grado(Petersen) + 1)"
   ]
  },
  {
   "cell_type": "markdown",
   "id": "37d81e9c",
   "metadata": {},
   "source": [
    "Procedemos a agregar las variables al modelo. Generamos las variables de asignación vértice-color $x_{vk}$ para todo vértice $v$ y color $k$. Lo hacemos en una única línea de la siguiente forma:"
   ]
  },
  {
   "cell_type": "code",
   "execution_count": null,
   "id": "f6ba9664",
   "metadata": {},
   "outputs": [],
   "source": [
    "X = [[modelo_petersen.binary_var(name='x_' + str(v) + '_' + str(k)) for k in C] for v in Petersen]"
   ]
  },
  {
   "cell_type": "markdown",
   "id": "1e937eda",
   "metadata": {},
   "source": [
    "Generamos las variables de activación de color $w_k$ para todo color $k$:"
   ]
  },
  {
   "cell_type": "code",
   "execution_count": null,
   "id": "1d88a8cc",
   "metadata": {},
   "outputs": [],
   "source": [
    "W = [modelo_petersen.binary_var(name='w_' + str(k)) for k in C]"
   ]
  },
  {
   "cell_type": "markdown",
   "id": "94e054d5",
   "metadata": {},
   "source": [
    "Una vez listas las variables, pasamos a escribir la función objetivo:\n",
    "<p>$$\\min \\sum_{k \\in \\mathcal C}w_k.$$</p>"
   ]
  },
  {
   "cell_type": "code",
   "execution_count": null,
   "id": "13cfd43a",
   "metadata": {},
   "outputs": [],
   "source": [
    "modelo_petersen.minimize(modelo_petersen.sum(W[k] for k in C))"
   ]
  },
  {
   "cell_type": "markdown",
   "id": "74ef078a",
   "metadata": {},
   "source": [
    "Ahora, agregamos las restricciones de asignación de color:\n",
    "<p>$$ \\sum_{k \\in \\mathcal C} x_{vk} = 1, ~~~~ \\forall~v \\in V. $$</p>"
   ]
  },
  {
   "cell_type": "code",
   "execution_count": null,
   "id": "da13adfc",
   "metadata": {},
   "outputs": [],
   "source": [
    "for v in Petersen:\n",
    "    modelo_petersen.add_constraint(modelo_petersen.sum(X[v][k] for k in C) == 1)"
   ]
  },
  {
   "cell_type": "markdown",
   "id": "35dcad94",
   "metadata": {},
   "source": [
    "Por último, las restricciones de adyacencia:\n",
    "<p>$$ x_{vk} + x_{uk} \\leq w_k, ~~~~ \\forall~vu \\in E,~  k \\in \\mathcal C.$$</p>"
   ]
  },
  {
   "cell_type": "code",
   "execution_count": null,
   "id": "6946defa",
   "metadata": {},
   "outputs": [],
   "source": [
    "for u, v in Petersen.edges:\n",
    "    for k in C:\n",
    "        modelo_petersen.add_constraint(X[u][k] + X[v][k] <= W[k])"
   ]
  },
  {
   "cell_type": "markdown",
   "id": "e6a01efa",
   "metadata": {},
   "source": [
    "El número de variables es $|V|.|\\mathcal C| + |\\mathcal C|$ y el número de restricciones es $|V| + |E|.|\\mathcal C|$.\n",
    "\n",
    "¡Listo! Nos resta resolver el modelo:"
   ]
  },
  {
   "cell_type": "code",
   "execution_count": null,
   "id": "0f844b50",
   "metadata": {},
   "outputs": [],
   "source": [
    "sol = modelo_petersen.solve(log_output=True)"
   ]
  },
  {
   "cell_type": "markdown",
   "id": "447a28b0",
   "metadata": {},
   "source": [
    "Al interpretar un poco el log, viendo la columna Best Integer sabemos que CPLEX logra encontrar con sus heurísticas una solución factible de valor 4, en la primera fila. Inmediatamente después encuentra con sus heurísticas una mejor solución factible con valor 3 (de hecho es la óptima pero todavía no lo puede probar). Viendo la columna Best Bound, en la 3er fila vemos que al resolver la relajación lineal tiene una cota inferior con valor 2. En las siguientes dos filas, se dedica a agregar planos de cortes, mediante los cuales logra ajustar la relajación lineal y obtener una cota inferior de valor 3. En este punto, ambas cotas coinciden, el gap se cierra y se logra probar la optimalidad. En este caso, no fue necesario hacer branching.\n",
    "\n",
    "Para ahorrarnos tiempo, CPLEX provee algunos métodos para observar ciertos resultados de interés en el log. Por ejemplo, podemos imprimir el atributo <code>solve_details</code> de la clase <code>Model</code> para obtener un resumen final:"
   ]
  },
  {
   "cell_type": "code",
   "execution_count": null,
   "id": "f9fd8634",
   "metadata": {},
   "outputs": [],
   "source": [
    "print(modelo_petersen.solve_details)"
   ]
  },
  {
   "cell_type": "markdown",
   "id": "3cea5fb6",
   "metadata": {},
   "source": [
    "Además, podemos usar el método <code>get_objective_value()</code> de la clase <code>SolveSolution</code> para recuperar el valor óptimo:"
   ]
  },
  {
   "cell_type": "code",
   "execution_count": null,
   "id": "02ecf383",
   "metadata": {},
   "outputs": [],
   "source": [
    "sol.get_objective_value()"
   ]
  },
  {
   "cell_type": "markdown",
   "id": "e5e77160",
   "metadata": {},
   "source": [
    "Es hora de generalizar el modelo para un grafo cualquiera dado de entrada. Esto lo logramos poniendo todo el código adentro de una función que tome como argumento la entrada de nuestro problema, que en el caso del problema de coloreo de vértices, es únicamente un grafo $G$. Dentro de la función, repetimos todo el código escrito anteriormente, procurando reemplazar cada aparición de la variable <code>Petersen</code> por <code>G</code>. También, renombramos algunas variables para hacer evidente que ya no es un modelo específico para Petersen, sino para cualquier grafo. Por otro lado, incluimos dos mejoras a nuestro programa:\n",
    "1. Controlamos que se haya encontrado solución. La keyword <code>assert</code> de Python se ocupa de corroborar que la condición que le sigue sea cierta (en particular, que la solución no sea vacía). En caso de que la condición sea falsa, la ejecución se interrumpe y nos muestra en la pantalla un error con el mensaje que hayamos dejado luego de la coma.\n",
    "2. Al finalizar, llamamos a una función <code>resumen</code>, cuya definición se encuentra más abajo, y se ocupa de imprimir por pantalla un resumen de los resultados."
   ]
  },
  {
   "cell_type": "code",
   "execution_count": null,
   "id": "98dc20c1",
   "metadata": {},
   "outputs": [],
   "source": [
    "def colorear(G):\n",
    "    modelo = Model(name='coloreo') # Inicializamos el modelo \n",
    "    C = range(0,max_grado(G) + 1)  # Conjunto de colores\n",
    "    \n",
    "    # Variables\n",
    "    X = [[modelo.binary_var(name='x_' + str(v) + '_' + str(k)) for k in C] for v in G]\n",
    "    W = [modelo.binary_var(name='w_' + str(k)) for k in C]\n",
    "    \n",
    "    # Funcion objetivo\n",
    "    modelo.minimize(modelo.sum(W[k] for k in C))\n",
    "    \n",
    "    # Restricciones\n",
    "    for v in G:\n",
    "        modelo.add_constraint(modelo.sum(X[v][k] for k in C) == 1)\n",
    "    for u, v in G.edges:\n",
    "        for k in C:\n",
    "            modelo.add_constraint(X[u][k] + X[v][k] <= W[k])\n",
    "    \n",
    "    # Resolver modelo\n",
    "    sol = modelo.solve() # No imprimimos el log\n",
    "    \n",
    "    assert sol, \"No se encontró solución\"\n",
    "    \n",
    "    # Imprimir resumen\n",
    "    resumen(modelo, sol)\n",
    "    \n",
    "def resumen(modelo, sol):\n",
    "    print(\n",
    "        \"Variables: \", modelo.number_of_variables, \", \",\n",
    "        \"Restricciones: \", modelo.number_of_constraints, \", \",\n",
    "        \"Estado: \", modelo.solve_details.status, \", \",\n",
    "        \"Tiempo: \", modelo.solve_details.time, \"s, \",\n",
    "        \"Gap: \", modelo.solve_details.gap, \", \",\n",
    "        \"Valor: \", sol.get_objective_value()\n",
    "    )"
   ]
  },
  {
   "cell_type": "markdown",
   "id": "63ba2783",
   "metadata": {},
   "source": [
    "Ahora podemos aplicar nuestra función sobre cualquier grafo. Por ejemplo, para un grafo aleatorio de 10 vértices y probabilidad de arco 0.5: "
   ]
  },
  {
   "cell_type": "code",
   "execution_count": null,
   "id": "ce8dbc06",
   "metadata": {},
   "outputs": [],
   "source": [
    "colorear(nx.erdos_renyi_graph(10, 0.5, seed=0))"
   ]
  },
  {
   "cell_type": "markdown",
   "id": "2a3de7fe",
   "metadata": {},
   "source": [
    "### &#x1f4bb; Actividad 1\n",
    "\n",
    "En este actividad nos proponemos estudiar los límites de este modelo de coloreo en grafos aleatorios. Para cada probabilidad de arco $p \\in \\{0.25, 0.5, 0.75\\}$, incrementar <u>progresivamente</u> el número de vértices y determinar el máximo tamaño de instancia que puede resolver en 60 segundos.\n",
    "\n",
    "<b>Nota.</b> Para resolver esta actividad necesitará la versión full de CPLEX (sin el límite de 1000 variables y de 1000 restricciones)."
   ]
  },
  {
   "cell_type": "code",
   "execution_count": null,
   "id": "176db6d9",
   "metadata": {},
   "outputs": [],
   "source": [
    "# Celda para completar la Actividad 1"
   ]
  },
  {
   "cell_type": "markdown",
   "id": "75611801",
   "metadata": {},
   "source": [
    "### &#x1f4bb; Actividad 2\n",
    "\n",
    "En esta actividad trabajaremos con el problema de dominación de grafos. Antes, introducimos la siguiente definición:\n",
    "\n",
    "<b>Definición.</b> Dado un grafo $G=(V,E)$ y un conjunto $D \\subset V$, $D$ es un conjunto dominante de $G$ si todo vértice de $G$ está en $D$ o tiene algún vecino en $D$, es decir, para todo $v \\in V$, $N[v] \\cap D \\neq \\emptyset$.  \n",
    "\n",
    "Luego, el problema de dominación se puede formular de la siguiente forma:\n",
    "\n",
    "<b>Problema de dominación.</b><br>\n",
    "<b>Entrada:</b> Un grafo $G$.<br>\n",
    "<b>Objetivo:</b> Hallar un conjunto dominante $D$ de $G$ de cardinal mínimo.\n",
    "\n",
    "1. Pensar en una formulación de PLE para el problema de dominación.\n",
    "2. Usar lo aprendido en este Notebook para escribir una función <code>dominar(G)</code> que tome un grafo $G$, resuelva con CPLEX el modelo de PLE asociado a dicha instancia e imprima un resumen con los resultados.\n",
    "3. Estudiar los límites del modelo en grafos aleatorios."
   ]
  },
  {
   "cell_type": "code",
   "execution_count": null,
   "id": "d046b642",
   "metadata": {},
   "outputs": [],
   "source": [
    "# Celda para completar la Actividad 2"
   ]
  },
  {
   "cell_type": "markdown",
   "id": "90b504e0",
   "metadata": {},
   "source": [
    "### Testing\n",
    "\n",
    "¿Cómo nos aseguramos de que la formulación de PLE que pensamos es correcta? Cuando la formulación es sencilla, muchas veces es trivial convencerse de que modela correctamente a nuestro problema, por ejemplo, la anterior para el coloreo de vértices. Sin embargo, en formulaciones más complejas, es habitual dar una prueba formal de que una solución óptima del programa lineal entero responde al objetivo de nuestro problema.\n",
    "\n",
    "Sin embargo, esto no garantiza que al escribirlas a Python, las soluciones sean las esperadas. Por ejemplo, pudimos tipear mal alguna de las restricciones. Al igual que un error en la demostración de un teorema, un error en un programa es igual de grave y pueden llevarnos a falsas deducciones.\n",
    "\n",
    "En esta sección, presentaremos algunas buenas prácticas de programación, herramientas y consejos que nos ayudarán a probar nuestros programas."
   ]
  },
  {
   "cell_type": "markdown",
   "id": "69bb84fd",
   "metadata": {},
   "source": [
    "#### 1. Prestar atención a los errores de Python\n",
    "\n",
    "Cuando Python encuentra un error, nos devuelve un <i>traceback</i> con información del lugar donde se produjo el error y el motivo. \n",
    "\n",
    "Por ejemplo, volvamos a nuestro modelo de coloreo sobre el grafo de Petersen. Recordemos que teníamos 4 colores, indexados de 0 al 3. Si al escribir la función objetivo, o alguna de las restricciones, queremos acceder a <code>W[4]</code>, entonces Python nos devolverá lo siguiente. Podemos ver que nos marca con \"---->\" el lugar donde se produjo el error y el motivo fue un índice fuera de rango."
   ]
  },
  {
   "cell_type": "code",
   "execution_count": null,
   "id": "3a2512aa",
   "metadata": {},
   "outputs": [],
   "source": [
    "W[4]"
   ]
  },
  {
   "cell_type": "markdown",
   "id": "0ed9c7e9",
   "metadata": {},
   "source": [
    "Otro error común es equivocarnos en alguna restricción y que instancias que sabemos que son factibles sean reportadas como infactibles. \n",
    "\n",
    "Por ejemplo, considerar la siguiente función <code>colorear_rota</code> que construye mal el modelo de coloreo porque dice que las restricciones de arco son: \n",
    "\n",
    "$$x_{uk} + x_{vk} \\leq 0 ~~~~ \\forall u,v \\in E,~ k \\in \\mathcal C$$"
   ]
  },
  {
   "cell_type": "code",
   "execution_count": null,
   "id": "cb85af96",
   "metadata": {},
   "outputs": [],
   "source": [
    "def colorear_rota(G):\n",
    "    modelo = Model(name='coloreo') # Inicializamos el modelo \n",
    "    C = range(0,max_grado(G) + 1)  # Conjunto de colores\n",
    "    \n",
    "    # Variables\n",
    "    X = [[modelo.binary_var(name='x_' + str(v) + '_' + str(k)) for k in C] for v in G]\n",
    "    W = [modelo.binary_var(name='w_' + str(k)) for k in C]\n",
    "    \n",
    "    # Funcion objetivo\n",
    "    modelo.minimize(modelo.sum(W[k] for k in C))\n",
    "    \n",
    "    # Restricciones\n",
    "    for v in G:\n",
    "        modelo.add_constraint(modelo.sum(X[v][k] for k in C) == 1)\n",
    "    for u, v in G.edges:\n",
    "        for k in C:\n",
    "            modelo.add_constraint(X[u][k] + X[v][k] <= 0) # HAY UN ERROR EN ESTAS RESTRICCIONES\n",
    "    \n",
    "    # Resolver modelo\n",
    "    sol = modelo.solve() # No imprimimos el log\n",
    "\n",
    "    assert sol, \"No se encontró solución\"\n",
    "    \n",
    "    # Imprimir resumen\n",
    "    resumen(modelo, sol)"
   ]
  },
  {
   "cell_type": "markdown",
   "id": "69793a5c",
   "metadata": {},
   "source": [
    "Luego, al probar nuestra función tenemos la siguente salida."
   ]
  },
  {
   "cell_type": "code",
   "execution_count": null,
   "id": "648e99b1",
   "metadata": {},
   "outputs": [],
   "source": [
    "colorear_rota(Petersen)"
   ]
  },
  {
   "cell_type": "markdown",
   "id": "444433fa",
   "metadata": {},
   "source": [
    "Sabemos que en el problema de coloreo de vértices toda instancia es factible. Por lo tanto, encontrar una infactible es evidencia suficiente para saber que nuestro programa tiene algún error."
   ]
  },
  {
   "cell_type": "markdown",
   "id": "149f9d65",
   "metadata": {},
   "source": [
    "#### 2. Escribir casos de prueba para nuestras funciones.\n",
    "\n",
    "Al menos probar nuestras funciones en 3 o 4 casos y verificar que la respuesta sea la esperada.\n",
    "\n",
    "Por ejemplo, para nuestra función <code>max_grado</code> podemos proponer los siguientes casos de prueba."
   ]
  },
  {
   "cell_type": "code",
   "execution_count": null,
   "id": "ff2ab171",
   "metadata": {},
   "outputs": [],
   "source": [
    "assert max_grado(Petersen) == 3\n",
    "assert max_grado(nx.complete_graph(10)) == 9\n",
    "assert max_grado(nx.cycle_graph(5)) == 2\n",
    "assert max_grado(nx.star_graph(5)) == 5"
   ]
  },
  {
   "cell_type": "markdown",
   "id": "72746f46",
   "metadata": {},
   "source": [
    "#### 3. Contar número de variables y restricciones\n",
    "\n",
    "Si conocemos el número de variables y restricciones que debería tener nuestro modelo, podemos compararlo con la cantidad que tiene en efecto.\n",
    "\n",
    "Por ejemplo, recordemos que nuestra formulación de coloreo tenía $|V|.|\\mathcal C| + |\\mathcal C|$ variables y $|V| + |E|.|\\mathcal C|$ restricciones. Luego para el modelo del grafo de Petersen, se tienen que cumplir las siguientes condiciones."
   ]
  },
  {
   "cell_type": "code",
   "execution_count": null,
   "id": "79f55df0",
   "metadata": {},
   "outputs": [],
   "source": [
    "assert (Petersen.number_of_nodes() * len(C) + len(C)) == modelo_petersen.number_of_variables\n",
    "assert (Petersen.number_of_nodes() + Petersen.number_of_edges() * len(C)) == modelo_petersen.number_of_constraints"
   ]
  },
  {
   "cell_type": "markdown",
   "id": "be0e950a",
   "metadata": {},
   "source": [
    "#### 4. Revisar las soluciones encontradas en instancias chicas\n",
    "\n",
    "Como ya mencionamos, la clase <code>SolveSolution</code> tiene el método <code>display()</code> para mostrar en pantalla la solución y su valor objetivo. \n",
    "    \n",
    "Por ejemplo, para el grafo de Petersen se muestra lo siguiente."
   ]
  },
  {
   "cell_type": "code",
   "execution_count": null,
   "id": "33d2413c",
   "metadata": {},
   "outputs": [],
   "source": [
    "sol.display()"
   ]
  },
  {
   "cell_type": "markdown",
   "id": "ccaa3775",
   "metadata": {},
   "source": [
    "Por un lado, sabemos que el grafo de Petersen no se puede pintar con 2 colores (tiene un ciclo $C_5$ inducido). Falta ver entonces que la solución dada por CPLEX sea efectivamente un coloreo. Queda como actividad revisar manualmente esta solución. Recordar que las variables se interpretan de la siguiente forma: <code>x_0_0 = 1</code> significa que el vértice 0 se pinta de 0, <code>x_2_0 = 1</code> significa que el vértice 2 se pinta con 0, y así sucesivamente. También nos ayudará la función <code>draw_networkx(G)</code> de <code>networkx</code> para visualizar cómo se etiquetaron los vértices."
   ]
  },
  {
   "cell_type": "code",
   "execution_count": null,
   "id": "eed360b6",
   "metadata": {},
   "outputs": [],
   "source": [
    "nx.draw_networkx(Petersen)"
   ]
  },
  {
   "cell_type": "markdown",
   "id": "2a226529",
   "metadata": {},
   "source": [
    "#### 5. Verificar computacionalmente las soluciones encontradas\n",
    "\n",
    "Lógicamente en instancias más grandes ya no será posible verificar manualmente las soluciones. Pero podemos delegar esa tarea a la computadora. La idea es escribir una función que tome la solución encontrada y chequee que sea un coloreo.\n",
    "    \n",
    "¡Buenas noticias para quienes completaron el Notebook 2! Ya tenemos una función <code>es_coloreo(G,f)</code> que determina si $f$ es un coloreo de $G$. Quienes no lo hayan resuelto, es buen momento para volver al notebook y repensarlo. De todas formas, les dejamos una solución para que sigan avanzando."
   ]
  },
  {
   "cell_type": "code",
   "execution_count": null,
   "id": "9498747a",
   "metadata": {},
   "outputs": [],
   "source": [
    "def es_coloreo(G,f):\n",
    "    for u,v in G.edges:\n",
    "        if f[u] == f[v]:\n",
    "            return False\n",
    "    return True"
   ]
  },
  {
   "cell_type": "markdown",
   "id": "92ed5766",
   "metadata": {},
   "source": [
    "Y sus casos de prueba:"
   ]
  },
  {
   "cell_type": "code",
   "execution_count": null,
   "id": "8ec34368",
   "metadata": {},
   "outputs": [],
   "source": [
    "assert es_coloreo(nx.path_graph(3), {0:0, 1:1, 2:0}) == True\n",
    "assert es_coloreo(nx.path_graph(3), {0:0, 1:1, 2:1}) == False\n",
    "assert es_coloreo(nx.complete_graph(4), {0:0, 1:1, 2:2, 3:3}) == True\n",
    "assert es_coloreo(nx.complete_graph(4), {0:0, 1:1, 2:2, 3:0}) == False"
   ]
  },
  {
   "cell_type": "markdown",
   "id": "cb684a27",
   "metadata": {},
   "source": [
    "Lo único que nos queda entonces es escribir una función que traduzca la solución de CPLEX a un diccionario de Python, que es el tipo de datos esperado por nuestra función <code>es_coloreo(G,f)</code>. \n",
    "\n",
    "\n",
    "Empecemos con el caso particular del grafo de Petersen. Primero, creamos un diccionario vacío."
   ]
  },
  {
   "cell_type": "code",
   "execution_count": null,
   "id": "007c2671",
   "metadata": {},
   "outputs": [],
   "source": [
    "coloreo_petersen = {}"
   ]
  },
  {
   "cell_type": "markdown",
   "id": "33dc268e",
   "metadata": {},
   "source": [
    "Luego, iteramos sobre las variables de asignación vértice-color. Aquellas variables $x_{vk}$ que en la solución tengan valor 1, representan que $v$ se pinta con $k$. La clase <code>Var</code> posee un atributo <code>solution_value</code> que almacena el valor encontrado en la solución para esa variable. Por lo tanto, basta con preguntarnos si <code>X[v][k].solution_value == 1</code>. En ese caso, actualizamos esta información en el diccionario mediante la línea <code>coloreo_petersen[v] = k</code>. En la práctica no es conveniente comparar variables de CPLEX por igualdad (debido a aproximaciones numéricas), por lo que recomendamos comparar que sean mayores a cierto valor, típicamente 0.5 en variables binarias (total sus valores son muy cercanos a 0 o 1). "
   ]
  },
  {
   "cell_type": "code",
   "execution_count": null,
   "id": "835d4708",
   "metadata": {},
   "outputs": [],
   "source": [
    "for v in Petersen:\n",
    "    for k in C:\n",
    "        if X[v][k].solution_value >= 0.5:\n",
    "            coloreo_petersen[v] = k"
   ]
  },
  {
   "cell_type": "markdown",
   "id": "4845078e",
   "metadata": {},
   "source": [
    "Finalmente, imprimimos el coloreo que resulta."
   ]
  },
  {
   "cell_type": "code",
   "execution_count": null,
   "id": "c67a9e2b",
   "metadata": {},
   "outputs": [],
   "source": [
    "coloreo_petersen"
   ]
  },
  {
   "cell_type": "markdown",
   "id": "a2b839df",
   "metadata": {},
   "source": [
    "Ahora, movamos este código a una función <code>interpretar(G,C,X)</code> para que pueda ser aplicada sobre cualquier grafo $G$, conjunto de colores $\\mathcal C$ y variables $X$."
   ]
  },
  {
   "cell_type": "code",
   "execution_count": null,
   "id": "239f1fe1",
   "metadata": {},
   "outputs": [],
   "source": [
    "def interpretar(G,C,X):\n",
    "    coloreo = {}\n",
    "    for v in G:\n",
    "        for k in C:\n",
    "            if X[v][k].solution_value >= 0.5:\n",
    "                coloreo[v] = k\n",
    "    return coloreo"
   ]
  },
  {
   "cell_type": "markdown",
   "id": "d89fd1ee",
   "metadata": {},
   "source": [
    "Por último, definamos una función <code>chequear(G,C,X)</code> que se ocupe de interpretar la solución y chequear que sea un coloreo."
   ]
  },
  {
   "cell_type": "code",
   "execution_count": null,
   "id": "a52f0752",
   "metadata": {},
   "outputs": [],
   "source": [
    "def chequear(G,C,X):\n",
    "    coloreo = interpretar(G,C,X)\n",
    "    assert es_coloreo(G,coloreo), \"Error: no es coloreo\""
   ]
  },
  {
   "cell_type": "markdown",
   "id": "39ea4d20",
   "metadata": {},
   "source": [
    "<u>Recomendamos fuertemente incluir estos controles</u>. El mejor lugar para hacerlo es imediatamente después de haber resuelto el modelo y encontrado solución para la instancia. En nuestro ejemplo, redefinimos la función <code>colorear</code> para llamar a nuestra función <code>chequear(G,C,X)</code>."
   ]
  },
  {
   "cell_type": "code",
   "execution_count": null,
   "id": "76fe16d6",
   "metadata": {},
   "outputs": [],
   "source": [
    "def colorear(G):\n",
    "    modelo = Model(name='coloreo') # Inicializamos el modelo \n",
    "    C = range(0,max_grado(G) + 1)  # Conjunto de colores\n",
    "    \n",
    "    # Variables\n",
    "    X = [[modelo.binary_var(name='x_' + str(v) + '_' + str(k)) for k in C] for v in G]\n",
    "    W = [modelo.binary_var(name='w_' + str(k)) for k in C]\n",
    "    \n",
    "    # Funcion objetivo\n",
    "    modelo.minimize(modelo.sum(W[k] for k in C))\n",
    "    \n",
    "    # Restricciones\n",
    "    for v in G:\n",
    "        modelo.add_constraint(modelo.sum(X[v][k] for k in C) == 1)\n",
    "    for u, v in G.edges:\n",
    "        for k in C:\n",
    "            modelo.add_constraint(X[u][k] + X[v][k] <= W[k])\n",
    "    \n",
    "    # Resolver modelo\n",
    "    sol = modelo.solve() # No imprimimos el log\n",
    "\n",
    "    assert sol, \"No se encontró solución\"    \n",
    "    \n",
    "    # Chequear solucion\n",
    "    chequear(G,C,X)\n",
    "    \n",
    "    # Imprimir resumen\n",
    "    resumen(modelo, sol)"
   ]
  },
  {
   "cell_type": "markdown",
   "id": "fed1717d",
   "metadata": {},
   "source": [
    "Si, tener en cuenta todos estos controles al programar es molesto... Si, es trabajo extra... Pero les aseguro que es peor detectar meses después que había un error en el programa y que todos los resultados del último tiempo dejen de ser confiables (en lo personal, me ha pasado tener que volver a correr pruebas pesadas que toman varios días en ejecutarse por no haber invertido un par de líneas de código en controles)."
   ]
  },
  {
   "cell_type": "markdown",
   "id": "2d93c51f",
   "metadata": {},
   "source": [
    "### &#x1f4bb; Actividad 3\n",
    "\n",
    "Incorporar a los desarrollos realizados en la Actividad 2 una función <code>interpretar(G,X)</code> que interprete los valores de las variables $X$ como un conjunto $D$ de vértices de $G$ y una función <code>es_dominante(G,D)</code> que verifica si $D$ es un conjunto dominante de $G$. \n",
    "\n",
    "<b>Nota.</b> Necesitará elegir una representación para el conjunto $D$, por ejemplo, puede ser una lista, un set o un diccionario de Python."
   ]
  },
  {
   "cell_type": "code",
   "execution_count": null,
   "id": "2e755ae2",
   "metadata": {},
   "outputs": [],
   "source": [
    "# Celda para completar la Actividad 3"
   ]
  },
  {
   "cell_type": "markdown",
   "id": "c1d1f401",
   "metadata": {},
   "source": [
    "### Graficando coloreos\n",
    "\n",
    "La función <code>draw_networkx</code> del paquete <code>NetworkX</code> nos permite pasarle los colores con los que se rellenarán los vértices del grafo. La función admite varios formatos para los colores. Por ejemplo, como una cadena de caracteres con el nombre del color en inglés."
   ]
  },
  {
   "cell_type": "code",
   "execution_count": null,
   "id": "1c20bf4c",
   "metadata": {},
   "outputs": [],
   "source": [
    "nx.draw_networkx(Petersen, node_color=\"red\")"
   ]
  },
  {
   "cell_type": "markdown",
   "id": "406a2bc9",
   "metadata": {},
   "source": [
    "También podemos podemos pasarle una lista con el color que queremos para cada vértices. Por ejemplo, rellenamos los vértices de 0 a 4 con rojo y de 5 a 9 con azul. Recordar que <code>[\"red\"]*5</code> devuelve una lista con 5 repeticiones de \"red\" y <code>+</code> es el operador de concatenación de listas."
   ]
  },
  {
   "cell_type": "code",
   "execution_count": null,
   "id": "b3bb3ae7",
   "metadata": {},
   "outputs": [],
   "source": [
    "nx.draw_networkx(Petersen, node_color=[\"red\"]*5 + [\"blue\"]*5)"
   ]
  },
  {
   "cell_type": "markdown",
   "id": "cd56455b",
   "metadata": {},
   "source": [
    "Incluso, podemos pasar una lista con números en el intervalo $[0,1]$ y la función se ocupa de convertir esos números a colores. Por ejemplo, rellenamos los vértices de 0 a 4 con 0.25 y de 5 a 9 con 0.75."
   ]
  },
  {
   "cell_type": "code",
   "execution_count": null,
   "id": "e5b35305",
   "metadata": {},
   "outputs": [],
   "source": [
    "nx.draw_networkx(Petersen, node_color=[0.25]*5 + [0.75]*5)"
   ]
  },
  {
   "cell_type": "markdown",
   "id": "f60840ad",
   "metadata": {},
   "source": [
    "&#x1f4a1; ¿Y si usamos esto para dibujar los vértices con los colores dados por un coloreo del grafo? &#x1f4a1;\n",
    "\n",
    "Para ello, tenemos que asignar a cada uno de nuestros colores un número en $[0,1]$. Una forma de hacer esto, es la siguiente. Si en el coloreo $v$ se pinta con $k$, entonces lo vamos a pintar con el número $\\frac{k}{|\\mathcal C|}$."
   ]
  },
  {
   "cell_type": "code",
   "execution_count": null,
   "id": "7826ab49",
   "metadata": {},
   "outputs": [],
   "source": [
    "colores = [coloreo_petersen[v]/len(C) for v in coloreo_petersen]\n",
    "nx.draw_networkx(Petersen, node_color=colores)"
   ]
  },
  {
   "cell_type": "markdown",
   "id": "a07973d9",
   "metadata": {},
   "source": [
    "¡Uff! Que fea es la disposición (<i>layout</i>) usada para los vértices. Está muy alejada de la forma clásica de dibujar a Petersen. Mejoremos esto... \n",
    "\n",
    "La función <code>draw_networkx</code> nos permite especificar la posición que queremos para cada uno de los vértices. La idea es pasarle un diccionario que asocie a cada vértice con una coordenada. \n",
    "\n",
    "Para dibujar más lindo a Petersen, podemos ubicar a los vértices sobre dos circunferencias concéntricas, por ejemplo de radios 1 y 2, separados por ángulos de $360/5 = 72$ grados, es decir, $\\frac{2\\pi}{5}$ radianes.\n",
    "\n",
    "Entonces, escribamos primero una función <code>coordenada(angulo,radio)</code> que devuelve la intersección entre una circunferencia de radio <code>radio</code> y una recta de pendiente <code>angulo</code> que pasa por el centro de la circunferencia."
   ]
  },
  {
   "cell_type": "code",
   "execution_count": null,
   "id": "94fc29b3",
   "metadata": {},
   "outputs": [],
   "source": [
    "import math\n",
    "\n",
    "def coordenada(angulo,radio):\n",
    "    x = math.cos(angulo) * radio\n",
    "    y = math.sin(angulo) * radio\n",
    "    return (x,y)"
   ]
  },
  {
   "cell_type": "markdown",
   "id": "08bb9b1d",
   "metadata": {},
   "source": [
    "Luego, escribimos el diccionario con las coordenadas. Vamos por parte.. El vértice 0 lo ubicamos con un ángulo de $\\frac{\\pi}{10}$ (18 grados) y radio 2, el vértice 1 lo ubicamos desplazado $\\frac{2\\pi}{5}$ radianes del anterior, y así sucesivamente hasta el 4. El vértice 5 lo ubicamos con un ángulo de $\\frac{\\pi}{10}$ (18 grados) y radio 1, el vértice 6 lo ubicamos desplazado $\\frac{2\\pi}{5}$ radianes del anterior, y así sucesivamente hasta el 9. Es decir, el vértice <code>i</code>  tiene como ángulo:\n",
    "    \n",
    "<code>math.pi/10 + i * math.pi * 2/5</code>\n",
    "\n",
    "Además, necesitamos que los vértices de 0 a 4 tengan radio 2 y los de 5 a 9 radio 1. Esto lo podemos lograr con la siguiente expresión:\n",
    "\n",
    "<code>1 + math.floor((9-i)/5)</code>"
   ]
  },
  {
   "cell_type": "code",
   "execution_count": null,
   "id": "f00b6900",
   "metadata": {},
   "outputs": [],
   "source": [
    "coordenadas = {i: coordenada(math.pi/10 + i * math.pi * 2/5, 1 + math.floor((9-i)/5)) for i in range(0,10)}"
   ]
  },
  {
   "cell_type": "markdown",
   "id": "3ec0e7ef",
   "metadata": {},
   "source": [
    "Ahora sí, graficamos con nuestras coordenadas."
   ]
  },
  {
   "cell_type": "code",
   "execution_count": null,
   "id": "104bfcea",
   "metadata": {},
   "outputs": [],
   "source": [
    "nx.draw_networkx(Petersen, node_color=colores, pos=coordenadas)"
   ]
  },
  {
   "cell_type": "markdown",
   "id": "fd4ce534",
   "metadata": {},
   "source": [
    "¡Una belleza! ¡Arte, arte, arte! &#x1f60d; &#x1f60d;"
   ]
  },
  {
   "cell_type": "code",
   "execution_count": null,
   "id": "9fcd2762",
   "metadata": {},
   "outputs": [],
   "source": []
  }
 ],
 "metadata": {
  "kernelspec": {
   "display_name": "Python 3 (ipykernel)",
   "language": "python",
   "name": "python3"
  },
  "language_info": {
   "codemirror_mode": {
    "name": "ipython",
    "version": 3
   },
   "file_extension": ".py",
   "mimetype": "text/x-python",
   "name": "python",
   "nbconvert_exporter": "python",
   "pygments_lexer": "ipython3",
   "version": "3.10.12"
  }
 },
 "nbformat": 4,
 "nbformat_minor": 5
}
