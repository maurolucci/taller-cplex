{
 "cells": [
  {
   "cell_type": "markdown",
   "id": "9242cd9e",
   "metadata": {},
   "source": [
    "# Notæ 3 \n",
    "\n",
    "## PLE y problemas de optimización en grafos"
   ]
  },
  {
   "cell_type": "markdown",
   "id": "c1b2d9ff",
   "metadata": {},
   "source": [
    "### Introducción\n",
    "\n",
    "Los problemas provenientes de la optimización de recursos muchas veces pueden ser modelados como problemas de optimización en grafos. Generalmente, estos problemas pertenecen a la clase NP-difícil, por lo que no se esperan encontrar algoritmos eficientes que permitan resolver todas las instancias. No obstante, contar con algoritmos que resuelvan al menos instancias pequeñas es una herramienta fundamental para complementar el estudio teórico. Mediante ellos, es posible poner a prueba conjeturas, verificar resultados obtenidos analíticamente, delegar al software actividades mecánicas, etc. \n",
    "\n",
    "El diseño de algoritmos específicos para resolver un problema no es un trabajo sencillo y en general requiere un gran esfuerzo. Por otro lado, una enumeración exhaustiva de las soluciones rápidamente se puede volver computacionalmente intratable incluso en instancias pequeñas. \n",
    "\n",
    "En este contexto, la Programación Lineal Entera (PLE) ha tomado un amplio protagonismo en el diseño de algoritmos. Esto se debe a que su sencillo formalismo es capaz de modelar un gran número de problemas de optimización. Otro factor que ha contribuido es el surgimiento de softwares de optimización: CPLEX, Gurobi, etc., los cuales cuentan con potentes algoritmos para resolver PLE de una forma prácticamente transparente para el usuario.\n",
    "\n",
    "Por estos motivos, la PLE es una herramienta fundamental en nuestra área y suele ser una de las primeras opciones a la hora de diseñar algoritmos para problemas difíciles.\n",
    "\n",
    "El objetivo de este notebook es aprender a escribir y resolver en Python formulaciones de PLE que modelen problemas de optimización en grafos, donde las variables y restricciones dependan de ciertas estructuras de grafo, tales como, vértices, aristas, vecindades, cliques, conjuntos estables, entre otras.\n",
    "\n",
    "&#9940; Alto &#9940; No avanzar hasta haber leído los notebooks 1 y 2."
   ]
  },
  {
   "cell_type": "markdown",
   "id": "fa81aca8",
   "metadata": {},
   "source": [
    "### Caso de estudio\n",
    "\n",
    "Seguiremos como caso de estudio el problema de coloreo de vértices. Este problema es ampliamente conocido en el área debido a todas sus aplicaciones, por ejemplo, en problemas de scheduling, de asignación de aulas, de alocación de registros, etc. Antes necesitaremos algunas definiciones.\n",
    "\n",
    "<b>Definición.</b> Dado un grafo $G = (V,E)$ y un conjunto de colores $\\mathcal C$, un coloreo de $G$ es una función $f : V \\to \\mathcal C$ que asigna a cada vértice de $V$ un color de $\\mathcal C$ tal que vértices adyacentes tengan asignados colores distintos, es decir, para toda arista $uv \\in E$, $f(u) \\neq f(v)$.\n",
    "\n",
    "<b>Observación.</b> Dado un coloreo $f$ de $G$ y un color $k \\in \\mathcal C$, $f^{-1}(k)$ es el conjunto de vértices coloreados con $k$.\n",
    "\n",
    "<b>Definición.</b> Dado un coloreo $f$ de $G$, $\\mathcal A_f = \\{k \\in \\mathcal C: f^{-1}(k) \\neq \\emptyset\\}$ es el conjunto de colores usados por $f$. \n",
    "\n",
    "Ahora sí, podemos formular el problema de la siguiente forma:\n",
    "\n",
    "<b>Problema de coloreo de vértices.</b><br>\n",
    "<b>Entrada:</b> Un grafo $G$.<br>\n",
    "<b>Objetivo:</b> Hallar un coloreo $f$ de $G$ con mínimo $|\\mathcal A_f|$.\n",
    "\n",
    "Existen muchas formulaciones en la literatura que modelan este problema. Nosotros seguiremos la usada por <a href=\"https://www.sciencedirect.com/science/article/pii/S0166218X0700100X#bib3\">Isabel Méndez-Díaz y Paula Zabala (2008)</a>.\n",
    "\n",
    "Esta formulación posee dos tipos de variables. Por un lado, están las variables binarias de asignación vértice-color, dado $v \\in V$ y $k \\in \\mathcal C$, $x_{vk} = 1$ si y solo si $v$ se pinta con $k$. Por el otro, están las variables binarias de activación de color, dado $k \\in \\mathcal C$, $w_k = 1$ si el color $k$ se usa. \n",
    "\n",
    "La función objetivo consiste en minimizar el número de colores usados, es decir: \n",
    "<p>$$\\min \\sum_{k \\in \\mathcal C}w_k.$$</p>\n",
    "\n",
    "La primer familia de restricciones fuerza a que cada vértice se pinte con exactamente un color:\n",
    "<p>$$ \\sum_{k \\in \\mathcal C} x_{vk} = 1, ~~~~ \\forall~v \\in V. $$</p>\n",
    "\n",
    "La segunda familia de restricciones obliga a que dos vértices adyacentes tengan colores diferentes:\n",
    "<p>$$ x_{vk} + x_{uk} \\leq 1, ~~~~ \\forall~vu \\in E,~  k \\in \\mathcal C.$$</p>\n",
    "\n",
    "Desafortunadamente, estas restricciones no son suficientes porque falta todavía forzar a que las variables de activación de color se activen cuando un color es usado (de lo contrario, el mínimo tendría valor objetivo igual a 0). Una idea para solucionar esto consiste en modificar la segunda familia de restricciones de la siguiente forma:\n",
    "<p>$$ x_{vk} + x_{uk} \\leq w_k, ~~~~ \\forall~vu \\in E,~  k \\in \\mathcal C.$$</p>\n",
    "\n",
    "Así, si uno de los extremos de la arista se pinta con $k$, entonces estas restricciones fuerzan a que $w_k = 1$. A su vez, dado que $w_k$ es binaria, es decir, $w_k \\in \\{0,1\\}$, las restricciones siguen prohibiendo que ambos extremos se pinten con $k$."
   ]
  },
  {
   "cell_type": "markdown",
   "id": "20ec1f0d",
   "metadata": {},
   "source": [
    "### Modelado en Python\n",
    "\n",
    "Empezamos el modelado importando los paquetes que vamos a necesitar:"
   ]
  },
  {
   "cell_type": "code",
   "execution_count": 1,
   "id": "253e3bc3",
   "metadata": {},
   "outputs": [],
   "source": [
    "from docplex.mp.model import Model\n",
    "import networkx as nx"
   ]
  },
  {
   "cell_type": "markdown",
   "id": "a254f74d",
   "metadata": {},
   "source": [
    "Primero, vamos a escribir nuestro modelo para una instancia particular y posteriormente lo vamos a generalizar. Supongamos que queremos colorear el grafo de Petersen:"
   ]
  },
  {
   "cell_type": "code",
   "execution_count": 2,
   "id": "8e40ec1e",
   "metadata": {},
   "outputs": [],
   "source": [
    "Petersen = nx.petersen_graph()"
   ]
  },
  {
   "cell_type": "markdown",
   "id": "cfa271a7",
   "metadata": {},
   "source": [
    "Ahora, inicializamos nuestro modelo:"
   ]
  },
  {
   "cell_type": "code",
   "execution_count": 3,
   "id": "b979b6cd",
   "metadata": {},
   "outputs": [],
   "source": [
    "modelo_petersen = Model(name='coloreo_petersen')"
   ]
  },
  {
   "cell_type": "markdown",
   "id": "a05c4243",
   "metadata": {},
   "source": [
    "A continuación, definimos el conjunto de colores. Cada color lo vamos a representar con un número entero no negativo. A priori, podriamos usar tantos colores como vértices tenga el grafo. Sin embargo, es sabido que todo grafo $G$ se puede colorear con a lo sumo $\\Delta(G)+1$ colores, es decir, a lo sumo un color más que el máximo grado de $G$. Luego podemos restringir los colores al conjunto $\\{0,\\ldots,\\Delta(G)\\}$. \n",
    "\n",
    "Entonces, tenemos que escribir una función <code>max_grado</code> que tome un grafo y retorne el máximo grado. Existen muchas formas de hacer esto, veamos una sencilla... Primero construimos una lista con el grado de todos los vértices del grafo. Luego, retornamos el máximo de esa lista:"
   ]
  },
  {
   "cell_type": "code",
   "execution_count": 4,
   "id": "aa16c354",
   "metadata": {},
   "outputs": [],
   "source": [
    "def max_grado(G):\n",
    "    grados = [G.degree(v) for v in G]\n",
    "    return max(grados)"
   ]
  },
  {
   "cell_type": "markdown",
   "id": "4226acb7",
   "metadata": {},
   "source": [
    "Testeamos nuestra función en el grafo de Petersen definido más arriba:"
   ]
  },
  {
   "cell_type": "code",
   "execution_count": 5,
   "id": "be6817dd",
   "metadata": {},
   "outputs": [
    {
     "data": {
      "text/plain": [
       "3"
      ]
     },
     "execution_count": 5,
     "metadata": {},
     "output_type": "execute_result"
    }
   ],
   "source": [
    "max_grado(Petersen)"
   ]
  },
  {
   "cell_type": "markdown",
   "id": "ad9c9007",
   "metadata": {},
   "source": [
    "Ahora sí podemos definir el conjunto de colores. Recordar que la función de python <code>range(a,b)</code> representa el conjunto $\\{a,\\ldots,b-1\\}$."
   ]
  },
  {
   "cell_type": "code",
   "execution_count": 6,
   "id": "b4333a72",
   "metadata": {},
   "outputs": [],
   "source": [
    "C = range(0,max_grado(Petersen) + 1)"
   ]
  },
  {
   "cell_type": "markdown",
   "id": "37d81e9c",
   "metadata": {},
   "source": [
    "Procedemos a agregar las variables al modelo. Generamos las variables de asignación vértice-color $x_{vk}$ para todo vértice $v$ y color $k$. Lo hacemos en una única línea de la siguiente forma:"
   ]
  },
  {
   "cell_type": "code",
   "execution_count": 7,
   "id": "f6ba9664",
   "metadata": {},
   "outputs": [],
   "source": [
    "X = [[modelo_petersen.binary_var(name='x_' + str(v) + '_' + str(k)) for k in C] for v in Petersen]"
   ]
  },
  {
   "cell_type": "markdown",
   "id": "1e937eda",
   "metadata": {},
   "source": [
    "Generamos las variables de activación de color $w_k$ para todo color $k$:"
   ]
  },
  {
   "cell_type": "code",
   "execution_count": 8,
   "id": "1d88a8cc",
   "metadata": {},
   "outputs": [],
   "source": [
    "W = [modelo_petersen.binary_var(name='w_' + str(k)) for k in C]"
   ]
  },
  {
   "cell_type": "markdown",
   "id": "94e054d5",
   "metadata": {},
   "source": [
    "Una vez listas las variables, pasamos a escribir la función objetivo:\n",
    "<p>$$\\min \\sum_{k \\in \\mathcal C}w_k.$$</p>"
   ]
  },
  {
   "cell_type": "code",
   "execution_count": 9,
   "id": "13cfd43a",
   "metadata": {},
   "outputs": [],
   "source": [
    "modelo_petersen.minimize(modelo_petersen.sum(W[k] for k in C))"
   ]
  },
  {
   "cell_type": "markdown",
   "id": "74ef078a",
   "metadata": {},
   "source": [
    "Ahora, agregamos las restricciones de asignación de color:\n",
    "<p>$$ \\sum_{k \\in \\mathcal C} x_{vk} = 1, ~~~~ \\forall~v \\in V. $$</p>"
   ]
  },
  {
   "cell_type": "code",
   "execution_count": 10,
   "id": "da13adfc",
   "metadata": {},
   "outputs": [],
   "source": [
    "for v in Petersen:\n",
    "    modelo_petersen.add_constraint(modelo_petersen.sum(X[v][k] for k in C) == 1)"
   ]
  },
  {
   "cell_type": "markdown",
   "id": "35dcad94",
   "metadata": {},
   "source": [
    "Por último, las restricciones de adyacencia:\n",
    "<p>$$ x_{vk} + x_{uk} \\leq 1, ~~~~ \\forall~vu \\in E,~  k \\in \\mathcal C.$$</p>"
   ]
  },
  {
   "cell_type": "code",
   "execution_count": 11,
   "id": "6946defa",
   "metadata": {},
   "outputs": [],
   "source": [
    "for u, v in Petersen.edges:\n",
    "    for k in C:\n",
    "        modelo_petersen.add_constraint(X[u][k] + X[v][k] <= W[k])"
   ]
  },
  {
   "cell_type": "markdown",
   "id": "e6a01efa",
   "metadata": {},
   "source": [
    "El número de variables es $|V|.|\\mathcal C| + |\\mathcal C|$ y el número de restricciones es $|V| + |E|.|\\mathcal C|$.\n",
    "\n",
    "¡Listo! Nos resta resolver el modelo:"
   ]
  },
  {
   "cell_type": "code",
   "execution_count": 12,
   "id": "0f844b50",
   "metadata": {},
   "outputs": [
    {
     "name": "stdout",
     "output_type": "stream",
     "text": [
      "Version identifier: 22.1.1.0 | 2022-11-28 | 9160aff4d\n",
      "CPXPARAM_Read_DataCheck                          1\n",
      "Tried aggregator 1 time.\n",
      "Reduced MIP has 70 rows, 44 columns, and 220 nonzeros.\n",
      "Reduced MIP has 44 binaries, 0 generals, 0 SOSs, and 0 indicators.\n",
      "Presolve time = 0.01 sec. (0.12 ticks)\n",
      "Found incumbent of value 4.000000 after 0.01 sec. (0.30 ticks)\n",
      "Probing time = 0.00 sec. (0.03 ticks)\n",
      "Tried aggregator 1 time.\n",
      "Detecting symmetries...\n",
      "Reduced MIP has 70 rows, 44 columns, and 220 nonzeros.\n",
      "Reduced MIP has 44 binaries, 0 generals, 0 SOSs, and 0 indicators.\n",
      "Presolve time = 0.01 sec. (0.25 ticks)\n",
      "Probing time = 0.00 sec. (0.03 ticks)\n",
      "Clique table members: 70.\n",
      "MIP emphasis: balance optimality and feasibility.\n",
      "MIP search method: dynamic search.\n",
      "Parallel mode: deterministic, using up to 4 threads.\n",
      "Root relaxation solution time = 0.00 sec. (0.20 ticks)\n",
      "\n",
      "        Nodes                                         Cuts/\n",
      "   Node  Left     Objective  IInf  Best Integer    Best Bound    ItCnt     Gap\n",
      "\n",
      "*     0+    0                            4.0000        0.0000           100.00%\n",
      "*     0+    0                            3.0000        0.0000           100.00%\n",
      "      0     0        2.0000    20        3.0000        2.0000       34   33.33%\n",
      "      0     0        2.0000    20        3.0000   ZeroHalf: 1       40   33.33%\n",
      "      0     0        cutoff              3.0000                     40    0.00%\n",
      "Elapsed time = 0.14 sec. (1.64 ticks, tree = 0.01 MB, solutions = 2)\n",
      "\n",
      "Zero-half cuts applied:  1\n",
      "\n",
      "Root node processing (before b&c):\n",
      "  Real time             =    0.14 sec. (1.64 ticks)\n",
      "Parallel b&c, 4 threads:\n",
      "  Real time             =    0.00 sec. (0.00 ticks)\n",
      "  Sync time (average)   =    0.00 sec.\n",
      "  Wait time (average)   =    0.00 sec.\n",
      "                          ------------\n",
      "Total (root+branch&cut) =    0.14 sec. (1.64 ticks)\n"
     ]
    }
   ],
   "source": [
    "sol = modelo_petersen.solve(log_output=True)"
   ]
  },
  {
   "cell_type": "markdown",
   "id": "447a28b0",
   "metadata": {},
   "source": [
    "Al interpretar un poco el log, viendo la columna Best Integer sabemos que CPLEX logra encontrar con sus heurísticas una solución factible de valor 5, en la primera fila. Inmediatamente después encuentra con sus heurísticas una mejor solución factible con valor 3 (de hecho es la óptima pero todavía no lo puede probar). Viendo la columna Best Bound, en la 3er fila vemos que al resolver la relajación tiene una cota inferior con valor 2. En las siguientes dos filas, se dedica a agregar planos de cortes, mediante los cuales logra ajustar la relajación lineal y obtener una cota inferior de valor 3. En este punto, ambas cotas coinciden, el gap se cierra y se logra probar la optimalidad. En este caso, no fue necesario hacer branching.\n",
    "\n",
    "Para ahorrarnos tiempo, CPLEX provee algunos métodos para observar ciertos resultados de interés en el log. Por ejemplo, podemos imprimir el atributo <code>solve_details</code> de la clase <code>Model</code> para obtener un resumen final:"
   ]
  },
  {
   "cell_type": "code",
   "execution_count": 13,
   "id": "f9fd8634",
   "metadata": {},
   "outputs": [
    {
     "name": "stdout",
     "output_type": "stream",
     "text": [
      "status  = integer optimal solution\n",
      "time    = 0.16376 s.\n",
      "problem = MILP\n",
      "gap     = 0%\n",
      "\n"
     ]
    }
   ],
   "source": [
    "print(modelo_petersen.solve_details)"
   ]
  },
  {
   "cell_type": "markdown",
   "id": "3cea5fb6",
   "metadata": {},
   "source": [
    "Además, podemos usar el método <code>get_objective_value()</code> de la clase <code>SolveSolution</code> para recuperar el valor óptimo:"
   ]
  },
  {
   "cell_type": "code",
   "execution_count": 14,
   "id": "02ecf383",
   "metadata": {},
   "outputs": [
    {
     "data": {
      "text/plain": [
       "3.0"
      ]
     },
     "execution_count": 14,
     "metadata": {},
     "output_type": "execute_result"
    }
   ],
   "source": [
    "sol.get_objective_value()"
   ]
  },
  {
   "cell_type": "markdown",
   "id": "e5e77160",
   "metadata": {},
   "source": [
    "Es hora de generalizar el modelo para un grafo cualquiera dado de entrada. Esto lo logramos poniendo todo el código adentro de una función que tome como argumento la entrada de nuestro problema, que en el caso del problema de coloreo de vértices, es únicamente un grafo. Dentro de la función, repetimos todo el código escrito anteriormente, procurando reemplazar cada aparición de la variable <code>Petersen</code> por el argumento de nuestra función. Las últimas líneas de código se ocupan de imprimir un resumen de los resultados."
   ]
  },
  {
   "cell_type": "code",
   "execution_count": 15,
   "id": "98dc20c1",
   "metadata": {},
   "outputs": [],
   "source": [
    "def colorear(G):\n",
    "    modelo = Model(name='coloreo') # Inicializamos el modelo \n",
    "    C = range(0,max_grado(G) + 2)  # Conjunto de colores\n",
    "    \n",
    "    # Variables\n",
    "    X = [[modelo.binary_var(name='x_' + str(v) + '_' + str(k)) for k in C] for v in G]\n",
    "    W = [modelo.binary_var(name='w_' + str(k)) for k in C]\n",
    "    \n",
    "    # Funcion objetivo\n",
    "    modelo.minimize(modelo.sum(W[k] for k in C))\n",
    "    \n",
    "    # Restricciones\n",
    "    for v in G:\n",
    "        modelo.add_constraint(modelo.sum(X[v][k] for k in C) == 1)\n",
    "    for u, v in G.edges:\n",
    "        for k in C:\n",
    "            modelo.add_constraint(X[u][k] + X[v][k] <= W[k])\n",
    "    \n",
    "    # Resolver modelo\n",
    "    sol = modelo.solve() # No imprimimos el log\n",
    "    \n",
    "    # Si encontro solucion, imprimimos un resumen\n",
    "    if sol:\n",
    "        print(\n",
    "            \"Variables: \", modelo.number_of_variables, \", \",\n",
    "            \"Restricciones: \", modelo.number_of_constraints, \", \",\n",
    "            \"Estado: \", modelo.solve_details.status, \", \",\n",
    "            \"Tiempo: \", modelo.solve_details.time, \"s, \",\n",
    "            \"Gap: \", modelo.solve_details.gap, \", \",\n",
    "            \"Valor: \", sol.get_objective_value()\n",
    "        )\n",
    "    # Si no encontro solucion, imprimimos un mensaje de error\n",
    "    else:\n",
    "        print(\"No se encontró solución\")"
   ]
  },
  {
   "cell_type": "markdown",
   "id": "63ba2783",
   "metadata": {},
   "source": [
    "Ahora podemos aplicar nuestra función sobre cualquier grafo. Por ejemplo, para un grafo aleatorio de 10 vértices y probabilidad de arco 0.5: "
   ]
  },
  {
   "cell_type": "code",
   "execution_count": 16,
   "id": "ce8dbc06",
   "metadata": {},
   "outputs": [
    {
     "name": "stdout",
     "output_type": "stream",
     "text": [
      "Variables:  88 ,  Restricciones:  162 ,  Estado:  integer optimal solution ,  Tiempo:  0.018498897552490234 s,  Gap:  0.0 ,  Valor:  4.0\n"
     ]
    }
   ],
   "source": [
    "colorear(nx.erdos_renyi_graph(10, 0.5, seed=0))"
   ]
  },
  {
   "cell_type": "markdown",
   "id": "2a3de7fe",
   "metadata": {},
   "source": [
    "### &#x1f4bb; Actividad 1\n",
    "\n",
    "En este actividad nos proponemos estudiar los límites de este modelo de coloreo en grafos aleatorios. Para cada probabilidad de arco $p \\in \\{0.25, 0.5, 0.75\\}$, incrementar <u>progresivamente</u> el número de vértices y determinar el máximo tamaño de instancia que puede resolver en 60 segundos.\n",
    "\n",
    "<b>Nota.</b> Para resolver esta actividad necesitará la versión full de CPLEX (sin el límite de 1000 variables y de 1000 restricciones)."
   ]
  },
  {
   "cell_type": "code",
   "execution_count": 17,
   "id": "176db6d9",
   "metadata": {},
   "outputs": [],
   "source": [
    "# Celda para completar la Actividad 1"
   ]
  },
  {
   "cell_type": "markdown",
   "id": "75611801",
   "metadata": {},
   "source": [
    "### &#x1f4bb; Actividad 2\n",
    "\n",
    "En esta actividad trabajaremos con el problema de dominación de grafos. Antes, introducimos la siguiente definición:\n",
    "\n",
    "<b>Definición.</b> Dado un grafo $G=(V,E)$ y un conjunto $D \\subset V$, $D$ es un conjunto dominante si todo vértice de $G$ está en $D$ o tiene algún vecino en $D$, es decir, para todo $v \\in V$, $N[v] \\cap D \\neq \\emptyset$.  \n",
    "\n",
    "Luego, el problema de dominación se puede formular de la siguiente forma:\n",
    "\n",
    "<b>Problema de dominación.</b><br>\n",
    "<b>Entrada:</b> Un grafo $G$.<br>\n",
    "<b>Objetivo:</b> Hallar un conjunto dominante $D$ de cardinal mínimo.\n",
    "\n",
    "1. Pensar en una formulación de PLE para el problema de dominación.\n",
    "2. Usar lo aprendido en este Notebook para escribir una función <code>dominar(G)</code> que tome un grafo $G$, resuelva con CPLEX el modelo de PLE asociado a dicha instancia e imprima un resumen con los resultados.\n",
    "3. Estudiar los límites del modelo en grafos aleatorios."
   ]
  },
  {
   "cell_type": "code",
   "execution_count": 18,
   "id": "d046b642",
   "metadata": {},
   "outputs": [],
   "source": [
    "# Celda para completar la Actividad 2"
   ]
  },
  {
   "cell_type": "markdown",
   "id": "90b504e0",
   "metadata": {},
   "source": [
    "### Testing\n",
    "\n",
    "¿Cómo nos aseguramos de que la formulación de PLE que pensamos es correcta? Cuando la formulación es sencilla, muchas veces es trivial convencerse de que modela correctamente a nuestro problema, por ejemplo, la anterior para el coloreo de vértices. Sin embargo, en formulaciones más complejas, es habitual dar una prueba formal de que una solución óptima del programa lineal entero responde al objetivo de nuestro problema.\n",
    "\n",
    "Sin embargo, esto no garantiza que al escribirlas a Python, las soluciones sean las esperadas. Por ejemplo, pudimos tipear mal alguna de las restricciones. Al igual que un error en la demostración de un teorema, un error en un programa es igual de grave y pueden llevarnos a falsas deducciones.\n",
    "\n",
    "En esta sección, presentaremos algunas buenas prácticas de programación, herramientas y consejos que nos ayudarán a probar nuestros programas."
   ]
  },
  {
   "cell_type": "markdown",
   "id": "69bb84fd",
   "metadata": {},
   "source": [
    "#### 1. Prestar atención a los errores de Python\n",
    "\n",
    "Cuando Python encuentra un error, nos devuelve un <i>traceback</i> con información del lugar donde se produjo el error y el motivo. \n",
    "\n",
    "Por ejemplo, volvamos a nuestro modelo de coloreo sobre el grafo de Petersen. Recordemos que teníamos 4 colores, indexados de 0 al 3. Si al escribir la función objetivo, o alguna de las restricciones, queremos acceder a <code>W[4]</code>, entonces Python nos devolverá lo siguiente. Podemos ver que nos marca con \"---->\" el lugar donde se produjo el error y el motivo fue un índice fuera de rango."
   ]
  },
  {
   "cell_type": "code",
   "execution_count": 19,
   "id": "3a2512aa",
   "metadata": {},
   "outputs": [
    {
     "ename": "IndexError",
     "evalue": "list index out of range",
     "output_type": "error",
     "traceback": [
      "\u001b[0;31m---------------------------------------------------------------------------\u001b[0m",
      "\u001b[0;31mIndexError\u001b[0m                                Traceback (most recent call last)",
      "\u001b[0;32m/tmp/ipykernel_21585/1235337194.py\u001b[0m in \u001b[0;36m<module>\u001b[0;34m\u001b[0m\n\u001b[0;32m----> 1\u001b[0;31m \u001b[0mW\u001b[0m\u001b[0;34m[\u001b[0m\u001b[0;36m4\u001b[0m\u001b[0;34m]\u001b[0m\u001b[0;34m\u001b[0m\u001b[0;34m\u001b[0m\u001b[0m\n\u001b[0m",
      "\u001b[0;31mIndexError\u001b[0m: list index out of range"
     ]
    }
   ],
   "source": [
    "W[4]"
   ]
  },
  {
   "cell_type": "markdown",
   "id": "0ed9c7e9",
   "metadata": {},
   "source": [
    "Otro error común es equivocarnos en alguna restricción y que instancias que sabemos que son factibles sean reportadas como infactible. \n",
    "\n",
    "Por ejemplo, considerar la siguiente función <code>colorear_rota</code> que construye mal el modelo de coloreo porque dice que las restricciones de arco son: \n",
    "\n",
    "$$x_{uk} + x_{vk} \\leq 0 ~~~~ \\forall u,v \\in E,~ k \\in \\mathcal C$$"
   ]
  },
  {
   "cell_type": "code",
   "execution_count": 20,
   "id": "cb85af96",
   "metadata": {},
   "outputs": [],
   "source": [
    "def colorear_rota(G):\n",
    "    modelo = Model(name='coloreo') # Inicializamos el modelo \n",
    "    C = range(0,max_grado(G) + 2)  # Conjunto de colores\n",
    "    \n",
    "    # Variables\n",
    "    X = [[modelo.binary_var(name='x_' + str(v) + '_' + str(k)) for k in C] for v in G]\n",
    "    W = [modelo.binary_var(name='w_' + str(k)) for k in C]\n",
    "    \n",
    "    # Funcion objetivo\n",
    "    modelo.minimize(modelo.sum(W[k] for k in C))\n",
    "    \n",
    "    # Restricciones\n",
    "    for v in G:\n",
    "        modelo.add_constraint(modelo.sum(X[v][k] for k in C) == 1)\n",
    "    for u, v in G.edges:\n",
    "        for k in C:\n",
    "            modelo.add_constraint(X[u][k] + X[v][k] <= 0) # HAY UN ERROR EN ESTAS RESTRICCIONES\n",
    "    \n",
    "    # Resolver modelo\n",
    "    sol = modelo.solve() # No imprimimos el log\n",
    "    \n",
    "    # Si encontro solucion, imprimimos un resumen\n",
    "    if sol:\n",
    "        print(\n",
    "            \"Variables: \", modelo.number_of_variables, \", \",\n",
    "            \"Restricciones: \", modelo.number_of_constraints, \", \",\n",
    "            \"Estado: \", modelo.solve_details.status, \", \",\n",
    "            \"Tiempo: \", modelo.solve_details.time, \"s, \",\n",
    "            \"Gap: \", modelo.solve_details.gap, \", \",\n",
    "            \"Valor: \", sol.get_objective_value()\n",
    "        )\n",
    "    # Si no encontro solucion, imprimimos un mensaje de error\n",
    "    else:\n",
    "        print(\"No se encontró solución\")"
   ]
  },
  {
   "cell_type": "markdown",
   "id": "69793a5c",
   "metadata": {},
   "source": [
    "Luego, al probar nuestra función tenemos la siguente salida."
   ]
  },
  {
   "cell_type": "code",
   "execution_count": 21,
   "id": "648e99b1",
   "metadata": {},
   "outputs": [
    {
     "name": "stdout",
     "output_type": "stream",
     "text": [
      "No se encontró solución\n"
     ]
    }
   ],
   "source": [
    "colorear_rota(Petersen)"
   ]
  },
  {
   "cell_type": "markdown",
   "id": "444433fa",
   "metadata": {},
   "source": [
    "Claramente se debe tratar de un error en nuestro programa, porque sabemos que toda instancia es factible en el problema de coloreo de vértices."
   ]
  },
  {
   "cell_type": "markdown",
   "id": "149f9d65",
   "metadata": {},
   "source": [
    "#### 2. Escribir casos de prueba para nuestras funciones.\n",
    "\n",
    "Al menos probar nuestras funciones en 3 o 4 casos y verificar que la respuesta sea la esperada.\n",
    "\n",
    "Por ejemplo, para nuestra función <code>max_grado</code> podemos proponer los siguientes casos de prueba. La keyword <code>assert</code> de Python se ocupa de corroborar que la condición que le sigue sea cierta. En caso de que sea falsa, nos avisará con un error."
   ]
  },
  {
   "cell_type": "code",
   "execution_count": 22,
   "id": "ff2ab171",
   "metadata": {},
   "outputs": [],
   "source": [
    "assert max_grado(Petersen) == 3\n",
    "assert max_grado(nx.complete_graph(10)) == 9\n",
    "assert max_grado(nx.cycle_graph(5)) == 2\n",
    "assert max_grado(nx.star_graph(5)) == 5"
   ]
  },
  {
   "cell_type": "code",
   "execution_count": 23,
   "id": "1841a848",
   "metadata": {},
   "outputs": [
    {
     "ename": "AssertionError",
     "evalue": "",
     "output_type": "error",
     "traceback": [
      "\u001b[0;31m---------------------------------------------------------------------------\u001b[0m",
      "\u001b[0;31mAssertionError\u001b[0m                            Traceback (most recent call last)",
      "\u001b[0;32m/tmp/ipykernel_21585/194100523.py\u001b[0m in \u001b[0;36m<module>\u001b[0;34m\u001b[0m\n\u001b[0;32m----> 1\u001b[0;31m \u001b[0;32massert\u001b[0m \u001b[0mmax_grado\u001b[0m\u001b[0;34m(\u001b[0m\u001b[0mnx\u001b[0m\u001b[0;34m.\u001b[0m\u001b[0mwheel_graph\u001b[0m\u001b[0;34m(\u001b[0m\u001b[0;36m5\u001b[0m\u001b[0;34m)\u001b[0m\u001b[0;34m)\u001b[0m \u001b[0;34m==\u001b[0m \u001b[0;36m3\u001b[0m \u001b[0;31m# Nos equivocamos a propósito.\u001b[0m\u001b[0;34m\u001b[0m\u001b[0;34m\u001b[0m\u001b[0m\n\u001b[0m",
      "\u001b[0;31mAssertionError\u001b[0m: "
     ]
    }
   ],
   "source": [
    "assert max_grado(nx.wheel_graph(5)) == 3 # Nos equivocamos a propósito."
   ]
  },
  {
   "cell_type": "markdown",
   "id": "72746f46",
   "metadata": {},
   "source": [
    "#### 3. Contar número de variables y restricciones\n",
    "\n",
    "Si conocemos el número de variables y restricciones que debería tener nuestro modelo, podemos compararlo con la cantidad que tiene en efecto.\n",
    "\n",
    "Por ejemplo, recordemos que nuestra formulación de coloreo tenía $|V|.|\\mathcal C| + |\\mathcal C|$ variables y $|V| + |E|.|\\mathcal C|$ restricciones. Luego para el modelo del grafo de Petersen, se tienen que cumplir las siguientes condiciones."
   ]
  },
  {
   "cell_type": "code",
   "execution_count": 24,
   "id": "79f55df0",
   "metadata": {},
   "outputs": [],
   "source": [
    "assert (Petersen.number_of_nodes() * len(C) + len(C)) == modelo_petersen.number_of_variables\n",
    "assert (Petersen.number_of_nodes() + Petersen.number_of_edges() * len(C)) == modelo_petersen.number_of_constraints"
   ]
  },
  {
   "cell_type": "markdown",
   "id": "be0e950a",
   "metadata": {},
   "source": [
    "#### 4. Revisar las soluciones encontradas en instancias chicas\n",
    "\n",
    "Como ya mencionamos, la clase <code>SolveSolution</code> tiene el método <code>display()</code> para mostrar en pantalla la solución y su valor objetivo. \n",
    "    \n",
    "Por ejemplo, para el grafo de Petersen se muestra lo siguiente."
   ]
  },
  {
   "cell_type": "code",
   "execution_count": 25,
   "id": "33d2413c",
   "metadata": {},
   "outputs": [
    {
     "name": "stdout",
     "output_type": "stream",
     "text": [
      "solution for: coloreo_petersen\n",
      "objective: 3\n",
      "status: OPTIMAL_SOLUTION(2)\n",
      "x_0_0 = 1\n",
      "x_1_1 = 1\n",
      "x_2_0 = 1\n",
      "x_3_1 = 1\n",
      "x_4_2 = 1\n",
      "x_5_1 = 1\n",
      "x_6_0 = 1\n",
      "x_7_2 = 1\n",
      "x_8_2 = 1\n",
      "x_9_1 = 1\n",
      "w_0 = 1\n",
      "w_1 = 1\n",
      "w_2 = 1\n"
     ]
    }
   ],
   "source": [
    "sol.display()"
   ]
  },
  {
   "cell_type": "markdown",
   "id": "ccaa3775",
   "metadata": {},
   "source": [
    "Por un lado, sabemos que el grafo de Petersen no se puede pintar con 2 colores (tiene un ciclo $C_5$ inducido). Falta ver entonces que la solución dada por CPLEX sea efectivamente un coloreo. Queda como actividad revisar manualmente esta solución. Recordar que las variables se interpretan de la siguiente forma: <code>x_0_0 = 1</code> significa que el vértice 0 se pinta de 0, <code>x_2_0 = 1</code> significa que el vértice 2 se pinta con 0, y así sucesivamente. También nos ayudará la función <code>draw_networkx(G)</code> de <code>networkx</code> para visualizar cómo se etiquetaron los vértices."
   ]
  },
  {
   "cell_type": "code",
   "execution_count": 26,
   "id": "eed360b6",
   "metadata": {},
   "outputs": [
    {
     "data": {
      "image/png": "[encoded data removed]",
      "text/plain": [
       "<Figure size 432x288 with 1 Axes>"
      ]
     },
     "metadata": {},
     "output_type": "display_data"
    }
   ],
   "source": [
    "nx.draw_networkx(Petersen)"
   ]
  },
  {
   "cell_type": "markdown",
   "id": "2a226529",
   "metadata": {},
   "source": [
    "#### 5. Verificar computacionalmente las soluciones encontradas\n",
    "\n",
    "La idea es escribir una función que tome la solución encontrada por CPLEX y chequee automáticamente que sea un coloreo.\n",
    "    \n",
    "¡Buenas noticias para quienes completaron el Notebook 2! Ya tenemos una función <code>es_coloreo(G,f)</code> que determina si $f$ es un coloreo de $G$. Quienes no lo hayan resuelto, es buen momento para volver al notebook y repensarlo. De todas formas, les dejamos una solución para que sigan avanzando."
   ]
  },
  {
   "cell_type": "code",
   "execution_count": 27,
   "id": "9498747a",
   "metadata": {},
   "outputs": [],
   "source": [
    "def es_coloreo(G,f):\n",
    "    for u,v in G.edges:\n",
    "        if f[u] == f[v]:\n",
    "            return False\n",
    "    return True"
   ]
  },
  {
   "cell_type": "markdown",
   "id": "92ed5766",
   "metadata": {},
   "source": [
    "Y sus casos de prueba:"
   ]
  },
  {
   "cell_type": "code",
   "execution_count": 28,
   "id": "8ec34368",
   "metadata": {},
   "outputs": [],
   "source": [
    "assert es_coloreo(nx.path_graph(3), {0:0, 1:1, 2:0}) == True\n",
    "assert es_coloreo(nx.path_graph(3), {0:0, 1:1, 2:1}) == False\n",
    "assert es_coloreo(nx.complete_graph(4), {0:0, 1:1, 2:2, 3:3}) == True\n",
    "assert es_coloreo(nx.complete_graph(4), {0:0, 1:1, 2:2, 3:0}) == False"
   ]
  },
  {
   "cell_type": "markdown",
   "id": "cb684a27",
   "metadata": {},
   "source": [
    "Lo único que nos queda entonces es escribir una función que traduzca la solución de CPLEX a un diccionario de Python, que es el tipo de datos esperado por nuestra función <code>es_coloreo(G,f)</code>. \n",
    "\n",
    "\n",
    "Empecemos con el caso particular del grafo de Petersen. Primero, creamos un diccionario vacío."
   ]
  },
  {
   "cell_type": "code",
   "execution_count": 29,
   "id": "007c2671",
   "metadata": {},
   "outputs": [],
   "source": [
    "coloreo_petersen = {}"
   ]
  },
  {
   "cell_type": "markdown",
   "id": "33dc268e",
   "metadata": {},
   "source": [
    "Luego, iteramos sobre las variables de asignación vértice-color. Aquellas variables $x_{vk}$ que en la solución tengan valor 1, representan que $v$ se pinta con $k$. La clase <code>Var</code> posee un atributo <code>solution_value</code> que almacena el valor encontrado en la solución para esa variable. Por lo tanto, basta con preguntarnos si <code>X[v][k].solution_value == 1</code>. En ese caso, actualizamos esta información en el diccionario mediante la línea <code>coloreo_petersen[v] = k</code>. En la práctica no es conveniente comparar variables de CPLEX por igualdad (debido a aproximaciones numéricas), por lo que recomendamos comparar que sean mayores a cierto valor, típicamente 0.5 en variables binarias (total sus valores son muy cercanos a 0 o 1). "
   ]
  },
  {
   "cell_type": "code",
   "execution_count": 30,
   "id": "835d4708",
   "metadata": {},
   "outputs": [],
   "source": [
    "for v in Petersen:\n",
    "    for k in C:\n",
    "        if X[v][k].solution_value >= 0.5:\n",
    "            coloreo_petersen[v] = k"
   ]
  },
  {
   "cell_type": "markdown",
   "id": "4845078e",
   "metadata": {},
   "source": [
    "Finalmente, imprimimos el coloreo que resulta."
   ]
  },
  {
   "cell_type": "code",
   "execution_count": 31,
   "id": "c67a9e2b",
   "metadata": {},
   "outputs": [
    {
     "data": {
      "text/plain": [
       "{0: 0, 1: 1, 2: 0, 3: 1, 4: 2, 5: 1, 6: 0, 7: 2, 8: 2, 9: 1}"
      ]
     },
     "execution_count": 31,
     "metadata": {},
     "output_type": "execute_result"
    }
   ],
   "source": [
    "coloreo_petersen"
   ]
  },
  {
   "cell_type": "markdown",
   "id": "a2b839df",
   "metadata": {},
   "source": [
    "Ahora, movamos este código a una función <code>interpretar(G,C,X)</code> para que pueda ser aplicada sobre cualquier grafo $G$, conjunto de colores $\\mathcal C$ y variables $X$."
   ]
  },
  {
   "cell_type": "code",
   "execution_count": 32,
   "id": "239f1fe1",
   "metadata": {},
   "outputs": [],
   "source": [
    "def interpretar(G,C,X):\n",
    "    coloreo = {}\n",
    "    for v in G:\n",
    "        for k in C:\n",
    "            if X[v][k].solution_value >= 0.5:\n",
    "                coloreo[v] = k\n",
    "    return coloreo"
   ]
  },
  {
   "cell_type": "markdown",
   "id": "d89fd1ee",
   "metadata": {},
   "source": [
    "¡Listo! Usemos nuestra función para verificar que la salida de CPLEX represente un coloreo."
   ]
  },
  {
   "cell_type": "code",
   "execution_count": 33,
   "id": "a52f0752",
   "metadata": {},
   "outputs": [],
   "source": [
    "coloreo_petersen = interpretar(Petersen,C,X)\n",
    "assert es_coloreo(Petersen, coloreo_petersen) == True"
   ]
  },
  {
   "cell_type": "markdown",
   "id": "39ea4d20",
   "metadata": {},
   "source": [
    "<u>Recomendamos fuertemente incluir este tipo de controles siempre que se resuelva un modelo</u>. Una forma de automatizar esto es agregarlo a la función que justamente se ocupa de resolver el modelo. Por ejemplo, en la función <code>colorear</code>, agregamos las siguientes líneas luego de encontrar una solución:\n",
    "<p><code>coloreo = interpretar(G,C,X)\n",
    "assert es_coloreo(G, coloreo) == True</code></p>"
   ]
  },
  {
   "cell_type": "code",
   "execution_count": 34,
   "id": "76fe16d6",
   "metadata": {},
   "outputs": [],
   "source": [
    "def colorear(G):\n",
    "    modelo = Model(name='coloreo') # Inicializamos el modelo \n",
    "    C = range(0,max_grado(G) + 2)  # Conjunto de colores\n",
    "    \n",
    "    # Variables\n",
    "    X = [[modelo.binary_var(name='x_' + str(v) + '_' + str(k)) for k in C] for v in G]\n",
    "    W = [modelo.binary_var(name='w_' + str(k)) for k in C]\n",
    "    \n",
    "    # Funcion objetivo\n",
    "    modelo.minimize(modelo.sum(W[k] for k in C))\n",
    "    \n",
    "    # Restricciones\n",
    "    for v in G:\n",
    "        modelo.add_constraint(modelo.sum(X[v][k] for k in C) == 1)\n",
    "    for u, v in G.edges:\n",
    "        for k in C:\n",
    "            modelo.add_constraint(X[u][k] + X[v][k] <= W[k])\n",
    "    \n",
    "    # Resolver modelo\n",
    "    sol = modelo.solve() # No imprimimos el log\n",
    "    \n",
    "    # Si encontro solucion, imprimimos un resumen\n",
    "    if sol:\n",
    "        \n",
    "        # Controlamos la solucion\n",
    "        coloreo = interpretar(G,C,X)\n",
    "        assert es_coloreo(G, coloreo) == True\n",
    "        \n",
    "        # Imprimimos un resumen\n",
    "        print(\n",
    "            \"Variables: \", modelo.number_of_variables, \", \",\n",
    "            \"Restricciones: \", modelo.number_of_constraints, \", \",\n",
    "            \"Estado: \", modelo.solve_details.status, \", \",\n",
    "            \"Tiempo: \", modelo.solve_details.time, \"s, \",\n",
    "            \"Gap: \", modelo.solve_details.gap, \", \",\n",
    "            \"Valor: \", sol.get_objective_value()\n",
    "        )\n",
    "    # Si no encontro solucion, imprimimos un mensaje de error\n",
    "    else:\n",
    "        print(\"No se encontró solución\")"
   ]
  },
  {
   "cell_type": "markdown",
   "id": "2d93c51f",
   "metadata": {},
   "source": [
    "### &#x1f4bb; Actividad 3\n",
    "\n",
    "Incorporar a los desarrollos realizados en la Actividad 2 una función <code>interpretar(G,X)</code> que interprete los valores de las variables $X$ como un conjunto $D$ de vértices de $G$ y una función <code>es_dominante(G,D)</code> que verifica si $D$ es un conjunto dominante de $G$. \n",
    "\n",
    "<b>Nota.</b> Necesitará elegir una representación para el conjunto $D$, por ejemplo, puede ser una lista, un set o un diccionario de Python."
   ]
  },
  {
   "cell_type": "code",
   "execution_count": null,
   "id": "f00b6900",
   "metadata": {},
   "outputs": [],
   "source": []
  }
 ],
 "metadata": {
  "kernelspec": {
   "display_name": "Python 3 (ipykernel)",
   "language": "python",
   "name": "python3"
  },
  "language_info": {
   "codemirror_mode": {
    "name": "ipython",
    "version": 3
   },
   "file_extension": ".py",
   "mimetype": "text/x-python",
   "name": "python",
   "nbconvert_exporter": "python",
   "pygments_lexer": "ipython3",
   "version": "3.10.12"
  }
 },
 "nbformat": 4,
 "nbformat_minor": 5
}
