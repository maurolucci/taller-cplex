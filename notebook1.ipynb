{
 "cells": [
  {
   "cell_type": "markdown",
   "id": "135a060c",
   "metadata": {},
   "source": [
    "# Notæ 1: Problema de las ocho reinas\n",
    "\n",
    "### En esta nota, veremos la creación y optimización de un modelo sencillo. Recuerde que cada vez que quiera optimizar el modelo, deberá reiniciar el Kernel de Python (ir al menú \"Kernel\" > \"Restart\")."
   ]
  },
  {
   "cell_type": "code",
   "execution_count": null,
   "id": "dd3d3def",
   "metadata": {},
   "outputs": [],
   "source": [
    "# Comenzamos solicitando las librerías necesarias.\n",
    "import cplex, chess\n",
    "from docplex.mp.model import Model"
   ]
  },
  {
   "cell_type": "code",
   "execution_count": null,
   "id": "e857c4ea",
   "metadata": {},
   "outputs": [],
   "source": [
    "# Ahora creamos el modelo.\n",
    "p = cplex.Cplex()\n",
    "m = Model(name='queens')"
   ]
  },
  {
   "cell_type": "markdown",
   "id": "61908617",
   "metadata": {},
   "source": [
    "#### Las variables de decisión son:\n",
    "- x[i,j] = 1 si se coloca una reina en la posicion (i,j), 0 si no, para todo i, j en T\n",
    "\n",
    "#### La función objetivo es:\n",
    "- max sum_ij x[i,j]\n",
    "\n",
    "#### Y las restricciones son:\n",
    "- Para dada una posición (i,j), colocar una reina en esa posición impide la colocación de una reina en cualquier otra posición tanto en sentido horizontal (es decir, otra (k, j) con k en T-{i}) como vertical (es decir, otra (i, k) con k en T-{j}) como diagonal, la que se puede modelar como una big-M, por ejemplo para (1,1) tenemos:\n",
    "50 x[1,1] + x[1,2] + x[1,3] + x[1,4] + x[1,5] + x[1,6] + x[1,7] + x[1,8] + x[2,1] + x[2,2] + x[3,1] + x[3,3] + x[4,1] + x[4,4] + x[5,1] + x[5,5] + x[6,1] + x[6,6] + x[7,1] + x[7,7] + x[8,1] + x[8,8] <= 50"
   ]
  },
  {
   "cell_type": "code",
   "execution_count": null,
   "id": "27d86821",
   "metadata": {
    "scrolled": true
   },
   "outputs": [],
   "source": [
    "# Conjuntos útils\n",
    "T = range(1, 9)    # T = {1, 2, ..., 8}\n",
    "S = {k for k in range(-7, 8) if k != 0} # S = {-7, -6, ..., -1, 1, 2, ..., 7}\n",
    "\n",
    "# Creamos las variables\n",
    "x = {(i,j): m.binary_var(name='x_{0}_{1}'.format(i,j)) for i in T for j in T}\n",
    "\n",
    "# Creamos la función objetivo\n",
    "m.maximize(m.sum(x[i,j] for i in T for j in T))\n",
    "\n",
    "# Listamos las restricciones\n",
    "for i in T:\n",
    "    for j in T:\n",
    "        m.add_constraint(50 * x[i,j]\n",
    "                         + m.sum(x[k,j] for k in T if k != i)\n",
    "                         + m.sum(x[i,k] for k in T if k != j)\n",
    "                         + m.sum(x[i+k,j+k] for k in S if i+k in T and j+k in T)\n",
    "                         + m.sum(x[i+k,j-k] for k in S if i+k in T and j-k in T) <= 50)\n",
    "\n",
    "# Observamos algunos datos (deberían ser 64 variables y 64 restricciones)\n",
    "m.print_information()"
   ]
  },
  {
   "cell_type": "code",
   "execution_count": null,
   "id": "a12d4b7f",
   "metadata": {},
   "outputs": [],
   "source": [
    "# Para revisar que el modelo esté ok, podemos exportarlo a un archivo y revisarlo con un editor.\n",
    "m.export_as_lp(\"modelito.lp\")"
   ]
  },
  {
   "cell_type": "code",
   "execution_count": null,
   "id": "981c6a2c",
   "metadata": {
    "scrolled": true
   },
   "outputs": [],
   "source": [
    "# Resolvemos y mostramos la solución numérica\n",
    "\n",
    "sol = m.solve(log_output=True)\n",
    "print('')\n",
    "if sol is None:\n",
    "    print('El modelo es infactible!')\n",
    "else:\n",
    "    print('Solución:')\n",
    "    sol.display()"
   ]
  },
  {
   "cell_type": "code",
   "execution_count": null,
   "id": "6a3588ae",
   "metadata": {},
   "outputs": [],
   "source": [
    "# Veamos la solución en un Tablero\n",
    "board = chess.Board()\n",
    "board.clear()\n",
    "for i in T:\n",
    "    for j in T:\n",
    "        if sol.get_value(x[i,j]) > 0.5:\n",
    "            squareIndex=i*8+j-9\n",
    "            board.set_piece_at(chess.SQUARES[squareIndex], chess.Piece(chess.QUEEN, chess.WHITE))\n",
    "board"
   ]
  },
  {
   "cell_type": "markdown",
   "id": "27e1f683",
   "metadata": {},
   "source": [
    "#### Actividades:\n",
    "- Añada una restricción que obligue a colocar una posición en algún lugar fijo del tablero. ¿Sigue siendo 8 la solución óptima? ¿Puede forzar a que sea inferior a ese número?\n",
    "- Añada una o varias restricciones para tornar al modelo infactible y compruébelo.\n",
    "- ¿Se anima a re-escribir el modelo como un Problema del Conjunto Estable, es decir reemplazando las actuales restricciones por otras de la forma x[i,j] + x[k,l] <= 1 (formulación EDGE)?"
   ]
  }
 ],
 "metadata": {
  "kernelspec": {
   "display_name": "Python 3 (ipykernel)",
   "language": "python",
   "name": "python3"
  },
  "language_info": {
   "codemirror_mode": {
    "name": "ipython",
    "version": 3
   },
   "file_extension": ".py",
   "mimetype": "text/x-python",
   "name": "python",
   "nbconvert_exporter": "python",
   "pygments_lexer": "ipython3",
   "version": "3.10.12"
  }
 },
 "nbformat": 4,
 "nbformat_minor": 5
}
