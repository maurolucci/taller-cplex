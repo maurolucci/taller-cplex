{
 "cells": [
  {
   "cell_type": "markdown",
   "id": "b4c49e28",
   "metadata": {},
   "source": [
    "# Notæ 7\n",
    "\n",
    "# Incidencia de cotas duales en la resolución de PLE"
   ]
  },
  {
   "cell_type": "markdown",
   "id": "a73abbb5",
   "metadata": {},
   "source": [
    "## Introducción\n",
    "\n",
    "En esta nota vamos a estudiar técnicas para mejorar la optimización de la resolución de Programas\n",
    "Lineales Enteros. Como sabemos, la optimización alcanza su fin cuando convergen la cota primal (aquella que\n",
    "surge de la obtención de una solución entera factible del problema) y la cota dual (aquella dada por la peor\n",
    "relajación entre los actuales nodos hoja evaluados del árbol B&B (banch-and-bound)).\n",
    "\n",
    "Por ejemplo, si en nuestro problema, resulta sencillo elevar la cota dual pero es difícil encontrar soluciones factibles,\n",
    "una posible solución es barrer el árbol B&B enfatizando en la búsqueda de soluciones, es decir que su recorrido sea de tipo\n",
    "primero-profundo. Así CPLEX va a priorizar profundizar en el árbol hasta encontrar soluciones enteras. El caso inverso es\n",
    "querer enfatizar en la mejora de la cota dual, aquí CPLEX va a priorizar evaluar aquellos nodos cuya relajación lineal sea\n",
    "la que está imponiendo la actual cota dual. Su recorrido se asemeja a una búsqueda a lo ancho.\n",
    "La estrategia actual de CPLEX es balancear ambos aspectos, pero cuenta con parámetros para que el usuario pueda elegir.\n",
    "\n",
    "Pero además de la forma de explorar el árbol B&B, tenemos herramientas para atacar ambas cotas, que son:\n",
    "- Heurísticas primales: consisten en aprovechar la solución fraccionaria de un nodo para fabricar una solución entera; esto\n",
    "evita que CPLEX tenga que profundizar en el árbol para alcanzarla, dejando nodos abiertos innecesariamente.\n",
    "- Rutinas de separación de desigualdades válidas: consisten en aprovechar la solución fraccionaria de un nodo para generar\n",
    "desigualdades que la corten y así elevar el resultado de la relajación lineal, que impactará en la cota dual.\n",
    "\n",
    "Vamos a seguir como caso de estudio al Problema de Coloreo de Grafos clásico (PCG) formulado mediante variables de asignación vértice-color. En esta formulación, las variables $x_{vk}$ son binarias y valen 1 cuando al vértice $v$ se le asigna el color $k$.\n",
    "Las variables $w_k$ también son binarias y valen 1 cuando el color $k$ es utilizado por algún vértice."
   ]
  },
  {
   "cell_type": "markdown",
   "id": "0929ab29-8810-4f28-b89d-35eb9a02a1fe",
   "metadata": {},
   "source": [
    "\\begin{align*}\n",
    "\\text{Minimizar:} & \\sum_{k \\in \\mathcal C}w_k \\tag{COL} \\\\\n",
    "\\text{Sujeto a:} & \\sum_{k \\in \\mathcal C} x_{vk} = 1 & \\forall~v \\in V. \\tag{1}\\\\\n",
    "& x_{vk} + x_{uk} \\leq w_k & \\forall~vu \\in E,~  k \\in \\mathcal C. \\tag{2} \\\\\n",
    "& \\sum_{v \\in V} x_{vk} \\geq w_k & \\forall~k \\in \\mathcal C. \\tag{3} \\\\ \n",
    "& w_k \\in \\{0,1\\} & \\forall~k \\in \\mathcal C.\\\\\n",
    "& x_{vk} \\in \\{0,1\\} & \\forall~v \\in V,~k \\in \\mathcal C.\n",
    "\\end{align*}"
   ]
  },
  {
   "cell_type": "markdown",
   "id": "98c57cdf-be94-4652-81fc-bed2d7f67ca7",
   "metadata": {},
   "source": [
    "No obstante, las restricciones $(3)$ pueden omitirse ya que se satisfacen naturalmente en la solución óptima (probar en Actividad 1)."
   ]
  },
  {
   "cell_type": "markdown",
   "id": "0764e36a",
   "metadata": {},
   "source": [
    "### Repaso: Resolverlo con CPLEX"
   ]
  },
  {
   "cell_type": "markdown",
   "id": "02139c00",
   "metadata": {},
   "source": [
    "Comenzando importanto los paquetes necesarios."
   ]
  },
  {
   "cell_type": "code",
   "execution_count": null,
   "id": "6021daff",
   "metadata": {},
   "outputs": [],
   "source": [
    "from docplex.mp.model import Model\n",
    "import networkx as nx"
   ]
  },
  {
   "cell_type": "markdown",
   "id": "c6815b33",
   "metadata": {},
   "source": [
    "Ahora, vamos a implementar las funciones necesarias para construir el modelo basado en la formulación (COL) y resolverlo. Estas funciones no son nuevas y ya fueron explicadas en detalle en los notebook anteriores."
   ]
  },
  {
   "cell_type": "code",
   "execution_count": null,
   "id": "5e638b94",
   "metadata": {},
   "outputs": [],
   "source": [
    "def max_grado(G):\n",
    "    grados = [G.degree(v) for v in G]\n",
    "    return max(grados)\n",
    "\n",
    "def construir_modelo_col(G, C):\n",
    "    \"\"\"Construye un modelo de PLE para el PCV.\"\"\"\n",
    "    \n",
    "    modelo = Model(name='col') # Inicializamos el modelo \n",
    "    \n",
    "    # Variables\n",
    "    X = [[modelo.binary_var(name='x_' + str(v) + '_' + str(k)) for k in C] for v in G]\n",
    "    W = [modelo.binary_var(name='w_' + str(k)) for k in C]\n",
    "    \n",
    "    # Funcion objetivo\n",
    "    modelo.minimize(modelo.sum(W[k] for k in C))\n",
    "    \n",
    "    # Restricciones (1)\n",
    "    for v in G:\n",
    "        modelo.add_constraint(modelo.sum(X[v][k] for k in C) == 1)\n",
    "    # Restricciones (2)\n",
    "    for u, v in G.edges:\n",
    "        for k in C:\n",
    "            modelo.add_constraint(X[u][k] + X[v][k] <= W[k])    \n",
    "    \n",
    "    return modelo\n",
    "\n",
    "def resolver(modelo, archivo=True):\n",
    "    \n",
    "    # Resolvemos el modelo\n",
    "    sol = modelo.solve(log_output=archivo)\n",
    " \n",
    "    # Retornamos la solucion\n",
    "    return sol"
   ]
  },
  {
   "cell_type": "markdown",
   "id": "431968fa",
   "metadata": {},
   "source": [
    "A continuación, vemos un ejemplo de ejecución sobre un grafo rueda de 5 vértices $G = W_5$."
   ]
  },
  {
   "cell_type": "code",
   "execution_count": null,
   "id": "a05438ea",
   "metadata": {},
   "outputs": [],
   "source": [
    "G = nx.wheel_graph(5)\n",
    "C = range(0,max_grado(G) + 1)\n",
    "modelo = construir_modelo_col(G, C)\n",
    "sol = resolver(modelo)"
   ]
  },
  {
   "cell_type": "markdown",
   "id": "9e80783f",
   "metadata": {},
   "source": [
    "Mediante la cual se obtiene la siguiente solución óptima, con valor objetivo igual a 3."
   ]
  },
  {
   "cell_type": "code",
   "execution_count": null,
   "id": "f2c15f72",
   "metadata": {},
   "outputs": [],
   "source": [
    "sol.display()"
   ]
  },
  {
   "cell_type": "markdown",
   "id": "c6f86a5e",
   "metadata": {},
   "source": [
    "### &#x1f4bb; Actividad 1\n",
    "\n",
    "- Explique qué tipo de soluciones enteras elimina la restricción (COL.3). De un ejemplo, tomando como grafo la rueda de grado 5.\n",
    "- Genere un grafo aleatorio de 20, otro de 25 y otro de 30 vértices, con 50% de densidad de aristas. Utilice la formulación anterior para resolverlo. Luego repítalo, pero añadiendo la restricción (COL.3). ¿Ve alguna mejora en el tiempo de resolución?  "
   ]
  },
  {
   "cell_type": "markdown",
   "id": "d500d8bc-36b1-4fa3-bea4-8672181a27ed",
   "metadata": {},
   "source": [
    "## Relajación lineal\n",
    "\n",
    "Empecemos por observar cómo resolver la relajación lineal de una formulación PLE, lo cual es muy sencillo gracias a DOcplex. La siguiente función, <code>relajacion_lineal</code>, toma un modelo de PLE y retorna un modelo de PL con su relajación lineal. En su definición, se hace uso del método <code>make_relaxed_model</code> de la clase <code>LinearRelaxer</code>."
   ]
  },
  {
   "cell_type": "code",
   "execution_count": null,
   "id": "0dd8de9d",
   "metadata": {},
   "outputs": [],
   "source": [
    "from docplex.mp.relax_linear import LinearRelaxer\n",
    "\n",
    "def relajacion_lineal(modelo):\n",
    "    return LinearRelaxer.make_relaxed_model(modelo)"
   ]
  },
  {
   "cell_type": "markdown",
   "id": "2a1966e5",
   "metadata": {},
   "source": [
    "Y veamos un ejemplo de cómo usar esta función. El modelo de PL se resuelve de la misma forma que un modelo de PLE, es decir, mediante el método <code>solve</code>, por lo tanto, podemos aprovechar la función <code>resolver</code> que definimos más arriba."
   ]
  },
  {
   "cell_type": "code",
   "execution_count": null,
   "id": "2c7839b4",
   "metadata": {},
   "outputs": [],
   "source": [
    "relajacion = relajacion_lineal(modelo)\n",
    "sol = resolver(relajacion)"
   ]
  },
  {
   "cell_type": "markdown",
   "id": "0c55d702",
   "metadata": {},
   "source": [
    "Se obtiene la siguiente solución óptima, con valor objetivo igual a 2 (menor al de la solución óptima entera)."
   ]
  },
  {
   "cell_type": "code",
   "execution_count": null,
   "id": "2f405c9c",
   "metadata": {},
   "outputs": [],
   "source": [
    "sol.display()"
   ]
  },
  {
   "cell_type": "markdown",
   "id": "b87ea877-5fd0-4d82-bf39-582b596833dd",
   "metadata": {},
   "source": [
    "## Desigualdades válidas\n",
    "\n",
    "Vamos a comenzar proponiendo potenciales desigualdades válidas para (COL) que permitan ajustar su relajación\n",
    "lineal. Estamos interesados en hallar desigualdades válidas que, por un lado, sean violadas por soluciones fraccionarias como la mostrada más arriba, y por el otro lado, que al incorporarlas en la formulación, logren elevar el valor objetivo lo <i>más posible</i>. \n",
    "\n",
    "Veamos un ejemplo. Consideremos el grafo rueda de 5 vértices, G = $W_5$, definido anteriormente."
   ]
  },
  {
   "cell_type": "code",
   "execution_count": null,
   "id": "48c4fef4",
   "metadata": {},
   "outputs": [],
   "source": [
    "nx.draw_networkx(G, pos={0: (1,1), 1: (0,0), 2: (2,0), 3: (2,2), 4: (0,2)})"
   ]
  },
  {
   "cell_type": "markdown",
   "id": "8b477063",
   "metadata": {},
   "source": [
    "Sabemos que, por ejemplo, los vértices 0, 1 y 2 forman una clique. Por lo tanto, para todo color $k$, todo coloreo verifica que a lo sumo un vértice de {0,1,2} se pinta con $k$. Es decir, tenemos las siguientes desigualdades válidas:\n",
    "\n",
    "$$ x_{0k} + x_{1k} + x_{2k} \\leq w_k,~~~~~~ \\forall~ k \\in \\mathcal C $$"
   ]
  },
  {
   "cell_type": "markdown",
   "id": "3984dc68",
   "metadata": {},
   "source": [
    "Es crucial notar que, por el contrario, no toda solución fraccionaria (i.e. solución factible de la relajación lineal) las verifica. Por ejemplo, la solución óptima fraccionaria encontrada anteriormente la viola para $k=0$, pues $$x_{00}+x_{10}+x_{20} = 1,5 \\not\\leq 1 = w_0.$$ \n",
    "Verifiquemos esta última cuenta:"
   ]
  },
  {
   "cell_type": "code",
   "execution_count": null,
   "id": "d823adc6",
   "metadata": {},
   "outputs": [],
   "source": [
    "print(\"Lado izquierdo: \", sol.get_value(\"x_0_0\") + sol.get_value(\"x_1_0\") + sol.get_value(\"x_2_0\"))\n",
    "print(\"Lado derecho: \", sol.get_value(\"w_0\"))"
   ]
  },
  {
   "cell_type": "markdown",
   "id": "7e8928ea",
   "metadata": {},
   "source": [
    "¡Esta desigualdad válida que encontramos podemos usarla para ajustar nuestro poliedro! Es decir, agregando esta restricción a la formulación cortamos la solución fraccionaria que encontramos anteriormente. ¡Hagámoslo!\n",
    "\n",
    "En este punto, nos encontramos con una pequeña sutileza, fácilmente subsanable, pero que vale la pena mencionar. Ya conocemos el método <code>add_constraint</code> de la clase <code>Model</code>, usada para agregar restricciones en un modelo (por ejemplo, ver cómo la llamamos en la función <code>construir_modelo_col</code> definida al comienzo del notebook). Este método necesita acceder a las variables del modelo para poder construir la restricción deseada. Sin embargo, en nuestra implementación, las variables fueron guardadas en las variables de Python <code>X</code> y <code>W</code> en la función <code>construir_modelo_col</code>, las cuales son locales, es decir, no podemos llamarlas fuera del alcance de la definición de esta función. \n",
    "\n",
    "Por lo tanto, tenemos varias opciones. La primera, es definir una nueva función <code>construir_modelo_col_ajustado</code>, la cual hace lo mismo que <code>construir_modelo_col</code>, salvo que al final agrega la desigualdad válida deseada. Si bien esto nos soluciona el problema, no es una buena práctica de programación en general, dado que tendríamos mucha repetición de código. \n",
    "\n",
    "Otra opción, es modificar <code>construir_modelo_col</code> para que las variables <code>X</code> y <code>W</code> sean globales, y puedan ser usadas fuera del alcance de la definición de la función. En general, esto tampoco es recomendable, en particular cuando se trabaja con varios modelos a la vez, dado que coexistirían muchas variables y sería propenso a errores.\n",
    "\n",
    "La opción elegida, mucho más recomendable, no modifica el código que ya hicimos, sino que lo aprovecha y lo complementa con una nueva función <code>recuperar_variables</code>, que toma un modelo de (COL) y retorna sus variables. Esto es posible gracias al método <code>get_var_by_name</code> de la clase <code>Model</code> que permite buscar una variable por su nombre."
   ]
  },
  {
   "cell_type": "code",
   "execution_count": null,
   "id": "b1a7c4c7",
   "metadata": {},
   "outputs": [],
   "source": [
    "def recuperar_variables(G, C, modelo):\n",
    "    X = [[modelo.get_var_by_name(\"x_\" + str(v) + \"_\" + str(k)) for k in C] for v in G]\n",
    "    W = [modelo.get_var_by_name(\"w_\" + str(k)) for k in C]\n",
    "    return X, W"
   ]
  },
  {
   "cell_type": "markdown",
   "id": "e25d59cc",
   "metadata": {},
   "source": [
    "Ahora si, procedemos a construir un nuevo modelo llamando a la función <code>construir_modelo_col</code>, luego recuperamos sus variables llamando a <code>recuperar_variables</code> y finalmente agregamos con el método <code>add_constraint</code> la desigualdad válida deseada, en este caso, $x_{00}+x_{10}+x_{20} \\leq w_0.$"
   ]
  },
  {
   "cell_type": "code",
   "execution_count": null,
   "id": "a1179993",
   "metadata": {},
   "outputs": [],
   "source": [
    "modelo_ajustado = construir_modelo_col(G, C)\n",
    "X, W = recuperar_variables(G, C, modelo_ajustado)\n",
    "modelo_ajustado.add_constraint(X[0][0] + X[1][0] + X[2][0] <= W[0])"
   ]
  },
  {
   "cell_type": "markdown",
   "id": "5880df84",
   "metadata": {},
   "source": [
    "Ahora, resolvamos la relajación lineal."
   ]
  },
  {
   "cell_type": "code",
   "execution_count": null,
   "id": "68db4616",
   "metadata": {},
   "outputs": [],
   "source": [
    "relajacion_ajustada = relajacion_lineal(modelo_ajustado)\n",
    "sol = resolver(relajacion_ajustada)"
   ]
  },
  {
   "cell_type": "markdown",
   "id": "90b6a084",
   "metadata": {},
   "source": [
    "Y veamos su solución óptima."
   ]
  },
  {
   "cell_type": "code",
   "execution_count": null,
   "id": "1a490b14",
   "metadata": {},
   "outputs": [],
   "source": [
    "sol.display()"
   ]
  },
  {
   "cell_type": "markdown",
   "id": "5de19f93",
   "metadata": {},
   "source": [
    "Obviamente, obtuvimos una solución distinta, sin embargo no aumentó la cota dual. ¿Por qué? &#x1f914;\n",
    "\n",
    "Lo que pasó es que nos dio una solución simétrica, apagó el color 0 y encendió el 1. Ok, entonces agreguemos estas desigualdades válidas para todos los colores."
   ]
  },
  {
   "cell_type": "code",
   "execution_count": null,
   "id": "0add3657",
   "metadata": {},
   "outputs": [],
   "source": [
    "modelo_ajustado = construir_modelo_col(G, C)\n",
    "X, W = recuperar_variables(G, C, modelo_ajustado)\n",
    "for k in C:\n",
    "    modelo_ajustado.add_constraint(X[0][k] + X[1][k] + X[2][k] <= W[k])\n",
    "relajacion_ajustada = relajacion_lineal(modelo_ajustado)\n",
    "sol = resolver(relajacion_ajustada)"
   ]
  },
  {
   "cell_type": "markdown",
   "id": "82f0b75d",
   "metadata": {},
   "source": [
    "Veamos la solución óptima."
   ]
  },
  {
   "cell_type": "code",
   "execution_count": null,
   "id": "0390b48d",
   "metadata": {},
   "outputs": [],
   "source": [
    "sol.display()"
   ]
  },
  {
   "cell_type": "markdown",
   "id": "28a36a04",
   "metadata": {},
   "source": [
    "¡Éxito! No solo cortamos la solución fraccionaria anterior (y sus soluciones simétricas), sino que además pudimos elevar el valor óptimo de la relajación lineal, pasó de 2 a 3.\n",
    "\n",
    "Aunque el trabajo que hicimos fue específico al grafo rueda $W_5$, este tipo de desigualdades válidas se pueden aplicar a cualquier grafo y clique. Estudiemos cómo se formaliza."
   ]
  },
  {
   "cell_type": "markdown",
   "id": "af6d1e4d",
   "metadata": {},
   "source": [
    "### Restricciones clique\n",
    "\n",
    "<b>Proposición.</b> Considerar el modelo (COL) para una instancia del PCG formada por un grafo $G=(V,E)$ y un conjunto de colores $\\mathcal C$. Para toda clique $Q \\subset V$ y color $k \\in \\mathcal C$, la siguiente restricción es una desigualdad válida\n",
    "\n",
    "$$\\sum_{v \\in Q}x_{vk} \\leq w_k,$$\n",
    "\n",
    "y se conoce como <b>restricción clique</b>.\n",
    "\n",
    "<b>Observación 1.</b> Las restricciones $(COL.2)$ son restricciones clique asociadas a cliques de cardinal 2 (los extremos de la arista), y en general no son maximales.\n",
    "\n",
    "<b>Observación 2.</b> En particular, siendos dos cliques $Q' \\subset Q$, la restricción clique asociada a $Q$ domina a la asociada a $Q'$, pues \n",
    "\n",
    "$$\\sum_{v \\in Q'}x_{vk} \\leq \\sum_{v \\in Q}x_{vk} \\leq w_k.$$ \n",
    "\n",
    "Por lo tanto, basta con considerar cliques maximales. Llamaremos $\\mathcal Q$ al conjunto de cliques maximales del grafo."
   ]
  },
  {
   "cell_type": "markdown",
   "id": "e96661cf",
   "metadata": {},
   "source": [
    "## Incorporación de desigualdades válidas\n",
    "\n",
    "Desde lo algorítmico, existen dos estrategias principales para incorporar desigualdades válidas.\n",
    "\n",
    "1. Agregarlas como restricciones en la formulación y resolver la formulación resultante. Es decir, todas las desigualdades válidas estarán desde el comienzo en todos los nodos del árbol de B\\&B. Esta estrategia fue la que usamos en el ejemplo del grafo rueda $W_5$. \n",
    "\n",
    "2. Comenzar con la formulación original e ir agregando las desigualdades válidas bajo demanda a medida que se necesiten. Es decir, en cada nodo del árbol de B\\&B, se agregan únicamente las desigualdades válidas que estén siendo violadas, dando como resultado un algoritmo de tipo B\\&C (banch-and-cut)."
   ]
  },
  {
   "cell_type": "markdown",
   "id": "fee82f86",
   "metadata": {},
   "source": [
    "### Desigualdades válidas en la formulación\n",
    "\n",
    "Continuemos viendo algunos ejemplos adicionales para esta estrategia. Vamos a agregar a la formulación (COL) todas las restricciones cliques asociadas a $\\mathcal Q$. Es decir, ahora nuestra formulación de PLE es la siguiente.\n",
    "\n",
    "\\begin{align*}\n",
    "\\text{Minimizar:} & \\sum_{k \\in \\mathcal C}w_k \\tag{CLI} \\\\\n",
    "\\text{Sujeto a:} & \\sum_{k \\in \\mathcal C} x_{vk} = 1 & \\forall~v \\in V. \\tag{1}\\\\\n",
    "& x_{vk} + x_{uk} \\leq w_k & \\forall~vu \\in E,~  k \\in \\mathcal C. \\tag{2} \\\\\n",
    "& \\sum_{v \\in Q} x_{vk} \\leq w_k & \\forall~Q \\in \\mathcal Q,~  k \\in \\mathcal C. \\tag{3} \\\\\n",
    "& w_k \\in \\{0,1\\} & \\forall~k \\in \\mathcal C.\\\\\n",
    "& x_{vk} \\in \\{0,1\\} & \\forall~v \\in V,~k \\in \\mathcal C.\n",
    "\\end{align*}\n",
    "\n",
    "<b>Observación.</b> Las restricciones $(2)$ quedan implicadas por las $(3)$, luego podemos sacarlas de la formulación sin perder soluciones factibles. Para no complicar las cosas, las dejaremos y confiaremos en el poder de CPLEX para detectar y eliminar restricciones redundantes.\n",
    "\n",
    "A continuación, definimos una función <code>construir_modelo_cli</code> que construye un modelo para esta formulación de PLE."
   ]
  },
  {
   "cell_type": "code",
   "execution_count": null,
   "id": "fd4a2f01",
   "metadata": {},
   "outputs": [],
   "source": [
    "def construir_modelo_cli(G, C):\n",
    "    modelo = construir_modelo_col(G, C)\n",
    "    modelo.name = \"cli\"\n",
    "    X, W = recuperar_variables(G, C, modelo)\n",
    "    for Q in nx.find_cliques(G):\n",
    "        for k in C:\n",
    "            modelo.add_constraint(modelo.sum(X[v][k] for v in Q) <= W[k])\n",
    "    return modelo"
   ]
  },
  {
   "cell_type": "markdown",
   "id": "72ebb354",
   "metadata": {},
   "source": [
    "¿Cómo se comportará esta formulación? ¿Mejor o peor que (COL)? &#x1f914;\n",
    "\n",
    "Haremos algunas pruebas computacionales para intentar responder estas preguntas. Trabajaremos con un grafo aleatorio con $n=30$ y $p=0.35$. Usaremos la semilla <code>seed=0</code> para trabajar todos/as con el mismo grafo."
   ]
  },
  {
   "cell_type": "code",
   "execution_count": null,
   "id": "5cbe99f6",
   "metadata": {},
   "outputs": [],
   "source": [
    "G = nx.erdos_renyi_graph(30, 0.35, seed=0)\n",
    "C = range(max_grado(G)+1)\n",
    "modelo_col = construir_modelo_col(G, C)\n",
    "modelo_cli = construir_modelo_cli(G, C)"
   ]
  },
  {
   "cell_type": "markdown",
   "id": "5a81409e",
   "metadata": {},
   "source": [
    "Primero, veamos la performance de resolver sus relajaciones lineales. Para la relajación lineal de (COL) tenemos:"
   ]
  },
  {
   "cell_type": "code",
   "execution_count": null,
   "id": "8a7c48b0",
   "metadata": {},
   "outputs": [],
   "source": [
    "relajacion_col = relajacion_lineal(modelo_col)\n",
    "resolver(relajacion_col)"
   ]
  },
  {
   "cell_type": "markdown",
   "id": "6d5ad168",
   "metadata": {},
   "source": [
    "Y para la relajación lineal de (CLI):"
   ]
  },
  {
   "cell_type": "code",
   "execution_count": null,
   "id": "88c27a80",
   "metadata": {},
   "outputs": [],
   "source": [
    "relajacion_cli = relajacion_lineal(modelo_cli)\n",
    "resolver(relajacion_cli)"
   ]
  },
  {
   "cell_type": "markdown",
   "id": "1e63b214",
   "metadata": {},
   "source": [
    "Hagamos un resumen de estos resultados y comparemos la perfomance:"
   ]
  },
  {
   "cell_type": "code",
   "execution_count": null,
   "id": "13025493",
   "metadata": {},
   "outputs": [],
   "source": [
    "def imprimir_resumen(modelo):\n",
    "    print(modelo.name, \":\")\n",
    "    print(\"\\tNúmero de restricciones: \", modelo.number_of_constraints)\n",
    "    print(\"\\tTiempo: \", modelo.solve_details.time, \" s\")\n",
    "    print(\"\\tValor objetivo: \", modelo.objective_value)\n",
    "    print(\"\\tNúmero de nodos: \", modelo.solve_details.nb_nodes_processed)\n",
    "    \n",
    "imprimir_resumen(relajacion_col)\n",
    "imprimir_resumen(relajacion_cli)"
   ]
  },
  {
   "cell_type": "markdown",
   "id": "2ad83733",
   "metadata": {},
   "source": [
    "La relajación lineal de (COL) tiene menos restricciones y su resolución es más rápida, pero la cota inferior que aporta es bastante débil. Por el contrario, la relajación lineal de (CLI) presenta una marcada mejora en el valor objetivo, aunque posee más restricciones y su resolución demora más tiempo.\n",
    "\n",
    "Con este análisis solo estamos evaluando lo que sucede en el nodo raíz del árbol de B\\&B. ¿Qué pasará cuando consideremos el árbol completo? La intuición nos dice que comenzar con una relajación más ajustada hace que CPLEX pueda podar nodos con mayor rapidez y cerrar el gap anticipadamente, pero a su vez cada nodo demora más tiempo en resolverse (pues las desigualdades válidas incrementan el número de restricciones y el simplex requiere de más iteraciones para resolver las relajaciones). Bueno, veamos experimentalmente qué sucede.\n",
    "\n",
    "Antes que nada, hay que mencionar lo siguiente. CPLEX es un software muy potente, capaz de ajustar por su cuenta las formulaciones de PLE. Para no generar resultados sesgados por estos mecanismos adicionales, decidimos apagarlos durante los próximos experimentos. La siguiente función se ocupa de apagar (parte de) la artillería de CPLEX."
   ]
  },
  {
   "cell_type": "code",
   "execution_count": null,
   "id": "07f9ff6c",
   "metadata": {},
   "outputs": [],
   "source": [
    "def apagar_artilleria(modelo):\n",
    "    \n",
    "    # Apagamos parte del preprocesamiento de CPLEX\n",
    "    modelo.parameters.preprocessing.reduce = 0\n",
    "    modelo.parameters.preprocessing.symmetry = 0\n",
    "    \n",
    "    # Apagamos los cortes de CPLEX\n",
    "    modelo.parameters.mip.limits.cutpasses = -1\n",
    "    \n",
    "    # Apagamos las heurísticas de CPLEX\n",
    "    modelo.parameters.mip.strategy.heuristiceffort = 0"
   ]
  },
  {
   "cell_type": "markdown",
   "id": "c5f6d040",
   "metadata": {},
   "source": [
    "Ahora vamos a resolver los modelos enteros, empezando por (COL). La siguiente celda puede demorar en ejecutarse. Momento para armar unos &#129481;  &#129481;."
   ]
  },
  {
   "cell_type": "code",
   "execution_count": null,
   "id": "d29e3798",
   "metadata": {},
   "outputs": [],
   "source": [
    "apagar_artilleria(modelo_col)\n",
    "resolver(modelo_col)"
   ]
  },
  {
   "cell_type": "markdown",
   "id": "0a502db2",
   "metadata": {},
   "source": [
    "Y finalmente resolvemos (CLI)."
   ]
  },
  {
   "cell_type": "code",
   "execution_count": null,
   "id": "594866d4",
   "metadata": {},
   "outputs": [],
   "source": [
    "apagar_artilleria(modelo_cli)\n",
    "resolver(modelo_cli)"
   ]
  },
  {
   "cell_type": "markdown",
   "id": "f85a8c43",
   "metadata": {},
   "source": [
    "Comparemos los resultados."
   ]
  },
  {
   "cell_type": "code",
   "execution_count": null,
   "id": "e54b032e",
   "metadata": {},
   "outputs": [],
   "source": [
    "imprimir_resumen(modelo_col)\n",
    "imprimir_resumen(modelo_cli)"
   ]
  },
  {
   "cell_type": "markdown",
   "id": "f710cf20-2aa4-456d-a0b5-19c36b4699d8",
   "metadata": {},
   "source": [
    "El siguiente análisis dependerá de los números que cada uno/a haya obtenido en su computadora (las tendencias no deberían cambiar demasiado). \n",
    "\n",
    "En mi caso, observo una muy marcada diferencia en la performance. El tiempo necesario para resolver (CLI) es muy inferior (unas 12 veces) al requerido por (COL). Lo mismo sucede con el número de nodos procesados (la reducción en este caso es de 204 veces). Por lo tanto, en este caso particular, es conveniente utilizar una formulación más ajustada, a pesar de que cada nodo del árbol de B\\&B demoré más tiempo en resolverse. Para saber si este resultado es robusto, deberíamos repetir el experimento sobre un dataset más grande. También podría ser interesante estudiar qué sucede en grafos más grandes o con otras densidades.\n",
    "\n",
    "De hecho, podemos calcular el tiempo promedio requerido por nodo, como el cociente entre el tiempo total de ejecución y el número de nodos procesados. "
   ]
  },
  {
   "cell_type": "code",
   "execution_count": null,
   "id": "13c04667",
   "metadata": {
    "scrolled": true
   },
   "outputs": [],
   "source": [
    "print(\"Promedio de tiempo por nodo: \", \n",
    "      modelo_col.solve_details.time / modelo_col.solve_details.nb_nodes_processed, \"s (COL), \", \n",
    "      modelo_cli.solve_details.time / modelo_cli.solve_details.nb_nodes_processed, \"s (CLI)\")"
   ]
  },
  {
   "cell_type": "markdown",
   "id": "531833b8-7bb0-412e-8773-b621b43bf2c0",
   "metadata": {},
   "source": [
    "### &#x1f4bb; Actividad 2\n",
    "\n",
    "Supongamos que, en la formulación original, reemplazamos las restricciones (COL.2) por las siguientes, denominadas \"de vecindad\":\n",
    "$$ f(v) x_{vk} + \\sum_{u \\in N(v)} x_{uk} \\leq f(v)w_k,~~ \\forall~v \\in V,~k \\in \\mathcal C $$\n",
    "donde $f(v)$ es el grado del vértice $v$ (por ahora 😉).\n",
    "Esta desigualdad es válida porque resulta de sumar todas las (COL.2) que comparten un mismo vértice, en este caso $v$.\n",
    "Siendo que estas restricciones son en total $|V|.|\\mathcal C|$ mientras que las (COL.2) contabilizan $|E|.|\\mathcal C|$, ¿será que esta disminución compensa la calidad de la relajación lineal?\n",
    "- Genere algunas instancias aleatorias, a su criterio.\n",
    "- Compare el valor óptima de la relajación lineal de ambas formulaciones en dichas instancias.\n",
    "- Realice un experimento donde compara el tiempo de resolución de ambas ejecuciones, ¿quién se comporta mejor? Y si ahora incorporamos las desigualdades cliques, ¿se mantiene la tendencia? ¿alguna formulación resulta mejor que la otra para distintas densidades del grafo?\n",
    "- Elija una instancia donde difieren significativamente los resultados para cada formulación, ¿y si ahora apaga la artillería de CPLEX? ¿se mantiene la tendencia? \"+1\" si encuentran un caso en que sí 🙂 \n",
    "- (Opcional) Si $f(v)$ fuese menor, la desigualdad ajustaría más. Piense qué valor podría asignarle a $f(v)$ para lograrlo, en el caso de la rueda de grado $n$, para cualquier $n \\geq 4$ (tenemos dos casos: el \"interesante\" cuando $v$ es el vértice central, y el otro cuando $v$ es el pendiente). Ahora intente generalizar ese concepto."
   ]
  },
  {
   "cell_type": "markdown",
   "id": "1ffffad0",
   "metadata": {},
   "source": [
    "### Subfamilias de desigualdades válidas\n",
    "\n",
    "En instancias más grandes no es esperable que se puedan agregar a la formulación todas las desigualdades válidas de una determinada familia. Por ejemplo, en las restricciones clique, el número de cliques máximales puede crecer exponencialmente con el tamaño del grafo. Agregarlas a todas llevaría a una formulación con una excesiva cantidad de restricciones, cuya relajación lineal tardaría mucho tiempo en optimizarse. Incluso pueden llegar a aparecer problemas de memoria, es decir, ni siquiera poder iniciar la optimización del modelo porque no fue posible construirlo.\n",
    "\n",
    "Una alternativa es no agregarlas a todas, sino a un subconjunto de ellas. Por ejemplo, para las restricciones cliques una estrategia conocida es trabajar con un subconjunto $\\mathcal Q' \\subset \\mathcal Q$, tal que $\\mathcal Q'$ es un cubrimiento minimal de aristas de $G$.\n",
    "\n",
    "Por ejemplo, consideremos el siguiente grafo $H$."
   ]
  },
  {
   "cell_type": "code",
   "execution_count": null,
   "id": "6ececcf1",
   "metadata": {},
   "outputs": [],
   "source": [
    "H = nx.Graph([(0,1), (0,2), (0,4), (0,5), (1,2), (2,3), (2,4), (3,4), (4,5)])\n",
    "nx.draw_networkx(H, pos={0: (0,1), 1: (2,1), 2: (1,-1), 3: (0,-3), 4: (-1,-1), 5: (-2,1)})"
   ]
  },
  {
   "cell_type": "markdown",
   "id": "c16ebdd2",
   "metadata": {},
   "source": [
    "Es fácil ver que $H$ tiene las siguientes cliques maximales.\n",
    "\n",
    "* $Q_1 = \\{0,1,2\\}$.\n",
    "* $Q_2 = \\{2,3,4\\}$.\n",
    "* $Q_3 = \\{0,4,5\\}$.\n",
    "* $Q_4 = \\{0,2,4\\}$.\n",
    "\n",
    "Esto también podríamos calcularlo con <code>Networkx</code>:"
   ]
  },
  {
   "cell_type": "code",
   "execution_count": null,
   "id": "bcffbf72",
   "metadata": {},
   "outputs": [],
   "source": [
    "list(nx.find_cliques(H))"
   ]
  },
  {
   "cell_type": "markdown",
   "id": "aeceab6f",
   "metadata": {},
   "source": [
    "Por lo tanto, $\\mathcal Q = \\{Q_1, Q_2, Q_3, Q_4\\}$.\n",
    "\n",
    "Sin embargo, el conjunto $\\mathcal Q' = \\{Q_1, Q_2, Q_3\\}$ es un cubrimiento minimal de aristas ya que: (i) para toda arista, existe una clique en $\\mathcal Q'$ que contiene a sus extremos, y (ii) si sacamos cualquier clique de $\\mathcal Q'$ quedará al menos una arista sin cubrir. \n",
    "\n",
    "Como resultado, obtenemos la siguiente formulación, que es más ajustada que (COL), pero menos ajustada que (CLI). \n",
    "\n",
    "\\begin{align*}\n",
    "\\text{Minimizar:} & \\sum_{k \\in \\mathcal C}w_k \\tag{CUB} \\\\\n",
    "\\text{Sujeto a:} & \\sum_{k \\in \\mathcal C} x_{vk} = 1 & \\forall~v \\in V. \\tag{1}\\\\\n",
    "& x_{vk} + x_{uk} \\leq w_k & \\forall~vu \\in E,~  k \\in \\mathcal C. \\tag{2} \\\\\n",
    "& \\sum_{v \\in Q} x_{vk} \\leq w_k & \\forall~Q \\in \\mathcal Q',~  k \\in \\mathcal C. \\tag{3} \\\\\n",
    "& w_k \\in \\{0,1\\} & \\forall~k \\in \\mathcal C.\\\\\n",
    "& x_{vk} \\in \\{0,1\\} & \\forall~v \\in V,~k \\in \\mathcal C.\n",
    "\\end{align*}\n",
    "\n",
    "<b>Observación.</b> Usar un cubrimiento minimal de aristas tiene las siguientes ventajas.\n",
    "1. Las restricciones (CUB.2) siguen estando implicadas por las (CUB.3). Es decir, podríamos borrarlas y seguiriamos teniendo una formulación del PCG.\n",
    "2. Las restricciones (CUB.3) tienden a ser bastante diferentes entre sí, es decir, poca intersección de variables.\n",
    "3. En el peor caso, el número de restricciones (CUB.3) es $|E|.|\\mathcal C|$.\n",
    "\n",
    "Para poder implementar un modelo para (CUB) necesitamos algunas funciones auxiliares. En primer lugar, necesitamos una función que tome una clique y la maximalice. La buena noticia es que ya la definimos en el Notebook 2."
   ]
  },
  {
   "cell_type": "code",
   "execution_count": null,
   "id": "1f4d37bc",
   "metadata": {},
   "outputs": [],
   "source": [
    "def maximalizar_clique(G, C):\n",
    "    M = list(C) # Copiar la lista C\n",
    "    for v in G:\n",
    "        if v in M:\n",
    "            continue\n",
    "        ok = True\n",
    "        for u in M:\n",
    "            if not G.has_edge(u,v):\n",
    "                ok = False\n",
    "        if ok:\n",
    "            M.append(v)\n",
    "    return M"
   ]
  },
  {
   "cell_type": "markdown",
   "id": "c2ac6fe2",
   "metadata": {},
   "source": [
    "Ahora sí, vamos a definir una función que tome un grafo $G$ y retorne un cubrimiento minimal de sus aristas con cliques. La idea para implementarla es la siguiente. \n",
    "1. Inicialmente, ninguna de las aristas de $G$ está cubierta. \n",
    "2. Iterativamente, vamos a recorrer una por una sus aristas. \n",
    "3. Si una arista $e$ ya fue cubierta, entonces proseguimos con la próxima arista. \n",
    "4. De lo contrario, construimos el subgrafo $H$ de $G$ formado por las aristas no cubiertas (esto lo hacemos con la función <code>edge_subgraph</code> de <code>NetworkX</code>).\n",
    "5. Buscamos una clique maximal <code>clique</code> de $H$ que contenga a los extremos de $e$.\n",
    "6. Buscamos una clique maximal de $G$ que contenga a <code>clique</code>.\n",
    "7. Marcamos todas las aristas con extremos en <code>clique</code>como cubiertas.\n",
    "8. Agregamos <code>clique</code> al cubrimiento y proseguimos con la próxima arista. \n",
    "\n",
    "<b>Nota.</b> Si bien podríamos no hacer los pasos 4-5, sino directamente buscar una clique maximal de $G$ que contenga a $e$, decidimos construir $H$ para priorizar las aristas que aun no fueron cubiertas, lo que tiende a reducir el cardinal del cubrimiento."
   ]
  },
  {
   "cell_type": "code",
   "execution_count": null,
   "id": "aee2d092",
   "metadata": {},
   "outputs": [],
   "source": [
    "def cubrir(G):\n",
    "    cubrimiento = []\n",
    "    esta_cubierta = {e: False for e in G.edges()}\n",
    "    for e in G.edges():\n",
    "        if esta_cubierta[e]:\n",
    "            continue\n",
    "        H = nx.edge_subgraph(G, [e2 for e2 in esta_cubierta if not esta_cubierta[e2]])\n",
    "        clique = maximalizar_clique(H , e)\n",
    "        clique = maximalizar_clique(G, clique)\n",
    "        for i, u in enumerate(clique):\n",
    "            for j, v in enumerate(clique):\n",
    "                if u < v:\n",
    "                    esta_cubierta[(u,v)] = True\n",
    "        cubrimiento.append(clique)\n",
    "    return cubrimiento"
   ]
  },
  {
   "cell_type": "markdown",
   "id": "45352f95",
   "metadata": {},
   "source": [
    "Finalmente, ya podemos definir una función que tome el grafo y el conjunto de colores, y retorne el modelo correspondiente a la formulación (CUB)."
   ]
  },
  {
   "cell_type": "code",
   "execution_count": null,
   "id": "8ade1542",
   "metadata": {},
   "outputs": [],
   "source": [
    "def construir_modelo_cub(G, C):\n",
    "    modelo = construir_modelo_col(G, C)\n",
    "    modelo.name = \"cub\"\n",
    "    X, W = recuperar_variables(G, C, modelo)\n",
    "    for Q in cubrir(G):\n",
    "        for k in C:\n",
    "            modelo.add_constraint(modelo.sum(X[v][k] for v in Q) <= W[k])\n",
    "    return modelo"
   ]
  },
  {
   "cell_type": "markdown",
   "id": "e9a0f0cf",
   "metadata": {},
   "source": [
    "### &#x1f4bb; Actividad 3\n",
    "\n",
    "En esta actividad compararemos las formulaciones (CLI) y (CUB).\n",
    "\n",
    "1. Genere grafos aleatorios con diferentes densidades (variando el parámetro $p$, probabilidad de arco). ¿Para qué valor de densidad la diferencia entre el número de restricciones de (CLI) y (CUB) es mayor?  \n",
    "2. Utilizando un par de grafos aleatorios con el valor de $p$ encontrado en el punto anterior, compare la performance de resolver las relajaciones lineales de (CLI) y (CUB). ¿Cuál se resuelve más rápido? ¿Hay variaciones en la cota dual?\n",
    "3. Vuelva a comparar la performance, esta vez resolviendo los modelos enteros de (CLI) y (CUB). ¿Cuál conviene? ¿Por qué?\n",
    "\n",
    "<b>Nota.</b> Decida usted un número de vértices interesante, de forma tal que el problema no sea demasiado fácil/difícil de resolver. Proponemos que su resolución demore entre 1 y 5 minutos."
   ]
  },
  {
   "cell_type": "code",
   "execution_count": null,
   "id": "8ae8d1cf-16b1-45ce-8fc7-2482b5afd209",
   "metadata": {},
   "outputs": [],
   "source": []
  }
 ],
 "metadata": {
  "kernelspec": {
   "display_name": "Python 3 (ipykernel)",
   "language": "python",
   "name": "python3"
  },
  "language_info": {
   "codemirror_mode": {
    "name": "ipython",
    "version": 3
   },
   "file_extension": ".py",
   "mimetype": "text/x-python",
   "name": "python",
   "nbconvert_exporter": "python",
   "pygments_lexer": "ipython3",
   "version": "3.9.19"
  }
 },
 "nbformat": 4,
 "nbformat_minor": 5
}
