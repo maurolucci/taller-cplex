{
 "cells": [
  {
   "cell_type": "markdown",
   "id": "b4c49e28",
   "metadata": {},
   "source": [
    "# Notæ 7\n",
    "\n",
    "# Incidencia de cotas duales en la resolución de PLE"
   ]
  },
  {
   "cell_type": "markdown",
   "id": "a73abbb5",
   "metadata": {},
   "source": [
    "## Introducción\n",
    "\n",
    "En esta nota vamos a estudiar técnicas para mejorar la optimización de la resolución de Programas\n",
    "Lineales Enteros. Como sabemos, la optimización alcanza su fin cuando convergen la cota primal (aquella que\n",
    "surge de la obtención de una solución entera factible del problema) y la cota dual (aquella dada por la peor\n",
    "relajación entre los actuales nodos hoja evaluados del árbol B&B (banch-and-bound)).\n",
    "\n",
    "Por ejemplo, si en nuestro problema, resulta sencillo elevar la cota dual pero es difícil encontrar soluciones factibles,\n",
    "una posible solución es barrer el árbol B&B enfatizando en la búsqueda de soluciones, es decir que su recorrido sea de tipo\n",
    "primero-profundo. Así CPLEX va a priorizar profundizar en el árbol hasta encontrar soluciones enteras. El caso inverso es\n",
    "querer enfatizar en la mejora de la cota dual, aquí CPLEX va a priorizar evaluar aquellos nodos cuya relajación lineal sea\n",
    "la que está imponiendo la actual cota dual. Su recorrido se asemeja a una búsqueda a lo ancho.\n",
    "La estrategia actual de CPLEX es balancear ambos aspectos, pero cuenta con parámetros para que el usuario pueda elegir.\n",
    "\n",
    "Pero además de la forma de explorar el árbol B&B, tenemos herramientas para atacar ambas cotas, que son:\n",
    "- Heurísticas primales: consisten en aprovechar la solución fraccionaria de un nodo para fabricar una solución entera; esto\n",
    "evita que CPLEX tenga que profundizar en el árbol para alcanzarla, dejando nodos abiertos innecesariamente.\n",
    "- Rutinas de separación de desigualdades válidas: consisten en aprovechar la solución fraccionaria de un nodo para generar\n",
    "desigualdades que la corten y así elevar el resultado de la relajación lineal, que impactará en la cota dual.\n",
    "\n",
    "Vamos a seguir como caso de estudio al Problema de Coloreo de Grafos clásico (PCG) formulado mediante variables de asignación vértice-color. En esta formulación, las variables $x_{vk}$ son binarias y valen 1 cuando al vértice $v$ se le asigna el color $k$.\n",
    "Las variables $w_k$ también son binarias y valen 1 cuando el color $k$ es utilizado por algún vértice."
   ]
  },
  {
   "cell_type": "markdown",
   "id": "0929ab29-8810-4f28-b89d-35eb9a02a1fe",
   "metadata": {},
   "source": [
    "\\begin{align*}\n",
    "\\text{Minimizar:} & \\sum_{k \\in \\mathcal C}w_k \\tag{COL} \\\\\n",
    "\\text{Sujeto a:} & \\sum_{k \\in \\mathcal C} x_{vk} = 1 & \\forall~v \\in V. \\tag{1}\\\\\n",
    "& x_{vk} + x_{uk} \\leq w_k & \\forall~vu \\in E,~  k \\in \\mathcal C. \\tag{2} \\\\\n",
    "& \\sum_{v \\in V} x_{vk} \\geq w_k & \\forall~k \\in \\mathcal C. \\tag{3} \\\\ \n",
    "& w_k \\in \\{0,1\\} & \\forall~k \\in \\mathcal C.\\\\\n",
    "& x_{vk} \\in \\{0,1\\} & \\forall~v \\in V,~k \\in \\mathcal C.\n",
    "\\end{align*}"
   ]
  },
  {
   "cell_type": "markdown",
   "id": "98c57cdf-be94-4652-81fc-bed2d7f67ca7",
   "metadata": {},
   "source": [
    "No obstante, las restricciones $(3)$ pueden omitirse ya que se satisfacen naturalmente en la solución óptima (probar en Actividad 1)."
   ]
  },
  {
   "cell_type": "markdown",
   "id": "0764e36a",
   "metadata": {},
   "source": [
    "### Repaso: Resolverlo con CPLEX"
   ]
  },
  {
   "cell_type": "markdown",
   "id": "02139c00",
   "metadata": {},
   "source": [
    "Comenzando importanto los paquetes necesarios."
   ]
  },
  {
   "cell_type": "code",
   "execution_count": 1,
   "id": "6021daff",
   "metadata": {},
   "outputs": [],
   "source": [
    "from docplex.mp.model import Model\n",
    "import networkx as nx"
   ]
  },
  {
   "cell_type": "markdown",
   "id": "c6815b33",
   "metadata": {},
   "source": [
    "Ahora, vamos a implementar las funciones necesarias para construir el modelo basado en la formulación (COL) y resolverlo. Estas funciones no son nuevas y ya fueron explicadas en detalle en los notebook anteriores."
   ]
  },
  {
   "cell_type": "code",
   "execution_count": 2,
   "id": "5e638b94",
   "metadata": {},
   "outputs": [],
   "source": [
    "def max_grado(G):\n",
    "    grados = [G.degree(v) for v in G]\n",
    "    return max(grados)\n",
    "\n",
    "def construir_modelo_col(G, C):\n",
    "    \"\"\"Construye un modelo de PLE para el PCV.\"\"\"\n",
    "    \n",
    "    modelo = Model(name='col') # Inicializamos el modelo \n",
    "    \n",
    "    # Variables\n",
    "    X = [[modelo.binary_var(name='x_' + str(v) + '_' + str(k)) for k in C] for v in G]\n",
    "    W = [modelo.binary_var(name='w_' + str(k)) for k in C]\n",
    "    \n",
    "    # Funcion objetivo\n",
    "    modelo.minimize(modelo.sum(W[k] for k in C))\n",
    "    \n",
    "    # Restricciones (1)\n",
    "    for v in G:\n",
    "        modelo.add_constraint(modelo.sum(X[v][k] for k in C) == 1)\n",
    "    # Restricciones (2)\n",
    "    for u, v in G.edges:\n",
    "        for k in C:\n",
    "            modelo.add_constraint(X[u][k] + X[v][k] <= W[k])    \n",
    "    \n",
    "    return modelo\n",
    "\n",
    "def resolver(modelo, archivo=True):\n",
    "    \n",
    "    # Resolvemos el modelo\n",
    "    sol = modelo.solve(log_output=archivo)\n",
    " \n",
    "    # Retornamos la solucion\n",
    "    return sol"
   ]
  },
  {
   "cell_type": "markdown",
   "id": "431968fa",
   "metadata": {},
   "source": [
    "A continuación, vemos un ejemplo de ejecución sobre un grafo rueda de 5 vértices $G = W_5$."
   ]
  },
  {
   "cell_type": "code",
   "execution_count": 3,
   "id": "a05438ea",
   "metadata": {},
   "outputs": [
    {
     "name": "stdout",
     "output_type": "stream",
     "text": [
      "Version identifier: 22.1.1.0 | 2022-11-28 | 9160aff4d\n",
      "CPXPARAM_Read_DataCheck                          1\n",
      "Tried aggregator 1 time.\n",
      "MIP Presolve eliminated 20 rows and 0 columns.\n",
      "MIP Presolve modified 20 coefficients.\n",
      "Reduced MIP has 25 rows, 30 columns, and 105 nonzeros.\n",
      "Reduced MIP has 30 binaries, 0 generals, 0 SOSs, and 0 indicators.\n",
      "Presolve time = 0.01 sec. (0.07 ticks)\n",
      "Found incumbent of value 5.000000 after 0.02 sec. (0.16 ticks)\n",
      "Probing time = 0.00 sec. (0.02 ticks)\n",
      "Tried aggregator 1 time.\n",
      "Detecting symmetries...\n",
      "Reduced MIP has 25 rows, 30 columns, and 105 nonzeros.\n",
      "Reduced MIP has 30 binaries, 0 generals, 0 SOSs, and 0 indicators.\n",
      "Presolve time = 0.01 sec. (0.12 ticks)\n",
      "Probing time = 0.00 sec. (0.02 ticks)\n",
      "Clique table members: 25.\n",
      "MIP emphasis: balance optimality and feasibility.\n",
      "MIP search method: dynamic search.\n",
      "Parallel mode: deterministic, using up to 4 threads.\n",
      "Root relaxation solution time = 0.00 sec. (0.05 ticks)\n",
      "\n",
      "        Nodes                                         Cuts/\n",
      "   Node  Left     Objective  IInf  Best Integer    Best Bound    ItCnt     Gap\n",
      "\n",
      "*     0+    0                            5.0000        0.0000           100.00%\n",
      "*     0+    0                            3.0000        0.0000           100.00%\n",
      "      0     0        cutoff              3.0000        3.0000       15    0.00%\n",
      "      0     0        cutoff              3.0000        3.0000       15    0.00%\n",
      "Elapsed time = 0.08 sec. (0.45 ticks, tree = 0.01 MB, solutions = 2)\n",
      "\n",
      "Root node processing (before b&c):\n",
      "  Real time             =    0.08 sec. (0.45 ticks)\n",
      "Parallel b&c, 4 threads:\n",
      "  Real time             =    0.00 sec. (0.00 ticks)\n",
      "  Sync time (average)   =    0.00 sec.\n",
      "  Wait time (average)   =    0.00 sec.\n",
      "                          ------------\n",
      "Total (root+branch&cut) =    0.08 sec. (0.45 ticks)\n"
     ]
    }
   ],
   "source": [
    "G = nx.wheel_graph(5)\n",
    "C = range(0,max_grado(G) + 1)\n",
    "modelo = construir_modelo_col(G, C)\n",
    "sol = resolver(modelo)"
   ]
  },
  {
   "cell_type": "markdown",
   "id": "9e80783f",
   "metadata": {},
   "source": [
    "Mediante la cual se obtiene la siguiente solución óptima, con valor objetivo igual a 3."
   ]
  },
  {
   "cell_type": "code",
   "execution_count": 4,
   "id": "f2c15f72",
   "metadata": {},
   "outputs": [
    {
     "name": "stdout",
     "output_type": "stream",
     "text": [
      "solution for: col\n",
      "objective: 3\n",
      "status: OPTIMAL_SOLUTION(2)\n",
      "x_0_3 = 1\n",
      "x_1_4 = 1\n",
      "x_2_1 = 1\n",
      "x_3_4 = 1\n",
      "x_4_1 = 1\n",
      "w_1 = 1\n",
      "w_3 = 1\n",
      "w_4 = 1\n"
     ]
    }
   ],
   "source": [
    "sol.display()"
   ]
  },
  {
   "cell_type": "markdown",
   "id": "c6f86a5e",
   "metadata": {},
   "source": [
    "### &#x1f4bb; Actividad 1\n",
    "\n",
    "- Explique qué tipo de soluciones enteras elimina la restricción (COL.3). De un ejemplo, tomando como grafo la rueda de grado 5.\n",
    "- Genere un grafo aleatorio de 20, otro de 25 y otro de 30 vértices, con 50% de densidad de aristas. Utilice la formulación anterior para resolverlo. Luego repítalo, pero añadiendo la restricción (COL.3). ¿Ve alguna mejora en el tiempo de resolución?  "
   ]
  },
  {
   "cell_type": "markdown",
   "id": "d500d8bc-36b1-4fa3-bea4-8672181a27ed",
   "metadata": {},
   "source": [
    "## Relajación lineal\n",
    "\n",
    "Empecemos por observar cómo resolver la relajación lineal de una formulación PLE, lo cual es muy sencillo gracias a DOcplex. La siguiente función, <code>relajacion_lineal</code>, toma un modelo de PLE y retorna un modelo de PL con su relajación lineal. En su definición, se hace uso del método <code>make_relaxed_model</code> de la clase <code>LinearRelaxer</code>."
   ]
  },
  {
   "cell_type": "code",
   "execution_count": 5,
   "id": "0dd8de9d",
   "metadata": {},
   "outputs": [],
   "source": [
    "from docplex.mp.relax_linear import LinearRelaxer\n",
    "\n",
    "def relajacion_lineal(modelo):\n",
    "    return LinearRelaxer.make_relaxed_model(modelo)"
   ]
  },
  {
   "cell_type": "markdown",
   "id": "2a1966e5",
   "metadata": {},
   "source": [
    "Y veamos un ejemplo de cómo usar esta función. El modelo de PL se resuelve de la misma forma que un modelo de PLE, es decir, mediante el método <code>solve</code>, por lo tanto, podemos aprovechar la función <code>resolver</code> que definimos más arriba."
   ]
  },
  {
   "cell_type": "code",
   "execution_count": 6,
   "id": "2c7839b4",
   "metadata": {},
   "outputs": [
    {
     "name": "stdout",
     "output_type": "stream",
     "text": [
      "Version identifier: 22.1.1.0 | 2022-11-28 | 9160aff4d\n",
      "CPXPARAM_Read_DataCheck                          1\n",
      "Tried aggregator 1 time.\n",
      "Reduced LP has 45 rows, 30 columns, and 145 nonzeros.\n",
      "Presolve time = 0.00 sec. (0.04 ticks)\n",
      "Symmetry aggregator did 68 additional substitutions.\n",
      "Initializing dual steep norms . . .\n",
      "\n",
      "Iteration log . . .\n",
      "Iteration:     1   Dual objective     =             2.000000\n",
      "\n",
      "Dual crossover.\n",
      "  Dual:  Fixing 9 variables.\n",
      "        8 DMoves:  Infeasibility  0.00000000e+00  Objective  2.00000000e+00\n",
      "        0 DMoves:  Infeasibility  0.00000000e+00  Objective  2.00000000e+00\n",
      "  Dual:  Pushed 3, exchanged 6.\n",
      "  Primal:  Fixing 4 variables.\n",
      "        3 PMoves:  Infeasibility  0.00000000e+00  Objective  2.00000000e+00\n",
      "        0 PMoves:  Infeasibility  2.22044605e-16  Objective  2.00000000e+00\n",
      "  Primal:  Pushed 3, exchanged 1.\n"
     ]
    }
   ],
   "source": [
    "relajacion = relajacion_lineal(modelo)\n",
    "sol = resolver(relajacion)"
   ]
  },
  {
   "cell_type": "markdown",
   "id": "0c55d702",
   "metadata": {},
   "source": [
    "Se obtiene la siguiente solución óptima, con valor objetivo igual a 2 (menor al de la solución óptima entera)."
   ]
  },
  {
   "cell_type": "code",
   "execution_count": 7,
   "id": "2f405c9c",
   "metadata": {},
   "outputs": [
    {
     "name": "stdout",
     "output_type": "stream",
     "text": [
      "solution for: lp_col\n",
      "objective: 2.000\n",
      "status: OPTIMAL_SOLUTION(2)\n",
      "x_0_0 = 0.500\n",
      "x_0_3 = 0.500\n",
      "x_1_0 = 0.500\n",
      "x_1_3 = 0.500\n",
      "x_2_0 = 0.500\n",
      "x_2_3 = 0.500\n",
      "x_3_0 = 0.500\n",
      "x_3_3 = 0.500\n",
      "x_4_0 = 0.500\n",
      "x_4_3 = 0.500\n",
      "w_0 = 1.000\n",
      "w_3 = 1.000\n"
     ]
    }
   ],
   "source": [
    "sol.display()"
   ]
  },
  {
   "cell_type": "markdown",
   "id": "b87ea877-5fd0-4d82-bf39-582b596833dd",
   "metadata": {},
   "source": [
    "## Desigualdades válidas\n",
    "\n",
    "Vamos a comenzar proponiendo potenciales desigualdades válidas para (COL) que permitan ajustar su relajación\n",
    "lineal. Estamos interesados en hallar desigualdades válidas que, por un lado, sean violadas por soluciones fraccionarias como la mostrada más arriba, y por el otro lado, que al incorporarlas en la formulación, logren elevar el valor objetivo lo <i>más posible</i>. \n",
    "\n",
    "Veamos un ejemplo. Consideremos el grafo rueda de 5 vértices, G = $W_5$, definido anteriormente."
   ]
  },
  {
   "cell_type": "code",
   "execution_count": 8,
   "id": "48c4fef4",
   "metadata": {},
   "outputs": [
    {
     "data": {
      "image/png": "[encoded data removed]",
      "text/plain": [
       "<Figure size 432x288 with 1 Axes>"
      ]
     },
     "metadata": {},
     "output_type": "display_data"
    }
   ],
   "source": [
    "nx.draw_networkx(G, pos={0: (1,1), 1: (0,0), 2: (2,0), 3: (2,2), 4: (0,2)})"
   ]
  },
  {
   "cell_type": "markdown",
   "id": "8b477063",
   "metadata": {},
   "source": [
    "Sabemos que, por ejemplo, los vértices 0, 1 y 2 forman una clique. Por lo tanto, para todo color $k$, todo coloreo verifica que a lo sumo un vértice de {0,1,2} se pinta con $k$. Es decir, tenemos las siguientes desigualdades válidas:\n",
    "\n",
    "$$ x_{0k} + x_{1k} + x_{2k} \\leq w_k,~~~~~~ \\forall~ k \\in \\mathcal C $$"
   ]
  },
  {
   "cell_type": "markdown",
   "id": "3984dc68",
   "metadata": {},
   "source": [
    "Es crucial notar que, por el contrario, no toda solución fraccionaria (i.e. solución factible de la relajación lineal) las verifica. Por ejemplo, la solución óptima fraccionaria encontrada anteriormente la viola para $k=0$, pues $$x_{00}+x_{10}+x_{20} = 1,5 \\not\\leq 1 = w_0.$$ \n",
    "Verifiquemos esta última cuenta:"
   ]
  },
  {
   "cell_type": "code",
   "execution_count": 9,
   "id": "d823adc6",
   "metadata": {},
   "outputs": [
    {
     "name": "stdout",
     "output_type": "stream",
     "text": [
      "Lado izquierdo:  1.5\n",
      "Lado derecho:  1.0\n"
     ]
    }
   ],
   "source": [
    "print(\"Lado izquierdo: \", sol.get_value(\"x_0_0\") + sol.get_value(\"x_1_0\") + sol.get_value(\"x_2_0\"))\n",
    "print(\"Lado derecho: \", sol.get_value(\"w_0\"))"
   ]
  },
  {
   "cell_type": "markdown",
   "id": "7e8928ea",
   "metadata": {},
   "source": [
    "¡Esta desigualdad válida que encontramos podemos usarla para ajustar nuestro poliedro! Es decir, agregando esta restricción a la formulación cortamos la solución fraccionaria que encontramos anteriormente. ¡Hagámoslo!\n",
    "\n",
    "En este punto, nos encontramos con una pequeña sutileza, fácilmente subsanable, pero que vale la pena mencionar. Ya conocemos el método <code>add_constraint</code> de la clase <code>Model</code>, usada para agregar restricciones en un modelo (por ejemplo, ver cómo la llamamos en la función <code>construir_modelo_col</code> definida al comienzo del notebook). Este método necesita acceder a las variables del modelo para poder construir la restricción deseada. Sin embargo, en nuestra implementación, las variables fueron guardadas en las variables de Python <code>X</code> y <code>W</code> en la función <code>construir_modelo_col</code>, las cuales son locales, es decir, no podemos llamarlas fuera del alcance de la definición de esta función. \n",
    "\n",
    "Por lo tanto, tenemos varias opciones. La primera, es definir una nueva función <code>construir_modelo_col_ajustado</code>, la cual hace lo mismo que <code>construir_modelo_col</code>, salvo que al final agrega la desigualdad válida deseada. Si bien esto nos soluciona el problema, no es una buena práctica de programación en general, dado que tendríamos mucha repetición de código. \n",
    "\n",
    "Otra opción, es modificar <code>construir_modelo_col</code> para que las variables <code>X</code> y <code>W</code> sean globales, y puedan ser usadas fuera del alcance de la definición de la función. En general, esto tampoco es recomendable, en particular cuando se trabaja con varios modelos a la vez, dado que coexistirían muchas variables y sería propenso a errores.\n",
    "\n",
    "La opción elegida, mucho más recomendable, no modifica el código que ya hicimos, sino que lo aprovecha y lo complementa con una nueva función <code>recuperar_variables</code>, que toma un modelo de (COL) y retorna sus variables. Esto es posible gracias al método <code>get_var_by_name</code> de la clase <code>Model</code> que permite buscar una variable por su nombre."
   ]
  },
  {
   "cell_type": "code",
   "execution_count": 10,
   "id": "b1a7c4c7",
   "metadata": {},
   "outputs": [],
   "source": [
    "def recuperar_variables(G, C, modelo):\n",
    "    X = [[modelo.get_var_by_name(\"x_\" + str(v) + \"_\" + str(k)) for k in C] for v in G]\n",
    "    W = [modelo.get_var_by_name(\"w_\" + str(k)) for k in C]\n",
    "    return X, W"
   ]
  },
  {
   "cell_type": "markdown",
   "id": "e25d59cc",
   "metadata": {},
   "source": [
    "Ahora si, procedemos a construir un nuevo modelo llamando a la función <code>construir_modelo_col</code>, luego recuperamos sus variables llamando a <code>recuperar_variables</code> y finalmente agregamos con el método <code>add_constraint</code> la desigualdad válida deseada, en este caso, $x_{00}+x_{10}+x_{20} \\leq w_0.$"
   ]
  },
  {
   "cell_type": "code",
   "execution_count": 11,
   "id": "a1179993",
   "metadata": {},
   "outputs": [
    {
     "data": {
      "text/plain": [
       "docplex.mp.LinearConstraint[](x_0_0+x_1_0+x_2_0,LE,w_0)"
      ]
     },
     "execution_count": 11,
     "metadata": {},
     "output_type": "execute_result"
    }
   ],
   "source": [
    "modelo_ajustado = construir_modelo_col(G, C)\n",
    "X, W = recuperar_variables(G, C, modelo_ajustado)\n",
    "modelo_ajustado.add_constraint(X[0][0] + X[1][0] + X[2][0] <= W[0])"
   ]
  },
  {
   "cell_type": "markdown",
   "id": "5880df84",
   "metadata": {},
   "source": [
    "Ahora, resolvamos la relajación lineal."
   ]
  },
  {
   "cell_type": "code",
   "execution_count": 12,
   "id": "68db4616",
   "metadata": {},
   "outputs": [
    {
     "name": "stdout",
     "output_type": "stream",
     "text": [
      "Version identifier: 22.1.1.0 | 2022-11-28 | 9160aff4d\n",
      "CPXPARAM_Read_DataCheck                          1\n",
      "Tried aggregator 1 time.\n",
      "Reduced LP has 46 rows, 30 columns, and 149 nonzeros.\n",
      "Presolve time = 0.00 sec. (0.04 ticks)\n",
      "Symmetry aggregator did 54 additional substitutions.\n",
      "Initializing dual steep norms . . .\n",
      "\n",
      "Iteration log . . .\n",
      "Iteration:     1   Dual objective     =             0.000000\n",
      "\n",
      "Dual crossover.\n",
      "  Dual:  Fixing 4 variables.\n",
      "        3 DMoves:  Infeasibility  0.00000000e+00  Objective  2.00000000e+00\n",
      "        0 DMoves:  Infeasibility  0.00000000e+00  Objective  2.00000000e+00\n",
      "  Dual:  Pushed 1, exchanged 3.\n",
      "  Primal:  Fixing 3 variables.\n",
      "        2 PMoves:  Infeasibility  0.00000000e+00  Objective  2.00000000e+00\n",
      "        0 PMoves:  Infeasibility  0.00000000e+00  Objective  2.00000000e+00\n",
      "  Primal:  Pushed 2, exchanged 1.\n"
     ]
    }
   ],
   "source": [
    "relajacion_ajustada = relajacion_lineal(modelo_ajustado)\n",
    "sol = resolver(relajacion_ajustada)"
   ]
  },
  {
   "cell_type": "markdown",
   "id": "90b6a084",
   "metadata": {},
   "source": [
    "Y veamos su solución óptima."
   ]
  },
  {
   "cell_type": "code",
   "execution_count": 13,
   "id": "1a490b14",
   "metadata": {},
   "outputs": [
    {
     "name": "stdout",
     "output_type": "stream",
     "text": [
      "solution for: lp_col\n",
      "objective: 2.000\n",
      "status: OPTIMAL_SOLUTION(2)\n",
      "x_0_1 = 0.500\n",
      "x_0_3 = 0.500\n",
      "x_1_1 = 0.500\n",
      "x_1_3 = 0.500\n",
      "x_2_1 = 0.500\n",
      "x_2_3 = 0.500\n",
      "x_3_1 = 0.500\n",
      "x_3_3 = 0.500\n",
      "x_4_1 = 0.500\n",
      "x_4_3 = 0.500\n",
      "w_1 = 1.000\n",
      "w_3 = 1.000\n"
     ]
    }
   ],
   "source": [
    "sol.display()"
   ]
  },
  {
   "cell_type": "markdown",
   "id": "5de19f93",
   "metadata": {},
   "source": [
    "Obviamente, obtuvimos una solución distinta, sin embargo no aumentó la cota dual. ¿Por qué? &#x1f914;\n",
    "\n",
    "Lo que pasó es que nos dio una solución simétrica, apagó el color 0 y encendió el 1. Ok, entonces agreguemos estas desigualdades válidas para todos los colores."
   ]
  },
  {
   "cell_type": "code",
   "execution_count": 14,
   "id": "0add3657",
   "metadata": {},
   "outputs": [
    {
     "name": "stdout",
     "output_type": "stream",
     "text": [
      "Version identifier: 22.1.1.0 | 2022-11-28 | 9160aff4d\n",
      "CPXPARAM_Read_DataCheck                          1\n",
      "Tried aggregator 1 time.\n",
      "Reduced LP has 50 rows, 30 columns, and 165 nonzeros.\n",
      "Presolve time = 0.00 sec. (0.04 ticks)\n",
      "Symmetry aggregator did 67 additional substitutions.\n",
      "Initializing dual steep norms . . .\n",
      "\n",
      "Iteration log . . .\n",
      "Iteration:     1   Dual objective     =             2.000000\n",
      "\n",
      "Dual crossover.\n",
      "  Dual:  Fixed no variables.\n",
      "  Primal:  Fixing 20 variables.\n",
      "       19 PMoves:  Infeasibility  0.00000000e+00  Objective  3.00000000e+00\n",
      "        0 PMoves:  Infeasibility  0.00000000e+00  Objective  3.00000000e+00\n",
      "  Primal:  Pushed 8, exchanged 12.\n"
     ]
    }
   ],
   "source": [
    "modelo_ajustado = construir_modelo_col(G, C)\n",
    "X, W = recuperar_variables(G, C, modelo_ajustado)\n",
    "for k in C:\n",
    "    modelo_ajustado.add_constraint(X[0][k] + X[1][k] + X[2][k] <= W[k])\n",
    "relajacion_ajustada = relajacion_lineal(modelo_ajustado)\n",
    "sol = resolver(relajacion_ajustada)"
   ]
  },
  {
   "cell_type": "markdown",
   "id": "82f0b75d",
   "metadata": {},
   "source": [
    "Veamos la solución óptima."
   ]
  },
  {
   "cell_type": "code",
   "execution_count": 15,
   "id": "0390b48d",
   "metadata": {},
   "outputs": [
    {
     "name": "stdout",
     "output_type": "stream",
     "text": [
      "solution for: lp_col\n",
      "objective: 3.000\n",
      "status: OPTIMAL_SOLUTION(2)\n",
      "x_0_0 = 0.250\n",
      "x_0_2 = 0.125\n",
      "x_0_3 = 0.250\n",
      "x_0_4 = 0.375\n",
      "x_1_0 = 0.250\n",
      "x_1_1 = 0.250\n",
      "x_1_3 = 0.250\n",
      "x_1_4 = 0.250\n",
      "x_2_0 = 0.500\n",
      "x_2_2 = 0.125\n",
      "x_2_4 = 0.375\n",
      "x_3_0 = 0.250\n",
      "x_3_2 = 0.125\n",
      "x_3_4 = 0.625\n",
      "x_4_0 = 0.750\n",
      "x_4_3 = 0.250\n",
      "w_0 = 1.000\n",
      "w_1 = 0.250\n",
      "w_2 = 0.250\n",
      "w_3 = 0.500\n",
      "w_4 = 1.000\n"
     ]
    }
   ],
   "source": [
    "sol.display()"
   ]
  },
  {
   "cell_type": "markdown",
   "id": "28a36a04",
   "metadata": {},
   "source": [
    "¡Éxito! No solo cortamos la solución fraccionaria anterior (y sus soluciones simétricas), sino que además pudimos elevar el valor óptimo de la relajación lineal, pasó de 2 a 3.\n",
    "\n",
    "Aunque el trabajo que hicimos fue específico al grafo rueda $W_5$, este tipo de desigualdades válidas se pueden aplicar a cualquier grafo y clique. Estudiemos cómo se formaliza."
   ]
  },
  {
   "cell_type": "markdown",
   "id": "af6d1e4d",
   "metadata": {},
   "source": [
    "### Restricciones clique\n",
    "\n",
    "<b>Proposición.</b> Considerar el modelo (COL) para una instancia del PCG formada por un grafo $G=(V,E)$ y un conjunto de colores $\\mathcal C$. Para toda clique $Q \\subset V$ y color $k \\in \\mathcal C$, la siguiente restricción es una desigualdad válida\n",
    "\n",
    "$$\\sum_{v \\in Q}x_{vk} \\leq w_k,$$\n",
    "\n",
    "y se conoce como <b>restricción clique</b>.\n",
    "\n",
    "<b>Observación 1.</b> Las restricciones $(COL.2)$ son restricciones clique asociadas a cliques de cardinal 2 (los extremos de la arista), y en general no son maximales.\n",
    "\n",
    "<b>Observación 2.</b> En particular, siendos dos cliques $Q' \\subset Q$, la restricción clique asociada a $Q$ domina a la asociada a $Q'$, pues \n",
    "\n",
    "$$\\sum_{v \\in Q'}x_{vk} \\leq \\sum_{v \\in Q}x_{vk} \\leq w_k.$$ \n",
    "\n",
    "Por lo tanto, basta con considerar cliques maximales. Llamaremos $\\mathcal Q$ al conjunto de cliques maximales del grafo."
   ]
  },
  {
   "cell_type": "markdown",
   "id": "e96661cf",
   "metadata": {},
   "source": [
    "## Incorporación de desigualdades válidas\n",
    "\n",
    "Desde lo algorítmico, existen dos estrategias principales para incorporar desigualdades válidas.\n",
    "\n",
    "1. Agregarlas como restricciones en la formulación y resolver la formulación resultante. Es decir, todas las desigualdades válidas estarán desde el comienzo en todos los nodos del árbol de B\\&B. Esta estrategia fue la que usamos en el ejemplo del grafo rueda $W_5$. \n",
    "\n",
    "2. Comenzar con la formulación original e ir agregando las desigualdades válidas bajo demanda a medida que se necesiten. Es decir, en cada nodo del árbol de B\\&B, se agregan únicamente las desigualdades válidas que estén siendo violadas, dando como resultado un algoritmo de tipo B\\&C (banch-and-cut)."
   ]
  },
  {
   "cell_type": "markdown",
   "id": "fee82f86",
   "metadata": {},
   "source": [
    "### Desigualdades válidas en la formulación\n",
    "\n",
    "Continuemos viendo algunos ejemplos adicionales para esta estrategia. Vamos a agregar a la formulación (COL) todas las restricciones cliques asociadas a $\\mathcal Q$. Es decir, ahora nuestra formulación de PLE es la siguiente.\n",
    "\n",
    "\\begin{align*}\n",
    "\\text{Minimizar:} & \\sum_{k \\in \\mathcal C}w_k \\tag{CLI} \\\\\n",
    "\\text{Sujeto a:} & \\sum_{k \\in \\mathcal C} x_{vk} = 1 & \\forall~v \\in V. \\tag{1}\\\\\n",
    "& x_{vk} + x_{uk} \\leq w_k & \\forall~vu \\in E,~  k \\in \\mathcal C. \\tag{2} \\\\\n",
    "& \\sum_{v \\in Q} x_{vk} \\leq w_k & \\forall~Q \\in \\mathcal Q,~  k \\in \\mathcal C. \\tag{3} \\\\\n",
    "& w_k \\in \\{0,1\\} & \\forall~k \\in \\mathcal C.\\\\\n",
    "& x_{vk} \\in \\{0,1\\} & \\forall~v \\in V,~k \\in \\mathcal C.\n",
    "\\end{align*}\n",
    "\n",
    "<b>Observación.</b> Las restricciones $(2)$ quedan implicadas por las $(3)$, luego podemos sacarlas de la formulación sin perder soluciones factibles. Para no complicar las cosas, las dejaremos y confiaremos en el poder de CPLEX para detectar y eliminar restricciones redundantes.\n",
    "\n",
    "A continuación, definimos una función <code>construir_modelo_cli</code> que construye un modelo para esta formulación de PLE."
   ]
  },
  {
   "cell_type": "code",
   "execution_count": 16,
   "id": "fd4a2f01",
   "metadata": {},
   "outputs": [],
   "source": [
    "def construir_modelo_cli(G, C):\n",
    "    modelo = construir_modelo_col(G, C)\n",
    "    modelo.name = \"cli\"\n",
    "    X, W = recuperar_variables(G, C, modelo)\n",
    "    for Q in nx.find_cliques(G):\n",
    "        for k in C:\n",
    "            modelo.add_constraint(modelo.sum(X[v][k] for v in Q) <= W[k])\n",
    "    return modelo"
   ]
  },
  {
   "cell_type": "markdown",
   "id": "72ebb354",
   "metadata": {},
   "source": [
    "¿Cómo se comportará esta formulación? ¿Mejor o peor que (COL)? &#x1f914;\n",
    "\n",
    "Haremos algunas pruebas computacionales para intentar responder estas preguntas. Trabajaremos con un grafo aleatorio con $n=30$ y $p=0.35$. Usaremos la semilla <code>seed=0</code> para trabajar todos/as con el mismo grafo."
   ]
  },
  {
   "cell_type": "code",
   "execution_count": 17,
   "id": "5cbe99f6",
   "metadata": {},
   "outputs": [],
   "source": [
    "G = nx.erdos_renyi_graph(30, 0.35, seed=0)\n",
    "C = range(max_grado(G)+1)\n",
    "modelo_col = construir_modelo_col(G, C)\n",
    "modelo_cli = construir_modelo_cli(G, C)"
   ]
  },
  {
   "cell_type": "markdown",
   "id": "5a81409e",
   "metadata": {},
   "source": [
    "Primero, veamos la performance de resolver sus relajaciones lineales. Para la relajación lineal de (COL) tenemos:"
   ]
  },
  {
   "cell_type": "code",
   "execution_count": 18,
   "id": "8a7c48b0",
   "metadata": {},
   "outputs": [
    {
     "name": "stdout",
     "output_type": "stream",
     "text": [
      "Version identifier: 22.1.1.0 | 2022-11-28 | 9160aff4d\n",
      "CPXPARAM_Read_DataCheck                          1\n",
      "Tried aggregator 1 time.\n",
      "Reduced LP has 2175 rows, 465 columns, and 6885 nonzeros.\n",
      "Presolve time = 0.00 sec. (1.81 ticks)\n",
      "Symmetry aggregator did 2436 additional substitutions.\n",
      "Initializing dual steep norms . . .\n",
      "\n",
      "Iteration log . . .\n",
      "Iteration:     1   Dual objective     =             2.000000\n",
      "\n",
      "Dual crossover.\n",
      "  Dual:  Fixing 2 variables.\n",
      "        1 DMoves:  Infeasibility  0.00000000e+00  Objective  2.00000000e+00\n",
      "        0 DMoves:  Infeasibility  0.00000000e+00  Objective  2.00000000e+00\n",
      "  Dual:  Pushed 0, exchanged 2.\n",
      "  Primal:  Fixing 14 variables.\n",
      "       13 PMoves:  Infeasibility  8.32667268e-17  Objective  2.00000000e+00\n",
      "        0 PMoves:  Infeasibility  3.05311332e-16  Objective  2.00000000e+00\n",
      "  Primal:  Pushed 13, exchanged 1.\n"
     ]
    },
    {
     "data": {
      "text/plain": [
       "docplex.mp.solution.SolveSolution(obj=2,values={x_0_0:0.5,x_0_8:0.5,x_1_.."
      ]
     },
     "execution_count": 18,
     "metadata": {},
     "output_type": "execute_result"
    }
   ],
   "source": [
    "relajacion_col = relajacion_lineal(modelo_col)\n",
    "resolver(relajacion_col)"
   ]
  },
  {
   "cell_type": "markdown",
   "id": "6d5ad168",
   "metadata": {},
   "source": [
    "Y para la relajación lineal de (CLI):"
   ]
  },
  {
   "cell_type": "code",
   "execution_count": 19,
   "id": "88c27a80",
   "metadata": {},
   "outputs": [
    {
     "name": "stdout",
     "output_type": "stream",
     "text": [
      "Version identifier: 22.1.1.0 | 2022-11-28 | 9160aff4d\n",
      "CPXPARAM_Read_DataCheck                          1\n",
      "Parallel mode: deterministic, using up to 4 threads for concurrent optimization:\n",
      " * Starting dual Simplex on 1 thread...\n",
      " * Starting Barrier on 3 threads...\n",
      "Tried aggregator 1 time.\n",
      "LP Presolve eliminated 135 rows and 0 columns.\n",
      "Reduced LP has 3375 rows, 465 columns, and 12030 nonzeros.\n",
      "Presolve time = 0.01 sec. (3.04 ticks)\n",
      "Symmetry aggregator did 3556 additional substitutions.\n",
      "Initializing dual steep norms . . .\n",
      "\n",
      "Iteration log . . .\n",
      "Iteration:     1   Dual objective     =             4.000000\n",
      "\n",
      "Dual crossover.\n",
      "  Dual:  Fixed no variables.\n",
      "  Primal:  Fixing 182 variables.\n",
      "      181 PMoves:  Infeasibility  2.77555756e-17  Objective  4.00000000e+00\n",
      "       41 PMoves:  Infeasibility  2.16077156e-14  Objective  4.00000000e+00\n",
      "        0 PMoves:  Infeasibility  4.96456900e-13  Objective  4.00000000e+00\n",
      "  Primal:  Pushed 33, exchanged 149.\n",
      "\n",
      "Dual simplex solved model.\n",
      "\n"
     ]
    },
    {
     "data": {
      "text/plain": [
       "docplex.mp.solution.SolveSolution(obj=4,values={x_0_4:0.0895522,x_0_6:0..."
      ]
     },
     "execution_count": 19,
     "metadata": {},
     "output_type": "execute_result"
    }
   ],
   "source": [
    "relajacion_cli = relajacion_lineal(modelo_cli)\n",
    "resolver(relajacion_cli)"
   ]
  },
  {
   "cell_type": "markdown",
   "id": "1e63b214",
   "metadata": {},
   "source": [
    "Hagamos un resumen de estos resultados y comparemos la perfomance:"
   ]
  },
  {
   "cell_type": "code",
   "execution_count": 20,
   "id": "13025493",
   "metadata": {},
   "outputs": [
    {
     "name": "stdout",
     "output_type": "stream",
     "text": [
      "lp_col :\n",
      "\tNúmero de restricciones:  2175\n",
      "\tTiempo:  0.027004003524780273  s\n",
      "\tValor objetivo:  2.0\n",
      "\tNúmero de nodos:  0\n",
      "lp_cli :\n",
      "\tNúmero de restricciones:  3510\n",
      "\tTiempo:  0.0722508430480957  s\n",
      "\tValor objetivo:  3.9999999999999996\n",
      "\tNúmero de nodos:  0\n"
     ]
    }
   ],
   "source": [
    "def imprimir_resumen(modelo):\n",
    "    print(modelo.name, \":\")\n",
    "    print(\"\\tNúmero de restricciones: \", modelo.number_of_constraints)\n",
    "    print(\"\\tTiempo: \", modelo.solve_details.time, \" s\")\n",
    "    print(\"\\tValor objetivo: \", modelo.objective_value)\n",
    "    print(\"\\tNúmero de nodos: \", modelo.solve_details.nb_nodes_processed)\n",
    "    \n",
    "imprimir_resumen(relajacion_col)\n",
    "imprimir_resumen(relajacion_cli)"
   ]
  },
  {
   "cell_type": "markdown",
   "id": "2ad83733",
   "metadata": {},
   "source": [
    "La relajación lineal de (COL) tiene menos restricciones y su resolución es más rápida, pero la cota inferior que aporta es bastante débil. Por el contrario, la relajación lineal de (CLI) presenta una marcada mejora en el valor objetivo, aunque posee más restricciones y su resolución demora más tiempo.\n",
    "\n",
    "Con este análisis solo estamos evaluando lo que sucede en el nodo raíz del árbol de B\\&B. ¿Qué pasará cuando consideremos el árbol completo? La intuición nos dice que comenzar con una relajación más ajustada hace que CPLEX pueda podar nodos con mayor rapidez y cerrar el gap anticipadamente, pero a su vez cada nodo demora más tiempo en resolverse (pues las desigualdades válidas incrementan el número de restricciones y el simplex requiere de más iteraciones para resolver las relajaciones). Bueno, veamos experimentalmente qué sucede.\n",
    "\n",
    "Antes que nada, hay que mencionar lo siguiente. CPLEX es un software muy potente, capaz de ajustar por su cuenta las formulaciones de PLE. Para no generar resultados sesgados por estos mecanismos adicionales, decidimos apagarlos durante los próximos experimentos. La siguiente función se ocupa de apagar (parte de) la artillería de CPLEX."
   ]
  },
  {
   "cell_type": "code",
   "execution_count": 21,
   "id": "07f9ff6c",
   "metadata": {},
   "outputs": [],
   "source": [
    "def apagar_artilleria(modelo):\n",
    "    \n",
    "    # Apagamos parte del preprocesamiento de CPLEX\n",
    "    modelo.parameters.preprocessing.reduce = 0\n",
    "    modelo.parameters.preprocessing.symmetry = 0\n",
    "    \n",
    "    # Apagamos los cortes de CPLEX\n",
    "    modelo.parameters.mip.limits.cutpasses = -1\n",
    "    \n",
    "    # Apagamos las heurísticas de CPLEX\n",
    "    modelo.parameters.mip.strategy.heuristiceffort = 0"
   ]
  },
  {
   "cell_type": "markdown",
   "id": "c5f6d040",
   "metadata": {},
   "source": [
    "Ahora vamos a resolver los modelos enteros, empezando por (COL). La siguiente celda puede demorar en ejecutarse. Momento para armar unos &#129481;  &#129481;."
   ]
  },
  {
   "cell_type": "code",
   "execution_count": 22,
   "id": "d29e3798",
   "metadata": {},
   "outputs": [
    {
     "name": "stdout",
     "output_type": "stream",
     "text": [
      "Version identifier: 22.1.1.0 | 2022-11-28 | 9160aff4d\n",
      "CPXPARAM_Read_DataCheck                          1\n",
      "CPXPARAM_Preprocessing_Reduce                    0\n",
      "CPXPARAM_Preprocessing_Symmetry                  0\n",
      "CPXPARAM_MIP_Limits_CutPasses                    -1\n",
      "CPXPARAM_MIP_Strategy_HeuristicEffort            0\n",
      "Tried aggregator 0 times.\n",
      "Reduced MIP has 2175 rows, 465 columns, and 6885 nonzeros.\n",
      "Reduced MIP has 465 binaries, 0 generals, 0 SOSs, and 0 indicators.\n",
      "Presolve time = 0.00 sec. (0.27 ticks)\n",
      "Probing time = 0.00 sec. (0.88 ticks)\n",
      "Clique table members: 2175.\n",
      "MIP emphasis: balance optimality and feasibility.\n",
      "MIP search method: dynamic search.\n",
      "Parallel mode: deterministic, using up to 4 threads.\n",
      "Root relaxation solution time = 0.05 sec. (16.86 ticks)\n",
      "\n",
      "        Nodes                                         Cuts/\n",
      "   Node  Left     Objective  IInf  Best Integer    Best Bound    ItCnt     Gap\n",
      "\n",
      "      0     0        2.0000    60                      2.0000      433         \n",
      "      0     2        2.0000    60                      2.0000      433         \n",
      "Elapsed time = 0.43 sec. (272.93 ticks, tree = 0.02 MB, solutions = 0)\n",
      "      2     3        3.0000   206                      2.0000     1232         \n",
      "      6     6        3.0000   108                      2.0000     2141         \n",
      "     14    13        4.0000   116                      2.0000     3057         \n",
      "     26    20        5.0000    90                      2.0000     3918         \n",
      "     64    55        4.0000    54                      2.0000     7463         \n",
      "    127   104        5.0000    40                      2.0000    13411         \n",
      "*   149   105      integral     0        6.0000        2.0000    14434   66.67%\n",
      "    208   152        4.0000    54        6.0000        2.0000    22944   66.67%\n",
      "    335   225        2.7143   128        6.0000        2.0000    32842   66.67%\n",
      "    477   349        4.0000   117        6.0000        2.0000    45255   66.67%\n",
      "*   683   603      integral     0        5.0000        2.0000    68208   60.00%\n",
      "   1130   741        4.0000    50        5.0000        2.2727    96452   54.55%\n",
      "Elapsed time = 6.61 sec. (3494.38 ticks, tree = 7.95 MB, solutions = 2)\n",
      "   1723  1201        4.0000    82        5.0000        3.0000   144386   40.00%\n",
      "   2339  1607        4.0000    50        5.0000        3.0000   187968   40.00%\n",
      "   2977  1978        4.0000    81        5.0000        3.0000   232851   40.00%\n",
      "   3568  2398        4.0000    70        5.0000        3.0000   276543   40.00%\n",
      "   4111  2795        4.0000    71        5.0000        3.0000   328061   40.00%\n",
      "   4667  3179        4.0000    48        5.0000        3.0000   374886   40.00%\n",
      "   5262  3591        4.0000    50        5.0000        3.0000   418336   40.00%\n",
      "   5842  4031        4.0000   101        5.0000        3.0000   470309   40.00%\n",
      "   6446  4394        3.0000    86        5.0000        3.0000   510518   40.00%\n",
      "   6954  4801        4.0000    77        5.0000        3.0000   561344   40.00%\n",
      "Elapsed time = 23.91 sec. (13057.11 ticks, tree = 54.75 MB, solutions = 2)\n",
      "   7519  5127        4.0000    98        5.0000        3.0000   599650   40.00%\n",
      "   8140  5569        4.0000    81        5.0000        3.0000   655246   40.00%\n",
      "   8700  5900        4.0000    92        5.0000        3.1250   706659   37.50%\n",
      "   9268  6079        4.0000    79        5.0000        3.1667   738477   36.67%\n",
      "   9852  6433        cutoff              5.0000        3.1667   798091   36.67%\n",
      "  10405  6651        4.0000   109        5.0000        3.2500   841576   35.00%\n",
      "  10985  6816        cutoff              5.0000        3.2500   886717   35.00%\n",
      "  11546  7023        4.0000    79        5.0000        3.3333   938378   33.33%\n",
      "  12036  7199    infeasible              5.0000        3.5000   989350   30.00%\n",
      "  12527  7353        4.0000    79        5.0000        3.5000  1036029   30.00%\n",
      "Elapsed time = 40.31 sec. (22612.32 ticks, tree = 88.70 MB, solutions = 2)\n",
      "  13021  7526        4.0000    74        5.0000        3.5000  1088646   30.00%\n",
      "  13553  7635        cutoff              5.0000        3.5000  1132571   30.00%\n",
      "  14028  7590        cutoff              5.0000        3.5714  1172574   28.57%\n",
      "  14638  7443        4.0000    76        5.0000        3.8000  1217572   24.00%\n",
      "  15173  6961        cutoff              5.0000        3.9286  1277716   21.43%\n",
      "  15690  6889        cutoff              5.0000        4.0000  1290015   20.00%\n",
      "  16252  6535        cutoff              5.0000        4.0000  1342638   20.00%\n",
      "  16825  6215        4.0000    46        5.0000        4.0000  1397528   20.00%\n",
      "  17374  5960        4.0000    79        5.0000        4.0000  1453304   20.00%\n",
      "  17935  5734        4.0000    48        5.0000        4.0000  1492780   20.00%\n",
      "Elapsed time = 57.85 sec. (32167.38 ticks, tree = 66.75 MB, solutions = 2)\n",
      "  18424  5581        cutoff              5.0000        4.0000  1524369   20.00%\n",
      "  18834  5169        cutoff              5.0000        4.0000  1606222   20.00%\n",
      "  19325  4870        4.0000    42        5.0000        4.0000  1648664   20.00%\n",
      "  19825  4761        cutoff              5.0000        4.0000  1661874   20.00%\n",
      "  20291  4391        4.0000   156        5.0000        4.0000  1728079   20.00%\n",
      "  20825  4168        4.0000    75        5.0000        4.0000  1772095   20.00%\n",
      "  21338  3893        cutoff              5.0000        4.0000  1816254   20.00%\n",
      "  21764  3784        4.0000    52        5.0000        4.0000  1840296   20.00%\n",
      "  22183  3463        4.0000   106        5.0000        4.0000  1904513   20.00%\n",
      "  22631  3289        cutoff              5.0000        4.0000  1938997   20.00%\n",
      "Elapsed time = 74.59 sec. (41725.99 ticks, tree = 35.15 MB, solutions = 2)\n",
      "  23146  3066        cutoff              5.0000        4.0000  1985104   20.00%\n",
      "  23639  2781        cutoff              5.0000        4.0000  2039530   20.00%\n",
      "  24053  2504        cutoff              5.0000        4.0000  2094693   20.00%\n",
      "  24484  2315        cutoff              5.0000        4.0000  2139850   20.00%\n",
      "  24921  2074        cutoff              5.0000        4.0000  2187703   20.00%\n",
      "  25327  1812        cutoff              5.0000        4.0000  2242504   20.00%\n",
      "  25721  1601        4.0000    48        5.0000        4.0000  2288374   20.00%\n",
      "  26172  1444        4.0000    44        5.0000        4.0000  2334414   20.00%\n",
      "  26593  1351        4.0000    78        5.0000        4.0000  2367282   20.00%\n",
      "  27004  1131        cutoff              5.0000        4.0000  2414684   20.00%\n",
      "Elapsed time = 91.31 sec. (51296.59 ticks, tree = 8.43 MB, solutions = 2)\n",
      "  27373   884        4.0000    67        5.0000        4.0000  2472022   20.00%\n",
      "  27769   738        cutoff              5.0000        4.0000  2506538   20.00%\n",
      "  28151   558        4.0000    54        5.0000        4.0000  2550170   20.00%\n",
      "  28471   444        4.0000    50        5.0000        4.0000  2592158   20.00%\n",
      "  28846   263        4.0000    48        5.0000        4.0000  2641643   20.00%\n",
      "  29146   113        cutoff              5.0000        4.0000  2683943   20.00%\n",
      "\n",
      "Root node processing (before b&c):\n",
      "  Real time             =    0.42 sec. (272.07 ticks)\n",
      "Parallel b&c, 4 threads:\n",
      "  Real time             =  100.90 sec. (56982.94 ticks)\n",
      "  Sync time (average)   =    3.92 sec.\n",
      "  Wait time (average)   =    0.00 sec.\n",
      "                          ------------\n",
      "Total (root+branch&cut) =  101.32 sec. (57255.01 ticks)\n"
     ]
    },
    {
     "data": {
      "text/plain": [
       "docplex.mp.solution.SolveSolution(obj=5,values={x_0_1:1,x_1_4:1,x_2_4:1,.."
      ]
     },
     "execution_count": 22,
     "metadata": {},
     "output_type": "execute_result"
    }
   ],
   "source": [
    "apagar_artilleria(modelo_col)\n",
    "resolver(modelo_col)"
   ]
  },
  {
   "cell_type": "markdown",
   "id": "0a502db2",
   "metadata": {},
   "source": [
    "Y finalmente resolvemos (CLI)."
   ]
  },
  {
   "cell_type": "code",
   "execution_count": 23,
   "id": "594866d4",
   "metadata": {},
   "outputs": [
    {
     "name": "stdout",
     "output_type": "stream",
     "text": [
      "Version identifier: 22.1.1.0 | 2022-11-28 | 9160aff4d\n",
      "CPXPARAM_Read_DataCheck                          1\n",
      "CPXPARAM_Preprocessing_Reduce                    0\n",
      "CPXPARAM_Preprocessing_Symmetry                  0\n",
      "CPXPARAM_MIP_Limits_CutPasses                    -1\n",
      "CPXPARAM_MIP_Strategy_HeuristicEffort            0\n",
      "Tried aggregator 0 times.\n",
      "Reduced MIP has 3510 rows, 465 columns, and 12435 nonzeros.\n",
      "Reduced MIP has 465 binaries, 0 generals, 0 SOSs, and 0 indicators.\n",
      "Presolve time = 0.00 sec. (0.43 ticks)\n",
      "Probing time = 0.07 sec. (0.34 ticks)\n",
      "Clique table members: 3317.\n",
      "MIP emphasis: balance optimality and feasibility.\n",
      "MIP search method: dynamic search.\n",
      "Parallel mode: deterministic, using up to 4 threads.\n",
      "Root relaxation solution time = 0.22 sec. (131.67 ticks)\n",
      "\n",
      "        Nodes                                         Cuts/\n",
      "   Node  Left     Objective  IInf  Best Integer    Best Bound    ItCnt     Gap\n",
      "\n",
      "      0     0        4.0000   229                      4.0000        0         \n",
      "      0     2        4.0000    60                      4.0000        0         \n",
      "Elapsed time = 2.50 sec. (1759.10 ticks, tree = 0.02 MB, solutions = 0)\n",
      "      2     4        4.0000    60                      4.0000      632         \n",
      "      6     5        4.0000   107                      4.0000     1413         \n",
      "     14    10        4.5000   144                      4.0000     5821         \n",
      "     21    14        4.0000    98                      4.0000     8847         \n",
      "*    33    22      integral     0        5.0000        4.0000    14075   20.00%\n",
      "     35    24        4.0000    73        5.0000        4.0000    14058   20.00%\n",
      "     44     7        4.0000    71        5.0000        4.0000    21175   20.00%\n",
      "     55     7    infeasible              5.0000        4.0000    24871   20.00%\n",
      "     75    10    infeasible              5.0000        4.0000    31694   20.00%\n",
      "     93    11    infeasible              5.0000        4.0000    42134   20.00%\n",
      "\n",
      "Root node processing (before b&c):\n",
      "  Real time             =    2.31 sec. (1757.58 ticks)\n",
      "Parallel b&c, 4 threads:\n",
      "  Real time             =    6.19 sec. (3154.16 ticks)\n",
      "  Sync time (average)   =    0.91 sec.\n",
      "  Wait time (average)   =    0.00 sec.\n",
      "                          ------------\n",
      "Total (root+branch&cut) =    8.50 sec. (4911.74 ticks)\n"
     ]
    },
    {
     "data": {
      "text/plain": [
       "docplex.mp.solution.SolveSolution(obj=5,values={x_0_3:1,x_1_4:1,x_2_3:1,.."
      ]
     },
     "execution_count": 23,
     "metadata": {},
     "output_type": "execute_result"
    }
   ],
   "source": [
    "apagar_artilleria(modelo_cli)\n",
    "resolver(modelo_cli)"
   ]
  },
  {
   "cell_type": "markdown",
   "id": "f85a8c43",
   "metadata": {},
   "source": [
    "Comparemos los resultados."
   ]
  },
  {
   "cell_type": "code",
   "execution_count": 24,
   "id": "e54b032e",
   "metadata": {},
   "outputs": [
    {
     "name": "stdout",
     "output_type": "stream",
     "text": [
      "col :\n",
      "\tNúmero de restricciones:  2175\n",
      "\tTiempo:  101.3374879360199  s\n",
      "\tValor objetivo:  5.0\n",
      "\tNúmero de nodos:  29164\n",
      "cli :\n",
      "\tNúmero de restricciones:  3510\n",
      "\tTiempo:  8.519366025924683  s\n",
      "\tValor objetivo:  5.0\n",
      "\tNúmero de nodos:  143\n"
     ]
    }
   ],
   "source": [
    "imprimir_resumen(modelo_col)\n",
    "imprimir_resumen(modelo_cli)"
   ]
  },
  {
   "cell_type": "markdown",
   "id": "f710cf20-2aa4-456d-a0b5-19c36b4699d8",
   "metadata": {},
   "source": [
    "El siguiente análisis dependerá de los números que cada uno/a haya obtenido en su computadora (las tendencias no deberían cambiar demasiado). \n",
    "\n",
    "En mi caso, observo una muy marcada diferencia en la performance. El tiempo necesario para resolver (CLI) es muy inferior (unas 12 veces) al requerido por (COL). Lo mismo sucede con el número de nodos procesados (la reducción en este caso es de 204 veces). Por lo tanto, en este caso particular, es conveniente utilizar una formulación más ajustada, a pesar de que cada nodo del árbol de B\\&B demoré más tiempo en resolverse. Para saber si este resultado es robusto, deberíamos repetir el experimento sobre un dataset más grande. También podría ser interesante estudiar qué sucede en grafos más grandes o con otras densidades.\n",
    "\n",
    "De hecho, podemos calcular el tiempo promedio requerido por nodo, como el cociente entre el tiempo total de ejecución y el número de nodos procesados. "
   ]
  },
  {
   "cell_type": "code",
   "execution_count": 25,
   "id": "13c04667",
   "metadata": {
    "scrolled": true
   },
   "outputs": [
    {
     "name": "stdout",
     "output_type": "stream",
     "text": [
      "Promedio de tiempo por nodo:  0.0034747458488554347 s (COL),  0.0595759861952775 s (CLI)\n"
     ]
    }
   ],
   "source": [
    "print(\"Promedio de tiempo por nodo: \", \n",
    "      modelo_col.solve_details.time / modelo_col.solve_details.nb_nodes_processed, \"s (COL), \", \n",
    "      modelo_cli.solve_details.time / modelo_cli.solve_details.nb_nodes_processed, \"s (CLI)\")"
   ]
  },
  {
   "cell_type": "markdown",
   "id": "531833b8-7bb0-412e-8773-b621b43bf2c0",
   "metadata": {},
   "source": [
    "### &#x1f4bb; Actividad 2\n",
    "\n",
    "Supongamos que, en la formulación original, reemplazamos las restricciones (COL.2) por las siguientes, denominadas \"de vecindad\":\n",
    "$$ f(v) x_{vk} + \\sum_{u \\in N(v)} x_{uk} \\leq f(v),~~ \\forall~v \\in V,~k \\in \\mathcal C $$\n",
    "donde $f(v)$ es el grado del vértice $v$ (por ahora 😉).\n",
    "Esta desigualdad es válida porque resulta de sumar todas las (COL.2) que comparten un mismo vértice, en este caso $v$.\n",
    "Siendo que estas restricciones son en total $|V|.|\\mathcal C|$ mientras que las (COL.2) contabilizan $|E|.|\\mathcal C|$, ¿será que esta disminución compensa la calidad de la relajación lineal?\n",
    "- Genere algunas instancias aleatorias, a su criterio.\n",
    "- Compare el valor óptima de la relajación lineal de ambas formulaciones en dichas instancias.\n",
    "- Realice un experimento donde compara el tiempo de resolución de ambas ejecuciones, ¿quién se comporta mejor? Y si ahora incorporamos las desigualdades cliques, ¿se mantiene la tendencia? ¿alguna formulación resulta mejor que la otra para distintas densidades del grafo?\n",
    "- Elija una instancia donde difieren significativamente los resultados para cada formulación, ¿y si ahora apaga la artillería de CPLEX? ¿se mantiene la tendencia? \"+1\" si encuentran un caso en que sí 🙂 \n",
    "- (Opcional) Si $f(v)$ fuese menor, la desigualdad ajustaría más. Piense qué valor podría asignarle a $f(v)$ para lograrlo, en el caso de la rueda de grado $n$, para cualquier $n \\geq 4$ (tenemos dos casos: el \"interesante\" cuando $v$ es el vértice central, y el otro cuando $v$ es el pendiente). Ahora intente generalizar ese concepto."
   ]
  },
  {
   "cell_type": "markdown",
   "id": "1ffffad0",
   "metadata": {},
   "source": [
    "### Subfamilias de desigualdades válidas\n",
    "\n",
    "En instancias más grandes no es esperable que se puedan agregar a la formulación todas las desigualdades válidas de una determinada familia. Por ejemplo, en las restricciones clique, el número de cliques máximales puede crecer exponencialmente con el tamaño del grafo. Agregarlas a todas llevaría a una formulación con una excesiva cantidad de restricciones, cuya relajación lineal tardaría mucho tiempo en optimizarse. Incluso pueden llegar a aparecer problemas de memoria, es decir, ni siquiera poder iniciar la optimización del modelo porque no fue posible construirlo.\n",
    "\n",
    "Una alternativa es no agregarlas a todas, sino a un subconjunto de ellas. Por ejemplo, para las restricciones cliques una estrategia conocida es trabajar con un subconjunto $\\mathcal Q' \\subset \\mathcal Q$, tal que $\\mathcal Q'$ es un cubrimiento minimal de aristas de $G$.\n",
    "\n",
    "Por ejemplo, consideremos el siguiente grafo $H$."
   ]
  },
  {
   "cell_type": "code",
   "execution_count": 26,
   "id": "6ececcf1",
   "metadata": {},
   "outputs": [
    {
     "name": "stderr",
     "output_type": "stream",
     "text": [
      "/usr/lib/python3/dist-packages/scipy/__init__.py:146: UserWarning: A NumPy version >=1.17.3 and <1.25.0 is required for this version of SciPy (detected version 1.26.4\n",
      "  warnings.warn(f\"A NumPy version >={np_minversion} and <{np_maxversion}\"\n"
     ]
    },
    {
     "data": {
      "image/png": "[encoded data removed]",
      "text/plain": [
       "<Figure size 432x288 with 1 Axes>"
      ]
     },
     "metadata": {},
     "output_type": "display_data"
    }
   ],
   "source": [
    "H = nx.Graph([(0,1), (0,2), (0,4), (0,5), (1,2), (2,3), (2,4), (3,4), (4,5)])\n",
    "nx.draw_networkx(H, pos={0: (0,1), 1: (2,1), 2: (1,-1), 3: (0,-3), 4: (-1,-1), 5: (-2,1)})"
   ]
  },
  {
   "cell_type": "markdown",
   "id": "c16ebdd2",
   "metadata": {},
   "source": [
    "Es fácil ver que $H$ tiene las siguientes cliques maximales.\n",
    "\n",
    "* $Q_1 = \\{0,1,2\\}$.\n",
    "* $Q_2 = \\{2,3,4\\}$.\n",
    "* $Q_3 = \\{0,4,5\\}$.\n",
    "* $Q_4 = \\{0,2,4\\}$.\n",
    "\n",
    "Esto también podríamos calcularlo con <code>Networkx</code>:"
   ]
  },
  {
   "cell_type": "code",
   "execution_count": 27,
   "id": "bcffbf72",
   "metadata": {},
   "outputs": [
    {
     "data": {
      "text/plain": [
       "[[0, 2, 1], [0, 2, 4], [0, 5, 4], [3, 2, 4]]"
      ]
     },
     "execution_count": 27,
     "metadata": {},
     "output_type": "execute_result"
    }
   ],
   "source": [
    "list(nx.find_cliques(H))"
   ]
  },
  {
   "cell_type": "markdown",
   "id": "aeceab6f",
   "metadata": {},
   "source": [
    "Por lo tanto, $\\mathcal Q = \\{Q_1, Q_2, Q_3, Q_4\\}$.\n",
    "\n",
    "Sin embargo, el conjunto $\\mathcal Q' = \\{Q_1, Q_2, Q_3\\}$ es un cubrimiento minimal de aristas ya que: (i) para toda arista, existe una clique en $\\mathcal Q'$ que contiene a sus extremos, y (ii) si sacamos cualquier clique de $\\mathcal Q'$ quedará al menos una arista sin cubrir. \n",
    "\n",
    "Como resultado, obtenemos la siguiente formulación, que es más ajustada que (COL), pero menos ajustada que (CLI). \n",
    "\n",
    "\\begin{align*}\n",
    "\\text{Minimizar:} & \\sum_{k \\in \\mathcal C}w_k \\tag{CUB} \\\\\n",
    "\\text{Sujeto a:} & \\sum_{k \\in \\mathcal C} x_{vk} = 1 & \\forall~v \\in V. \\tag{1}\\\\\n",
    "& x_{vk} + x_{uk} \\leq w_k & \\forall~vu \\in E,~  k \\in \\mathcal C. \\tag{2} \\\\\n",
    "& \\sum_{v \\in Q} x_{vk} \\leq w_k & \\forall~Q \\in \\mathcal Q',~  k \\in \\mathcal C. \\tag{3} \\\\\n",
    "& w_k \\in \\{0,1\\} & \\forall~k \\in \\mathcal C.\\\\\n",
    "& x_{vk} \\in \\{0,1\\} & \\forall~v \\in V,~k \\in \\mathcal C.\n",
    "\\end{align*}\n",
    "\n",
    "<b>Observación.</b> Usar un cubrimiento minimal de aristas tiene las siguientes ventajas.\n",
    "1. Las restricciones (CUB.2) siguen estando implicadas por las (CUB.3). Es decir, podríamos borrarlas y seguiriamos teniendo una formulación del PCG.\n",
    "2. Las restricciones (CUB.3) tienden a ser bastante diferentes entre sí, es decir, poca intersección de variables.\n",
    "3. En el peor caso, el número de restricciones (CUB.3) es $|E|.|\\mathcal C|$.\n",
    "\n",
    "Para poder implementar un modelo para (CUB) necesitamos algunas funciones auxiliares. En primer lugar, necesitamos una función que tome una clique y la maximalice. La buena noticia es que ya la definimos en el Notebook 2."
   ]
  },
  {
   "cell_type": "code",
   "execution_count": 28,
   "id": "1f4d37bc",
   "metadata": {},
   "outputs": [],
   "source": [
    "def maximalizar_clique(G, C):\n",
    "    M = list(C) # Copiar la lista C\n",
    "    for v in G:\n",
    "        if v in M:\n",
    "            continue\n",
    "        ok = True\n",
    "        for u in M:\n",
    "            if not G.has_edge(u,v):\n",
    "                ok = False\n",
    "        if ok:\n",
    "            M.append(v)\n",
    "    return M"
   ]
  },
  {
   "cell_type": "markdown",
   "id": "c2ac6fe2",
   "metadata": {},
   "source": [
    "Ahora sí, vamos a definir una función que tome un grafo $G$ y retorne un cubrimiento minimal de sus aristas con cliques. La idea para implementarla es la siguiente. \n",
    "1. Inicialmente, ninguna de las aristas de $G$ está cubierta. \n",
    "2. Iterativamente, vamos a recorrer una por una sus aristas. \n",
    "3. Si una arista $e$ ya fue cubierta, entonces proseguimos con la próxima arista. \n",
    "4. De lo contrario, construimos el subgrafo $H$ de $G$ formado por las aristas no cubiertas (esto lo hacemos con la función <code>edge_subgraph</code> de <code>NetworkX</code>).\n",
    "5. Buscamos una clique maximal <code>clique</code> de $H$ que contenga a los extremos de $e$.\n",
    "6. Buscamos una clique maximal de $G$ que contenga a <code>clique</code>.\n",
    "7. Marcamos todas las aristas con extremos en <code>clique</code>como cubiertas.\n",
    "8. Agregamos <code>clique</code> al cubrimiento y proseguimos con la próxima arista. \n",
    "\n",
    "<b>Nota.</b> Si bien podríamos no hacer los pasos 4-5, sino directamente buscar una clique maximal de $G$ que contenga a $e$, decidimos construir $H$ para priorizar las aristas que aun no fueron cubiertas, lo que tiende a reducir el cardinal del cubrimiento."
   ]
  },
  {
   "cell_type": "code",
   "execution_count": 29,
   "id": "aee2d092",
   "metadata": {},
   "outputs": [],
   "source": [
    "def cubrir(G):\n",
    "    cubrimiento = []\n",
    "    esta_cubierta = {e: False for e in G.edges()}\n",
    "    for e in G.edges():\n",
    "        if esta_cubierta[e]:\n",
    "            continue\n",
    "        H = nx.edge_subgraph(G, [e2 for e2 in esta_cubierta if not esta_cubierta[e2]])\n",
    "        clique = maximalizar_clique(H , e)\n",
    "        clique = maximalizar_clique(G, clique)\n",
    "        for i, u in enumerate(clique):\n",
    "            for j, v in enumerate(clique):\n",
    "                if u < v:\n",
    "                    esta_cubierta[(u,v)] = True\n",
    "        cubrimiento.append(clique)\n",
    "    return cubrimiento"
   ]
  },
  {
   "cell_type": "markdown",
   "id": "45352f95",
   "metadata": {},
   "source": [
    "Finalmente, ya podemos definir una función que tome el grafo y el conjunto de colores, y retorne el modelo correspondiente a la formulación (CUB)."
   ]
  },
  {
   "cell_type": "code",
   "execution_count": 30,
   "id": "8ade1542",
   "metadata": {},
   "outputs": [],
   "source": [
    "def construir_modelo_cub(G, C):\n",
    "    modelo = construir_modelo_col(G, C)\n",
    "    modelo.name = \"cub\"\n",
    "    X, W = recuperar_variables(G, C, modelo)\n",
    "    for Q in cubrir(G):\n",
    "        for k in C:\n",
    "            modelo.add_constraint(modelo.sum(X[v][k] for v in Q) <= W[k])\n",
    "    return modelo"
   ]
  },
  {
   "cell_type": "markdown",
   "id": "e9a0f0cf",
   "metadata": {},
   "source": [
    "### &#x1f4bb; Actividad 3\n",
    "\n",
    "En esta actividad compararemos las formulaciones (CLI) y (CUB).\n",
    "\n",
    "1. Genere grafos aleatorios con diferentes densidades (variando el parámetro $p$, probabilidad de arco). ¿Para qué valor de densidad la diferencia entre el número de restricciones de (CLI) y (CUB) es mayor?  \n",
    "2. Utilizando un par de grafos aleatorios con el valor de $p$ encontrado en el punto anterior, compare la performance de resolver las relajaciones lineales de (CLI) y (CUB). ¿Cuál se resuelve más rápido? ¿Hay variaciones en la cota dual?\n",
    "3. Vuelva a comparar la performance, esta vez resolviendo los modelos enteros de (CLI) y (CUB). ¿Cuál conviene? ¿Por qué?\n",
    "\n",
    "<b>Nota.</b> Decida usted un número de vértices interesante, de forma tal que el problema no sea demasiado fácil/difícil de resolver. Proponemos que su resolución demore entre 1 y 5 minutos."
   ]
  },
  {
   "cell_type": "code",
   "execution_count": null,
   "id": "8ae8d1cf-16b1-45ce-8fc7-2482b5afd209",
   "metadata": {},
   "outputs": [],
   "source": []
  }
 ],
 "metadata": {
  "kernelspec": {
   "display_name": "Python 3 (ipykernel)",
   "language": "python",
   "name": "python3"
  },
  "language_info": {
   "codemirror_mode": {
    "name": "ipython",
    "version": 3
   },
   "file_extension": ".py",
   "mimetype": "text/x-python",
   "name": "python",
   "nbconvert_exporter": "python",
   "pygments_lexer": "ipython3",
   "version": "3.10.12"
  }
 },
 "nbformat": 4,
 "nbformat_minor": 5
}
