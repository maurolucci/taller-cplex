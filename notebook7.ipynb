{
 "cells": [
  {
   "cell_type": "markdown",
   "id": "b4c49e28",
   "metadata": {},
   "source": [
    "# Notæ 7\n",
    "\n",
    "# Incidencia de cotas primales y duales en la resolución de PLE"
   ]
  },
  {
   "cell_type": "markdown",
   "id": "a73abbb5",
   "metadata": {},
   "source": [
    "## Introducción\n",
    "\n",
    "En esta nota vamos a repasar algunas técnicas para mejorar la optimización de la resolución de Programas\n",
    "Lineales Enteros. Como sabemos, la optimización alcanza su fin cuando convergen la cota primal (aquella que\n",
    "surge de la obtención de una solución entera factible del problema) y la cota dual (aquella dada por la peor\n",
    "relajación entre los actuales nodos hoja evaluados del árbol B&B).\n",
    "\n",
    "Por ejemplo, si en nuestro problema, resulta sencillo elevar la cota dual pero es difícil encontrar soluciones factibles,\n",
    "una posible solución es barrer el árbol B&B enfatizando en la búsqueda de soluciones, es decir que su recorrido sea de tipo\n",
    "primero-profundo. Así CPLEX va a priorizar profundizar en el árbol hasta encontrar soluciones enteras. El caso inverso es\n",
    "querer enfatizar en la mejora de la cota dual, aquí CPLEX va a priorizar evaluar aquellos nodos cuya relajación lineal sea\n",
    "la que está imponiendo la actual cota dual. Su recorrido se asemeja a una búsqueda a lo ancho.\n",
    "La estrategia actual de CPLEX es balancear ambos aspectos, pero puede parametrizarse.\n",
    "\n",
    "Pero además de la forma de explorar el árbol B&B, tenemos herramientas para atacar ambas cotas, que son:\n",
    "- Heurísticas primales: consisten en aprovechar la solución fraccionaria de un nodo para fabricar una solución entera; esto\n",
    "evita que CPLEX tenga que profundizar en el árbol para alcanzarla, dejando nodos abiertos innecesariamente.\n",
    "- Rutinas de separación de desigualdades válidas: consisten en aprovechar la solución fraccionaria de un nodo para generar\n",
    "desigualdades que lo corten y así elevar el resultado de la relajación lineal, el que impactará en la cota dual.\n",
    "\n",
    "Vamos a seguir como caso de estudio al Problema de Coloreo de Grafos clásico (PCG) formulado mediante variables de asignación vértice-color. En esta formulación, las variables $x_{vk}$ son binarias y valen 1 cuando al vértice $v$ se le asigna el color $k$.\n",
    "Las variables $w_k$ también son binarias y valen 1 cuando el color $k$ es utilizado por algún vértice."
   ]
  },
  {
   "cell_type": "markdown",
   "id": "0929ab29-8810-4f28-b89d-35eb9a02a1fe",
   "metadata": {},
   "source": [
    "\\begin{align*}\n",
    "\\text{Minimizar:} & \\sum_{k \\in \\mathcal C}w_k \\tag{COL} \\\\\n",
    "\\text{Sujeto a:} & \\sum_{k \\in \\mathcal C} x_{vk} = 1 & \\forall~v \\in V. \\tag{1}\\\\\n",
    "& x_{vk} + x_{uk} \\leq w_k & \\forall~vu \\in E,~  k \\in \\mathcal C. \\tag{2} \\\\\n",
    "& \\sum_{v \\in V} x_{vk} \\geq w_k & \\forall~k \\in \\mathcal C. \\tag{3} \\\\ \n",
    "& w_k \\in \\{0,1\\} & \\forall~k \\in \\mathcal C.\\\\\n",
    "& x_{vk} \\in \\{0,1\\} & \\forall~v \\in V,~k \\in \\mathcal C.\n",
    "\\end{align*}"
   ]
  },
  {
   "cell_type": "markdown",
   "id": "98c57cdf-be94-4652-81fc-bed2d7f67ca7",
   "metadata": {},
   "source": [
    "No obstante, las restricciones $(3)$ pueden omitirse ya que se satisfacen naturalmente en la solución óptima (probar en Actividad 1)."
   ]
  },
  {
   "cell_type": "markdown",
   "id": "0764e36a",
   "metadata": {},
   "source": [
    "### Repaso: Resolverlo con CPLEX"
   ]
  },
  {
   "cell_type": "code",
   "execution_count": 3,
   "id": "6021daff",
   "metadata": {},
   "outputs": [
    {
     "ename": "ModuleNotFoundError",
     "evalue": "No module named 'docplex'",
     "output_type": "error",
     "traceback": [
      "\u001b[0;31m---------------------------------------------------------------------------\u001b[0m",
      "\u001b[0;31mModuleNotFoundError\u001b[0m                       Traceback (most recent call last)",
      "Cell \u001b[0;32mIn[3], line 1\u001b[0m\n\u001b[0;32m----> 1\u001b[0m \u001b[38;5;28;01mfrom\u001b[39;00m \u001b[38;5;21;01mdocplex\u001b[39;00m\u001b[38;5;21;01m.\u001b[39;00m\u001b[38;5;21;01mmp\u001b[39;00m\u001b[38;5;21;01m.\u001b[39;00m\u001b[38;5;21;01mmodel\u001b[39;00m \u001b[38;5;28;01mimport\u001b[39;00m Model\n\u001b[1;32m      2\u001b[0m \u001b[38;5;28;01mimport\u001b[39;00m \u001b[38;5;21;01mnetworkx\u001b[39;00m \u001b[38;5;28;01mas\u001b[39;00m \u001b[38;5;21;01mnx\u001b[39;00m\n",
      "\u001b[0;31mModuleNotFoundError\u001b[0m: No module named 'docplex'"
     ]
    }
   ],
   "source": [
    "from docplex.mp.model import Model\n",
    "import networkx as nx"
   ]
  },
  {
   "cell_type": "code",
   "execution_count": 2,
   "id": "5e638b94",
   "metadata": {},
   "outputs": [],
   "source": [
    "def max_grado(G):\n",
    "    grados = [G.degree(v) for v in G]\n",
    "    return max(grados)\n",
    "\n",
    "def construir_modelo_col(G, C):\n",
    "    \"\"\"Construye un modelo de PLE para el PCV.\"\"\"\n",
    "    \n",
    "    modelo = Model(name='col') # Inicializamos el modelo \n",
    "    \n",
    "    # Variables\n",
    "    X = [[modelo.binary_var(name='x_' + str(v) + '_' + str(k)) for k in C] for v in G]\n",
    "    W = [modelo.binary_var(name='w_' + str(k)) for k in C]\n",
    "    \n",
    "    # Funcion objetivo\n",
    "    modelo.minimize(modelo.sum(W[k] for k in C))\n",
    "    \n",
    "    # Restricciones (1)\n",
    "    for v in G:\n",
    "        modelo.add_constraint(modelo.sum(X[v][k] for k in C) == 1)\n",
    "    # Restricciones (2)\n",
    "    for u, v in G.edges:\n",
    "        for k in C:\n",
    "            modelo.add_constraint(X[u][k] + X[v][k] <= W[k])    \n",
    "    \n",
    "    return modelo\n",
    "\n",
    "def resolver(modelo, archivo=True):\n",
    "    \n",
    "    # Resolvemos el modelo\n",
    "    sol = modelo.solve(log_output=archivo)\n",
    " \n",
    "    # Retornamos la solucion\n",
    "    return sol"
   ]
  },
  {
   "cell_type": "markdown",
   "id": "431968fa",
   "metadata": {},
   "source": [
    "Ejemplo de ejecución."
   ]
  },
  {
   "cell_type": "code",
   "execution_count": 3,
   "id": "a05438ea",
   "metadata": {},
   "outputs": [
    {
     "name": "stdout",
     "output_type": "stream",
     "text": [
      "Version identifier: 22.1.1.0 | 2022-11-28 | 9160aff4d\n",
      "CPXPARAM_Read_DataCheck                          1\n",
      "Tried aggregator 1 time.\n",
      "MIP Presolve eliminated 20 rows and 0 columns.\n",
      "MIP Presolve modified 20 coefficients.\n",
      "Reduced MIP has 25 rows, 30 columns, and 105 nonzeros.\n",
      "Reduced MIP has 30 binaries, 0 generals, 0 SOSs, and 0 indicators.\n",
      "Presolve time = 0.01 sec. (0.07 ticks)\n",
      "Found incumbent of value 5.000000 after 0.02 sec. (0.16 ticks)\n",
      "Probing time = 0.00 sec. (0.02 ticks)\n",
      "Tried aggregator 1 time.\n",
      "Detecting symmetries...\n",
      "Reduced MIP has 25 rows, 30 columns, and 105 nonzeros.\n",
      "Reduced MIP has 30 binaries, 0 generals, 0 SOSs, and 0 indicators.\n",
      "Presolve time = 0.00 sec. (0.12 ticks)\n",
      "Probing time = 0.00 sec. (0.02 ticks)\n",
      "Clique table members: 25.\n",
      "MIP emphasis: balance optimality and feasibility.\n",
      "MIP search method: dynamic search.\n",
      "Parallel mode: deterministic, using up to 4 threads.\n",
      "Root relaxation solution time = 0.00 sec. (0.05 ticks)\n",
      "\n",
      "        Nodes                                         Cuts/\n",
      "   Node  Left     Objective  IInf  Best Integer    Best Bound    ItCnt     Gap\n",
      "\n",
      "*     0+    0                            5.0000        0.0000           100.00%\n",
      "*     0+    0                            3.0000        0.0000           100.00%\n",
      "      0     0        cutoff              3.0000        3.0000       15    0.00%\n",
      "      0     0        cutoff              3.0000        3.0000       15    0.00%\n",
      "Elapsed time = 0.06 sec. (0.45 ticks, tree = 0.01 MB, solutions = 2)\n",
      "\n",
      "Root node processing (before b&c):\n",
      "  Real time             =    0.07 sec. (0.45 ticks)\n",
      "Parallel b&c, 4 threads:\n",
      "  Real time             =    0.00 sec. (0.00 ticks)\n",
      "  Sync time (average)   =    0.00 sec.\n",
      "  Wait time (average)   =    0.00 sec.\n",
      "                          ------------\n",
      "Total (root+branch&cut) =    0.07 sec. (0.45 ticks)\n"
     ]
    }
   ],
   "source": [
    "G = nx.wheel_graph(5)\n",
    "C = range(0,max_grado(G) + 1)\n",
    "modelo = construir_modelo_col(G, C)\n",
    "sol = resolver(modelo)"
   ]
  },
  {
   "cell_type": "markdown",
   "id": "9e80783f",
   "metadata": {},
   "source": [
    "Imprimamos la solución:"
   ]
  },
  {
   "cell_type": "code",
   "execution_count": 4,
   "id": "f2c15f72",
   "metadata": {},
   "outputs": [
    {
     "name": "stdout",
     "output_type": "stream",
     "text": [
      "solution for: col\n",
      "objective: 3\n",
      "status: OPTIMAL_SOLUTION(2)\n",
      "x_0_3 = 1\n",
      "x_1_4 = 1\n",
      "x_2_1 = 1\n",
      "x_3_4 = 1\n",
      "x_4_1 = 1\n",
      "w_1 = 1\n",
      "w_3 = 1\n",
      "w_4 = 1\n"
     ]
    }
   ],
   "source": [
    "sol.display()"
   ]
  },
  {
   "cell_type": "markdown",
   "id": "c6f86a5e",
   "metadata": {},
   "source": [
    "### Actividad 1\n",
    "\n",
    "- Explique qué tipo de soluciones enteras elimina la restricción $(COL.3)$. De un ejemplo, tomando como grafo la rueda de grado 5.\n",
    "- Genere un grafo aleatorio de 20, otro de 25 y otro de 30 vértices, con 50% de densidad de aristas. Utilice la formulación anterior para resolverlo. Luego repítalo, pero añadiendo la restricción $(COL.3)$. ¿Ve alguna mejora en el tiempo de resolución?  "
   ]
  },
  {
   "cell_type": "markdown",
   "id": "d500d8bc-36b1-4fa3-bea4-8672181a27ed",
   "metadata": {},
   "source": [
    "## Cotas duales\n",
    "\n",
    "Vamos a comenzar proponiendo potenciales desigualdades válidas para el problema que permitan ajustar su relajación\n",
    "lineal. Para eso, observemos cómo resolver la relajación lineal de una formulación PLE, lo cual es muy sencillo:"
   ]
  },
  {
   "cell_type": "code",
   "execution_count": 4,
   "id": "0dd8de9d",
   "metadata": {},
   "outputs": [
    {
     "ename": "ModuleNotFoundError",
     "evalue": "No module named 'docplex'",
     "output_type": "error",
     "traceback": [
      "\u001b[0;31m---------------------------------------------------------------------------\u001b[0m",
      "\u001b[0;31mModuleNotFoundError\u001b[0m                       Traceback (most recent call last)",
      "Cell \u001b[0;32mIn[4], line 1\u001b[0m\n\u001b[0;32m----> 1\u001b[0m \u001b[38;5;28;01mfrom\u001b[39;00m \u001b[38;5;21;01mdocplex\u001b[39;00m\u001b[38;5;21;01m.\u001b[39;00m\u001b[38;5;21;01mmp\u001b[39;00m\u001b[38;5;21;01m.\u001b[39;00m\u001b[38;5;21;01mrelax_linear\u001b[39;00m \u001b[38;5;28;01mimport\u001b[39;00m LinearRelaxer\n\u001b[1;32m      3\u001b[0m \u001b[38;5;28;01mdef\u001b[39;00m \u001b[38;5;21mrelajacion_lineal\u001b[39m(modelo):\n\u001b[1;32m      4\u001b[0m     \u001b[38;5;28;01mreturn\u001b[39;00m LinearRelaxer\u001b[38;5;241m.\u001b[39mmake_relaxed_model(modelo)\n",
      "\u001b[0;31mModuleNotFoundError\u001b[0m: No module named 'docplex'"
     ]
    }
   ],
   "source": [
    "from docplex.mp.relax_linear import LinearRelaxer\n",
    "\n",
    "def relajacion_lineal(modelo):\n",
    "    return LinearRelaxer.make_relaxed_model(modelo)"
   ]
  },
  {
   "cell_type": "markdown",
   "id": "2a1966e5",
   "metadata": {},
   "source": [
    "Ejemplo de ejecución."
   ]
  },
  {
   "cell_type": "code",
   "execution_count": 6,
   "id": "2c7839b4",
   "metadata": {},
   "outputs": [
    {
     "name": "stdout",
     "output_type": "stream",
     "text": [
      "Version identifier: 22.1.1.0 | 2022-11-28 | 9160aff4d\n",
      "CPXPARAM_Read_DataCheck                          1\n",
      "Tried aggregator 1 time.\n",
      "Reduced LP has 45 rows, 30 columns, and 145 nonzeros.\n",
      "Presolve time = 0.00 sec. (0.04 ticks)\n",
      "Symmetry aggregator did 68 additional substitutions.\n",
      "Initializing dual steep norms . . .\n",
      "\n",
      "Iteration log . . .\n",
      "Iteration:     1   Dual objective     =             2.000000\n",
      "\n",
      "Dual crossover.\n",
      "  Dual:  Fixing 9 variables.\n",
      "        8 DMoves:  Infeasibility  0.00000000e+00  Objective  2.00000000e+00\n",
      "        0 DMoves:  Infeasibility  0.00000000e+00  Objective  2.00000000e+00\n",
      "  Dual:  Pushed 3, exchanged 6.\n",
      "  Primal:  Fixing 4 variables.\n",
      "        3 PMoves:  Infeasibility  0.00000000e+00  Objective  2.00000000e+00\n",
      "        0 PMoves:  Infeasibility  2.22044605e-16  Objective  2.00000000e+00\n",
      "  Primal:  Pushed 3, exchanged 1.\n"
     ]
    }
   ],
   "source": [
    "relajacion = relajacion_lineal(modelo)\n",
    "sol = resolver(relajacion)"
   ]
  },
  {
   "cell_type": "markdown",
   "id": "0c55d702",
   "metadata": {},
   "source": [
    "Imprimos la solución:"
   ]
  },
  {
   "cell_type": "code",
   "execution_count": 7,
   "id": "2f405c9c",
   "metadata": {},
   "outputs": [
    {
     "name": "stdout",
     "output_type": "stream",
     "text": [
      "solution for: lp_col\n",
      "objective: 2.000\n",
      "status: OPTIMAL_SOLUTION(2)\n",
      "x_0_0 = 0.500\n",
      "x_0_3 = 0.500\n",
      "x_1_0 = 0.500\n",
      "x_1_3 = 0.500\n",
      "x_2_0 = 0.500\n",
      "x_2_3 = 0.500\n",
      "x_3_0 = 0.500\n",
      "x_3_3 = 0.500\n",
      "x_4_0 = 0.500\n",
      "x_4_3 = 0.500\n",
      "w_0 = 1.000\n",
      "w_3 = 1.000\n"
     ]
    }
   ],
   "source": [
    "sol.display()"
   ]
  },
  {
   "cell_type": "markdown",
   "id": "b87ea877-5fd0-4d82-bf39-582b596833dd",
   "metadata": {},
   "source": [
    "### Reforzando relajaciones lineales\n",
    "\n",
    "Vamos a estar interesados en hallar desigualdades válidas que violen una solución fraccionaria como la mostrada más arriba, pero a la vez que, al incorporar esta desigualdad en la formulación, logre elevar el valor objetivo lo más posible. Un proxy para maximizar este aumento es la violación: es decir, considerar una desigualdad $a.x \\leq b$ que maximice $a.x - b$ sujeto a las restricciones de $(COL)$.  "
   ]
  },
  {
   "cell_type": "code",
   "execution_count": 15,
   "id": "48c4fef4",
   "metadata": {},
   "outputs": [
    {
     "ename": "NameError",
     "evalue": "name 'nx' is not defined",
     "output_type": "error",
     "traceback": [
      "\u001b[0;31m---------------------------------------------------------------------------\u001b[0m",
      "\u001b[0;31mNameError\u001b[0m                                 Traceback (most recent call last)",
      "Cell \u001b[0;32mIn[15], line 2\u001b[0m\n\u001b[1;32m      1\u001b[0m \u001b[38;5;66;03m# Rueda de 4 vértices\u001b[39;00m\n\u001b[0;32m----> 2\u001b[0m \u001b[43mnx\u001b[49m\u001b[38;5;241m.\u001b[39mdraw_networkx(G, pos\u001b[38;5;241m=\u001b[39m{\u001b[38;5;241m0\u001b[39m: (\u001b[38;5;241m1\u001b[39m,\u001b[38;5;241m1\u001b[39m), \u001b[38;5;241m1\u001b[39m: (\u001b[38;5;241m0\u001b[39m,\u001b[38;5;241m0\u001b[39m), \u001b[38;5;241m2\u001b[39m: (\u001b[38;5;241m2\u001b[39m,\u001b[38;5;241m0\u001b[39m), \u001b[38;5;241m3\u001b[39m: (\u001b[38;5;241m2\u001b[39m,\u001b[38;5;241m2\u001b[39m), \u001b[38;5;241m4\u001b[39m: (\u001b[38;5;241m0\u001b[39m,\u001b[38;5;241m2\u001b[39m)})\n",
      "\u001b[0;31mNameError\u001b[0m: name 'nx' is not defined"
     ]
    }
   ],
   "source": [
    "# Rueda de grado 4\n",
    "nx.draw_networkx(G, pos={0: (1,1), 1: (0,0), 2: (2,0), 3: (2,2), 4: (0,2)})"
   ]
  },
  {
   "cell_type": "markdown",
   "id": "8b477063",
   "metadata": {},
   "source": [
    "Los vértices 0, 1 y 2 forman una clique. Por lo tanto, para todo color $k$, todo coloreo verifica que a lo sumo un vértice de {0,1,2} se pinta con $k$. Es decir, tenemos las siguientes desigualdades válidas:\n",
    "\n",
    "$$ x_{0k} + x_{1k} + x_{2k} \\leq w_k,~~~~~~ \\forall~ k \\in \\mathcal C $$"
   ]
  },
  {
   "cell_type": "markdown",
   "id": "3984dc68",
   "metadata": {},
   "source": [
    "Es crucial notar que, por el contrario, no toda solución fraccionaria (i.e. solución factible de la relajación lineal) las verifica. Por ejemplo, la solución fraccionaria encontrada anteriormente la viola para $k=0$, pues $$x_{00}+x_{10}+x_{20} = 1,5 \\not\\leq 1 = w_0.$$ \n",
    "Verifiquemos esta última cuenta:"
   ]
  },
  {
   "cell_type": "code",
   "execution_count": 6,
   "id": "d823adc6",
   "metadata": {},
   "outputs": [
    {
     "ename": "NameError",
     "evalue": "name 'sol' is not defined",
     "output_type": "error",
     "traceback": [
      "\u001b[0;31m---------------------------------------------------------------------------\u001b[0m",
      "\u001b[0;31mNameError\u001b[0m                                 Traceback (most recent call last)",
      "Cell \u001b[0;32mIn[6], line 1\u001b[0m\n\u001b[0;32m----> 1\u001b[0m \u001b[38;5;28mprint\u001b[39m(\u001b[38;5;124m\"\u001b[39m\u001b[38;5;124mLado izquierdo: \u001b[39m\u001b[38;5;124m\"\u001b[39m, \u001b[43msol\u001b[49m\u001b[38;5;241m.\u001b[39mget_value(\u001b[38;5;124m\"\u001b[39m\u001b[38;5;124mx_0_0\u001b[39m\u001b[38;5;124m\"\u001b[39m) \u001b[38;5;241m+\u001b[39m sol\u001b[38;5;241m.\u001b[39mget_value(\u001b[38;5;124m\"\u001b[39m\u001b[38;5;124mx_1_0\u001b[39m\u001b[38;5;124m\"\u001b[39m) \u001b[38;5;241m+\u001b[39m sol\u001b[38;5;241m.\u001b[39mget_value(\u001b[38;5;124m\"\u001b[39m\u001b[38;5;124mx_2_0\u001b[39m\u001b[38;5;124m\"\u001b[39m))\n\u001b[1;32m      2\u001b[0m \u001b[38;5;28mprint\u001b[39m(\u001b[38;5;124m\"\u001b[39m\u001b[38;5;124mLado derecho: \u001b[39m\u001b[38;5;124m\"\u001b[39m, sol\u001b[38;5;241m.\u001b[39mget_value(\u001b[38;5;124m\"\u001b[39m\u001b[38;5;124mw_0\u001b[39m\u001b[38;5;124m\"\u001b[39m))\n",
      "\u001b[0;31mNameError\u001b[0m: name 'sol' is not defined"
     ]
    }
   ],
   "source": [
    "print(\"Lado izquierdo: \", sol.get_value(\"x_0_0\") + sol.get_value(\"x_1_0\") + sol.get_value(\"x_2_0\"))\n",
    "print(\"Lado derecho: \", sol.get_value(\"w_0\"))"
   ]
  },
  {
   "cell_type": "markdown",
   "id": "7e8928ea",
   "metadata": {},
   "source": [
    "¡Esta desigualdad válida que encontramos podemos usarla para ajustar nuestro poliedro! Es decir, agregando esta restricción a la formulación cortamos la solución fraccionaria que encontramos anteriormente. ¡Hagámoslo!\n",
    "\n",
    "Primero recuperemos las variables $x$ del modelo."
   ]
  },
  {
   "cell_type": "code",
   "execution_count": 7,
   "id": "b1a7c4c7",
   "metadata": {},
   "outputs": [],
   "source": [
    "def recuperar_variables(G, C, modelo):\n",
    "    X = [[modelo.get_var_by_name(\"x_\" + str(v) + \"_\" + str(k)) for k in C] for v in G]\n",
    "    W = [modelo.get_var_by_name(\"w_\" + str(k)) for k in C]\n",
    "    return X, W"
   ]
  },
  {
   "cell_type": "markdown",
   "id": "e25d59cc",
   "metadata": {},
   "source": [
    "Agregamos la restricción al modelo."
   ]
  },
  {
   "cell_type": "code",
   "execution_count": 8,
   "id": "a1179993",
   "metadata": {},
   "outputs": [
    {
     "ename": "NameError",
     "evalue": "name 'construir_modelo_col' is not defined",
     "output_type": "error",
     "traceback": [
      "\u001b[0;31m---------------------------------------------------------------------------\u001b[0m",
      "\u001b[0;31mNameError\u001b[0m                                 Traceback (most recent call last)",
      "Cell \u001b[0;32mIn[8], line 1\u001b[0m\n\u001b[0;32m----> 1\u001b[0m modelo_ajustado \u001b[38;5;241m=\u001b[39m \u001b[43mconstruir_modelo_col\u001b[49m(G, C)\n\u001b[1;32m      2\u001b[0m X, W \u001b[38;5;241m=\u001b[39m recuperar_variables(G, C, modelo_ajustado)\n\u001b[1;32m      3\u001b[0m modelo_ajustado\u001b[38;5;241m.\u001b[39madd_constraint(X[\u001b[38;5;241m0\u001b[39m][\u001b[38;5;241m0\u001b[39m] \u001b[38;5;241m+\u001b[39m X[\u001b[38;5;241m1\u001b[39m][\u001b[38;5;241m0\u001b[39m] \u001b[38;5;241m+\u001b[39m X[\u001b[38;5;241m2\u001b[39m][\u001b[38;5;241m0\u001b[39m] \u001b[38;5;241m<\u001b[39m\u001b[38;5;241m=\u001b[39m W[\u001b[38;5;241m0\u001b[39m])\n",
      "\u001b[0;31mNameError\u001b[0m: name 'construir_modelo_col' is not defined"
     ]
    }
   ],
   "source": [
    "modelo_ajustado = construir_modelo_col(G, C)\n",
    "X, W = recuperar_variables(G, C, modelo_ajustado)\n",
    "modelo_ajustado.add_constraint(X[0][0] + X[1][0] + X[2][0] <= W[0])"
   ]
  },
  {
   "cell_type": "markdown",
   "id": "5880df84",
   "metadata": {},
   "source": [
    "Resolvemos la relajación lineal."
   ]
  },
  {
   "cell_type": "code",
   "execution_count": 9,
   "id": "68db4616",
   "metadata": {},
   "outputs": [
    {
     "ename": "NameError",
     "evalue": "name 'relajacion_lineal' is not defined",
     "output_type": "error",
     "traceback": [
      "\u001b[0;31m---------------------------------------------------------------------------\u001b[0m",
      "\u001b[0;31mNameError\u001b[0m                                 Traceback (most recent call last)",
      "Cell \u001b[0;32mIn[9], line 1\u001b[0m\n\u001b[0;32m----> 1\u001b[0m relajacion_ajustada \u001b[38;5;241m=\u001b[39m \u001b[43mrelajacion_lineal\u001b[49m(modelo_ajustado)\n\u001b[1;32m      2\u001b[0m sol \u001b[38;5;241m=\u001b[39m resolver(relajacion_ajustada)\n",
      "\u001b[0;31mNameError\u001b[0m: name 'relajacion_lineal' is not defined"
     ]
    }
   ],
   "source": [
    "relajacion_ajustada = relajacion_lineal(modelo_ajustado)\n",
    "sol = resolver(relajacion_ajustada)"
   ]
  },
  {
   "cell_type": "markdown",
   "id": "90b6a084",
   "metadata": {},
   "source": [
    "Veamos la solución."
   ]
  },
  {
   "cell_type": "code",
   "execution_count": 10,
   "id": "1a490b14",
   "metadata": {},
   "outputs": [
    {
     "ename": "NameError",
     "evalue": "name 'sol' is not defined",
     "output_type": "error",
     "traceback": [
      "\u001b[0;31m---------------------------------------------------------------------------\u001b[0m",
      "\u001b[0;31mNameError\u001b[0m                                 Traceback (most recent call last)",
      "Cell \u001b[0;32mIn[10], line 1\u001b[0m\n\u001b[0;32m----> 1\u001b[0m \u001b[43msol\u001b[49m\u001b[38;5;241m.\u001b[39mdisplay()\n",
      "\u001b[0;31mNameError\u001b[0m: name 'sol' is not defined"
     ]
    }
   ],
   "source": [
    "sol.display()"
   ]
  },
  {
   "cell_type": "markdown",
   "id": "5de19f93",
   "metadata": {},
   "source": [
    "Obviamente, obtuvimos una solución distinta, sin embargo no cambió su valor objetivo. ¿Qué pasó? Lo que pasó es que nos dio una solución simétrica, apagó el color 0 y encendió el 1. Ok, entonces agreguemos estas desigualdades válidas para todos los colores."
   ]
  },
  {
   "cell_type": "code",
   "execution_count": 11,
   "id": "0add3657",
   "metadata": {},
   "outputs": [
    {
     "ename": "NameError",
     "evalue": "name 'construir_modelo_col' is not defined",
     "output_type": "error",
     "traceback": [
      "\u001b[0;31m---------------------------------------------------------------------------\u001b[0m",
      "\u001b[0;31mNameError\u001b[0m                                 Traceback (most recent call last)",
      "Cell \u001b[0;32mIn[11], line 1\u001b[0m\n\u001b[0;32m----> 1\u001b[0m modelo_ajustado \u001b[38;5;241m=\u001b[39m \u001b[43mconstruir_modelo_col\u001b[49m(G, C)\n\u001b[1;32m      2\u001b[0m X, W \u001b[38;5;241m=\u001b[39m recuperar_variables(G, C, modelo_ajustado)\n\u001b[1;32m      3\u001b[0m \u001b[38;5;28;01mfor\u001b[39;00m k \u001b[38;5;129;01min\u001b[39;00m C:\n",
      "\u001b[0;31mNameError\u001b[0m: name 'construir_modelo_col' is not defined"
     ]
    }
   ],
   "source": [
    "modelo_ajustado = construir_modelo_col(G, C)\n",
    "X, W = recuperar_variables(G, C, modelo_ajustado)\n",
    "for k in C:\n",
    "    modelo_ajustado.add_constraint(X[0][k] + X[1][k] + X[2][k] <= W[k])\n",
    "relajacion_ajustada = relajacion_lineal(modelo_ajustado)\n",
    "sol = resolver(relajacion_ajustada)"
   ]
  },
  {
   "cell_type": "markdown",
   "id": "82f0b75d",
   "metadata": {},
   "source": [
    "Veamos la solución."
   ]
  },
  {
   "cell_type": "code",
   "execution_count": 12,
   "id": "0390b48d",
   "metadata": {},
   "outputs": [
    {
     "ename": "NameError",
     "evalue": "name 'sol' is not defined",
     "output_type": "error",
     "traceback": [
      "\u001b[0;31m---------------------------------------------------------------------------\u001b[0m",
      "\u001b[0;31mNameError\u001b[0m                                 Traceback (most recent call last)",
      "Cell \u001b[0;32mIn[12], line 1\u001b[0m\n\u001b[0;32m----> 1\u001b[0m \u001b[43msol\u001b[49m\u001b[38;5;241m.\u001b[39mdisplay()\n",
      "\u001b[0;31mNameError\u001b[0m: name 'sol' is not defined"
     ]
    }
   ],
   "source": [
    "sol.display()"
   ]
  },
  {
   "cell_type": "markdown",
   "id": "28a36a04",
   "metadata": {},
   "source": [
    "¡Éxito! No solo cortamos la solución fraccionaria anterior (y sus soluciones simétricas), sino que además pudimos elevar el valor óptimo de la relajación lineal, pasó de 2 a 3.\n",
    "\n",
    "Aunque el trabajo que hicimos fue específico al grafo rueda $W_5$, este tipo de desigualdades válidas se pueden aplicar a cualquier grafo, y a cualquier clique."
   ]
  },
  {
   "cell_type": "markdown",
   "id": "af6d1e4d",
   "metadata": {},
   "source": [
    "### Restricciones clique\n",
    "\n",
    "<b>Proposición.</b> Considerar el modelo COL para una instancia del PCG formada por un grafo $G=(V,E)$ y un conjunto de colores $\\mathcal C$. Para toda clique $Q \\subset V$ y color $k \\in \\mathcal C$, la siguiente restricción es una desigualdad válida\n",
    "$$\\sum_{v \\in Q}x_{vk} \\leq w_k,$$\n",
    "y se conoce como <b>restricción clique</b>.\n",
    "\n",
    "<b>Observación 1.</b> Las restricciones $(COL.2)$ son restricciones clique asociadas a cliques de cardinal 2 (los extremos de la arista). \n",
    "\n",
    "<b>Observación 2.</b> En particular, siendos dos cliques $Q' \\subset Q$, la restricción clique asociada a $Q$ domina a la asociada a $Q'$, pues $$\\sum_{v \\in Q'}x_{vk} \\leq \\sum_{v \\in Q}x_{vk} \\leq w_k.$$ Por lo tanto, basta con considerar cliques maximales. Llamaremos $\\mathcal Q$ al conjunto de cliques maximales del grafo.\n",
    "\n",
    "Existen dos formas de manejar desigualdades válidas:\n",
    "\n",
    "1. Agregarlas como restricciones de la formulación.\n",
    "\n",
    "2. Agregarlas bajo demanda como planos de corte."
   ]
  },
  {
   "cell_type": "markdown",
   "id": "fee82f86",
   "metadata": {},
   "source": [
    "### Desigualdades válidas en la formulación\n",
    "\n",
    "Comencemos agregando a la formulación COL todas las restricciones cliques asociadas a $\\mathcal Q$. Es decir, ahora nuestra formulación de PLE es la siguiente.\n",
    "\n",
    "\\begin{align*}\n",
    "\\text{Minimizar:} & \\sum_{k \\in \\mathcal C}w_k \\tag{CLI} \\\\\n",
    "\\text{Sujeto a:} & \\sum_{k \\in \\mathcal C} x_{vk} = 1 & \\forall~v \\in V. \\tag{1}\\\\\n",
    "& x_{vk} + x_{uk} \\leq w_k & \\forall~vu \\in E,~  k \\in \\mathcal C. \\tag{2} \\\\\n",
    "& \\sum_{v \\in Q} x_{vk} \\leq w_k & \\forall~Q \\in \\mathcal Q,~  k \\in \\mathcal C. \\tag{3} \\\\\n",
    "& w_k \\in \\{0,1\\} & \\forall~k \\in \\mathcal C.\\\\\n",
    "& x_{vk} \\in \\{0,1\\} & \\forall~v \\in V,~k \\in \\mathcal C.\n",
    "\\end{align*}\n",
    "\n",
    "<b>Observación.</b> Las restricciones $(2)$ quedan implicadas por las $(3)$, luego podemos sacarlas de la formulación sin perder soluciones factibles. Para no complicar las cosas, las dejaremos y confiaremos en el poder de CPLEX para detectar y eliminar restricciones redundantes."
   ]
  },
  {
   "cell_type": "code",
   "execution_count": 13,
   "id": "fd4a2f01",
   "metadata": {},
   "outputs": [],
   "source": [
    "def construir_modelo_cli(G, C):\n",
    "    modelo = construir_modelo_col(G, C)\n",
    "    modelo.name = \"cli\"\n",
    "    X, W = recuperar_variables(G, C, modelo)\n",
    "    for Q in nx.find_cliques(G):\n",
    "        for k in C:\n",
    "            modelo.add_constraint(modelo.sum(X[v][k] for v in Q) <= W[k])\n",
    "    return modelo"
   ]
  },
  {
   "cell_type": "markdown",
   "id": "72ebb354",
   "metadata": {},
   "source": [
    "Trabajaremos un grafo aleatorio con $n=...$ y $p=...$."
   ]
  },
  {
   "cell_type": "code",
   "execution_count": 14,
   "id": "5cbe99f6",
   "metadata": {},
   "outputs": [
    {
     "ename": "NameError",
     "evalue": "name 'nx' is not defined",
     "output_type": "error",
     "traceback": [
      "\u001b[0;31m---------------------------------------------------------------------------\u001b[0m",
      "\u001b[0;31mNameError\u001b[0m                                 Traceback (most recent call last)",
      "Cell \u001b[0;32mIn[14], line 1\u001b[0m\n\u001b[0;32m----> 1\u001b[0m G \u001b[38;5;241m=\u001b[39m \u001b[43mnx\u001b[49m\u001b[38;5;241m.\u001b[39merdos_renyi_graph(\u001b[38;5;241m18\u001b[39m, \u001b[38;5;241m0.5\u001b[39m, \u001b[38;5;241m0\u001b[39m)\n\u001b[1;32m      2\u001b[0m C \u001b[38;5;241m=\u001b[39m \u001b[38;5;28mrange\u001b[39m(max_grado(G)\u001b[38;5;241m+\u001b[39m\u001b[38;5;241m1\u001b[39m)\n\u001b[1;32m      3\u001b[0m modelo_col \u001b[38;5;241m=\u001b[39m construir_modelo_col(G, C)\n",
      "\u001b[0;31mNameError\u001b[0m: name 'nx' is not defined"
     ]
    }
   ],
   "source": [
    "G = nx.erdos_renyi_graph(18, 0.5, 0)\n",
    "C = range(max_grado(G)+1)\n",
    "modelo_col = construir_modelo_col(G, C)\n",
    "modelo_cli = construir_modelo_cli(G, C)"
   ]
  },
  {
   "cell_type": "markdown",
   "id": "5a81409e",
   "metadata": {},
   "source": [
    "Resolvamos la relajación lineal del modelo COL."
   ]
  },
  {
   "cell_type": "code",
   "execution_count": 80,
   "id": "8a7c48b0",
   "metadata": {},
   "outputs": [
    {
     "name": "stdout",
     "output_type": "stream",
     "text": [
      "Version identifier: 22.1.1.0 | 2022-11-28 | 9160aff4d\n",
      "CPXPARAM_Read_DataCheck                          1\n",
      "Tried aggregator 1 time.\n",
      "Reduced LP has 668 rows, 190 columns, and 2130 nonzeros.\n",
      "Presolve time = 0.00 sec. (0.57 ticks)\n",
      "Symmetry aggregator did 756 additional substitutions.\n",
      "Initializing dual steep norms . . .\n",
      "\n",
      "Iteration log . . .\n",
      "Iteration:     1   Dual objective     =             2.000000\n",
      "\n",
      "Dual crossover.\n",
      "  Dual:  Fixing 12 variables.\n",
      "       11 DMoves:  Infeasibility  0.00000000e+00  Objective  2.00000000e+00\n",
      "        0 DMoves:  Infeasibility  0.00000000e+00  Objective  2.00000000e+00\n",
      "  Dual:  Pushed 0, exchanged 12.\n",
      "  Primal:  Fixing 9 variables.\n",
      "        8 PMoves:  Infeasibility  8.32667268e-17  Objective  2.00000000e+00\n",
      "        0 PMoves:  Infeasibility  3.05311332e-16  Objective  2.00000000e+00\n",
      "  Primal:  Pushed 8, exchanged 1.\n"
     ]
    },
    {
     "data": {
      "text/plain": [
       "docplex.mp.solution.SolveSolution(obj=2,values={x_0_0:0.5,x_0_5:0.5,x_1_.."
      ]
     },
     "execution_count": 80,
     "metadata": {},
     "output_type": "execute_result"
    }
   ],
   "source": [
    "relajacion_col = relajacion_lineal(modelo_col)\n",
    "resolver(relajacion_col)"
   ]
  },
  {
   "cell_type": "markdown",
   "id": "6d5ad168",
   "metadata": {},
   "source": [
    "Resolvamos la relajación lineal del modelo CLI."
   ]
  },
  {
   "cell_type": "code",
   "execution_count": 81,
   "id": "88c27a80",
   "metadata": {},
   "outputs": [
    {
     "name": "stdout",
     "output_type": "stream",
     "text": [
      "Version identifier: 22.1.1.0 | 2022-11-28 | 9160aff4d\n",
      "CPXPARAM_Read_DataCheck                          1\n",
      "Tried aggregator 1 time.\n",
      "LP Presolve eliminated 30 rows and 0 columns.\n",
      "Reduced LP has 968 rows, 190 columns, and 3470 nonzeros.\n",
      "Presolve time = 0.00 sec. (0.88 ticks)\n",
      "Symmetry aggregator did 1026 additional substitutions.\n",
      "Initializing dual steep norms . . .\n",
      "\n",
      "Iteration log . . .\n",
      "Iteration:     1   Dual objective     =             4.000000\n",
      "\n",
      "Dual crossover.\n",
      "  Dual:  Fixing 1 variable.\n",
      "        0 DMoves:  Infeasibility  0.00000000e+00  Objective  4.00000000e+00\n",
      "  Dual:  Pushed 0, exchanged 1.\n",
      "  Primal:  Fixing 45 variables.\n",
      "       44 PMoves:  Infeasibility  3.35842465e-15  Objective  4.00000000e+00\n",
      "        0 PMoves:  Infeasibility  1.65978342e-14  Objective  4.00000000e+00\n",
      "  Primal:  Pushed 16, exchanged 29.\n"
     ]
    },
    {
     "data": {
      "text/plain": [
       "docplex.mp.solution.SolveSolution(obj=4,values={x_0_1:0.333333,x_0_4:0.3.."
      ]
     },
     "execution_count": 81,
     "metadata": {},
     "output_type": "execute_result"
    }
   ],
   "source": [
    "relajacion_cli = relajacion_lineal(modelo_cli)\n",
    "resolver(relajacion_cli)"
   ]
  },
  {
   "cell_type": "markdown",
   "id": "1e63b214",
   "metadata": {},
   "source": [
    "Veamos un resumen de los resultados:"
   ]
  },
  {
   "cell_type": "code",
   "execution_count": 82,
   "id": "13025493",
   "metadata": {},
   "outputs": [
    {
     "name": "stdout",
     "output_type": "stream",
     "text": [
      "lp_col :\n",
      "\tNúmero de restricciones:  668\n",
      "\tTiempo:  0.019295930862426758  s\n",
      "\tValor objetivo:  2.0\n",
      "\tNúmero de nodos:  0\n",
      "lp_cli :\n",
      "\tNúmero de restricciones:  998\n",
      "\tTiempo:  0.03240013122558594  s\n",
      "\tValor objetivo:  4.0\n",
      "\tNúmero de nodos:  0\n"
     ]
    }
   ],
   "source": [
    "def imprimir_resumen(modelo):\n",
    "    print(modelo.name, \":\")\n",
    "    print(\"\\tNúmero de restricciones: \", modelo.number_of_constraints)\n",
    "    print(\"\\tTiempo: \", modelo.solve_details.time, \" s\")\n",
    "    print(\"\\tValor objetivo: \", modelo.objective_value)\n",
    "    print(\"\\tNúmero de nodos: \", modelo.solve_details.nb_nodes_processed)\n",
    "    \n",
    "imprimir_resumen(relajacion_col)\n",
    "imprimir_resumen(relajacion_cli)"
   ]
  },
  {
   "cell_type": "markdown",
   "id": "2ad83733",
   "metadata": {},
   "source": [
    "La relajación lineal de COL tiene menos restricciones y su resolución es más rápida, pero la cota inferior que aporta es bastante débil. Por el contrario, la relajación lineal de CLI presenta una marcada mejora en el valor objetivo, aunque posee más restricciones y su resolución demora más tiempo.\n",
    "\n",
    "Con este análisis solo estamos evaluando lo que sucede en el nodo raíz del árbol de branch-and-cut. ¿Qué pasará cuando consideremos el árbol completo? La intuición nos dice que comenzar con una relajación más ajustada hará que CPLEX pueda podar nodos con mayor rapidez y cerrar el gap anticipadamente.\n",
    "\n",
    "Como ya hemos mencionado, CPLEX es muy potente y es capaz de ajustar por su cuenta las formulaciones de PLE. Para no generar resultados sesgados por estos mecanismos adicionales, decidimos apagarlos durante los próximos experimentos."
   ]
  },
  {
   "cell_type": "code",
   "execution_count": 83,
   "id": "07f9ff6c",
   "metadata": {},
   "outputs": [],
   "source": [
    "def apagar_artilleria(modelo):\n",
    "    modelo.parameters.preprocessing.presolve = 0\n",
    "    modelo.parameters.mip.cuts.cliques = -1\n",
    "    modelo.parameters.preprocessing.symmetry = 0\n",
    "    #TODO: SEGUIR APAGANDO COSAS"
   ]
  },
  {
   "cell_type": "markdown",
   "id": "c5f6d040",
   "metadata": {},
   "source": [
    "Ahora vamos a resolver los modelos, empezando por COL. Las siguientes celdas pueden demorar en ejecutarse. Momento para armar unos &#129481;  &#129481;."
   ]
  },
  {
   "cell_type": "code",
   "execution_count": 84,
   "id": "d29e3798",
   "metadata": {},
   "outputs": [
    {
     "name": "stdout",
     "output_type": "stream",
     "text": [
      "Version identifier: 22.1.1.0 | 2022-11-28 | 9160aff4d\n",
      "CPXPARAM_Preprocessing_Presolve                  0\n",
      "CPXPARAM_Read_DataCheck                          1\n",
      "CPXPARAM_MIP_Cuts_Cliques                        -1\n",
      "CPXPARAM_Preprocessing_Symmetry                  0\n",
      "Found incumbent of value 10.000000 after 0.01 sec. (3.08 ticks)\n",
      "Clique table members: 668.\n",
      "MIP emphasis: balance optimality and feasibility.\n",
      "MIP search method: dynamic search.\n",
      "Parallel mode: deterministic, using up to 4 threads.\n",
      "Root relaxation solution time = 0.01 sec. (3.94 ticks)\n",
      "\n",
      "        Nodes                                         Cuts/\n",
      "   Node  Left     Objective  IInf  Best Integer    Best Bound    ItCnt     Gap\n",
      "\n",
      "*     0+    0                           10.0000        0.0000           100.00%\n",
      "*     0+    0                            6.0000        0.0000           100.00%\n",
      "      0     0        2.0000    36        6.0000        2.0000      179   66.67%\n",
      "      0     0        2.0000    36        6.0000      Cuts: 33      235   66.67%\n",
      "      0     0        2.0000    36        6.0000      Cuts: 36      289   66.67%\n",
      "*     0+    0                            5.0000        2.0000            60.00%\n",
      "      0     2        2.0000    36        5.0000        2.0000      289   60.00%\n",
      "Elapsed time = 0.31 sec. (87.49 ticks, tree = 0.02 MB, solutions = 3)\n",
      "    256   170        3.0833    99        5.0000        2.0000    11612   60.00%\n",
      "    942   564        4.0000    30        5.0000        3.0000    39841   40.00%\n",
      "   1683   866        cutoff              5.0000        3.2500    68712   35.00%\n",
      "   2460  1036        cutoff              5.0000        3.6667    98118   26.67%\n",
      "   3102   743        4.0000    24        5.0000        4.0000   128246   20.00%\n",
      "   3693   370        4.0000    45        5.0000        4.0000   161907   20.00%\n",
      "   4370    68        cutoff              5.0000        4.0000   199667   20.00%\n",
      "\n",
      "Zero-half cuts applied:  34\n",
      "Lift and project cuts applied:  1\n",
      "Gomory fractional cuts applied:  3\n",
      "\n",
      "Root node processing (before b&c):\n",
      "  Real time             =    0.31 sec. (87.15 ticks)\n",
      "Parallel b&c, 4 threads:\n",
      "  Real time             =    3.35 sec. (1715.34 ticks)\n",
      "  Sync time (average)   =    0.41 sec.\n",
      "  Wait time (average)   =    0.00 sec.\n",
      "                          ------------\n",
      "Total (root+branch&cut) =    3.66 sec. (1802.49 ticks)\n"
     ]
    },
    {
     "data": {
      "text/plain": [
       "docplex.mp.solution.SolveSolution(obj=5,values={x_0_8:1,x_1_8:1,x_2_8:1,.."
      ]
     },
     "execution_count": 84,
     "metadata": {},
     "output_type": "execute_result"
    }
   ],
   "source": [
    "apagar_artilleria(modelo_col)\n",
    "resolver(modelo_col)"
   ]
  },
  {
   "cell_type": "markdown",
   "id": "0a502db2",
   "metadata": {},
   "source": [
    "Ahora resolvamos CLI."
   ]
  },
  {
   "cell_type": "code",
   "execution_count": 85,
   "id": "594866d4",
   "metadata": {},
   "outputs": [
    {
     "name": "stdout",
     "output_type": "stream",
     "text": [
      "Version identifier: 22.1.1.0 | 2022-11-28 | 9160aff4d\n",
      "CPXPARAM_Preprocessing_Presolve                  0\n",
      "CPXPARAM_Read_DataCheck                          1\n",
      "CPXPARAM_MIP_Cuts_Cliques                        -1\n",
      "CPXPARAM_Preprocessing_Symmetry                  0\n",
      "Found incumbent of value 10.000000 after 0.01 sec. (3.03 ticks)\n",
      "Clique table members: 998.\n",
      "MIP emphasis: balance optimality and feasibility.\n",
      "MIP search method: dynamic search.\n",
      "Parallel mode: deterministic, using up to 4 threads.\n",
      "Root relaxation solution time = 0.07 sec. (42.10 ticks)\n",
      "\n",
      "        Nodes                                         Cuts/\n",
      "   Node  Left     Objective  IInf  Best Integer    Best Bound    ItCnt     Gap\n",
      "\n",
      "*     0+    0                           10.0000        0.0000           100.00%\n",
      "*     0+    0                            6.0000        0.0000           100.00%\n",
      "*     0+    0                            5.0000        0.0000           100.00%\n",
      "      0     0        4.0000    42        5.0000        4.0000     1336   20.00%\n",
      "      0     0        4.0000    39        5.0000   ZeroHalf: 4     1464   20.00%\n",
      "      0     0        4.0000    82        5.0000      Cuts: 29     1616   20.00%\n",
      "      0     0        4.0000    68        5.0000   ZeroHalf: 3     1731   20.00%\n",
      "      0     0        4.0000    80        5.0000  ZeroHalf: 24     1816   20.00%\n",
      "      0     0        cutoff              5.0000        5.0000     1816    0.00%\n",
      "Elapsed time = 0.47 sec. (233.13 ticks, tree = 0.01 MB, solutions = 3)\n",
      "\n",
      "Zero-half cuts applied:  14\n",
      "Gomory fractional cuts applied:  2\n",
      "\n",
      "Root node processing (before b&c):\n",
      "  Real time             =    0.48 sec. (233.15 ticks)\n",
      "Parallel b&c, 4 threads:\n",
      "  Real time             =    0.00 sec. (0.00 ticks)\n",
      "  Sync time (average)   =    0.00 sec.\n",
      "  Wait time (average)   =    0.00 sec.\n",
      "                          ------------\n",
      "Total (root+branch&cut) =    0.48 sec. (233.15 ticks)\n"
     ]
    },
    {
     "data": {
      "text/plain": [
       "docplex.mp.solution.SolveSolution(obj=5,values={x_0_5:1,x_1_0:1,x_2_5:1,.."
      ]
     },
     "execution_count": 85,
     "metadata": {},
     "output_type": "execute_result"
    }
   ],
   "source": [
    "apagar_artilleria(modelo_cli)\n",
    "resolver(modelo_cli)"
   ]
  },
  {
   "cell_type": "markdown",
   "id": "f85a8c43",
   "metadata": {},
   "source": [
    "Comparemos los resultados."
   ]
  },
  {
   "cell_type": "code",
   "execution_count": 86,
   "id": "e54b032e",
   "metadata": {},
   "outputs": [
    {
     "name": "stdout",
     "output_type": "stream",
     "text": [
      "col :\n",
      "\tNúmero de restricciones:  668\n",
      "\tTiempo:  3.6736979484558105  s\n",
      "\tValor objetivo:  5.0\n",
      "\tNúmero de nodos:  4452\n",
      "cli :\n",
      "\tNúmero de restricciones:  998\n",
      "\tTiempo:  0.4926259517669678  s\n",
      "\tValor objetivo:  5.0\n",
      "\tNúmero de nodos:  0\n"
     ]
    }
   ],
   "source": [
    "imprimir_resumen(modelo_col)\n",
    "imprimir_resumen(modelo_cli)"
   ]
  },
  {
   "cell_type": "markdown",
   "id": "f710cf20-2aa4-456d-a0b5-19c36b4699d8",
   "metadata": {},
   "source": [
    "El siguiente análisis dependerá de los números que cada uno/a haya obtenido en su computadora (espero que las tendencias sean las mismas, de lo contrario probar con una semilla diferente al generar el grafo $G$). \n",
    "\n",
    "En mi caso, ....\n",
    "\n",
    "A pesar de que en cada nodo del árbol de branch-and-cut las relajaciones de CLI son más pesadas (pues tienen más restricciones y el simplex requiere de más iteraciones), las cotas duales son más ajustadas y se pueden podar mayor cantidad de nodos, lo que compensa el tiempo extra que se necesita para resolver cada nodo."
   ]
  },
  {
   "cell_type": "markdown",
   "id": "dc6b1473-3777-45f8-b125-5959854b8b7f",
   "metadata": {},
   "source": [
    "### Actividad 2\n",
    "\n",
    "Supongamos que, en la formulación original, reemplazamos las restricciones $(COL.2)$ por las siguientes, denominadas \"de vecindad\":\n",
    "$$ f(v) x_{vk} + \\sum_{u \\in N(v)} x_{uk} \\leq f(v),~~ \\forall~v \\in V,~k \\in \\mathcal C $$\n",
    "donde $f(v)$ es el grado del vértice $v$ (por ahora 😉).\n",
    "Esta desigualdad es válida porque resulta de sumar todas las $(COL.2)$ que comparten un mismo vértice, en este caso $v$.\n",
    "Siendo que estas restricciones son en total $|V|.|\\mathcal C|$ mientras que las $(COL.2)$ contabilizan $|E|.|\\mathcal C|$, ¿será que esta disminución compensa la calidad de la relajación lineal?\n",
    "- Compare el valor óptima de la relajación lineal de ambas formulaciones en algunas instancias aleatorias.\n",
    "- (Opcional) Si $f(v)$ fuese menor, la desigualdad ajustaría más. Piense qué valor podría asignarle a $f(v)$ para lograrlo, en el caso de la rueda de grado $n$, para cualquier $n \\geq 4$ (tenemos dos casos: el \"interesante\" cuando $v$ es el vértice central, y el otro cuando $v$ es el pendiente). Ahora intente generalizar ese concepto."
   ]
  },
  {
   "cell_type": "code",
   "execution_count": 88,
   "id": "13c04667",
   "metadata": {},
   "outputs": [
    {
     "ename": "ZeroDivisionError",
     "evalue": "float division by zero",
     "output_type": "error",
     "traceback": [
      "\u001b[0;31m---------------------------------------------------------------------------\u001b[0m",
      "\u001b[0;31mZeroDivisionError\u001b[0m                         Traceback (most recent call last)",
      "\u001b[0;32m/tmp/ipykernel_5762/993280463.py\u001b[0m in \u001b[0;36m<module>\u001b[0;34m\u001b[0m\n\u001b[1;32m      1\u001b[0m print(\"Promedio de tiempo por nodo: \", \n\u001b[1;32m      2\u001b[0m       \u001b[0mmodelo_col\u001b[0m\u001b[0;34m.\u001b[0m\u001b[0msolve_details\u001b[0m\u001b[0;34m.\u001b[0m\u001b[0mtime\u001b[0m \u001b[0;34m/\u001b[0m \u001b[0mmodelo_col\u001b[0m\u001b[0;34m.\u001b[0m\u001b[0msolve_details\u001b[0m\u001b[0;34m.\u001b[0m\u001b[0mnb_nodes_processed\u001b[0m\u001b[0;34m,\u001b[0m \u001b[0;34m\"s (COL), \"\u001b[0m\u001b[0;34m,\u001b[0m\u001b[0;34m\u001b[0m\u001b[0;34m\u001b[0m\u001b[0m\n\u001b[0;32m----> 3\u001b[0;31m       modelo_cli.solve_details.time / modelo_cli.solve_details.nb_nodes_processed, \"s (CLI)\")\n\u001b[0m",
      "\u001b[0;31mZeroDivisionError\u001b[0m: float division by zero"
     ]
    }
   ],
   "source": [
    "print(\"Promedio de tiempo por nodo: \", \n",
    "      modelo_col.solve_details.time / modelo_col.solve_details.nb_nodes_processed, \"s (COL), \", \n",
    "      modelo_cli.solve_details.time / modelo_cli.solve_details.nb_nodes_processed, \"s (CLI)\")"
   ]
  },
  {
   "cell_type": "markdown",
   "id": "ed50bea6",
   "metadata": {},
   "source": [
    "### Cubrimiento de aristas con subgrafos completos"
   ]
  },
  {
   "cell_type": "markdown",
   "id": "1ffffad0",
   "metadata": {},
   "source": [
    "Por supuesto, en instancias grandes no es esperable que se puedan agregar a la formulación todas las desigualdades válidas asociadas a cliques máximales (pues su número crece exponencialmente con el tamaño del grafo). Una alternativa es no agregarlas a todas, sino solo algunas de ellas. Por ejemplo, pada cada arista del grafo, podemos maximalizar de forma greedy la clique formada por sus extremos. Es decir, generar un cubrimiento de las aristas del grafo con subgrafos completos. Como resultado, obtenemos la siguiente formulación, que es más ajustada que COL, pero menos ajustada que CLI. \n",
    "\n",
    "\\begin{align*}\n",
    "\\text{Minimizar:} & \\sum_{k \\in \\mathcal C}w_k \\tag{CUB} \\\\\n",
    "\\text{Sujeto a:} & \\sum_{k \\in \\mathcal C} x_{vk} = 1 & \\forall~v \\in V. \\tag{1}\\\\\n",
    "& x_{vk} + x_{uk} \\leq w_k & \\forall~vu \\in E,~  k \\in \\mathcal C. \\tag{2} \\\\\n",
    "& \\sum_{v \\in Q} x_{vk} \\leq w_k & \\forall~Q \\in \\mathcal Q',~  k \\in \\mathcal C. \\tag{3} \\\\\n",
    "& w_k \\in \\{0,1\\} & \\forall~k \\in \\mathcal C.\\\\\n",
    "& x_{vk} \\in \\{0,1\\} & \\forall~v \\in V,~k \\in \\mathcal C.\n",
    "\\end{align*}"
   ]
  },
  {
   "cell_type": "code",
   "execution_count": 91,
   "id": "1f4d37bc",
   "metadata": {},
   "outputs": [],
   "source": [
    "## Función del notebook 2\n",
    "\n",
    "def maximalizar_clique(G, C):\n",
    "    M = list(C) # Copiar la lista C\n",
    "    for v in G:\n",
    "        if v in M:\n",
    "            continue\n",
    "        ok = True\n",
    "        for u in M:\n",
    "            if not G.has_edge(u,v):\n",
    "                ok = False\n",
    "        if ok:\n",
    "            M.append(v)\n",
    "    return M"
   ]
  },
  {
   "cell_type": "code",
   "execution_count": 92,
   "id": "aee2d092",
   "metadata": {},
   "outputs": [],
   "source": [
    "def cubrir(G):\n",
    "    cubrimiento = []\n",
    "    esta_cubierta = {e: False for e in G.edges()}\n",
    "    for e in G.edges():\n",
    "        if esta_cubierta[e]:\n",
    "            continue\n",
    "        H = nx.edge_subgraph(G, [e2 for e2 in esta_cubierta if not esta_cubierta[e2]])\n",
    "        clique = maximalizar_clique(H , e)\n",
    "        clique = maximalizar_clique(G, clique)\n",
    "        for i, u in enumerate(clique):\n",
    "            for j, v in enumerate(clique):\n",
    "                if i < j:\n",
    "                    esta_cubierta[(u,v)] = True\n",
    "        cubrimiento.append(clique)\n",
    "    return cubrimiento"
   ]
  },
  {
   "cell_type": "code",
   "execution_count": 93,
   "id": "8ade1542",
   "metadata": {},
   "outputs": [],
   "source": [
    "def construir_modelo_cub(G, C):\n",
    "    modelo = construir_modelo_col(G, C)\n",
    "    modelo.name = \"cub\"\n",
    "    X, W = recuperar_variables(G, C, modelo)\n",
    "    for Q in cubrir(G):\n",
    "        for k in C:\n",
    "            modelo.add_constraint(modelo.sum(X[v][k] for v in Q) <= W[k])\n",
    "    return modelo"
   ]
  },
  {
   "cell_type": "markdown",
   "id": "471cb04d",
   "metadata": {},
   "source": [
    "Hagamos algunos experimentos para evaluar la performance de ambas formulaciones (CLI y CUB). Tomaremos un grafo un poco más grande..."
   ]
  },
  {
   "cell_type": "code",
   "execution_count": 121,
   "id": "7c4115af",
   "metadata": {},
   "outputs": [],
   "source": [
    "G = nx.erdos_renyi_graph(35, 0.5, 0)\n",
    "C = range(max_grado(G)+1)\n",
    "modelo_cli = construir_modelo_cli(G, C)\n",
    "modelo_cub = construir_modelo_cub(G, C)"
   ]
  },
  {
   "cell_type": "markdown",
   "id": "8ed78a48",
   "metadata": {},
   "source": [
    "Primero analicemos las relajaciones lineales."
   ]
  },
  {
   "cell_type": "code",
   "execution_count": 122,
   "id": "257ed409",
   "metadata": {},
   "outputs": [
    {
     "name": "stdout",
     "output_type": "stream",
     "text": [
      "Version identifier: 22.1.1.0 | 2022-11-28 | 9160aff4d\n",
      "CPXPARAM_Read_DataCheck                          1\n",
      "Parallel mode: deterministic, using up to 4 threads for concurrent optimization:\n",
      " * Starting dual Simplex on 1 thread...\n",
      " * Starting Barrier on 3 threads...\n",
      "Tried aggregator 1 time.\n",
      "Reduced LP has 13835 rows, 828 columns, and 59869 nonzeros.\n",
      "Presolve time = 0.04 sec. (12.97 ticks)\n",
      "Symmetry aggregator did 13992 additional substitutions.\n",
      "Initializing dual steep norms . . .\n",
      "\n",
      "Iteration log . . .\n",
      "Iteration:     1   Dual objective     =             4.000000\n",
      "\n",
      "Dual crossover.\n",
      "  Dual:  Fixed no variables.\n",
      "  Primal:  Fixing 748 variables.\n",
      "      747 PMoves:  Infeasibility  0.00000000e+00  Objective  7.00000000e+00\n",
      "      515 PMoves:  Infeasibility  2.95596880e-15  Objective  7.00000000e+00\n",
      "      291 PMoves:  Infeasibility  1.81243909e-14  Objective  7.00000000e+00\n",
      "      110 PMoves:  Infeasibility  3.85802501e-15  Objective  7.00000000e+00\n",
      "        0 PMoves:  Infeasibility  2.45108225e-11  Objective  7.00000000e+00\n",
      "  Primal:  Pushed 160, exchanged 588.\n",
      "\n",
      "Dual simplex solved model.\n",
      "\n"
     ]
    },
    {
     "data": {
      "text/plain": [
       "docplex.mp.solution.SolveSolution(obj=7,values={x_0_0:0.12381,x_0_2:0.02.."
      ]
     },
     "execution_count": 122,
     "metadata": {},
     "output_type": "execute_result"
    }
   ],
   "source": [
    "relajacion_cli = relajacion_lineal(modelo_cli)\n",
    "resolver(relajacion_cli)"
   ]
  },
  {
   "cell_type": "code",
   "execution_count": 123,
   "id": "bdd13d88",
   "metadata": {},
   "outputs": [
    {
     "name": "stdout",
     "output_type": "stream",
     "text": [
      "Version identifier: 22.1.1.0 | 2022-11-28 | 9160aff4d\n",
      "CPXPARAM_Read_DataCheck                          1\n",
      "Parallel mode: deterministic, using up to 4 threads for concurrent optimization:\n",
      " * Starting dual Simplex on 1 thread...\n",
      " * Starting Barrier on 3 threads...\n",
      "Tried aggregator 1 time.\n",
      "LP Presolve eliminated 230 rows and 0 columns.\n",
      "Reduced LP has 8959 rows, 828 columns, and 32982 nonzeros.\n",
      "Presolve time = 0.05 sec. (8.15 ticks)\n",
      "Symmetry aggregator did 9328 additional substitutions.\n",
      "Initializing dual steep norms . . .\n",
      "\n",
      "Iteration log . . .\n",
      "Iteration:     1   Dual objective     =             2.000000\n",
      "\n",
      "Dual crossover.\n",
      "  Dual:  Fixed no variables.\n",
      "  Primal:  Fixing 770 variables.\n",
      "      769 PMoves:  Infeasibility  0.00000000e+00  Objective  7.00000000e+00\n",
      "      463 PMoves:  Infeasibility  0.00000000e+00  Objective  7.00000000e+00\n",
      "      246 PMoves:  Infeasibility  1.44328993e-15  Objective  7.00000000e+00\n",
      "       98 PMoves:  Infeasibility  3.60822483e-16  Objective  7.00000000e+00\n",
      "        0 PMoves:  Infeasibility  3.95538811e-13  Objective  7.00000000e+00\n",
      "  Primal:  Pushed 216, exchanged 554.\n",
      "\n",
      "Dual simplex solved model.\n",
      "\n"
     ]
    },
    {
     "data": {
      "text/plain": [
       "docplex.mp.solution.SolveSolution(obj=7,values={x_0_0:0.103817,x_0_1:0.0.."
      ]
     },
     "execution_count": 123,
     "metadata": {},
     "output_type": "execute_result"
    }
   ],
   "source": [
    "relajacion_cub = relajacion_lineal(modelo_cub)\n",
    "resolver(relajacion_cub)"
   ]
  },
  {
   "cell_type": "markdown",
   "id": "b969509e",
   "metadata": {},
   "source": [
    "Comparemos los resultados."
   ]
  },
  {
   "cell_type": "code",
   "execution_count": 124,
   "id": "d342961c",
   "metadata": {},
   "outputs": [
    {
     "name": "stdout",
     "output_type": "stream",
     "text": [
      "lp_cli :\n",
      "\tNúmero de restricciones:  13835\n",
      "\tTiempo:  0.40853190422058105  s\n",
      "\tValor objetivo:  7.0\n",
      "\tNúmero de nodos:  0\n",
      "lp_cub :\n",
      "\tNúmero de restricciones:  9189\n",
      "\tTiempo:  0.29478883743286133  s\n",
      "\tValor objetivo:  7.0\n",
      "\tNúmero de nodos:  0\n"
     ]
    }
   ],
   "source": [
    "imprimir_resumen(relajacion_cli)\n",
    "imprimir_resumen(relajacion_cub)"
   ]
  },
  {
   "cell_type": "markdown",
   "id": "d86b8031",
   "metadata": {},
   "source": [
    "Ahora si, veamos la performance del branch-and-cut."
   ]
  },
  {
   "cell_type": "code",
   "execution_count": 125,
   "id": "862edca0",
   "metadata": {},
   "outputs": [
    {
     "name": "stdout",
     "output_type": "stream",
     "text": [
      "Version identifier: 22.1.1.0 | 2022-11-28 | 9160aff4d\n",
      "CPXPARAM_Preprocessing_Presolve                  0\n",
      "CPXPARAM_Read_DataCheck                          1\n",
      "CPXPARAM_MIP_Cuts_Cliques                        -1\n",
      "CPXPARAM_Preprocessing_Symmetry                  0\n",
      "Found incumbent of value 23.000000 after 0.08 sec. (64.37 ticks)\n",
      "Clique table members: 13835.\n",
      "MIP emphasis: balance optimality and feasibility.\n",
      "MIP search method: dynamic search.\n",
      "Parallel mode: deterministic, using up to 4 threads.\n",
      "Root relaxation solution time = 0.58 sec. (200.52 ticks)\n",
      "\n",
      "        Nodes                                         Cuts/\n",
      "   Node  Left     Objective  IInf  Best Integer    Best Bound    ItCnt     Gap\n",
      "\n",
      "*     0+    0                           23.0000        0.0000           100.00%\n",
      "*     0+    0                           22.0000        0.0000           100.00%\n",
      "*     0+    0                           21.0000        0.0000           100.00%\n",
      "*     0+    0                           10.0000        0.0000           100.00%\n",
      "*     0+    0                            7.0000        0.0000           100.00%\n",
      "      0     0        cutoff              7.0000        7.0000        1    0.00%\n",
      "      0     0        cutoff              7.0000        7.0000        1    0.00%\n",
      "Elapsed time = 0.74 sec. (277.26 ticks, tree = 0.01 MB, solutions = 5)\n",
      "\n",
      "Root node processing (before b&c):\n",
      "  Real time             =    0.74 sec. (277.29 ticks)\n",
      "Parallel b&c, 4 threads:\n",
      "  Real time             =    0.00 sec. (0.00 ticks)\n",
      "  Sync time (average)   =    0.00 sec.\n",
      "  Wait time (average)   =    0.00 sec.\n",
      "                          ------------\n",
      "Total (root+branch&cut) =    0.74 sec. (277.29 ticks)\n"
     ]
    },
    {
     "data": {
      "text/plain": [
       "docplex.mp.solution.SolveSolution(obj=7,values={x_0_3:1,x_1_14:1,x_2_14:.."
      ]
     },
     "execution_count": 125,
     "metadata": {},
     "output_type": "execute_result"
    }
   ],
   "source": [
    "apagar_artilleria(modelo_cli)\n",
    "resolver(modelo_cli)"
   ]
  },
  {
   "cell_type": "code",
   "execution_count": 126,
   "id": "5e4c5988",
   "metadata": {},
   "outputs": [
    {
     "name": "stdout",
     "output_type": "stream",
     "text": [
      "Version identifier: 22.1.1.0 | 2022-11-28 | 9160aff4d\n",
      "CPXPARAM_Preprocessing_Presolve                  0\n",
      "CPXPARAM_Read_DataCheck                          1\n",
      "CPXPARAM_MIP_Cuts_Cliques                        -1\n",
      "CPXPARAM_Preprocessing_Symmetry                  0\n",
      "Found incumbent of value 23.000000 after 0.08 sec. (42.23 ticks)\n",
      "Clique table members: 9189.\n",
      "MIP emphasis: balance optimality and feasibility.\n",
      "MIP search method: dynamic search.\n",
      "Parallel mode: deterministic, using up to 4 threads.\n",
      "Root relaxation solution time = 0.37 sec. (166.51 ticks)\n",
      "\n",
      "        Nodes                                         Cuts/\n",
      "   Node  Left     Objective  IInf  Best Integer    Best Bound    ItCnt     Gap\n",
      "\n",
      "*     0+    0                           23.0000        0.0000           100.00%\n",
      "*     0+    0                           19.0000        0.0000           100.00%\n",
      "*     0+    0                           10.0000        0.0000           100.00%\n",
      "*     0+    0                            8.0000        0.0000           100.00%\n",
      "      0     0        7.0000   445        8.0000        7.0000        1   12.50%\n",
      "*     0+    0                            7.0000        7.0000             0.00%\n",
      "      0     0        cutoff              7.0000        7.0000        1    0.00%\n",
      "Elapsed time = 13.04 sec. (5056.13 ticks, tree = 0.01 MB, solutions = 5)\n",
      "\n",
      "Root node processing (before b&c):\n",
      "  Real time             =   13.05 sec. (5056.17 ticks)\n",
      "Parallel b&c, 4 threads:\n",
      "  Real time             =    0.00 sec. (0.00 ticks)\n",
      "  Sync time (average)   =    0.00 sec.\n",
      "  Wait time (average)   =    0.00 sec.\n",
      "                          ------------\n",
      "Total (root+branch&cut) =   13.05 sec. (5056.17 ticks)\n"
     ]
    },
    {
     "data": {
      "text/plain": [
       "docplex.mp.solution.SolveSolution(obj=7,values={x_0_11:1,x_1_8:1,x_2_8:1.."
      ]
     },
     "execution_count": 126,
     "metadata": {},
     "output_type": "execute_result"
    }
   ],
   "source": [
    "apagar_artilleria(modelo_cub)\n",
    "resolver(modelo_cub)"
   ]
  },
  {
   "cell_type": "markdown",
   "id": "d7c40506",
   "metadata": {},
   "source": [
    "Veamos un resumen de los resultados."
   ]
  },
  {
   "cell_type": "code",
   "execution_count": 127,
   "id": "f16a0d92",
   "metadata": {},
   "outputs": [
    {
     "name": "stdout",
     "output_type": "stream",
     "text": [
      "lp_cli :\n",
      "\tNúmero de restricciones:  13835\n",
      "\tTiempo:  0.40853190422058105  s\n",
      "\tValor objetivo:  7.0\n",
      "\tNúmero de nodos:  0\n",
      "lp_cub :\n",
      "\tNúmero de restricciones:  9189\n",
      "\tTiempo:  0.29478883743286133  s\n",
      "\tValor objetivo:  7.0\n",
      "\tNúmero de nodos:  0\n"
     ]
    }
   ],
   "source": [
    "imprimir_resumen(relajacion_cli)\n",
    "imprimir_resumen(relajacion_cub)"
   ]
  },
  {
   "cell_type": "markdown",
   "id": "547f02d0",
   "metadata": {},
   "source": [
    "### Desigualdades válidas bajo demanda"
   ]
  },
  {
   "cell_type": "code",
   "execution_count": null,
   "id": "4a3e2f3e",
   "metadata": {},
   "outputs": [],
   "source": [
    "def construir_modelo_pool(G, C):\n",
    "    modelo = construir_modelo_col(G, C)\n",
    "    X, W = recuperar_variables(G, C, modelo)\n",
    "    for Q in nx.find_cliques(G):\n",
    "        for k in C:\n",
    "            modelo.add_user_cut_constraint(modelo.sum(X[v][k] for v in Q) <= W[k])\n",
    "    return modelo"
   ]
  },
  {
   "cell_type": "code",
   "execution_count": null,
   "id": "26e76e9b",
   "metadata": {},
   "outputs": [],
   "source": [
    "modelo_pool = construir_modelo_pool(G, C)\n",
    "modelo_pool.parameters.preprocessing.presolve = 0\n",
    "resolver(modelo_pool)"
   ]
  },
  {
   "cell_type": "markdown",
   "id": "ee4b5c4a",
   "metadata": {},
   "source": [
    "### Rankear experimentalmente desigualdades válidas\n",
    "\n",
    "Tenemos una desigualdad válida y queremos ver si corta soluciones fraccionarias. Por ejemplo, podría pasar que esté implicada, es decir, que se obtenga a partir de desigualdades del modelo. Maximizar el lado izquierdo de la desigualdad."
   ]
  },
  {
   "cell_type": "code",
   "execution_count": null,
   "id": "921137e7",
   "metadata": {},
   "outputs": [],
   "source": [
    "relajacion2 = relajacion_lineal(modelo)\n",
    "x_0_0 = relajacion2.get_var_by_name(\"x_0_0\")\n",
    "x_1_0 = relajacion2.get_var_by_name(\"x_1_0\")\n",
    "x_2_0 = relajacion2.get_var_by_name(\"x_2_0\")\n",
    "relajacion2.maximize(x_0_0 + x_1_0 + x_2_0)\n",
    "sol = resolver(relajacion2)\n",
    "print(relajacion2.objective_value)"
   ]
  },
  {
   "cell_type": "code",
   "execution_count": null,
   "id": "be7a5ad9",
   "metadata": {},
   "outputs": [],
   "source": [
    "relajacion2.find_matching_vars(\"x_\")"
   ]
  },
  {
   "cell_type": "markdown",
   "id": "641f6482-8819-4a7c-8448-57a9596a847a",
   "metadata": {},
   "source": [
    "## Eliminación de soluciones simétricas\n",
    "\n",
    "Otra forma de reducir el tiempo de optimización es reducir el espacio de búsqueda, durante la exploración de nodos del árbol B&B.\n",
    "Decimos que un conjunto de soluciones $s_1$, $s_2$, ..., $s_n$ son simétricas si tienen el mismo valor objetivo. Observemos que podemos eliminar $s_2$, ..., $s_n$ sin afectar el resultado de la optimización. En el caso del problema de coloreo, esto equivale a eliminar soluciones con misma cantidad de colores.\n",
    "\n",
    "Para eliminarlas, incorporamos nuevas restricciones a la formulación. Por ejemplo, en COL habíamos incorporado $(COL.3)$ para eliminar ciertas soluciones innecesarias. \n",
    "\n",
    "Ahora vamos a considerar distintas familias de desigualdades que eliminan soluciones simétricas, propuestas por Méndez-Díaz, Zavala etc:\n",
    "- Orden en la cantidad de colores: ... $w_k \\geq w_{k+1}$\n",
    "- Orden en los cardinales de los colores: ...\n",
    "- Eliminación de indistinguibles: (esta no es compatible con el orden en los cardinales)\n",
    "\n",
    "(haría directamente una actividad donde las escriban y prueben ellos)\n"
   ]
  },
  {
   "cell_type": "code",
   "execution_count": null,
   "id": "5465edc1-eafa-4beb-a9ec-6e3c05c85e6b",
   "metadata": {},
   "outputs": [],
   "source": []
  }
 ],
 "metadata": {
  "kernelspec": {
   "display_name": "Python 3 (ipykernel)",
   "language": "python",
   "name": "python3"
  },
  "language_info": {
   "codemirror_mode": {
    "name": "ipython",
    "version": 3
   },
   "file_extension": ".py",
   "mimetype": "text/x-python",
   "name": "python",
   "nbconvert_exporter": "python",
   "pygments_lexer": "ipython3",
   "version": "3.12.4"
  }
 },
 "nbformat": 4,
 "nbformat_minor": 5
}
