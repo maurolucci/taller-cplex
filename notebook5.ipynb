{
 "cells": [
  {
   "cell_type": "markdown",
   "id": "829595d6",
   "metadata": {},
   "source": [
    "# Notæ 5\n",
    "\n",
    "# Automatización de pruebas computacionales\n",
    "\n",
    "En los notebooks anteriores vimos los fundamentos para poder generar grafos con el paquete NetworkX, modelar problemas de optimización en grafos con PLE, escribir estos modelos en Python, resolverlos con CPLEX y visualizar su salida. Sin embargo, todo este proceso fue bastante \"manual\", en el sentido de que tuvimos que \"tocar\" algo del código cada vez que cambiamos el grafo de entrada.\n",
    "\n",
    "El objetivo de este notebook es aprender buenas prácticas para automatizar este proceso. Partiremos de un dataset, es decir, un directorio que contenga un archivo por cada instancia de interés, resolveremos el problema en estudio sobre cada una de ellas y escribiremos las salidas de CPLEX en un archivo. \n",
    "\n",
    "De esta forma, podemos dejar corriendo pruebas durante horas o días, y al finalizar, podemos revisar los archivos generados y analizar las salidas producidas. Más adelante veremos algunas herramientas de Python para recolectar y analizar estadísticamente estos datos."
   ]
  },
  {
   "cell_type": "markdown",
   "id": "81a3b604",
   "metadata": {},
   "source": [
    "En primer lugar, vamos a necesitar todos los generadores de grafos que definimos en el notebook 4. Si bien podríamos copiar todas las definiciones acá, vamos a seguir un enfoque diferente para que el notebook no quede demasiado largo. Ya nos tomamos el trabajo de pasar todas estas definiciones a un archivo <code>generadores.py</code> que lo pueden descargar del siguiente  <a href=\"https://github.com/maurolucci/taller-cplex/blob/main/generadores.py\">link</a>. <b>Guarden este archivo en el mismo directorio donde está este notebook</b> (si siguieron las intrucciones, debería ser en el directorio Taller/). \n",
    "\n",
    "Una vez hecho esto, ya podemos hacer la importación del módulo <code>generadores</code>. En en este caso, optamos por ponerle un nombre abreviado <code>gen</code> (como hicimos con networkx y nx)."
   ]
  },
  {
   "cell_type": "code",
   "execution_count": 1,
   "id": "80a49854",
   "metadata": {},
   "outputs": [],
   "source": [
    "import generadores as gen"
   ]
  },
  {
   "cell_type": "markdown",
   "id": "45cba056",
   "metadata": {},
   "source": [
    "También vamos a necesitar importar algunos módulos de CPLEX, en particular necesitaremos la clase <code>Model</code> del módulo <code>model</code> (como hicimos anteriormente) y agregamos la clase <code>SolveSolution</code> del módulo <code>solution</code> (la necesitaremos para manipular adecuadamente las soluciones)."
   ]
  },
  {
   "cell_type": "code",
   "execution_count": 2,
   "id": "5ed28aa3",
   "metadata": {},
   "outputs": [],
   "source": [
    "from docplex.mp.model import Model\n",
    "from docplex.mp.solution import SolveSolution"
   ]
  },
  {
   "cell_type": "markdown",
   "id": "89b786e2",
   "metadata": {},
   "source": [
    "Y el módulo <code>networkx</code>."
   ]
  },
  {
   "cell_type": "code",
   "execution_count": 3,
   "id": "62188511",
   "metadata": {},
   "outputs": [],
   "source": [
    "import networkx as nx"
   ]
  },
  {
   "cell_type": "markdown",
   "id": "aa02cc2b",
   "metadata": {},
   "source": [
    "## Caso de estudio\n",
    "\n",
    "<b>Definición.</b> Dado un grafo $G=(V,E)$ y dos vectores $k,u \\in \\mathbb{N}_0^V$, una función de $(k,u)$-dominación de $G$ es una función $f: V \\to \\mathbb{N}_0$ tal que, para todo $v \\in V$, $f(v) \\leq u_v$ y $f(N[v]) \\doteq \\sum_{w \\in N[v]}f(w) \\geq k_v$. \n",
    "\n",
    "Vamos a trabajar con el siguente problema.\n",
    "\n",
    "<b>Problema de Dominación Generalizado (PDG)</b>.<br>\n",
    "<b>Entrada.</b> Un grafo $G=(V,E)$ y dos vectores $k,u \\in \\mathbb{N}_0^V$.<br>\n",
    "<b>Objetivo.</b> Encontrar una función $f$ de $(k,u)$-dominación de $G$ con mínimo $f(V) \\doteq \\sum_{v \\in V}f(v)$.\n",
    "\n",
    "Este problema generaliza a muchos problemas de dominación. En particular generaliza a la dominación clásica cuando $u = k = \\boldsymbol{1}$."
   ]
  },
  {
   "cell_type": "markdown",
   "id": "48acb957",
   "metadata": {},
   "source": [
    "Una formulación de PLE intuitiva para este problema es la siguiente.\n",
    "\n",
    "\\begin{align*}\n",
    "\\min & \\sum_{v \\in V} f_v & \\\\\n",
    "s.a.\\ & \\sum_{w \\in N[v]} f_w \\geq k_v & \\forall\\ v \\in V.\\tag{1}\\\\\n",
    "& f_v \\leq u_v & \\forall\\ v \\in V.\\tag{2}\\\\ \n",
    "& f_v \\in \\mathbb{N}_0 & \\forall\\ v \\in V.\\\\\n",
    "\\end{align*}\n",
    "\n",
    "<b>AGREGAR REF A PAPER DE GRACIELA</b>\n",
    "\n",
    "Y en Python podemos escribir una función que construya y resuelva este modelo de la siguiente forma. No nos vamos a detener demasiado porque ya hemos mencionado en notebooks anteriores como hacerlo. Solamente vamos a aclarar los siguientes puntos. \n",
    "* La función toma un argumento por cada entrada de PDG. En particular, los vectores $k$ y $u$ los representamos con listas de Python. \n",
    "* Agregamos un argumento <code>archivo</code> a la función (con un valor <code>None</code> por defecto). Más adelante veremos por qué. Por lo pronto, adelantamos que lo usaremos para que CPLEX escriba el log en ese archivo. En caso de mantener el valor por defecto, no se escribe el log en ningún lado.\n",
    "* Las variables enteras las agregamos con el método <code>integer_var</code> de la clase <code>Model</code>, que toma como argumento una cota inferior para la variable, una cota superior y el nombre de la variable. Estas cotas hacen que las restricciones (2) puedan ser deducidas por CPLEX y no necesiten ser agregadas al modelo.\n",
    "* Retornamos directamente el modelo y la solución de CPLEX. Un poco más adelante aprenderemos a manipularlos adecuadamente."
   ]
  },
  {
   "cell_type": "code",
   "execution_count": 4,
   "id": "23950fd1",
   "metadata": {},
   "outputs": [],
   "source": [
    "def resolver_PDG(G, k, u, archivo=None):\n",
    "    \"\"\"Construye y resuelve el modelo de PLE para el PDG.\"\"\"\n",
    "    \n",
    "    # Inicializamos el modelo \n",
    "    modelo = Model(name='dom-gen') \n",
    "    \n",
    "    # Variables\n",
    "    F = [modelo.integer_var(0, u[v], 'f_' + str(v)) for v in G]\n",
    "    \n",
    "    # Funcion objetivo\n",
    "    modelo.minimize(modelo.sum(F[v] for v in G))\n",
    "    \n",
    "    # Restricciones (1)\n",
    "    # Recordar que G.neighbors(v) es la vecindad abierta de v\n",
    "    for v in G:\n",
    "        modelo.add_constraint(F[v] + modelo.sum(F[w] for w in G.neighbors(v)) >= k[v])\n",
    "\n",
    "    # Resolvemos el modelo\n",
    "    sol = modelo.solve(log_output=archivo)\n",
    " \n",
    "    # Retornamos la solucion\n",
    "    return modelo, sol"
   ]
  },
  {
   "cell_type": "markdown",
   "id": "f479da35",
   "metadata": {},
   "source": [
    "## Dataset\n",
    "\n",
    "En esta sección nos ocuparemos de armar nuestro dataset para el PDG. La pregunta que tenemos que responder es: ¿cuáles instancias nos interesa resolver? Por supuesto que la respuesta depende de lo que estemos estudiando. \n",
    "\n",
    "Por ejemplo, dado que el PDG es difícil en bipartitos y split, nos podría interesar estudiar la performance del modelo sobre estas clases. Por este motivo, vamos a definir dos nuevos generadores de grafos aleatorios para estas clases.\n",
    "\n",
    "Por supuesto, también tenemos a disposición todos los generadores de grafos de NetworkX y los que definimos en el notebook anterior. A modo de completitud, también incluiremos en nuestro dataset algunos grafos generados con esas funciones.\n",
    "\n",
    "Antes de seguir importamos el módulo <code>random</code>."
   ]
  },
  {
   "cell_type": "code",
   "execution_count": 5,
   "id": "8993af3b",
   "metadata": {},
   "outputs": [],
   "source": [
    "import random"
   ]
  },
  {
   "cell_type": "markdown",
   "id": "d16ea8da",
   "metadata": {},
   "source": [
    "### Grafos bipartitos aleatorios\n",
    "\n",
    "<b>Definición.</b> Un grafo $G=(V,E)$ es bipartito si $V$ se puede particionar en dos conjuntos $A$ y $B$, es decir, $V = A \\cup B$ y $A \\cap B = \\emptyset$, tales que toda arista conecta un vértice de un conjunto con un vértice del otro, es decir, para todos $a_1,a_2 \\in A$ y $b_1,b_2 \\in B$, se tiene $a_1a_2, b_1b_2 \\not\\in E$.\n",
    "\n",
    "La generación de un grafo bipartito aleatorio $G=(A \\cup B, E)$ se puede realizar por medio de los siguientes parámetros:\n",
    "* Un número natural $nA$ que representa el cardinal de $A$ (primer conjunto de la bipartición).\n",
    "* Un número natural $nB$ que representa el cardinal de $B$ (segundo conjunto de la bipartición).\n",
    "* Un número real $p \\in [0,1]$ que representa la probabilidad de que un vértice de $A$ y uno de $B$ sean adyacentes.\n",
    "\n",
    "La idea de la generación es la siguiente. Recorremos cada par de vértices $(a,b)$ con $a \\in A$ y $b \\in B$ y decidimos si agregamos una arista entre $a$ y $b$ de forma aleatoria. Para ello, generamos un número flotante aleatorio en $[0,1]$ con una distribución uniforme mediante la función <code>random</code> del módulo <code>random</code>. Si el número aleatorio generado es menor a $p$ entonces agregamos la arista. El único cuidado que tenemos que tener es no pisar el nombre de los vértices de $A$ con los de $B$. Por este motivo, etiquetamos a los vértices de $A$ como $\\{0,1,\\ldots,nA-1\\}$ y a los de $B$ como $\\{nA,nA+1,\\ldots,nB-1\\}$."
   ]
  },
  {
   "cell_type": "code",
   "execution_count": 6,
   "id": "7691936a",
   "metadata": {},
   "outputs": [],
   "source": [
    "def generar_bipartito_aleatorio(nA,nB,p):\n",
    "    G = nx.Graph()\n",
    "    # Aristas entre A y B\n",
    "    for a in range(nA):\n",
    "        for b in range(nB):\n",
    "            if random.random() < p: # Agregamos arista?\n",
    "                G.add_edge(a, nA+b)\n",
    "    return G"
   ]
  },
  {
   "cell_type": "markdown",
   "id": "9c2cdead",
   "metadata": {},
   "source": [
    "Probamos nuestra función y graficamos el grafo resultante. Aprovechamos que NetworkX nos provee la función <code>bipartite_layout(G, A)</code> que nos computa un lindo layout para los vértices. "
   ]
  },
  {
   "cell_type": "code",
   "execution_count": 7,
   "id": "15877c14",
   "metadata": {},
   "outputs": [
    {
     "data": {
      "image/png": "[encoded data removed]",
      "text/plain": [
       "<Figure size 432x288 with 1 Axes>"
      ]
     },
     "metadata": {},
     "output_type": "display_data"
    }
   ],
   "source": [
    "nA = 5\n",
    "nB = 10\n",
    "p = 0.5\n",
    "G = generar_bipartito_aleatorio(nA, nB, p)\n",
    "nx.draw_networkx(G, pos=nx.bipartite_layout(G, range(nA)))"
   ]
  },
  {
   "cell_type": "markdown",
   "id": "e935e453",
   "metadata": {},
   "source": [
    "### Grafos split aleatorios\n",
    "\n",
    "<b>Definición.</b> Un grafo $G=(V,E)$ es split si $V$ se puede particionar en una clique $K$ y un estable $S$.\n",
    "\n",
    "La generación de un grafo split aleatorio $G=(K \\cup S, E)$ se puede realizar de una forma muy similar a la anterior. Consideraremos los siguientes parámetros:\n",
    "* Un número natural $nK$ que representa el cardinal de $K$ (clique).\n",
    "* Un número natural $nS$ que representa el cardinal de $S$ (estable).\n",
    "* Un número real $p \\in [0,1]$ que representa la probabilidad de que un vértice de $K$ y uno de $S$ sean adyacentes."
   ]
  },
  {
   "cell_type": "markdown",
   "id": "c92ad539",
   "metadata": {},
   "source": [
    "### &#x1f4bb; Actividad 1. \n",
    "\n",
    "Completar la definición de la siguiente función que genera un grafo split aleatorio."
   ]
  },
  {
   "cell_type": "code",
   "execution_count": 8,
   "id": "3a3c773d",
   "metadata": {},
   "outputs": [],
   "source": [
    "### Espacio para completar la Actividad 1\n",
    "\n",
    "def generar_split_aleatorio(nK,nS,p):\n",
    "    G = nx.Graph()\n",
    "    # COMPLETAR\n",
    "    return G"
   ]
  },
  {
   "cell_type": "markdown",
   "id": "39248c0b",
   "metadata": {},
   "source": [
    "### Grafos webs\n",
    "\n",
    "Queremos hacer un comentario repecto a los grafos webs antes de pasar a armar el dataset. Repasemos su definición.\n",
    "\n",
    "<b>Definición.</b> Dados $n,m \\in \\mathbb{N}$ con $n \\leq 2m+1$, el grafo web $W^m_n$ es un grafo donde $V(W^m_n) = \\{v_0,\\ldots,v_{n-1}\\}$ y $v_iv_j \\in E(W^m_n)$ si y solo si $j \\equiv i \\pm l\\ (mod\\ n)$, $l \\in \\{1,\\ldots,m\\}$.\n",
    "\n",
    "También es sabido que $W^m_n$ es isomorfo a $(C_n)^m$, es decir, a la $m$-ésima potencia del ciclo $C_n$. \n",
    "\n",
    "El módulo NetworkX ya nos provee la función <code>power(G, k)</code> que permite calcular la $k$-ésima potencia de un grafo $G$. Por lo tanto la generación de grafos webs es trivial."
   ]
  },
  {
   "cell_type": "code",
   "execution_count": 9,
   "id": "8bd93df9",
   "metadata": {},
   "outputs": [],
   "source": [
    "def generar_web(n,m):\n",
    "    return nx.power(nx.cycle_graph(n),m)"
   ]
  },
  {
   "cell_type": "markdown",
   "id": "e8f50fdc",
   "metadata": {},
   "source": [
    "### Instancias de PDG\n",
    "\n",
    "Una instancia de PDG se compone de tres cosas: un grafo $G$ y dos vectores $k$ y $u$. Para generar a $G$, podemos usar cualquiera de los generadores vistos hasta ahora. Respecto a los vectores, no estamos interesados a priori en ningún valor en particular, por lo tanto vamos a generarlos también de forma aleatoria. Por supuesto, no tiene que ser siempre así, por ejemplo podríamos estar interesados en el caso particular $k = u = \\boldsymbol{1}$ (dominación clásica).\n",
    "\n",
    "Será de utilidad definir una función <code>generar_vector_aleatorio(n,i,f)</code>, que dados tres naturales $n,i,f$ tales que $i \\leq f$, retorne un vector de largo $n$ donde cada componente es un número aleatorio en el conjunto $\\{i,...,f\\}$. En particular, representamos al vector con una lista de Python."
   ]
  },
  {
   "cell_type": "code",
   "execution_count": 10,
   "id": "523201bd",
   "metadata": {},
   "outputs": [],
   "source": [
    "def generar_vector_aleatorio(n,i,f):\n",
    "    return [random.randint(i,f) for _ in range(n)]"
   ]
  },
  {
   "cell_type": "markdown",
   "id": "e7a4c5c1",
   "metadata": {},
   "source": [
    "Ya tenemos todo lo necesario para generar nuestro dataset, que contendrá las siguientes instancias. \n",
    "* Para cada combinación de $n = 150$ y $p \\in \\{0.25,0.5,0.75\\}$, hay una instancia con un grafo de Erdős-Rényi (aleatorio) con parámetros $n$ (número de vértices) y $p$ (probabilidad de arco). \n",
    "Cuando hay azar involucrado, siempre es recomendable generar varios grafos para cada combinación de parámetros. En nuestro caso, generamos 3 grafos diferentes por cada combinación. Luego, para cada $i \\in \\{1,2,3\\}$, llamamos a estas instancias <code>erdos-renyi_n_p_i</code>, es decir, tenemos las siguientes:\n",
    "    * <code>erdos-renyi_150_0.25_1</code>\n",
    "    * <code>erdos-renyi_150_0.25_2</code>\n",
    "    * <code>erdos-renyi_150_0.25_3</code>\n",
    "    * <code>erdos-renyi_150_0.5_1</code>\n",
    "    * <code>erdos-renyi_150_0.5_2</code>\n",
    "    * <code>erdos-renyi_150_0.5_3</code>\n",
    "    * <code>erdos-renyi_150_0.75_1</code>\n",
    "    * <code>erdos-renyi_150_0.75_2</code>\n",
    "    * <code>erdos-renyi_150_0.75_3</code>\n",
    "* Para cada combinación de $nA = 100$, $nB = 50$, $p \\in \\{0.25,0.5,0.75\\}$ e $i \\in \\{1,2,3\\}$, hay una instancia con un grafo bipartito aleatorio con parámetros $nA, nB, p$, de nombre <code>bipartito_aleatorio_nA_nB_p_i</code>.\n",
    "* Para cada combinación de $nK = nS = 100$, $p \\in \\{0.25,0.5,0.75\\}$ e $i \\in \\{1,2,3\\}$, hay una instancia con un grafo split aleatorio con parámetros $nk,nS,p$, de nombre <code>bipartito_aleatorio_nK_nS_p_i</code>. \n",
    "* Para cada combinación de $n = 200$, $i = 2$, $f = \\{0.5,1,2\\}$ y $j \\in \\{1,2,3\\}$, hay una instancia con un grafo arco circular aleatorio con parámetros $n,i,f$, de nombre <code>arco_cicular_aleatorio_n_i_f_j</code>.\n",
    "* Para cada combinación de $n = 200$ y $m = \\{5,10,15,20\\}$, hay una instancia con un grafo web con parámetros $n,m$, de nombre <code>web_n_m</code>. Dado que no hay aleatoriedad en su generación, basta con generar una instancia por cada combinación de parámetros.\n",
    "\n",
    "En todos los casos, $k$ será un vector con números naturales aleatorios en el conjunto $\\{1,2,3\\}$ y $u$ será un vector con números naturales aleatorios en el conjunto $\\{0,1,2,3,4,5\\}$."
   ]
  },
  {
   "cell_type": "markdown",
   "id": "a8e40f4b",
   "metadata": {},
   "source": [
    "### Leer y escribir instancias\n",
    "\n",
    "Generalmente, es útil guardar (escribir) las instancias en archivos luego de generarlas, y esto se vuelve imprescindible cuando hay azar involucrado en la generación. Sino lo hacemos, nos será casi imposible volver a generar exactamente la misma instancia (por la aleatoriedad de la generación). Al guardar las instancias en un archivo, podemos repetir las pruebas computacionales tantas veces como querramos sobre las mismas entradas. Obviamente, también debemos ser capaces de poder leer esos archivos y recuperar las instancias.\n",
    "\n",
    "Para cada instancia, por ejemplo <code>erdos-renyi_150_0.25_1</code>, vamos a guardar tres archivos:\n",
    "* <code>erdos-renyi_150_0.25_1.graph</code> guardará el grafo $G$.\n",
    "* <code>erdos-renyi_150_0.25_1.list.k</code> guardará el vector $k$.\n",
    "* <code>erdos-renyi_150_0.25_1.list.u</code> guardará el vector $u$.\n",
    "\n",
    "Todos estos archivos los guardaremos en un directorio de nombre <code>dataset/</code> dentro del directorio <code>Taller/</code>. \n",
    "\n",
    "Podemos crear este directorio directamente desde Python. Una forma de hacerlo es importar el módulo <code>os</code>. Este módulo nos provee la función <code>mkdir</code> para crear un directorio. Si bien podemos llamar directamente a esta función, nos gustaría evitar que se ejecute si el directorio ya existía (por ejemplo, si volvemos a ejecutar la celda). Para eso usamos la estructura de control <code>try/except</code> de Python. De esta forma, Python intentará crear el directorio y si ocurre una excepción (error), entonces no se interrumpirá la ejecución, sino que seguirá ejecutando el bloque except (en este caso, con un <code>pass</code> que es una sentencia vacía, es decir, Python no hará nada)."
   ]
  },
  {
   "cell_type": "code",
   "execution_count": 11,
   "id": "292466ff",
   "metadata": {},
   "outputs": [],
   "source": [
    "import os\n",
    "\n",
    "try:\n",
    "    os.mkdir(\"dataset\")\n",
    "except:\n",
    "    pass"
   ]
  },
  {
   "cell_type": "markdown",
   "id": "81a1e1ea",
   "metadata": {},
   "source": [
    "Guardar el grafo en un archivo es relativamente fácil debido a las funciones que nos provee NetworkX. En particular, vamos a usar la función <code>write_graph6(G,ruta)</code>, que toma un grafo y la ruta de un archivo (por ejemplo, <code>dataset/erdos-renyi_150_0.25_1.graph</code>) y escribe el grafo en ese archivo (creando el archivo si no existía y sobreescribiéndolo si ya existía). El grafo se guarda con un formato llamado <a href=\"https://users.cecs.anu.edu.au/~bdm/data/formats.html\">graph6 y sparse6</a>, que comprime el grafo para reducir el peso del archivo.\n",
    "\n",
    "Nos falta entonces escribir los vectores en archivos. Para esto usaremos un truco de Python. Observar que podemos convertir una lista en texto (cadena de caracteres) con la función <code>str</code> de Python:"
   ]
  },
  {
   "cell_type": "code",
   "execution_count": 12,
   "id": "12329a62",
   "metadata": {},
   "outputs": [
    {
     "data": {
      "text/plain": [
       "'[1, 2, 3]'"
      ]
     },
     "execution_count": 12,
     "metadata": {},
     "output_type": "execute_result"
    }
   ],
   "source": [
    "str([1,2,3])"
   ]
  },
  {
   "cell_type": "markdown",
   "id": "0448e5fb",
   "metadata": {},
   "source": [
    "Luego podemos directamente escribir esa cadena en el archivo. Primero creamos y abrimos el archivo con la función <code>open</code> de Python en modo escritura (\"w\"). Esto nos devuelve un descriptor del archivo que lo guardaremos en una variable <code>ds</code> (este descriptor guarda por ejemplo la posición del archivo en donde se irán agregando los nuevo caracteres). Mediante el método <code>write</code> del descriptor escribimos el diccionario ya convertido a texto. Finalmente cerramos el archivo."
   ]
  },
  {
   "cell_type": "code",
   "execution_count": 13,
   "id": "1a6d4b83",
   "metadata": {},
   "outputs": [],
   "source": [
    "def escribir_vector(lista, ruta):\n",
    "    ds = open(ruta, \"w\")\n",
    "    ds.write(str(lista))\n",
    "    ds.close()"
   ]
  },
  {
   "cell_type": "markdown",
   "id": "93f3f19a",
   "metadata": {},
   "source": [
    "Muchas veces nos olvidamos de cerrar un archivo luego de abrirlo. Para evitarlo, podemos usar la directiva <code>with open(ruta, 'w') as ds</code> de Python. Básicamente se ocupa de abrir el archivo y cerrarlo automáticamente al finalizar el bloque. Con esta mejora, nuestra función la podemos reescribir así."
   ]
  },
  {
   "cell_type": "code",
   "execution_count": 14,
   "id": "fb16845e",
   "metadata": {},
   "outputs": [],
   "source": [
    "def escribir_vector(lista, ruta):\n",
    "    with open(ruta, 'w') as ds:\n",
    "        ds.write(str(lista))"
   ]
  },
  {
   "cell_type": "markdown",
   "id": "fbd2d9f4",
   "metadata": {},
   "source": [
    "Listo, ya tenemos todo lo necesario para escribir la instancia. Vamos a definir una función <code>escribir_instancia</code> que tome como argumentos el grafo $G$ y la ruta común de los archivos (por ejemplo, <code>dataset/erdos-renyi_150_0.25_1</code> sin el <code>.graph</code>, <code>.list.k</code> o <code>.list.u</code>). Esta función, primero generará los vectores $k$ y $u$ y luego llamará a las respectivas funciones que escriben los archivos. Recordar que el operador <code>+</code> de Python se usa para concatenar (pegar) cadanas de caracteres. "
   ]
  },
  {
   "cell_type": "code",
   "execution_count": 15,
   "id": "5fd2af6a",
   "metadata": {},
   "outputs": [],
   "source": [
    "def escribir_instancia(G, ruta):\n",
    "    k = generar_vector_aleatorio(G.number_of_nodes(), 1, 3)\n",
    "    u = generar_vector_aleatorio(G.number_of_nodes(), 0, 5)\n",
    "    nx.write_graph6(G, ruta + \".graph\")\n",
    "    escribir_vector(k, ruta + \".list.k\")\n",
    "    escribir_vector(u, ruta + \".list.u\")"
   ]
  },
  {
   "cell_type": "markdown",
   "id": "a6d9899c",
   "metadata": {},
   "source": [
    "Finalmente, ya podemos generar nuestro dataset. Aunque esta parte del código no es difícil, se vuelve un poco tediosa porque tenemos que generar cada una de clases de grafos que habíamos mencionado, con sus respectivos parámetros y nombres, y escribirlas en los archivos."
   ]
  },
  {
   "cell_type": "code",
   "execution_count": 16,
   "id": "bc762481",
   "metadata": {},
   "outputs": [],
   "source": [
    "def generar_dataset():\n",
    "    \n",
    "    # Grafos Erdős-Rényi\n",
    "    n = 150\n",
    "    for p in [0.25, 0.5, 0.75]:\n",
    "        for i in [1, 2, 3]:\n",
    "            G = nx.erdos_renyi_graph(n, p)\n",
    "            ruta = \"dataset/erdos-renyi_\" + str(n) + \"_\" + str(p) + \"_\" + str(i)\n",
    "            escribir_instancia(G, ruta)\n",
    "    \n",
    "    # Grafos bipartitos aleatorios\n",
    "    nA = 100\n",
    "    nB = 50\n",
    "    for p in [0.25, 0.5, 0.75]:\n",
    "        for i in [1, 2, 3]:\n",
    "            G = generar_bipartito_aleatorio(nA, nB, p)\n",
    "            ruta = \"dataset/bipartito_aleatorio_\" + str(nA) + \"_\" + str(nB) + \"_\" + str(p) + \"_\" + str(i)\n",
    "            escribir_instancia(G, ruta)\n",
    "\n",
    "    # Grafos split aleatorios\n",
    "    # COMPLETAR\n",
    "    \n",
    "    # Grafos arco circulares aleatorios\n",
    "    n = 200\n",
    "    i = 2\n",
    "    for f in [0.5, 1, 2]:\n",
    "        for j in [1, 2, 3]:\n",
    "            G = gen.generar_arco_circular_aleatorio(n, i, f)\n",
    "            ruta = \"dataset/arco_circular_\" + str(n) + \"_\" + str(i) + \"_\" + str(f) + \"_\" + str(j)\n",
    "            escribir_instancia(G, ruta)\n",
    "\n",
    "    # Grafos webs\n",
    "    n = 200\n",
    "    for m in [5, 10, 15, 20]:\n",
    "        G = generar_web(n, n)\n",
    "        ruta = \"dataset/web_\" + str(n) + \"_\" + str(m)\n",
    "        escribir_instancia(G, ruta)"
   ]
  },
  {
   "cell_type": "markdown",
   "id": "567c4726",
   "metadata": {},
   "source": [
    "Luego llamamos a esta función."
   ]
  },
  {
   "cell_type": "code",
   "execution_count": 17,
   "id": "d70eb1bf",
   "metadata": {},
   "outputs": [],
   "source": [
    "generar_dataset()"
   ]
  },
  {
   "cell_type": "markdown",
   "id": "e2ff1962",
   "metadata": {},
   "source": [
    "Al finalizar, podemos ir a ver el directorio <code>dataset/</code> y deberíamos encontrar todas las instancias generadas. También podemos hacerlo desde Python mediante la función <code>glob</code> del módulo <code>glob</code>, que toma como argumento el nombre del archivo que queremos buscar (el asterístico quiere decir que buscamos todos) y la ruta del directorio donde queremos buscar."
   ]
  },
  {
   "cell_type": "code",
   "execution_count": 18,
   "id": "d747cec2",
   "metadata": {},
   "outputs": [
    {
     "data": {
      "text/plain": [
       "['bipartito_aleatorio_100_50_0.5_3.list.k',\n",
       " 'erdos-renyi_150_0.75_3.list.k',\n",
       " 'arco_circular_200_2_0.5_3.list.u',\n",
       " 'bipartito_aleatorio_100_50_0.75_1.list.u',\n",
       " 'bipartito_aleatorio_100_50_0.5_3.list.u',\n",
       " 'arco_circular_200_2_2_2.list.k',\n",
       " 'bipartito_aleatorio_100_50_0.5_2.list.k',\n",
       " 'erdos-renyi_150_0.25_1.list.u',\n",
       " 'erdos-renyi_150_0.25_3.graph',\n",
       " 'arco_circular_200_2_2_1.list.k',\n",
       " 'arco_circular_200_2_2_2.list.u',\n",
       " 'bipartito_aleatorio_100_50_0.25_3.list.k',\n",
       " 'web_200_10.list.k',\n",
       " 'erdos-renyi_150_0.5_1.graph',\n",
       " 'bipartito_aleatorio_100_50_0.5_1.list.u',\n",
       " 'web_200_5.list.k',\n",
       " 'erdos-renyi_150_0.75_1.list.k',\n",
       " 'bipartito_aleatorio_100_50_0.25_1.list.k',\n",
       " 'arco_circular_200_2_0.5_2.list.u',\n",
       " 'arco_circular_200_2_1_2.graph',\n",
       " 'bipartito_aleatorio_100_50_0.75_1.list.k',\n",
       " 'web_200_10.graph',\n",
       " 'arco_circular_200_2_2_3.list.k',\n",
       " 'web_200_15.list.u',\n",
       " 'arco_circular_200_2_2_2.graph',\n",
       " 'arco_circular_200_2_1_3.graph',\n",
       " 'erdos-renyi_150_0.75_2.list.u',\n",
       " 'bipartito_aleatorio_100_50_0.25_3.graph',\n",
       " 'bipartito_aleatorio_100_50_0.25_2.graph',\n",
       " 'bipartito_aleatorio_100_50_0.5_3.graph',\n",
       " 'erdos-renyi_150_0.25_2.list.u',\n",
       " 'erdos-renyi_150_0.5_1.list.k',\n",
       " 'arco_circular_200_2_2_3.graph',\n",
       " 'erdos-renyi_150_0.25_1.graph',\n",
       " 'erdos-renyi_150_0.75_1.graph',\n",
       " 'erdos-renyi_150_0.75_3.list.u',\n",
       " 'arco_circular_200_2_0.5_3.graph',\n",
       " 'arco_circular_200_2_2_1.list.u',\n",
       " 'arco_circular_200_2_0.5_1.graph',\n",
       " 'arco_circular_200_2_1_2.list.u',\n",
       " 'erdos-renyi_150_0.25_2.list.k',\n",
       " 'bipartito_aleatorio_100_50_0.25_3.list.u',\n",
       " 'arco_circular_200_2_1_1.list.k',\n",
       " 'arco_circular_200_2_0.5_2.graph',\n",
       " 'bipartito_aleatorio_100_50_0.75_3.graph',\n",
       " 'erdos-renyi_150_0.25_3.list.k',\n",
       " 'arco_circular_200_2_1_3.list.u',\n",
       " 'web_200_20.list.u',\n",
       " 'arco_circular_200_2_0.5_1.list.u',\n",
       " 'bipartito_aleatorio_100_50_0.5_2.list.u',\n",
       " 'bipartito_aleatorio_100_50_0.75_3.list.k',\n",
       " 'bipartito_aleatorio_100_50_0.25_2.list.k',\n",
       " 'web_200_15.list.k',\n",
       " 'arco_circular_200_2_0.5_2.list.k',\n",
       " 'arco_circular_200_2_1_3.list.k',\n",
       " 'erdos-renyi_150_0.75_1.list.u',\n",
       " 'erdos-renyi_150_0.75_3.graph',\n",
       " 'web_200_20.graph',\n",
       " 'bipartito_aleatorio_100_50_0.75_2.list.u',\n",
       " 'erdos-renyi_150_0.5_3.graph',\n",
       " 'web_200_10.list.u',\n",
       " 'bipartito_aleatorio_100_50_0.5_1.graph',\n",
       " 'erdos-renyi_150_0.5_2.graph',\n",
       " 'web_200_20.list.k',\n",
       " 'erdos-renyi_150_0.5_2.list.u',\n",
       " 'erdos-renyi_150_0.75_2.list.k',\n",
       " 'bipartito_aleatorio_100_50_0.25_2.list.u',\n",
       " 'erdos-renyi_150_0.25_2.graph',\n",
       " 'erdos-renyi_150_0.25_1.list.k',\n",
       " 'erdos-renyi_150_0.25_3.list.u',\n",
       " 'arco_circular_200_2_1_2.list.k',\n",
       " 'arco_circular_200_2_2_1.graph',\n",
       " 'web_200_5.list.u',\n",
       " 'bipartito_aleatorio_100_50_0.5_2.graph',\n",
       " 'bipartito_aleatorio_100_50_0.75_2.list.k',\n",
       " 'arco_circular_200_2_2_3.list.u',\n",
       " 'arco_circular_200_2_1_1.list.u',\n",
       " 'arco_circular_200_2_1_1.graph',\n",
       " 'bipartito_aleatorio_100_50_0.5_1.list.k',\n",
       " 'bipartito_aleatorio_100_50_0.25_1.graph',\n",
       " 'arco_circular_200_2_0.5_3.list.k',\n",
       " 'arco_circular_200_2_0.5_1.list.k',\n",
       " 'bipartito_aleatorio_100_50_0.25_1.list.u',\n",
       " 'erdos-renyi_150_0.5_1.list.u',\n",
       " 'web_200_15.graph',\n",
       " 'bipartito_aleatorio_100_50_0.75_1.graph',\n",
       " 'erdos-renyi_150_0.75_2.graph',\n",
       " 'web_200_5.graph',\n",
       " 'erdos-renyi_150_0.5_3.list.k',\n",
       " 'bipartito_aleatorio_100_50_0.75_3.list.u',\n",
       " 'bipartito_aleatorio_100_50_0.75_2.graph',\n",
       " 'erdos-renyi_150_0.5_3.list.u',\n",
       " 'erdos-renyi_150_0.5_2.list.k']"
      ]
     },
     "execution_count": 18,
     "metadata": {},
     "output_type": "execute_result"
    }
   ],
   "source": [
    "import glob\n",
    "\n",
    "glob.glob(\"*\", root_dir=\"dataset/\")"
   ]
  },
  {
   "cell_type": "markdown",
   "id": "499f4613",
   "metadata": {},
   "source": [
    "Incluso podemos ordenar la lista alfabéticamente con la función <code>sorted</code>."
   ]
  },
  {
   "cell_type": "code",
   "execution_count": 19,
   "id": "1fd9b477",
   "metadata": {},
   "outputs": [
    {
     "data": {
      "text/plain": [
       "['arco_circular_200_2_0.5_1.graph',\n",
       " 'arco_circular_200_2_0.5_1.list.k',\n",
       " 'arco_circular_200_2_0.5_1.list.u',\n",
       " 'arco_circular_200_2_0.5_2.graph',\n",
       " 'arco_circular_200_2_0.5_2.list.k',\n",
       " 'arco_circular_200_2_0.5_2.list.u',\n",
       " 'arco_circular_200_2_0.5_3.graph',\n",
       " 'arco_circular_200_2_0.5_3.list.k',\n",
       " 'arco_circular_200_2_0.5_3.list.u',\n",
       " 'arco_circular_200_2_1_1.graph',\n",
       " 'arco_circular_200_2_1_1.list.k',\n",
       " 'arco_circular_200_2_1_1.list.u',\n",
       " 'arco_circular_200_2_1_2.graph',\n",
       " 'arco_circular_200_2_1_2.list.k',\n",
       " 'arco_circular_200_2_1_2.list.u',\n",
       " 'arco_circular_200_2_1_3.graph',\n",
       " 'arco_circular_200_2_1_3.list.k',\n",
       " 'arco_circular_200_2_1_3.list.u',\n",
       " 'arco_circular_200_2_2_1.graph',\n",
       " 'arco_circular_200_2_2_1.list.k',\n",
       " 'arco_circular_200_2_2_1.list.u',\n",
       " 'arco_circular_200_2_2_2.graph',\n",
       " 'arco_circular_200_2_2_2.list.k',\n",
       " 'arco_circular_200_2_2_2.list.u',\n",
       " 'arco_circular_200_2_2_3.graph',\n",
       " 'arco_circular_200_2_2_3.list.k',\n",
       " 'arco_circular_200_2_2_3.list.u',\n",
       " 'bipartito_aleatorio_100_50_0.25_1.graph',\n",
       " 'bipartito_aleatorio_100_50_0.25_1.list.k',\n",
       " 'bipartito_aleatorio_100_50_0.25_1.list.u',\n",
       " 'bipartito_aleatorio_100_50_0.25_2.graph',\n",
       " 'bipartito_aleatorio_100_50_0.25_2.list.k',\n",
       " 'bipartito_aleatorio_100_50_0.25_2.list.u',\n",
       " 'bipartito_aleatorio_100_50_0.25_3.graph',\n",
       " 'bipartito_aleatorio_100_50_0.25_3.list.k',\n",
       " 'bipartito_aleatorio_100_50_0.25_3.list.u',\n",
       " 'bipartito_aleatorio_100_50_0.5_1.graph',\n",
       " 'bipartito_aleatorio_100_50_0.5_1.list.k',\n",
       " 'bipartito_aleatorio_100_50_0.5_1.list.u',\n",
       " 'bipartito_aleatorio_100_50_0.5_2.graph',\n",
       " 'bipartito_aleatorio_100_50_0.5_2.list.k',\n",
       " 'bipartito_aleatorio_100_50_0.5_2.list.u',\n",
       " 'bipartito_aleatorio_100_50_0.5_3.graph',\n",
       " 'bipartito_aleatorio_100_50_0.5_3.list.k',\n",
       " 'bipartito_aleatorio_100_50_0.5_3.list.u',\n",
       " 'bipartito_aleatorio_100_50_0.75_1.graph',\n",
       " 'bipartito_aleatorio_100_50_0.75_1.list.k',\n",
       " 'bipartito_aleatorio_100_50_0.75_1.list.u',\n",
       " 'bipartito_aleatorio_100_50_0.75_2.graph',\n",
       " 'bipartito_aleatorio_100_50_0.75_2.list.k',\n",
       " 'bipartito_aleatorio_100_50_0.75_2.list.u',\n",
       " 'bipartito_aleatorio_100_50_0.75_3.graph',\n",
       " 'bipartito_aleatorio_100_50_0.75_3.list.k',\n",
       " 'bipartito_aleatorio_100_50_0.75_3.list.u',\n",
       " 'erdos-renyi_150_0.25_1.graph',\n",
       " 'erdos-renyi_150_0.25_1.list.k',\n",
       " 'erdos-renyi_150_0.25_1.list.u',\n",
       " 'erdos-renyi_150_0.25_2.graph',\n",
       " 'erdos-renyi_150_0.25_2.list.k',\n",
       " 'erdos-renyi_150_0.25_2.list.u',\n",
       " 'erdos-renyi_150_0.25_3.graph',\n",
       " 'erdos-renyi_150_0.25_3.list.k',\n",
       " 'erdos-renyi_150_0.25_3.list.u',\n",
       " 'erdos-renyi_150_0.5_1.graph',\n",
       " 'erdos-renyi_150_0.5_1.list.k',\n",
       " 'erdos-renyi_150_0.5_1.list.u',\n",
       " 'erdos-renyi_150_0.5_2.graph',\n",
       " 'erdos-renyi_150_0.5_2.list.k',\n",
       " 'erdos-renyi_150_0.5_2.list.u',\n",
       " 'erdos-renyi_150_0.5_3.graph',\n",
       " 'erdos-renyi_150_0.5_3.list.k',\n",
       " 'erdos-renyi_150_0.5_3.list.u',\n",
       " 'erdos-renyi_150_0.75_1.graph',\n",
       " 'erdos-renyi_150_0.75_1.list.k',\n",
       " 'erdos-renyi_150_0.75_1.list.u',\n",
       " 'erdos-renyi_150_0.75_2.graph',\n",
       " 'erdos-renyi_150_0.75_2.list.k',\n",
       " 'erdos-renyi_150_0.75_2.list.u',\n",
       " 'erdos-renyi_150_0.75_3.graph',\n",
       " 'erdos-renyi_150_0.75_3.list.k',\n",
       " 'erdos-renyi_150_0.75_3.list.u',\n",
       " 'web_200_10.graph',\n",
       " 'web_200_10.list.k',\n",
       " 'web_200_10.list.u',\n",
       " 'web_200_15.graph',\n",
       " 'web_200_15.list.k',\n",
       " 'web_200_15.list.u',\n",
       " 'web_200_20.graph',\n",
       " 'web_200_20.list.k',\n",
       " 'web_200_20.list.u',\n",
       " 'web_200_5.graph',\n",
       " 'web_200_5.list.k',\n",
       " 'web_200_5.list.u']"
      ]
     },
     "execution_count": 19,
     "metadata": {},
     "output_type": "execute_result"
    }
   ],
   "source": [
    "sorted(glob.glob(\"*\", root_dir=\"dataset/\"))"
   ]
  },
  {
   "cell_type": "markdown",
   "id": "85800abe",
   "metadata": {},
   "source": [
    "### &#x1f4bb; Actividad 2. \n",
    "\n",
    "Modificar la definición de la función <code>generar_dataset</code> de modo que también genere grafos split aleatorios con los criterios mencionados: Para cada combinación de $nK = nS = 100$, $p \\in \\{0.25,0.5,0.75\\}$ e $i \\in \\{1,2,3\\}$, hay una instancia con un grafo split aleatorio con parámetros $nk,nS,p$, de nombre <code>bipartito_aleatorio_nK_nS_p_i</code>. "
   ]
  },
  {
   "cell_type": "code",
   "execution_count": 20,
   "id": "c26b81fb",
   "metadata": {},
   "outputs": [],
   "source": [
    "### Espacio para completar la Actividad 2"
   ]
  },
  {
   "cell_type": "markdown",
   "id": "b60dd3e5",
   "metadata": {},
   "source": [
    "Luego, volver a generar el dataset para que aparezcan esas instancias."
   ]
  },
  {
   "cell_type": "markdown",
   "id": "f92e5be6",
   "metadata": {},
   "source": [
    "## Ejecución\n",
    "\n",
    "En este punto, ya tenemos el dataset generado. Lo siguiente es iterar sobre los archivos del directorio <code>dataset</code>, leer las instancias correspondientes y resolverlas.\n",
    "\n",
    "De la misma forma que habíamos definido funciones que escriben las instancias, vamos a necesitar funciones inversas que las lean y las retornen. La idea es análoga a la anterior, pero con las funciones inversas que leen en lugar de escribir. Por lo tanto, aprovecharemos el método <code>read</code> que lee del descriptor de un archivo abierto, la función <code>literal_eval</code> del módulo <code>ast</code> que lee una cadena de caracteres y le da formato (en nuestro caso de lista de números) y la función <code>read_graph6</code> del módulo <code>networkx</code> que lee un grafo en formato graph6 y sparse6."
   ]
  },
  {
   "cell_type": "code",
   "execution_count": 21,
   "id": "c22a1f28",
   "metadata": {},
   "outputs": [],
   "source": [
    "import ast\n",
    "\n",
    "def leer_vector(ruta):\n",
    "    with open(ruta, 'r') as ds:\n",
    "        return ast.literal_eval(ds.read())\n",
    "\n",
    "def leer_instancia(ruta):\n",
    "    G = nx.read_graph6(ruta + \".graph\")\n",
    "    k = leer_vector(ruta + \".list.k\")\n",
    "    u = leer_vector(ruta + \".list.u\")\n",
    "    return G, k, u"
   ]
  },
  {
   "cell_type": "markdown",
   "id": "6a620d21",
   "metadata": {},
   "source": [
    "Para tener organizados los experimentos, vamos crear un directorio de nombre <code>exp1</code> donde vamos a guardar todo lo referido a esta primer ejecución. "
   ]
  },
  {
   "cell_type": "code",
   "execution_count": 22,
   "id": "1ee32c98",
   "metadata": {},
   "outputs": [],
   "source": [
    "try:\n",
    "    os.mkdir(\"exp1\")\n",
    "except:\n",
    "    pass"
   ]
  },
  {
   "cell_type": "markdown",
   "id": "463ecccf",
   "metadata": {},
   "source": [
    "Ahora vamos a escribir una función <code>ejecutar_exp1</code>, que tome por argumentos la ruta del directorio donde estan las instancias y la ruta del directorio donde guardar los resultados de este experimento, y se ocupe de iterar sobre los archivos, leer las instancias y resolver el PDG sobre ellas. \n",
    "\n",
    "Para cada instancia, por ejemplo <code>erdos-renyi_150_0.25_1</code>, la salida de CPLEX la vamos a escribir en un archivo de nombre <code>erdos-renyi_150_0.25_1.log</code> en el directorio <code>exp1/</code>. Para crear y abrir este archivo en modo escritura, lo haremos con la directiva <code>with .. as ..</code> y la función <code>open</code> de Python (como hicimos más arriba). Y para escribir el log usaremos el cuarto argumento que incluímos en la función <code>resolver_PDG</code>.\n",
    "\n",
    "El siguiente código se ocupa de esto, incluímos comentarios para facilitar su lectura."
   ]
  },
  {
   "cell_type": "code",
   "execution_count": 23,
   "id": "a033a7d1",
   "metadata": {},
   "outputs": [],
   "source": [
    "def ejecutar_exp1(dir_instancias, dir_experimento):\n",
    "    # Recorremos las instancias\n",
    "    for ruta in sorted(glob.glob(\"*.graph\", root_dir=dir_instancias)):\n",
    "        # Nos quedamos con el nombre de la instancia sin el .graph\n",
    "        # Recordar que si tenemos una lista de nombre l, \n",
    "        # hacer l[:-n] se queda con la sublista sin los últimos n elementos \n",
    "        ruta = ruta[:-6] \n",
    "        # Leemos la instancia\n",
    "        G, k, u = leer_instancia(dir_instancias + ruta) \n",
    "        # Creamos y abrimos el archivo para guardar el log de CPLEX\n",
    "        with open(dir_experimento + ruta + \".log\",\"w\") as log:\n",
    "            # Resolvemos\n",
    "            modelo, sol = resolver_PDG(G, k, u, log)"
   ]
  },
  {
   "cell_type": "markdown",
   "id": "23ead70a",
   "metadata": {},
   "source": [
    "Listo, solo nos queda llamar a esta función (puede demorar unos minutos, momento para unos \t&#129481;\t&#129481;\t&#129481;)."
   ]
  },
  {
   "cell_type": "code",
   "execution_count": 24,
   "id": "92abc283",
   "metadata": {},
   "outputs": [],
   "source": [
    "ejecutar_exp1(\"dataset/\", \"exp1/\")"
   ]
  },
  {
   "cell_type": "markdown",
   "id": "9e879999",
   "metadata": {},
   "source": [
    "Podemos ir a revisar este directorio y ver los logs a mano. También podemos verlos por acá, por ejemplo:"
   ]
  },
  {
   "cell_type": "code",
   "execution_count": 25,
   "id": "9d21e48b",
   "metadata": {},
   "outputs": [
    {
     "name": "stdout",
     "output_type": "stream",
     "text": [
      "Version identifier: 22.1.1.0 | 2022-11-28 | 9160aff4d\n",
      "CPXPARAM_Read_DataCheck                          1\n",
      "Found incumbent of value 378.000000 after 0.00 sec. (0.01 ticks)\n",
      "Tried aggregator 1 time.\n",
      "MIP Presolve eliminated 0 rows and 23 columns.\n",
      "Reduced MIP has 150 rows, 127 columns, and 2290 nonzeros.\n",
      "Reduced MIP has 29 binaries, 98 generals, 0 SOSs, and 0 indicators.\n",
      "Presolve time = 0.00 sec. (0.73 ticks)\n",
      "Probing time = 0.00 sec. (0.04 ticks)\n",
      "Tried aggregator 1 time.\n",
      "Detecting symmetries...\n",
      "Reduced MIP has 150 rows, 127 columns, and 2290 nonzeros.\n",
      "Reduced MIP has 29 binaries, 98 generals, 0 SOSs, and 0 indicators.\n",
      "Presolve time = 0.00 sec. (0.82 ticks)\n",
      "Probing time = 0.00 sec. (0.04 ticks)\n",
      "MIP emphasis: balance optimality and feasibility.\n",
      "MIP search method: dynamic search.\n",
      "Parallel mode: deterministic, using up to 4 threads.\n",
      "Root relaxation solution time = 0.00 sec. (3.83 ticks)\n",
      "\n",
      "        Nodes                                         Cuts/\n",
      "   Node  Left     Objective  IInf  Best Integer    Best Bound    ItCnt     Gap\n",
      "\n",
      "*     0+    0                          378.0000        0.0000           100.00%\n",
      "      0     0       19.7736    49      378.0000       19.7736      167   94.77%\n",
      "*     0+    0                           25.0000       19.7736            20.91%\n",
      "      0     0       19.8607    50       25.0000       Cuts: 2      182   20.56%\n",
      "*     0+    0                           24.0000       19.8607            17.25%\n",
      "      0     0       19.8848    46       24.0000      Fract: 1      195   17.15%\n",
      "      0     0       19.8918    46       24.0000   ZeroHalf: 1      205   17.12%\n",
      "      0     0       19.8950    47       24.0000      Fract: 1      212   17.10%\n",
      "      0     0       19.9023    48       24.0000   ZeroHalf: 1      220   17.07%\n",
      "Detecting symmetries...\n",
      "*     0+    0                           23.0000       19.9023            13.47%\n",
      "*     0+    0                           22.0000       19.9023             9.54%\n",
      "Detecting symmetries...\n",
      "      0     2       19.9023    48       22.0000       20.0765      220    8.74%\n",
      "Elapsed time = 0.15 sec. (52.26 ticks, tree = 0.02 MB, solutions = 4)\n",
      "   2297   391        cutoff             22.0000       20.6853    43587    5.98%\n",
      "*  2357   414      integral     0       21.0000       20.7021    42476    1.42%\n",
      "\n",
      "Zero-half cuts applied:  3\n",
      "Gomory fractional cuts applied:  3\n",
      "\n",
      "Root node processing (before b&c):\n",
      "  Real time             =    0.15 sec. (52.08 ticks)\n",
      "Parallel b&c, 4 threads:\n",
      "  Real time             =    0.66 sec. (255.96 ticks)\n",
      "  Sync time (average)   =    0.14 sec.\n",
      "  Wait time (average)   =    0.00 sec.\n",
      "                          ------------\n",
      "Total (root+branch&cut) =    0.81 sec. (308.04 ticks)\n",
      "\n"
     ]
    }
   ],
   "source": [
    "with open(\"exp1/bipartito_aleatorio_100_50_0.25_1.log\", \"r\") as f:\n",
    "    print(f.read())"
   ]
  },
  {
   "cell_type": "markdown",
   "id": "7dcf88e8",
   "metadata": {},
   "source": [
    "Si bien con estos fundamentos ya podemos automatizar nuestras pruebas, de una forma ordenada y sistemática, seguiremos avanzando un poco más... Vamos a incoporar algunos mecanismos que serán de mucha utilidad."
   ]
  },
  {
   "cell_type": "markdown",
   "id": "850b3ce2",
   "metadata": {},
   "source": [
    "## Testing\n",
    "\n",
    "En el notebook 3 mencionamos la importancia y los benefecios de hacer testing. Por lo tanto, vamos a escribir funciones que interpreten la salida de CPLEX, recuperen la función de $(k,u)$-dominación de $G$ y verifiquen que efectivamente lo sea.\n",
    "\n",
    "Vamos a representar a las funciones de $(k,u)$-dominación con diccionarios de Python (de la misma forma que hicimos con los coloreos).  \n",
    "\n",
    "Recordemos que la función <code>resolver_PDG</code> que escribimos al principio de este notebook retornaba la solución encontrada por CPLEX. Esta solución es un objeto de la clase <code>SolveSolution</code> que tiene diversos métodos con las cuales podremos manipularla. Por ejemplo, tiene el método <code>get_value</code>, que toma el nombre de una variable y devuelve el valor de esa variable en la solución encontrada. Obviamente, necesitamos convertir ese valor a un número entero, y para ello vamos a aprovechar la función <code>round</code> de Python que se ocupa de redondear un número flotante al entero más cercano. \n",
    "\n",
    "Por lo tanto, vamos a definir una función <code>obtener_func_dom</code> que tome un grafo y una solución, y retorne el diccionario que representa a la función de $(k,u)$-dominación del grafo encontrada por CPLEX. Este diccionario lo escribimos por comprensión (como ya hemos escrito anteriormente listas, restricciones, etc)."
   ]
  },
  {
   "cell_type": "code",
   "execution_count": 26,
   "id": "763ac376",
   "metadata": {},
   "outputs": [],
   "source": [
    "def obtener_func_dom(G, sol):\n",
    "    return {v : round(sol.get_value(\"f_\" + str(v))) for v in G}"
   ]
  },
  {
   "cell_type": "markdown",
   "id": "7fa1f596",
   "metadata": {},
   "source": [
    "Probemos nuestra función, por ejemplo para resolver el problema de dominación clásica sobre un ciclo de 5 vértices."
   ]
  },
  {
   "cell_type": "code",
   "execution_count": 27,
   "id": "edb6033f",
   "metadata": {},
   "outputs": [
    {
     "name": "stdout",
     "output_type": "stream",
     "text": [
      "{0: 0, 1: 0, 2: 1, 3: 0, 4: 1}\n"
     ]
    }
   ],
   "source": [
    "C5 = nx.cycle_graph(5)\n",
    "k = [1]*5 # Lista con cinco 1s\n",
    "u = [1]*5 # Lista con cinco 1s\n",
    "_, sol = resolver_PDG(C5, k, u) \n",
    "f = obtener_func_dom(C5, sol)\n",
    "print(f)"
   ]
  },
  {
   "cell_type": "markdown",
   "id": "e8367d67",
   "metadata": {},
   "source": [
    "Ahora podemos, verificar que este diccionario represente en efecto una función $f$ de $(k,u)$-dominación. Es decir, para todo vértice v, se debe verificar $f(v) \\leq u_v$ y $f(N[v]) \\geq k_v$. Esto en Python podemos hacerlo con la siguiente función."
   ]
  },
  {
   "cell_type": "code",
   "execution_count": 28,
   "id": "7590ecdb",
   "metadata": {},
   "outputs": [],
   "source": [
    "def es_func_dom(G, k, u, f):\n",
    "    \"\"\"Determina si f es funcion es de (k,u)-dominacion de G.\"\"\"\n",
    "    for v in G:\n",
    "        if f[v] < 0 or f[v] > u[v]: # Control 0 <= f(v) <= u_v\n",
    "            return False\n",
    "        suma = f[v] # Acumulador de f(N[v])\n",
    "        for w in G.neighbors(v):\n",
    "            suma += f[w]\n",
    "        if suma < k[v]: # Control f(N[v]) >= k_v\n",
    "            return False\n",
    "    return True"
   ]
  },
  {
   "cell_type": "markdown",
   "id": "7648877d",
   "metadata": {},
   "source": [
    "Por ejemplo, corroboramos que el diccionario de arriba sea una función de $(\\boldsymbol{1},\\boldsymbol{1})$-dominación de $C_5$."
   ]
  },
  {
   "cell_type": "code",
   "execution_count": 29,
   "id": "93d0db96",
   "metadata": {},
   "outputs": [
    {
     "data": {
      "text/plain": [
       "True"
      ]
     },
     "execution_count": 29,
     "metadata": {},
     "output_type": "execute_result"
    }
   ],
   "source": [
    "es_func_dom(C5, k, u, f)"
   ]
  },
  {
   "cell_type": "markdown",
   "id": "7dbe98dd",
   "metadata": {},
   "source": [
    "Y por el contrario, el siguiente diccionario no lo es:"
   ]
  },
  {
   "cell_type": "code",
   "execution_count": 30,
   "id": "b8c4b23f",
   "metadata": {},
   "outputs": [
    {
     "data": {
      "text/plain": [
       "False"
      ]
     },
     "execution_count": 30,
     "metadata": {},
     "output_type": "execute_result"
    }
   ],
   "source": [
    "f = {0: 0, 1: 0, 2: 0, 3: 0, 4: 1}\n",
    "es_func_dom(C5, k, u, f)"
   ]
  },
  {
   "cell_type": "markdown",
   "id": "59bf2b05",
   "metadata": {},
   "source": [
    "Ya podemos incorporar este testing a nuestra función que ejecuta los experimentos. Partimos de la definición original y al final agregamos algunas líneas de código nuevas. La idea es procesar la solución obtenida. Primero recuperamos la función de dominación llamado a <code>obtener_func_dom</code>, lo que nos devuelve un dicionario. Luego llamamos a <code>es_func_dom</code> para hacer el testing, por medio de la directiva assert (recordar que en caso de que <code>es_func_dom</code> retorne <code>False</code>, la ejecución se interrumpe y se muestra el mensaje de error en la pantalla; de lo contrario el programa continua). Finalmente, aprovechamos para escribir el diccionario en un archivo. Para cada instancia, por ejemplo <code>erdos-renyi_150_0.25_1</code>, escribiremos el diccionario en un archivo de nombre <code>exp1/erdos-renyi_150_0.25_1.sol</code>. Por suerte, la función <code>escribir_vector</code> que diseñamos más arriba, también funciona para escribir diccionarios, sin necesidad de modificar nada."
   ]
  },
  {
   "cell_type": "code",
   "execution_count": 31,
   "id": "feabc7c6",
   "metadata": {},
   "outputs": [],
   "source": [
    "def ejecutar_exp1(dir_instancias, dir_experimento):\n",
    "    # Recorremos las instancias\n",
    "    for ruta in sorted(glob.glob(\"*.graph\", root_dir=dir_instancias)):\n",
    "        # Nos quedamos con el nombre de la instancia sin el .graph\n",
    "        ruta = ruta[:-len(\".graph\")] \n",
    "        # Leemos la instancia\n",
    "        G, k, u = leer_instancia(dir_instancias + ruta) \n",
    "        # Creamos y abrimos el archivo para guardar el log de CPLEX\n",
    "        with open(dir_experimento + ruta + \".log\", \"w\") as log:\n",
    "            # Resolvemos\n",
    "             modelo, sol = resolver_PDG(G, k, u, log) \n",
    "        \n",
    "        # Procesamos la solución\n",
    "        if sol: # Si encontró solución\n",
    "            # Recuperamos la función de dominación\n",
    "            f = obtener_func_dom(G, sol)\n",
    "            assert es_func_dom(G, k, u, f), \"Error: No es funcion de dominacion\"\n",
    "            # Escribimos la funcion de dominacion\n",
    "            escribir_vector(f, dir_experimento + ruta + \".sol\")"
   ]
  },
  {
   "cell_type": "markdown",
   "id": "83e80d39",
   "metadata": {},
   "source": [
    "## Resumen\n",
    "\n",
    "Una incoporación muy útil a nuestro programa es escribir en un archivo un resumen con los resultados obtenidos para cada instancia. El objetivo es posteriormente poder acceder rápidamente a estos valores y simplificar su análisis.\n",
    "\n",
    "Para esto, tenemos que definir qué valores nos interesa reportar en el resumen. En nuestro caso, vamos a escribir una línea con los siguientes valores separados por coma (en caso de necesitar más/menos cosas se puede modificar):\n",
    "\n",
    "<code>nombre de la instancia, número de vértices, número de aristas, densidad de grafo, número de variables, número de restricciones, estado de la solución, cota inf, cota sup, gap, tiempo de ejecución</code>\n",
    "\n",
    "Entonces, para cada instancia, por ejemplo <code>erdos-renyi_150_0.25_1</code>, escribiremos esa línea en un archivo de nombre <code>exp1/erdos-renyi_150_0.25_1.out</code>. Para escribirla, podemos usar directamente la función <code>print</code> de Python, con la salvedad de que vamos a indicarle con el argumento <code>file=</code> el descriptor del archivo donde queremos escribir y con <code>sep=</code> la cadena con la que queremos que separe a cada valor a imprimir (en nuestro caso es una coma). Entonces, redefinimos la función <code>ejecutar_exp1</code> de la siguiente forma (las líneas nuevas son las del final)."
   ]
  },
  {
   "cell_type": "code",
   "execution_count": 32,
   "id": "53e34774",
   "metadata": {},
   "outputs": [],
   "source": [
    "def ejecutar_exp1(dir_instancias, dir_experimento):\n",
    "    # Recorremos las instancias\n",
    "    for ruta in sorted(glob.glob(\"*.graph\", root_dir=dir_instancias)):\n",
    "        # Nos quedamos con el nombre de la instancia sin el .graph\n",
    "        ruta = ruta[:-len(\".graph\")] \n",
    "        # Leemos la instancia\n",
    "        G, k, u = leer_instancia(dir_instancias + ruta) \n",
    "        # Creamos y abrimos el archivo para guardar el log de CPLEX\n",
    "        with open(dir_experimento + ruta + \".log\", \"w\") as log:\n",
    "            # Resolvemos\n",
    "             modelo, sol = resolver_PDG(G, k, u, log) \n",
    "        \n",
    "        # Procesamos la solución\n",
    "        if sol: # Si encontró solución\n",
    "            # Recuperamos la función de dominación\n",
    "            f = obtener_func_dom(G, sol)\n",
    "            assert es_func_dom(G, k, u, f), \"Error: No es funcion de dominacion\"\n",
    "            # Escribimos la funcion de dominacion\n",
    "            escribir_vector(f, dir_experimento + ruta + \".sol\")\n",
    "            \n",
    "        # Escribimos el resumen\n",
    "        with open(dir_experimento + ruta + \".out\", \"w\") as out:\n",
    "            print(ruta, G.number_of_nodes(), G.number_of_edges(), nx.density(G),\n",
    "                  modelo.number_of_variables, modelo.number_of_constraints,\n",
    "                  modelo.solve_details.status, modelo.solve_details.best_bound, \n",
    "                  modelo.objective_value, modelo.solve_details.gap, \n",
    "                  modelo.solve_details.time, file=out, sep=',')"
   ]
  },
  {
   "cell_type": "markdown",
   "id": "bc0e3c86",
   "metadata": {},
   "source": [
    "## Reanudación\n",
    "\n",
    "Lo último que vamos a cubrir en este notebook es la posibilidad de reanudar nuestras pruebas. Es muy habitual que mientras estemos corriendo un experimento, ocurra algún evento (e.g. un corte de luz) y la prueba se interrumpa. Es deseable poder reanudar el experimento desde el punto donde se interrumpió, sin perder todo el trabajo previo.\n",
    "\n",
    "Incluir este control es muy sencillo. Si recuerdan, cada vez que terminamos de resolver una instancia, escribimos algunos archivos de salida: el diccionario con la función de dominación y el resumen. Por lo tanto, si estos archivos ya existen, quiere decir que la instancia ya fue resuelta, y no hay necesidad de resolverla nuevamente.\n",
    "\n",
    "Podemos usar otra vez la función <code>glob</code> del módulo <code>glob</code> para buscar este archivo. De encontrarlo, entonces no seguimos trabajando con la instancia actual y continuamos con la siguiente; de lo contrario, seguimos resolviendo la instancia actual de la forma usual. Con esta incoporación, nuestro código queda reescrito como sigue."
   ]
  },
  {
   "cell_type": "code",
   "execution_count": 35,
   "id": "825e7e45",
   "metadata": {},
   "outputs": [],
   "source": [
    "def ejecutar_exp1(dir_instancias, dir_experimento):\n",
    "    \n",
    "    # Recorremos las instancias\n",
    "    for ruta in sorted(glob.glob(\"*.graph\", root_dir=dir_instancias)):\n",
    "        \n",
    "        # Nos quedamos con el nombre de la instancia sin el .graph\n",
    "        ruta = ruta[:-len(\".graph\")] \n",
    "        \n",
    "        # Control de reanudación\n",
    "        if glob.glob(ruta + \".out\", root_dir=dir_experimento):\n",
    "            continue\n",
    "        \n",
    "        # Leemos la instancia\n",
    "        G, k, u = leer_instancia(dir_instancias + ruta) \n",
    "        # Creamos y abrimos el archivo para guardar el log de CPLEX\n",
    "        with open(dir_experimento + ruta + \".log\", \"w\") as log:\n",
    "            # Resolvemos\n",
    "             modelo, sol = resolver_PDG(G, k, u, log) \n",
    "        \n",
    "        # Procesamos la solución\n",
    "        if sol: # Si encontró solución\n",
    "            # Recuperamos la función de dominación\n",
    "            f = obtener_func_dom(G, sol)\n",
    "            assert es_func_dom(G, k, u, f), \"Error: No es funcion de dominacion\"\n",
    "            # Escribimos la funcion de dominacion\n",
    "            escribir_vector(f, dir_experimento + ruta + \".sol\")\n",
    "            \n",
    "        # Escribimos el resumen\n",
    "        with open(dir_experimento + ruta + \".out\", \"w\") as out:\n",
    "            print(ruta, G.number_of_nodes(), G.number_of_edges(), nx.density(G),\n",
    "                  modelo.number_of_variables, modelo.number_of_constraints,\n",
    "                  modelo.solve_details.status, modelo.solve_details.best_bound, \n",
    "                  modelo.objective_value, modelo.solve_details.gap, \n",
    "                  modelo.solve_details.time, file=out, sep=',')"
   ]
  },
  {
   "cell_type": "markdown",
   "id": "e566ba10",
   "metadata": {},
   "source": [
    "Volvamos entonces a ejecutar nuestro experimento computacional con todas las mejoras que agregamos."
   ]
  },
  {
   "cell_type": "code",
   "execution_count": 37,
   "id": "778d9278",
   "metadata": {},
   "outputs": [],
   "source": [
    "ejecutar_exp1(\"dataset/\", \"exp1/\")"
   ]
  },
  {
   "cell_type": "markdown",
   "id": "807ae730",
   "metadata": {},
   "source": [
    "Nuevamente, podemos ir al directorio <code>exp1/</code> y ver las salidas generadas. O podemos hacerlo desde acá:"
   ]
  },
  {
   "cell_type": "code",
   "execution_count": 40,
   "id": "ca22dc33",
   "metadata": {},
   "outputs": [
    {
     "name": "stdout",
     "output_type": "stream",
     "text": [
      "{0: 0, 1: 0, 2: 1, 3: 0, 4: 0, 5: 0, 6: 0, 7: 1, 8: 0, 9: 1, 10: 0, 11: 0, 12: 0, 13: 0, 14: 1, 15: 0, 16: 0, 17: 0, 18: 0, 19: 0, 20: 0, 21: 1, 22: 0, 23: 0, 24: 0, 25: 1, 26: 1, 27: 0, 28: 0, 29: 0, 30: 0, 31: 0, 32: 0, 33: 1, 34: 0, 35: 0, 36: 0, 37: 0, 38: 0, 39: 1, 40: 0, 41: 0, 42: 1, 43: 1, 44: 0, 45: 0, 46: 0, 47: 0, 48: 0, 49: 1, 50: 0, 51: 0, 52: 0, 53: 2, 54: 0, 55: 0, 56: 0, 57: 0, 58: 0, 59: 0, 60: 0, 61: 0, 62: 0, 63: 0, 64: 0, 65: 0, 66: 0, 67: 0, 68: 0, 69: 0, 70: 0, 71: 0, 72: 0, 73: 0, 74: 0, 75: 0, 76: 0, 77: 0, 78: 0, 79: 0, 80: 1, 81: 0, 82: 0, 83: 0, 84: 0, 85: 1, 86: 0, 87: 0, 88: 0, 89: 0, 90: 0, 91: 0, 92: 0, 93: 0, 94: 0, 95: 0, 96: 0, 97: 0, 98: 0, 99: 0, 100: 0, 101: 0, 102: 0, 103: 0, 104: 0, 105: 0, 106: 0, 107: 0, 108: 0, 109: 0, 110: 0, 111: 0, 112: 1, 113: 0, 114: 0, 115: 1, 116: 0, 117: 0, 118: 0, 119: 0, 120: 0, 121: 0, 122: 0, 123: 0, 124: 1, 125: 0, 126: 0, 127: 0, 128: 0, 129: 0, 130: 0, 131: 0, 132: 0, 133: 0, 134: 0, 135: 0, 136: 1, 137: 0, 138: 0, 139: 0, 140: 0, 141: 0, 142: 0, 143: 0, 144: 0, 145: 0, 146: 1, 147: 0, 148: 0, 149: 0}\n"
     ]
    }
   ],
   "source": [
    "# Veamos la funcion de dominaciones para la instancia \n",
    "# \"bipartito_aleatorio_100_50_0.25_1\"\n",
    "with open(\"exp1/bipartito_aleatorio_100_50_0.25_1.sol\", \"r\") as f:\n",
    "    print(f.read())"
   ]
  },
  {
   "cell_type": "code",
   "execution_count": 41,
   "id": "92e76048",
   "metadata": {},
   "outputs": [
    {
     "name": "stdout",
     "output_type": "stream",
     "text": [
      "bipartito_aleatorio_100_50_0.25_1,150,1268,0.1134675615212528,150,150,integer optimal solution,21.0,21.0,0.0,0.6142208576202393\n",
      "\n"
     ]
    }
   ],
   "source": [
    "# Veamos el resumen de la ejecución para la instancia \n",
    "# \"bipartito_aleatorio_100_50_0.25_1\"\n",
    "with open(\"exp1/bipartito_aleatorio_100_50_0.25_1.out\", \"r\") as f:\n",
    "    print(f.read())"
   ]
  }
 ],
 "metadata": {
  "kernelspec": {
   "display_name": "Python 3 (ipykernel)",
   "language": "python",
   "name": "python3"
  },
  "language_info": {
   "codemirror_mode": {
    "name": "ipython",
    "version": 3
   },
   "file_extension": ".py",
   "mimetype": "text/x-python",
   "name": "python",
   "nbconvert_exporter": "python",
   "pygments_lexer": "ipython3",
   "version": "3.10.12"
  }
 },
 "nbformat": 4,
 "nbformat_minor": 5
}
